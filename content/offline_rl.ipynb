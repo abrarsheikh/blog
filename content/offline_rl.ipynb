{
 "cells": [
  {
   "cell_type": "markdown",
   "metadata": {},
   "source": [
    "---\n",
    "title: \"Trajectory Transformer (TT) from code\"\n",
    "date: \"2025-02-10\"\n",
    "categories: [\"Machine Learning\", \"Reinforcement Learning\"]\n",
    "---"
   ]
  },
  {
   "cell_type": "markdown",
   "metadata": {},
   "source": [
    "## Introduction\n",
    "\n",
    "In this notebook, we explore the [Trajectory Transformer (TT)](https://arxiv.org/abs/2106.02039), a sequence modeling approach to [reinforcement learning (RL)](https://en.wikipedia.org/wiki/Reinforcement_learning) introduced in the paper *Offline RL as One Big Sequence Modeling Problem* by Janner et al. TT reframes RL as a sequence modeling task, leveraging [Transformer architectures](https://en.wikipedia.org/wiki/Transformer_(machine_learning_model)) to model trajectories of states, actions, and rewards. By doing so, it unifies different aspects of RL—policy learning, value estimation, and model-based planning—under a single framework.\n",
    "\n",
    "![TT](img/offline_rl/tt.png)\n",
    "\n",
    "This notebook provides a detailed walkthrough of TT, an offline RL model that formulates trajectory generation as a sequence modeling problem. The goal is to help readers understand TT's inner workings, from data processing and model training to beam search-based rollouts and evaluation.\n",
    "\n",
    "What to Expect in This Notebook?\n",
    "\n",
    "- **Offline RL & TT Basics** – Overview of discretization, tokenization, and trajectory modeling.\n",
    "- **Training TT** – Cross-entropy loss, weighted action importance, and optimization techniques (LR scheduling, weight decay, gradient clipping).\n",
    "- **Rollouts & Beam Search** – How TT predicts future trajectories, explores high-reward sequences, and enables long-term planning.\n",
    "- **Evaluation** – Rollout-based metrics (mean reward, variance, done ratio) to assess trajectory quality, stability, and efficiency.\n",
    "\n",
    "::: {.callout-note}\n",
    "### Why This Notebook?\n",
    "\n",
    "Much of the code in this notebook is inspired by the [original TT implementation](https://github.com/jannerm/trajectory-transformer), with significant updates and refinements. Additionally:\n",
    "\n",
    "- The KV cache and vectorized rollouts are adapted from the [faster-trajectory-transformer](https://github.com/Howuhh/faster-trajectory-transformer/tree/main) repository.\n",
    "- Both the original TT repo and faster-trajectory-transformer are non-functional due to:\n",
    "  - D4RL being deprecated.\n",
    "  - Use of outdated Gym versions.\n",
    "  - Reliance on older MuJoCo versions that no longer run.\n",
    "\n",
    "This notebook modernizes the implementation, ensuring it runs with current libraries, while providing a clearer, more accessible explanation of TT’s mechanics.\n",
    ":::\n",
    "\n",
    "::: {.callout-caution}\n",
    "This notebook does not introduce new concepts or bespoke code. Instead, it presents existing concepts and code in a more accessible manner for new machine learning engineers and scientists in this field.\n",
    ":::\n",
    "\n",
    "::: {.callout-warning}\n",
    "Some of the code cells in this notebook are collapsed by default for brevity.\n",
    ":::\n",
    "\n",
    "::: {.callout-tip}\n",
    "### Tips for Following This Notebook\n",
    "\n",
    "1. **Take Your Time**: This notebook is lengthy and cannot be completed in one sitting. Approach it slowly, and take breaks as needed to fully understand each section.\n",
    "\n",
    "2. **Run the Notebook**: To get the most out of this notebook, run it to train a model and reproduce the results. Try using different Gym environments to see what you observe and how the TT performs in various settings.\n",
    "\n",
    "3. **Supplementary Resource**: This document is not a replacement for the original paper. While it provides a detailed walkthrough of TT's implementation and usage, it does not cover all the theoretical foundations and experimental results presented in the paper. Readers should refer to the original paper for a comprehensive understanding of the underlying concepts and the broader context of TT's development.\n",
    "\n",
    "4. **Understand the Code**: Take the time to read and understand the code snippets provided. Each section builds on the previous one, so a solid understanding of the code will help you follow along more easily.\n",
    "\n",
    "5. **Experiment and Modify**: Don't hesitate to experiment with the code. Modify parameters, try different environments, and observe how these changes affect the results. This hands-on approach will deepen your understanding of TT.\n",
    "\n",
    "6. **Use Visualizations**: Pay attention to the visualizations provided in the notebook. They can help you better understand the behavior of the model and the results of your experiments.\n",
    ":::\n",
    "\n"
   ]
  },
  {
   "cell_type": "markdown",
   "metadata": {},
   "source": [
    "### Overview of Offline RL and Its Differences from Traditional RL\n",
    "\n",
    "RL traditionally operates in an online setting, where an agent actively interacts with an environment, collecting data to learn an optimal policy. This approach, while effective, has several limitations:\n",
    "\n",
    "- **Data inefficiency**: Many RL algorithms require millions of interactions to learn good policies.\n",
    "- **Safety concerns**: Direct exploration can be costly or dangerous in real-world applications like robotics, healthcare, and autonomous driving.\n",
    "- **Expensive data collection**: Gathering high-quality data in real-world systems is often impractical.\n",
    "\n",
    "[Offline RL](https://bair.berkeley.edu/blog/2020/12/07/offline-rl/) (also known as batch RL) addresses these challenges by learning solely from a pre-collected dataset of past interactions, without any further environment interaction. The key differences between traditional RL and offline RL are:\n",
    "\n",
    "| Feature            | Traditional (Online) RL                        | Offline RL                                      |\n",
    "|--------------------|------------------------------------------------|-------------------------------------------------|\n",
    "| Data Collection    | Agent interacts with the environment continuously | Fixed dataset with no new data collection       |\n",
    "| Exploration        | Active, the agent learns by trial and error    | No exploration, learning is constrained by dataset |\n",
    "| Safety             | Can lead to unsafe exploration                 | No risk, as learning is purely from past data   |\n",
    "| Practicality       | Hard to apply in real-world settings           | More feasible for real-world applications       |\n",
    "\n",
    "#### Why Do We Need Offline RL?\n",
    "\n",
    "Offline RL is crucial for scenarios where active exploration is either unsafe or expensive. Some examples include:\n",
    "\n",
    "*\"Imagine trying to train a self-driving car without ever letting it touch the road. Instead of real-world driving, you have to learn everything from past recorded trips—navigating intersections, avoiding pedestrians, and handling bad weather—all from historical data. Sounds impossible? This is exactly the challenge that Offline RL aims to solve.\"*\n",
    "\n",
    "TT takes this a step further, leveraging the same Transformer architecture that powers language models like GPT to model sequences of actions, states, and rewards—treating RL as a prediction problem rather than a trial-and-error game.\n",
    "\n",
    "Despite its benefits, offline RL faces unique challenges:\n",
    "\n",
    "- **Out-of-Distribution (OOD) Actions**: Since the agent cannot explore, it might learn to make decisions outside the dataset distribution, leading to extrapolation errors.\n",
    "- **Limited Coverage**: If the dataset does not contain enough diverse experiences, the learned policy may not generalize well.\n",
    "\n",
    "#### Motivating the Need for the TT\n",
    "\n",
    "The TT offers a novel approach to offline RL by treating RL as a sequence modeling problem, inspired by successes in [natural language processing (NLP)](https://en.wikipedia.org/wiki/Natural_language_processing). Instead of relying on traditional RL components like [Q-learning](https://en.wikipedia.org/wiki/Q-learning) or [policy optimization](https://spinningup.openai.com/en/latest/spinningup/rl_intro3.html), TT models full trajectories as sequences and generates optimal action sequences through [beam search planning](https://en.wikipedia.org/wiki/Beam_search).\n",
    "\n",
    "#### Advantages of TT in Offline RL\n",
    "\n",
    "- **Handles long-horizon dependencies**: Unlike traditional RL models that rely on stepwise decisions, TT captures entire sequences of states, actions, and rewards.\n",
    "- **Avoids OOD actions**: Since TT directly models trajectories from data, it naturally generates in-distribution actions, reducing extrapolation errors.\n",
    "- **Unifies multiple RL approaches**: TT can be used for imitation learning, goal-conditioned RL, and offline RL under a single framework.\n",
    "\n",
    "By leveraging sequence modeling, TT sidesteps many challenges of conventional offline RL, offering a more scalable and flexible alternative to existing methods.\n",
    "\n",
    "Unlike traditional RL models that interact with the environment, TT reframes RL as a sequence modeling problem, treating trajectories as text-like sequences—similar to how GPT-4 generates coherent text."
   ]
  },
  {
   "cell_type": "code",
   "execution_count": 1,
   "metadata": {},
   "outputs": [
    {
     "name": "stderr",
     "output_type": "stream",
     "text": [
      "Warning: Gym version v0.24.1 has a number of critical issues with `gym.make` such that environment observation and action spaces are incorrectly evaluated, raising incorrect errors and warning . It is recommend to downgrading to v0.23.1 or upgrading to v0.25.1\n"
     ]
    }
   ],
   "source": [
    "# | code-fold: true\n",
    "# | code-summary: Imports for the project\n",
    "import torch\n",
    "import torch.nn as nn\n",
    "import torch.optim as optim\n",
    "from typing import Any\n",
    "import numpy as np\n",
    "import gymnasium as gym\n",
    "from gymnasium import spaces\n",
    "from typing import List\n",
    "import torch.nn.functional as F\n",
    "from typing import Tuple, Any\n",
    "from torch.utils.tensorboard import SummaryWriter\n",
    "from torch.utils.data import DataLoader, Dataset, Subset, SubsetRandomSampler\n",
    "from typing import Optional\n",
    "from tqdm.auto import tqdm, trange\n",
    "from minari import EpisodeData, MinariDataset\n",
    "import minari\n",
    "from gymnasium import Env\n",
    "import os\n",
    "import time\n",
    "from stable_baselines3.common.vec_env import DummyVecEnv\n",
    "import math\n",
    "import warnings\n",
    "import pickle\n",
    "import random\n",
    "import glob"
   ]
  },
  {
   "cell_type": "markdown",
   "metadata": {},
   "source": [
    "\n",
    "\n",
    "::: {.callout-important}\n",
    "If you are running this notebook on a CUDA-enabled machine, it will use the entire dataset for training and regular parameters. On non-CUDA machines, the notebook heavily subsamples the dataset and adjusts hyperparameters to ensure it can run on local development machines with lower performance. This behavior is controlled using the `local` variable, which you can override as needed.\n",
    ":::"
   ]
  },
  {
   "cell_type": "code",
   "execution_count": null,
   "metadata": {},
   "outputs": [],
   "source": [
    "# local variable is used to run the code faster on local machine\n",
    "local = not torch.cuda.is_available()"
   ]
  },
  {
   "cell_type": "code",
   "execution_count": null,
   "metadata": {},
   "outputs": [],
   "source": [
    "# | code-fold: true\n",
    "# | code-summary: Seed everything for reproducibility\n",
    "seed = 42\n",
    "os.environ[\"PYTHONHASHSEED\"] = str(seed)\n",
    "np.random.seed(seed)\n",
    "random.seed(seed)\n",
    "torch.manual_seed(seed)\n",
    "\n",
    "device = torch.device(\n",
    "    \"mps\"\n",
    "    if torch.backends.mps.is_available()\n",
    "    else \"cuda\" if torch.cuda.is_available() else \"cpu\"\n",
    ")"
   ]
  },
  {
   "cell_type": "markdown",
   "metadata": {},
   "source": [
    "## Introduction to Gymnasium and Minari\n",
    "\n",
    "In this project, we use [Gymnasium](https://gymnasium.farama.org/) for environments and [Minari](https://minari.farama.org/) for datasets, two essential libraries in RL. If you're new to RL, understanding these libraries will help you get started with training and evaluating RL models efficiently. If you are already familiar with these libraries feel free to skip this section.\n",
    "\n",
    "### Gymnasium: A Standard for RL Environments\n",
    "\n",
    "#### What is Gymnasium?\n",
    "[Gymnasium](https://gymnasium.farama.org/) (formerly OpenAI Gym) is a widely used library for simulating RL environments. It provides a standardized interface to interact with different RL tasks, making it easy to test and compare different RL algorithms.\n",
    "\n",
    "#### Key Concepts in Gymnasium\n",
    "\n",
    "**Environments:**\n",
    "\n",
    "- An environment represents a problem setting where an agent interacts and learns.\n",
    "- Examples include robotic control (Mujoco), video games (Atari), and navigation tasks (GridWorld).\n",
    "\n",
    "**Agent-Environment Loop:**\n",
    "\n",
    "- RL involves an agent taking actions in an environment, receiving rewards, and transitioning to new states.\n",
    "- Gymnasium provides the standard `step()` function to execute this interaction.\n",
    "\n",
    "**Gymnasium API:**\n",
    "\n",
    "- `env = gymnasium.make(\"CartPole-v1\")` → Creates an environment.\n",
    "- `obs, reward, done, truncated, info = env.step(action)` → Takes an action and returns the next observation, reward, and status flags.\n",
    "- `env.reset()` → Resets the environment to its initial state.\n",
    "\n",
    "**Observation and Action Spaces:**\n",
    "\n",
    "- `env.observation_space`: Defines what states look like (e.g., position, velocity).\n",
    "- `env.action_space`: Defines valid actions an agent can take.\n",
    "\n",
    "\n",
    "**Rendering:**\n",
    "\n",
    "`env.render()` can visualize the environment (useful for debugging and understanding agent behavior).\n",
    "\n",
    "Gymnasium helps us simulate real-world scenarios, allowing RL models to learn efficiently in controlled settings.\n",
    "\n",
    "\n",
    "### Minari: Standardized Datasets for Offline RL\n",
    "\n",
    "#### What is Minari?\n",
    "\n",
    "[Minari](https://minari.farama.org) is a dataset library designed for offline RL, where agents learn solely from pre-collected experience datasets instead of interacting with the environment in real time. It provides high-quality, standardized datasets for different RL tasks.\n",
    "\n",
    "#### Why Use Minari?\n",
    "\n",
    "In offline RL, training directly in Gymnasium is not feasible because the agent cannot collect new data. Instead, Minari offers:\n",
    "\n",
    "- Curated datasets with state-action-reward trajectories from past interactions.\n",
    "- Reproducibility, ensuring fair comparisons across different RL methods.\n",
    "- Seamless integration with Gymnasium, so datasets match Gym environments.\n",
    "\n",
    "\n",
    "#### Key Concepts in Minari\n",
    "\n",
    "**Datasets in Offline RL:**\n",
    "\n",
    "- Each dataset contains **trajectories** (sequences of (state, action, reward, next_state)).\n",
    "- These are generated using pre-trained policies (expert, medium, or random behavior).\n",
    "\n",
    "**Loading a Minari Dataset:**\n",
    "\n",
    "```python\n",
    "import minari\n",
    "\n",
    "dataset = minari.load_dataset(\"halfcheetah-expert-v2\")\n",
    "```\n",
    "\n",
    "**Using Minari for Training:**\n",
    "\n",
    "Instead of interacting with the environment (`env.step()`), the agent learns by sampling from the dataset.\n",
    "This is similar to supervised learning, where the agent trains on past experiences rather than live exploration.\n",
    "\n",
    "\n",
    "### Bringing It All Together: Gymnasium + Minari in Offline RL\n",
    "\n",
    "* Gymnasium provides a standard interface for RL environments (but in offline RL, the agent doesn’t interact with it).\n",
    "  * In out project we will use Gymnasium interface to interact with the environment during beam search.\n",
    "* Minari provides pre-recorded experience datasets, allowing the agent to learn without exploration.\n",
    "* Our project trains a TT model using Minari datasets to understand and optimize decision-making without direct environment interaction."
   ]
  },
  {
   "cell_type": "markdown",
   "metadata": {},
   "source": [
    "## Loading Data\n",
    "\n",
    "In this implementation, I initialize the environment and fetch the dataset from Minari. We'll use the [HalfCheetah Gym environment](https://gymnasium.farama.org/environments/mujoco/half_cheetah/) and its corresponding [datasets from Minari](https://minari.farama.org/main/datasets/mujoco/halfcheetah/expert-v0/) to demonstrate TT. Some Gym environments use dictionaries to represent observation and action spaces, but neural networks work with ndarrays. To address this, I’ve implemented helper functions to convert observations and actions between dictionaries and flat arrays. The notebook is designed to work with any Gym environment, not just HalfCheetah, so the implementation is more flexible and a bit more complex as a result.\n",
    "\n",
    "![half_cheetah](img/offline_rl/half_cheetah.gif)\n"
   ]
  },
  {
   "cell_type": "code",
   "execution_count": 3,
   "metadata": {},
   "outputs": [
    {
     "name": "stdout",
     "output_type": "stream",
     "text": [
      "All tests passed successfully.\n"
     ]
    }
   ],
   "source": [
    "# | code-fold: true\n",
    "# | code-summary: Define environment related utilities\n",
    "def get_space_dim(space):\n",
    "    if isinstance(space, spaces.Discrete):\n",
    "        return 1\n",
    "    elif isinstance(space, spaces.Box):\n",
    "        return space.shape[0]\n",
    "    elif isinstance(space, spaces.Dict):\n",
    "        return sum([get_space_dim(v) for v in space.values()])\n",
    "    else:\n",
    "        raise ValueError(\"Unsupported observation space\")\n",
    "\n",
    "\n",
    "def flatten_space(s_dict: Any, space: spaces.Space) -> np.ndarray:\n",
    "    if isinstance(space, spaces.Discrete):\n",
    "        return s_dict\n",
    "    elif isinstance(space, spaces.Box):\n",
    "        return s_dict\n",
    "    elif isinstance(space, spaces.Dict):\n",
    "        return np.concatenate(\n",
    "            [flatten_space(s_dict[k], space.spaces[k]) for k in space.spaces.keys()],\n",
    "            axis=-1,\n",
    "        )\n",
    "    else:\n",
    "        raise ValueError(\"Unsupported observation space\")\n",
    "\n",
    "\n",
    "def unflatten_space(s_flat: np.ndarray, space: spaces.Space) -> dict:\n",
    "    if isinstance(space, spaces.Discrete):\n",
    "        return s_flat\n",
    "    elif isinstance(space, spaces.Box):\n",
    "        return s_flat\n",
    "    elif isinstance(space, spaces.Dict):\n",
    "        s_dict = {}\n",
    "        start = 0\n",
    "        for k, v in space.spaces.items():\n",
    "            end = start + get_space_dim(v)\n",
    "            s_dict[k] = unflatten_space(s_flat[:, start:end], v)\n",
    "            start = end\n",
    "        return s_dict\n",
    "    else:\n",
    "        raise ValueError(\"Unsupported observation space\")\n",
    "\n",
    "\n",
    "# Test the flatten_space_dict and unflatten_space_dict functions\n",
    "test_dict = {\"obs\": np.array([[1, 2, 3], [4, 5, 6]]), \"act\": np.array([[0], [1]])}\n",
    "test_space = spaces.Dict(\n",
    "    {\"obs\": spaces.Box(low=0, high=10, shape=(3,)), \"act\": spaces.Discrete(2)}\n",
    ")\n",
    "test_flat = flatten_space(test_dict, test_space)\n",
    "test_unflat = unflatten_space(test_flat, test_space)\n",
    "\n",
    "assert np.isclose(\n",
    "    test_flat, np.array([[0, 1, 2, 3], [1, 4, 5, 6]])\n",
    ").all(), f\"Flattened array {test_flat} is not as expected.\"\n",
    "assert np.isclose(\n",
    "    test_unflat[\"obs\"], test_dict[\"obs\"]\n",
    ").all(), f\"Unflattened observation {test_unflat['obs']} is not as expected.\"\n",
    "assert np.isclose(\n",
    "    test_unflat[\"act\"], test_dict[\"act\"]\n",
    ").all(), f\"Unflattened action {test_unflat['act']} is not as expected.\"\n",
    "\n",
    "# test discrete space\n",
    "test_dict = np.array([[0], [1]])\n",
    "test_space = spaces.Discrete(2)\n",
    "test_flat = flatten_space(test_dict, test_space)\n",
    "test_unflat = unflatten_space(test_flat, test_space)\n",
    "\n",
    "assert np.isclose(\n",
    "    test_flat, test_dict\n",
    ").all(), f\"Flattened array {test_flat} is not as expected.\"\n",
    "assert np.isclose(\n",
    "    test_unflat, test_dict\n",
    ").all(), f\"Unflattened array {test_unflat} is not as expected.\"\n",
    "\n",
    "# test box space\n",
    "test_dict = np.array([[1, 2, 3], [4, 5, 6]])\n",
    "test_space = spaces.Box(low=0, high=10, shape=(3,))\n",
    "test_flat = flatten_space(test_dict, test_space)\n",
    "test_unflat = unflatten_space(test_flat, test_space)\n",
    "\n",
    "assert np.isclose(\n",
    "    test_flat, test_dict\n",
    ").all(), f\"Flattened array {test_flat} is not as expected.\"\n",
    "assert np.isclose(\n",
    "    test_unflat, test_dict\n",
    ").all(), f\"Unflattened array {test_unflat} is not as expected.\"\n",
    "\n",
    "print(\"All tests passed successfully.\")"
   ]
  },
  {
   "cell_type": "markdown",
   "metadata": {},
   "source": [
    "::: {.callout-important}\n",
    "To control which environment to run set `dataset_ref` and `env_name` from [Minari](https://minari.farama.org/).\n",
    ":::"
   ]
  },
  {
   "cell_type": "code",
   "execution_count": null,
   "metadata": {},
   "outputs": [],
   "source": [
    "dataset_ref = \"mujoco/halfcheetah/expert-v0\"\n",
    "env_name = \"HalfCheetah\""
   ]
  },
  {
   "cell_type": "markdown",
   "metadata": {},
   "source": [
    "::: {.callout-important}\n",
    "By default, when `local=True`, the notebook will train on all episodes in the dataset. If you would like to train on a subsample, you can control this behavior using the `n_episodes` parameter.\n",
    ":::"
   ]
  },
  {
   "cell_type": "code",
   "execution_count": null,
   "metadata": {},
   "outputs": [],
   "source": [
    "# other parameters\n",
    "n_episodes: Optional[int] = None if not local else 10"
   ]
  },
  {
   "cell_type": "code",
   "execution_count": null,
   "metadata": {},
   "outputs": [
    {
     "name": "stderr",
     "output_type": "stream",
     "text": [
      "/Users/abrar/Library/Caches/pypoetry/virtualenvs/blog-FROQ9Grm-py3.11/lib/python3.11/site-packages/minari/dataset/minari_dataset.py:204: UserWarning: Installed mujoco version 3.1.6 does not meet the requirement ==3.2.3.\n",
      "We recommend to install the required version with `pip install \"mujoco==3.2.3\"`\n",
      "  warnings.warn(\n"
     ]
    },
    {
     "name": "stdout",
     "output_type": "stream",
     "text": [
      "Number of episodes: 10\n",
      "Observation dim: 17, Action dim: 6\n",
      "Reward dim: 1, Value dim: 1\n",
      "Transition dim: 25\n",
      "One episode from the dataset: EpisodeData(id=502, total_steps=1000, observations=ndarray of shape (1001, 17) and dtype float64, actions=ndarray of shape (1000, 6) and dtype float32, rewards=ndarray of 1000 floats, terminations=ndarray of 1000 bools, truncations=ndarray of 1000 bools, infos=dict with the following keys: [])\n"
     ]
    }
   ],
   "source": [
    "# | code-fold: true\n",
    "# | code-summary: Load the dataset and environment\n",
    "\n",
    "base_m_dataset = minari.load_dataset(dataset_ref, download=True)\n",
    "wrapped_env = base_m_dataset.recover_environment(render_mode=\"rgb_array\")\n",
    "env = wrapped_env.unwrapped\n",
    "env.name = env_name\n",
    "\n",
    "if n_episodes:\n",
    "    m_dataset = base_m_dataset.sample_episodes(n_episodes)\n",
    "else:\n",
    "    m_dataset = base_m_dataset\n",
    "\n",
    "print(f\"Number of episodes: {len(m_dataset)}\")\n",
    "\n",
    "# Environment parameters\n",
    "observation_dim = get_space_dim(env.observation_space)\n",
    "action_dim = get_space_dim(env.action_space)\n",
    "reward_dim = 1\n",
    "value_dim = 1\n",
    "transition_dim = observation_dim + action_dim + reward_dim + value_dim\n",
    "\n",
    "print(f\"Observation dim: {observation_dim}, Action dim: {action_dim}\")\n",
    "print(f\"Reward dim: {reward_dim}, Value dim: {value_dim}\")\n",
    "print(f\"Transition dim: {transition_dim}\")\n",
    "print(f\"One episode from the dataset: {m_dataset[0]}\")"
   ]
  },
  {
   "cell_type": "markdown",
   "metadata": {},
   "source": [
    "## Key Terminology  \n",
    "\n",
    "1. **State/Observation**: Represents the current condition of the environment. In TT, states are discretized into tokens and modeled as part of a sequence. A state is a vector `[s1, s2, s3, ...]`, where the number of state variables is referred to as **`observation_dim`**. For example, in **HalfCheetah**, `observation_dim = 17`.  \n",
    "\n",
    "2. **Action**: A decision taken by the agent that affects the environment. Actions are also vectorized, e.g., `[a1, a2, ...]`, and modeled alongside states in TT. The number of action variables is called **`action_dim`**. For **HalfCheetah**, `action_dim = 6`.  \n",
    "\n",
    "3. **Reward**: A scalar signal `r` that quantifies the **immediate outcome** of an action. TT uses rewards to guide trajectory optimization. Typically, **`reward_dim = 1`**, but this is not always the case.  \n",
    "\n",
    "4. **Value**: The expected **cumulative future reward** from a given state. In TT, values (`v`) are used during **beam search** for trajectory optimization. Like rewards, values are scalars, so **`value_dim = 1`**.  \n",
    "\n",
    "5. **Transition**: A single step in the environment, represented as a tuple `(state, action, reward, value)`, e.g., `[s1, s2, s3, ..., a1, a2, ..., r, v]`. The total number of variables in a transition is **`transition_dim = observation_dim + action_dim + reward_dim + value_dim`**. The number of consecutive transitions used for training is referred to as **`n_transitions`**.  \n",
    "\n",
    "6. **Sequence/Trajectory**: A sequence of multiple transitions that serve as input to the model, e.g., `[s1, s2, s3, a1, a2, r, v, s1, s2, s3, a1, a2, r, v, ...]`. In TT, trajectories are **modeled as discrete token sequences**.  \n",
    "\n",
    "7. **Episode**: A complete run from an **initial state to termination**. A sequence is a **subset of an episode**, but TT trains on **multiple episodes** to learn **generalizable trajectory patterns**.\n",
    "\n",
    "8. **Rollout**: The process of **generating a trajectory** by autoregressively sampling tokens (states, actions, rewards) using TT. Rollouts can be **greedy** (deterministic), **stochastic** (using temperature or top-k sampling), or **beam-searched** (optimizing reward-to-go). TT rollouts allow **policy evaluation, trajectory forecasting, and planning** in offline RL.  \n",
    "\n",
    "\n",
    "\n",
    "\n",
    "\n",
    "\n",
    "\n"
   ]
  },
  {
   "cell_type": "markdown",
   "metadata": {},
   "source": [
    "## Hyperparameters"
   ]
  },
  {
   "cell_type": "code",
   "execution_count": null,
   "metadata": {},
   "outputs": [],
   "source": [
    "# Model parameters\n",
    "# n_transitions is the number of transitions in a sequence, one transition is (s, a, r, v)\n",
    "n_transitions = 10\n",
    "# seq_len is the length of the sequence as seen by the model\n",
    "seq_len = n_transitions * transition_dim\n",
    "# vocab_size is the number of bins used for discretization\n",
    "# it also represents the size of the vocabulary for the embedding\n",
    "vocab_size = 100\n",
    "max_bins = vocab_size\n",
    "discount_factor = 0.99\n",
    "embedding_dim = 128 if not local else 32\n",
    "# number of heads in the multihead attention\n",
    "n_heads = 4 if not local else 4\n",
    "# number of blocks in the transformer\n",
    "n_blocks = 4 if not local else 4\n",
    "n_epochs = 70 if not local else 5\n",
    "batch_size = 256 if not local else 128\n",
    "# whether to use separate heads for each transition dimension\n",
    "use_sep_heads = True\n",
    "lr = 0.0006\n",
    "weight_decay = 0.1\n",
    "betas = (0.9, 0.95)\n",
    "clip_grad = 1.0\n",
    "# how often to evaluate the model. During evaluation, the model is used during rollouts\n",
    "eval_every = 5 if not local else 5\n",
    "strategy = \"uniform\"  # \"quantile\" or \"uniform\" for discritization"
   ]
  },
  {
   "cell_type": "code",
   "execution_count": null,
   "metadata": {},
   "outputs": [],
   "source": [
    "# | code-fold: true\n",
    "# | code-summary: Setup data directories\n",
    "\n",
    "# create a directory to save the model\n",
    "base_dir = f\"data/{dataset_ref}\"\n",
    "checkpoint_path = f\"{base_dir}/\"\n",
    "load_checkpoint = (\n",
    "    False  # set to False if you want to train from scratch even if a checkpoint exists\n",
    ")\n",
    "\n",
    "# if load_checkpoint is False and a checkpoint exists, delete it\n",
    "if load_checkpoint is False and os.path.exists(checkpoint_path):\n",
    "    # remove only model checkpoints\n",
    "    for f in os.listdir(checkpoint_path):\n",
    "        if f.startswith(\"model\"):\n",
    "            os.remove(os.path.join(checkpoint_path, f))"
   ]
  },
  {
   "cell_type": "markdown",
   "metadata": {},
   "source": [
    "## Discretizer\n",
    "\n",
    "### What is Discretization?\n",
    "Discretization is the process of converting continuous variables (e.g., states, actions, rewards) into discrete tokens that can be processed by a model designed for categorical data, such as a Transformer. Instead of representing values as continuous numbers, they are quantized into a fixed set of bins, allowing TT to model RL problems as a sequence modeling task, similar to how language models process words.\n",
    "\n",
    "![https://fritz.ai/hands-on-with-feature-engineering-techniques-variable-discretization/](img/offline_rl/discretization.jpeg)\n",
    "\n",
    "\n",
    "### Why is Discretization Needed in TT?\n",
    "The TT applies autoregressive sequence modeling, which typically operates over discrete token sequences (like words in NLP). Since RL states and actions are usually continuous, discretization is necessary to make them compatible with Transformer architectures.\n",
    "\n",
    "::: {.callout-note}\n",
    "[Autoregressive sequence modeling](https://en.wikipedia.org/wiki/Autoregressive_model) is a method where each element in a sequence is predicted based on the previous elements, one step at a time, allowing the model to generate or forecast sequences by building on its own prior outputs.\n",
    ":::\n",
    "\n",
    "\n",
    "### Key reasons for discretization in TT:\n",
    "1. **Enables Direct Application of Transformers**: Transformers require discrete inputs, and discretization allows TT to treat RL data like a language modeling problem.\n",
    "2. **Improves Long-Horizon Prediction**: Standard RL models often struggle with compounding errors in continuous spaces. Discretization reduces error accumulation and improves stability in trajectory prediction.\n",
    "3. **Avoids Gaussian Assumptions**: Traditional model-based RL methods assume Gaussian-distributed transitions, which can limit expressivity. TT, using discretization, models more complex distributions without restrictive assumptions.\n",
    "4. **Unifies State, Action, and Reward Modeling**: Discretizing all components enables TT to model joint distributions over states, actions, and rewards, leading to better trajectory optimization.\n",
    "\n",
    "### How Does Discretization Work in TT?\n",
    "Each continuous state and action dimension is divided into a fixed number of bins (tokens). TT then models trajectories as sequences of these discrete tokens. The paper explores two discretization methods:\n",
    "\n",
    "- **Uniform Discretization**:\n",
    "  - Divides the range of each variable into equally spaced intervals.\n",
    "  - Preserves Euclidean distance but can be sensitive to outliers.\n",
    "\n",
    "- **Quantile Discretization**:\n",
    "  - Divides data so that each bin contains an equal number of data points.\n",
    "  - Ensures all tokens are well-represented in the dataset, improving learning stability.\n",
    "\n",
    "### How TT Uses Discretized Inputs\n",
    "- A trajectory (state, action, reward, value, etc.) is broken into discrete tokens.\n",
    "- The Transformer learns sequence patterns over these tokens, predicting the most probable future trajectory.\n",
    "- During inference, TT generates the next token step-by-step, similar to how language models predict the next word.\n",
    "\n",
    "### Bin Size trade offs\n",
    "- Choosing a large bin size reduces reconstruction loss, preserving more information from continuous inputs. However, this increases the number of discrete tokens, requiring a larger vocabulary size for the embedding map. While this gives the model more expressive capacity, it comes at the cost of higher memory usage and longer training time.\n",
    "- Conversely, choosing a small bin size results in fewer tokens, leading to faster training and lower memory requirements. However, this comes at the cost of higher reconstruction loss, causing a loss of precision in trajectory representation and potentially degrading model performance.\n",
    "- The trade-off lies in balancing model expressiveness and training efficiency while minimizing information loss.\n",
    "\n",
    "By discretizing continuous RL data, TT effectively applies Transformer-based sequence modeling to RL, achieving strong long-horizon planning and offline RL performance."
   ]
  },
  {
   "cell_type": "code",
   "execution_count": 6,
   "metadata": {},
   "outputs": [],
   "source": [
    "class KBinsDiscretizer:\n",
    "    \"\"\"\n",
    "    This class is responsible for encoding and decoding continuous values into discrete bins.\n",
    "    Number of bins are fixed for all the features.\n",
    "    \"\"\"\n",
    "\n",
    "    def __init__(self, dataset: np.ndarray, n_bins: int, strategy: str = \"ordinal\"):\n",
    "        self.n_bins = n_bins\n",
    "        self.strategy = strategy\n",
    "\n",
    "        # bin_edges shape: (n_features, n_bins + 1)\n",
    "        self.bin_edges = self._find_bin_edges(dataset)\n",
    "        # bin_centers shape: (n_features, n_bins)\n",
    "        self.bin_centers = (self.bin_edges[:, :-1] + self.bin_edges[:, 1:]) * 0.5\n",
    "        self.bin_centers_torch = torch.from_numpy(self.bin_centers).float()\n",
    "\n",
    "    def _find_bin_edges(self, dataset: np.ndarray):\n",
    "        # dataset shape: (n_samples, n_features)\n",
    "        bin_edges = []\n",
    "        if self.strategy == \"uniform\":\n",
    "            # min and max values for each feature, shpae: (n_features,)\n",
    "            mins, maxs = np.min(dataset, axis=0), np.max(dataset, axis=0)\n",
    "            # bin_edges shape: (n_features, n_bins + 1)\n",
    "            bin_edges = np.linspace(mins, maxs, self.n_bins + 1).T\n",
    "        elif self.strategy == \"quantile\":\n",
    "            quantiles = np.linspace(0, 100, self.n_bins + 1)\n",
    "            # bin_edges shape: (n_features, n_bins + 1)\n",
    "            bin_edges = np.percentile(dataset, quantiles, axis=0).T\n",
    "        else:\n",
    "            raise ValueError(f\"Unknown strategy: {self.strategy}\")\n",
    "        return bin_edges\n",
    "\n",
    "    def encode(\n",
    "        self, X: np.ndarray, subslice: Optional[Tuple[int, int]] = None\n",
    "    ) -> np.ndarray:\n",
    "        # use subslice to encode only a part of the features in the X\n",
    "        if X.ndim == 1:\n",
    "            # this is to handle the case where we have a single feature\n",
    "            X = X[None]\n",
    "        # data shape: (n_samples, n_features)\n",
    "        edges = self.bin_edges\n",
    "        if subslice is not None:\n",
    "            start, end = subslice\n",
    "            edges = edges[start:end]\n",
    "\n",
    "        # Xt represents discretized data, shape: (n_samples, n_features)\n",
    "        Xt = np.zeros(X.shape, dtype=np.long)\n",
    "\n",
    "        # See documentation of numpy.isclose for an explanation of ``rtol`` and ``atol``.\n",
    "        rtol = 1.0e-5\n",
    "        atol = 1.0e-8\n",
    "\n",
    "        for jj in range(X.shape[1]):\n",
    "            # Values which are close to a bin edge are susceptible to numeric\n",
    "            # instability. Add eps to X so these values are binned correctly\n",
    "            # with respect to their decimal truncation.\n",
    "            eps = atol + rtol * np.abs(X[:, jj])\n",
    "            # why [1:]? bins = edges - 1, but its unclear why we leave out the first element and not the last\n",
    "            Xt[:, jj] = np.digitize(X[:, jj] + eps, edges[jj][1:])\n",
    "\n",
    "        # clip the values to be within the range [0, n_bins - 1]\n",
    "        np.clip(Xt, 0, self.n_bins - 1, out=Xt)\n",
    "\n",
    "        return Xt\n",
    "\n",
    "    def decode(\n",
    "        self, Xt: np.ndarray, subslice: Optional[Tuple[int, int]] = None\n",
    "    ) -> np.ndarray:\n",
    "        # use subslice to decode only a part of the features in the Xt\n",
    "        if Xt.ndim == 1:\n",
    "            # this is to handle the case where we have a single feature\n",
    "            Xt = Xt[None]\n",
    "        # data shape: (n_samples, n_features)\n",
    "        centers = self.bin_centers\n",
    "        if subslice is not None:\n",
    "            start, end = subslice\n",
    "            centers = centers[start:end]\n",
    "\n",
    "        X = np.zeros(Xt.shape, dtype=np.float64)\n",
    "        for jj in range(Xt.shape[1]):\n",
    "            X[:, jj] = centers[jj, np.int_(Xt[:, jj])]\n",
    "\n",
    "        return X\n",
    "\n",
    "    def expectation(\n",
    "        self, probs: np.ndarray, subslice: Optional[Tuple[int, int]] = None\n",
    "    ) -> np.ndarray:\n",
    "        # given the probabilities of each bin, calculate the expectation of the feature values\n",
    "        # perticularly useful when we have a distribution over the bins, maybe from a model after softmax\n",
    "        # from logits.\n",
    "        # probs shape: (n_samples, n_features, n_bins)\n",
    "        if probs.ndim == 1:\n",
    "            # this is to handle the case where we have a single feature\n",
    "            probs = probs[None]\n",
    "        # probs shape: (batch_size, n_features, n_bins)\n",
    "        # bin_centers shape: (n_features, n_bins) -> (1, n_features, n_bins)\n",
    "        if torch.is_tensor(probs):\n",
    "            bin_centers = self.bin_centers_torch.unsqueeze(0)\n",
    "        else:\n",
    "            # bin_centers shape: (n_features, n_bins) -> (1, n_features, n_bins)\n",
    "            bin_centers = np.expand_dims(self.bin_centers, axis=0)\n",
    "\n",
    "        if subslice is not None:\n",
    "            start, end = subslice\n",
    "            bin_centers = bin_centers[:, start:end]\n",
    "\n",
    "        # use formula E[X] = sum(p(x) * x) for all x\n",
    "        # (batch_size, n_features, n_bins) * (1, n_features, n_bins) -> sum (batch_size, n_features, n_bins) -> (batch_size, n_features)\n",
    "        X = (probs * bin_centers).sum(axis=-1)\n",
    "        return X\n",
    "\n",
    "    def to(self, device):\n",
    "        self.bin_centers_torch = self.bin_centers_torch.to(device)"
   ]
  },
  {
   "cell_type": "code",
   "execution_count": 7,
   "metadata": {},
   "outputs": [
    {
     "name": "stdout",
     "output_type": "stream",
     "text": [
      "All tests passed successfully.\n"
     ]
    }
   ],
   "source": [
    "# | code-fold: true\n",
    "# | code-summary: Test the KBinsDiscretizer class\n",
    "\n",
    "# Test array\n",
    "test_arr = np.array([[1, 2], [3, 4], [5, 6]])\n",
    "\n",
    "# Initialize the discretizer\n",
    "discretizer = KBinsDiscretizer(test_arr, 1000, strategy=\"uniform\")\n",
    "\n",
    "# Encode and decode the test array\n",
    "encoded = discretizer.encode(test_arr)\n",
    "decoded = discretizer.decode(encoded)\n",
    "\n",
    "# Check if the decoded array is close to the original array\n",
    "assert np.isclose(\n",
    "    decoded, test_arr, atol=1e-2\n",
    ").all(), f\"Decoded array {decoded} is not close to the original array {test_arr}\"\n",
    "\n",
    "# Generate random probabilities\n",
    "probs = F.softmax(torch.from_numpy(np.random.rand(3, 2, 1000)), dim=-1).numpy()\n",
    "\n",
    "# Calculate the expectation\n",
    "expectation = discretizer.expectation(probs)\n",
    "\n",
    "# Check if the expectation is close to the mean of the test array\n",
    "expected_mean = np.tile(np.mean(test_arr, axis=0), (3, 1))\n",
    "assert np.isclose(\n",
    "    expectation, expected_mean, atol=1e-1\n",
    ").all(), f\"Expectation {expectation} is not close to the expected mean {expected_mean}\"\n",
    "\n",
    "print(\"All tests passed successfully.\")"
   ]
  },
  {
   "cell_type": "markdown",
   "metadata": {},
   "source": [
    "## Pytorch Dataset\n",
    "\n",
    "Minari datasets store offline RL trajectories, nore specifically it contain list of episodes, but they need to be structured into a PyTorch-compatible format for training of the TT. This conversion is essential for:\n",
    "\n",
    "- **Batch Processing**: PyTorch's `Dataset` and `DataLoader` enable efficient mini-batch training, improving speed and scalability.\n",
    "- **Discretization & Sequence Formatting**: TT requires discretized trajectory sequences, which involves converting continuous states, actions, and rewards into discrete tokens that can be processed like a language model.\n",
    "- **Loss Masking & Padding**: Not all trajectories are of the same length. The conversion ensures proper padding and masking, preventing short sequences from corrupting training.\n",
    "- **Efficient Sampling**: Instead of loading full trajectories, PyTorch datasets allow sampling smaller transition sequences, making training more memory-efficient.\n",
    "\n",
    "### Rewards-to-Go (RTG)\n",
    "\n",
    "Rewards-to-Go (RTG) is the discounted cumulative sum of future rewards from a given time step until the end of the trajectory. It represents the expected return from a state, assuming the agent follows the observed trajectory.\n",
    "\n",
    "#### Formula:\n",
    "$$\n",
    "R_t = r_{t} + \\gamma r_{t+1} + \\gamma^2 r_{t+2} + \\ldots + \\gamma^{T-t} r_T\n",
    "$$\n",
    "\n",
    "where $(\\gamma)$ (discount factor) determines how much future rewards influence current decisions.\n",
    "\n",
    "#### Why is RTG Important in TT?\n",
    "\n",
    "RTG is only relevant for reward-maximizing beam search. In contrast, it is not used during imitation learning or goal-conditioned RL, where the focus is on replicating behavior or reaching a target state rather than optimizing for rewards.\n",
    "\n",
    "1. **Encodes Long-Term Future Returns**: Helps the model learn which actions lead to high rewards over time.\n",
    "2. **No Need for Value Functions**: Unlike traditional RL, TT doesn't learn separate value functions; RTG is used directly as input.\n",
    "3. **Improves Planning**: During inference, TT biases beam search towards high RTG sequences, optimizing decision-making.\n",
    "\n",
    "By including RTG as a token in TT, the model can predict high-reward trajectories more effectively, making it powerful for offline RL and long-horizon planning."
   ]
  },
  {
   "cell_type": "code",
   "execution_count": 8,
   "metadata": {},
   "outputs": [],
   "source": [
    "def join_trajectory(env: Env, episode: EpisodeData, discount: float = 0.99):\n",
    "    # Convert the object of type EpisodeData to a numpy array. EpisodeData\n",
    "    # contains the following fields: observations, actions, rewards, other\n",
    "    # and each of these fields is a numpy array. We need to concatenate\n",
    "    # these arrays along the last axis to get a single array for each time.\n",
    "\n",
    "    success = episode.terminations\n",
    "    # end of the trajectory is the first success or the end of the episode\n",
    "    success_indices = np.where(success)[0]\n",
    "    if len(success_indices) > 0:\n",
    "        last_success_idx = success_indices[0]\n",
    "        trajectory_len = last_success_idx + 1\n",
    "    else:\n",
    "        last_success_idx = -1\n",
    "        trajectory_len = len(episode.rewards)\n",
    "    # shape (trajectory_len, observation_dim)\n",
    "    observations = episode.observations\n",
    "    # shape (trajectory_len, action_dim)\n",
    "    actions = episode.actions\n",
    "    # shape (trajectory_len, action_dim)\n",
    "    rewards = episode.rewards[:trajectory_len]\n",
    "\n",
    "    # use values to store the rewards to go\n",
    "    # for a given time step, the value is the sum of rewards from that time step\n",
    "    # to the end of the trajectory, discounted by discount factor at each time step\n",
    "    values = np.zeros_like(rewards, dtype=np.float32)\n",
    "    # calculate discounts for each time step\n",
    "    discounts = discount ** np.arange(trajectory_len)\n",
    "    # calculate rewards to go with discount\n",
    "    for t in range(trajectory_len):\n",
    "        values[t] = (rewards[t + 1 :].T * discounts[: -t - 1]).sum()\n",
    "\n",
    "    # drop the last state because we don't have a reward for it\n",
    "    states = flatten_space(observations, env.observation_space)\n",
    "    states = states[:trajectory_len]\n",
    "    actions = flatten_space(actions, env.action_space)\n",
    "    actions = actions[:trajectory_len]\n",
    "    rewards = rewards[:, None]\n",
    "    values = values[:, None]\n",
    "\n",
    "    # shape (trajectory_len, observation_dim + action_dim + reward_dim + value_dim)\n",
    "    joined = np.concatenate([states, actions, rewards, values], axis=-1)\n",
    "\n",
    "    return joined\n",
    "\n",
    "\n",
    "class DiscretizeDataset(Dataset):\n",
    "    # Each input into the sequence model needs to be (batch_size, tokens)\n",
    "    # output should be in groups of transitions\n",
    "    def __init__(\n",
    "        self,\n",
    "        env: Env,\n",
    "        m_dataset: MinariDataset,\n",
    "        n_transitions: int,\n",
    "        discount: float = 0.99,\n",
    "        max_bins: int = 1000,\n",
    "        strategy: str = \"quantile\",\n",
    "        cache_path: Optional[str] = None,\n",
    "        load_checkpoint: bool = True,\n",
    "    ):\n",
    "        self.m_dataset = m_dataset\n",
    "        self.n_transitions = n_transitions\n",
    "\n",
    "        ds_len = len(self.m_dataset)\n",
    "\n",
    "        self.cache_name = (\n",
    "            f\"joined_trajectories_{n_transitions}_{max_bins}_{strategy}_{ds_len}.pkl\"\n",
    "        )\n",
    "        cache_path = os.path.join(cache_path, self.cache_name) if cache_path else None\n",
    "\n",
    "        if load_checkpoint and cache_path is not None and os.path.exists(cache_path):\n",
    "            print(f\"Loading cached dataset from {cache_path}\")\n",
    "            with open(cache_path, \"rb\") as f:\n",
    "                self.joined_trajectories = pickle.load(f)\n",
    "        else:\n",
    "            # this list will contain the joined trajectories, each item in the list\n",
    "            # is a trajectory of shape (trajectory_len, observation_dim + action_dim + reward_dim + value_dim)\n",
    "            # and that trajectory is one episodedata from the m_dataset\n",
    "            self.joined_trajectories = []\n",
    "            for episode in m_dataset:\n",
    "                self.joined_trajectories.append(join_trajectory(env, episode, discount))\n",
    "\n",
    "            print(f\"Caching dataset to {cache_path}\")\n",
    "            with open(cache_path, \"wb\") as f:\n",
    "                pickle.dump(self.joined_trajectories, f)\n",
    "\n",
    "        self.discretizer = KBinsDiscretizer(\n",
    "            n_bins=max_bins,\n",
    "            strategy=strategy,\n",
    "            # concatenate all the trajectories\n",
    "            # shape (n_samples * trajectory_len, observation_dim + action_dim + reward_dim + value_dim)\n",
    "            dataset=np.concatenate(self.joined_trajectories, axis=0),\n",
    "        )\n",
    "\n",
    "        # we need a dataset for training sequence model\n",
    "        # given that we need a sequence of n_transitions, we need to generate\n",
    "        # indices such that we can get n_transitions from each trajectory\n",
    "        indices = []\n",
    "        for traj_idx, joined_trajectory in enumerate(self.joined_trajectories):\n",
    "            traj_len = joined_trajectory.shape[0]\n",
    "            end = traj_len - 1\n",
    "            for i in range(end):\n",
    "                indices.append((traj_idx, i, i + n_transitions))\n",
    "\n",
    "        self.indices = np.array(indices)\n",
    "\n",
    "    def __len__(self):\n",
    "        return len(self.indices)\n",
    "\n",
    "    def __getitem__(self, idx):\n",
    "        traj_idx, start, end = self.indices[idx]\n",
    "        # sample a sequence of n_transitions from trajectory at traj_idx\n",
    "        joined = self.joined_trajectories[traj_idx][start:end]\n",
    "        loss_pad_mask = np.ones((self.n_transitions, joined.shape[-1]), dtype=np.long)\n",
    "        # some sequences may be shorter than n_transitions, pad them with zeros\n",
    "        # and set the mask to zero for the padded part, this mask will be used\n",
    "        # to mask the loss when calculating the loss\n",
    "        if joined.shape[0] < self.n_transitions:\n",
    "            # pad along dimension 0, zero padding at the beginning\n",
    "            # and (self.n_transitions - joined.shape[0]) padding at the end\n",
    "            joined = np.pad(\n",
    "                joined,\n",
    "                ((0, self.n_transitions - joined.shape[0]), (0, 0)),\n",
    "                mode=\"constant\",\n",
    "                constant_values=0,\n",
    "            )\n",
    "            loss_pad_mask[joined.shape[0] :] = 0\n",
    "\n",
    "        # since transformer model expects discrete values, we need to encode the\n",
    "        # continuous values into discrete bins\n",
    "        # shape (n_transitions, transition_dim) -> (n_transitions, transition_dim)\n",
    "        joined_discretized = self.discretizer.encode(joined)\n",
    "        # shape (n_transitions, transition_dim) -> (n_transitions * transition_dim)\n",
    "        # i'e [s1, a1, r1, v1, s2, a2, r2, v2, ...]\n",
    "        joined_discretized = joined_discretized.reshape(-1).astype(np.long)\n",
    "        loss_pad_mask = loss_pad_mask.reshape(-1)\n",
    "        # return input, target, and mask\n",
    "        # since sequence model predicts the next token, target is the next token in the sequence\n",
    "        return joined_discretized[:-1], joined_discretized[1:], loss_pad_mask[:-1]"
   ]
  },
  {
   "cell_type": "code",
   "execution_count": 9,
   "metadata": {},
   "outputs": [
    {
     "name": "stdout",
     "output_type": "stream",
     "text": [
      "Caching dataset to data/mujoco/halfcheetah/expert-v0/joined_trajectories_10_100_uniform_10.pkl\n",
      "Length of dataset: 9990\n",
      "Shape of input: (249,)\n",
      "Shape of target: (249,)\n",
      "Shape of mask: (249,)\n"
     ]
    }
   ],
   "source": [
    "dataset = DiscretizeDataset(\n",
    "    env=env,\n",
    "    m_dataset=m_dataset,\n",
    "    n_transitions=n_transitions,\n",
    "    discount=discount_factor,\n",
    "    max_bins=max_bins,\n",
    "    strategy=strategy,\n",
    "    cache_path=checkpoint_path,\n",
    "    load_checkpoint=load_checkpoint,\n",
    ")\n",
    "\n",
    "print(f\"Length of dataset: {len(dataset)}\")\n",
    "print(f\"Shape of input: {dataset[0][0].shape}\")\n",
    "print(f\"Shape of target: {dataset[0][1].shape}\")\n",
    "print(f\"Shape of mask: {dataset[0][2].shape}\")"
   ]
  },
  {
   "cell_type": "markdown",
   "metadata": {},
   "source": [
    "Let's inspect one `input`, `target`, and `mask`. The call to `dataset[0]` fetches the first record from the dataset. For brevity, we will show only the first 10 elements. Notice how the `target` is simply the `input` shifted by 1. This approach ensures compatibility with sequence modeling, similar to how it is done in NLP. Mask value of `1` signifies that the token should be part of loss calculation."
   ]
  },
  {
   "cell_type": "code",
   "execution_count": 10,
   "metadata": {},
   "outputs": [
    {
     "name": "stdout",
     "output_type": "stream",
     "text": [
      "Input: [38 34 42 55 40 56 43 48  5 41]\n",
      "Target: [34 42 55 40 56 43 48  5 41 38]\n",
      "Mask: [1 1 1 1 1 1 1 1 1 1]\n"
     ]
    }
   ],
   "source": [
    "# | code-fold: true\n",
    "# | code-summary: Test the DiscretizeDataset class\n",
    "\n",
    "# show input, target, and mask for the first item in the dataset\n",
    "print(f\"Input: {dataset[0][0][:10]}\")\n",
    "print(f\"Target: {dataset[0][1][:10]}\")\n",
    "print(f\"Mask: {dataset[0][2][:10]}\")"
   ]
  },
  {
   "cell_type": "code",
   "execution_count": 11,
   "metadata": {},
   "outputs": [],
   "source": [
    "# | code-fold: true\n",
    "# | code-summary: utility functions\n",
    "\n",
    "\n",
    "def round_to_multiple(number, multiple):\n",
    "    \"\"\"\n",
    "    Rounds a given number up to the nearest multiple of a specified value.\n",
    "\n",
    "    Args:\n",
    "        number (int or float): The number to be rounded.\n",
    "        multiple (int or float): The multiple to which the number should be rounded.\n",
    "\n",
    "    Returns:\n",
    "        int or float: The number rounded up to the nearest multiple of the specified value.\n",
    "    \"\"\"\n",
    "    pad = (multiple - number % multiple) % multiple\n",
    "    return number + pad\n",
    "\n",
    "\n",
    "# Test the round_to_multiple function\n",
    "assert round_to_multiple(5, 3) == 6\n",
    "assert round_to_multiple(6, 3) == 6\n",
    "assert round_to_multiple(7, 3) == 9"
   ]
  },
  {
   "cell_type": "code",
   "execution_count": 12,
   "metadata": {},
   "outputs": [],
   "source": [
    "# | code-fold: true\n",
    "# | code-summary: Schedule the learning rate - linear warmup and cosine decay karpathy/minGPT\n",
    "\n",
    "\n",
    "def weight_decay_groups(\n",
    "    model, whitelist_modules, blacklist_modules, blacklist_named=None\n",
    "):\n",
    "    # from https://github.com/karpathy/minGPT\n",
    "    decay, no_decay = set(), set()\n",
    "\n",
    "    for mn, m in model.named_modules():\n",
    "        for pn, p in m.named_parameters():\n",
    "            fpn = \"%s.%s\" % (mn, pn) if mn else pn  # full param name\n",
    "\n",
    "            # starts with for rnn's, endswith other\n",
    "            if pn.startswith(\"bias\") or pn.endswith(\"bias\"):\n",
    "                # all biases will not be decayed\n",
    "                no_decay.add(fpn)\n",
    "            elif (pn.startswith(\"weight\") or pn.endswith(\"weight\")) and isinstance(\n",
    "                m, blacklist_modules\n",
    "            ):\n",
    "                # weights of blacklist modules will NOT be weight decayed\n",
    "                no_decay.add(fpn)\n",
    "            elif (pn.startswith(\"weight\") or pn.endswith(\"weight\")) and isinstance(\n",
    "                m, whitelist_modules\n",
    "            ):\n",
    "                # weights of whitelist modules will be weight decayed\n",
    "                decay.add(fpn)\n",
    "\n",
    "    if blacklist_named is not None:\n",
    "        for name in blacklist_named:\n",
    "            no_decay.add(name)  # also no decay\n",
    "\n",
    "    # validate that we considered every parameter\n",
    "    param_dict = {pn: p for pn, p in model.named_parameters()}\n",
    "    inter_params = decay & no_decay\n",
    "    union_params = decay | no_decay\n",
    "    if len(inter_params) != 0:\n",
    "        warnings.warn(\n",
    "            f\"parameters {str(inter_params)} made it into both decay/no_decay sets! They will be added to only no_decay by default.\"\n",
    "        )\n",
    "        decay = decay - no_decay\n",
    "\n",
    "    inter_params = decay & no_decay\n",
    "    union_params = decay | no_decay\n",
    "    if len(param_dict.keys() - union_params) != 0:\n",
    "        warnings.warn(\n",
    "            f\"parameters {str(param_dict.keys() - union_params)} were not separated into either decay/no_decay set! They will be added to decay by default.\"\n",
    "        )\n",
    "        decay = decay | (param_dict.keys() - union_params)\n",
    "\n",
    "    optim_groups = {\n",
    "        \"decay\": [param_dict[pn] for pn in sorted(list(decay))],\n",
    "        \"nodecay\": [param_dict[pn] for pn in sorted(list(no_decay))],\n",
    "    }\n",
    "    return optim_groups\n",
    "\n",
    "\n",
    "class GPTScheduler:\n",
    "    \"\"\"\n",
    "    Linear warmup to optimizer inital_lr for #warmup_tokens,\n",
    "    then cosine decay to inital_lr * final_lr_ratio for the rest #final_tokens\n",
    "    source: https://github.com/karpathy/minGPT\n",
    "    \"\"\"\n",
    "\n",
    "    def __init__(\n",
    "        self, optimizer, warmup_tokens, final_tokens, final_lr_ratio=0.1, decay=True\n",
    "    ):\n",
    "        self.optimizer = optimizer\n",
    "        # assuming that lr same for all group\n",
    "        self.init_lr = optimizer.param_groups[0][\"lr\"]\n",
    "\n",
    "        self.warmup_tokens = warmup_tokens\n",
    "        self.final_tokens = final_tokens\n",
    "        self.final_lr_ratio = final_lr_ratio\n",
    "        self.decay = decay\n",
    "\n",
    "        self.tokens_count = 0.0\n",
    "\n",
    "    def step(self, batch_size):\n",
    "        lr_mult = self.__get_lr_multiplier(batch_size)\n",
    "\n",
    "        for group in self.optimizer.param_groups:\n",
    "            group[\"lr\"] = self.init_lr * lr_mult\n",
    "\n",
    "    def get_current_lr(self):\n",
    "        lr_mult = self.__get_lr_multiplier(0.0)\n",
    "        return self.init_lr * lr_mult\n",
    "\n",
    "    def __get_lr_multiplier(self, batch_size):\n",
    "        self.tokens_count += batch_size\n",
    "\n",
    "        assert (\n",
    "            self.tokens_count <= self.final_tokens\n",
    "        ), f\"number of tokens {self.tokens_count} already bigger than number of tokens for one cycle\"\n",
    "\n",
    "        if self.tokens_count < self.warmup_tokens:\n",
    "            lr_mult = float(self.tokens_count) / float(max(1, self.warmup_tokens))\n",
    "        elif self.tokens_count >= self.warmup_tokens and self.decay:\n",
    "            tokens_passed = self.tokens_count - self.warmup_tokens\n",
    "            tokens_left = self.final_tokens - self.warmup_tokens\n",
    "\n",
    "            progress = float(tokens_passed) / float(max(1, tokens_left))\n",
    "            lr_mult = max(\n",
    "                self.final_lr_ratio, 0.5 * (1.0 + math.cos(math.pi * progress))\n",
    "            )\n",
    "        else:\n",
    "            lr_mult = 1.0\n",
    "\n",
    "        return lr_mult\n",
    "\n",
    "    def state_dict(self):\n",
    "        # just for checkpoint callback\n",
    "        pass\n",
    "\n",
    "\n",
    "def get_optimizer(model, weight_decay, learning_rate, betas):\n",
    "    param_groups = weight_decay_groups(\n",
    "        model=model,\n",
    "        whitelist_modules=(torch.nn.Linear, torch.nn.MultiheadAttention, EinLinear),\n",
    "        blacklist_modules=(torch.nn.LayerNorm, torch.nn.Embedding),\n",
    "        blacklist_named=(\"positional_embedding\",),\n",
    "    )\n",
    "    optim_groups = [\n",
    "        {\"params\": param_groups[\"decay\"], \"weight_decay\": weight_decay},\n",
    "        {\"params\": param_groups[\"nodecay\"], \"weight_decay\": 0.0},\n",
    "    ]\n",
    "    optimizer = torch.optim.AdamW(optim_groups, lr=learning_rate, betas=betas)\n",
    "\n",
    "    return optimizer\n",
    "\n",
    "\n",
    "def get_scheduler(optimizer, warmup_tokens, final_tokens):\n",
    "    scheduler = GPTScheduler(\n",
    "        optimizer,\n",
    "        warmup_tokens=warmup_tokens,\n",
    "        final_tokens=final_tokens,\n",
    "        decay=True,\n",
    "    )\n",
    "    return scheduler"
   ]
  },
  {
   "cell_type": "markdown",
   "metadata": {},
   "source": [
    "## Model\n",
    "\n",
    "![TT Model](img/offline_rl/tt_model.png)\n",
    "\n",
    "### Tokenization in TT: Why and How Offsetting is Done\n",
    "\n",
    "In traditional NLP Transformers, each token comes from a single vocabulary (e.g., words or subwords). However, in TT, we deal with multiple types of tokens—states, actions, rewards, and values—each with a shared vocabulary size (determined by the number of discretization bins `max_bins`).\n",
    "\n",
    "Since we have multiple token types, we need a way to differentiate them. This is done using offsetting, where each token type is assigned a different section of the vocabulary. Kinda of like local vocab and global vocab.\n",
    "\n",
    "#### How Offsetting Works\n",
    "\n",
    "For a given `vocab_size`, the tokens are offset by multiples of it:\n",
    "\n",
    "$$\n",
    "\\text{offsets} = [0, \\text{vocab\\_size}, 2 \\times \\text{vocab\\_size}, \\dots]\n",
    "$$\n",
    "\n",
    "For example, if `vocab_size = 10` and we have 4 token types (state, action, reward, value), the token indices are adjusted as follows:\n",
    "\n",
    "- **State tokens**: [0-9]\n",
    "- **Action tokens**: [10-19]\n",
    "- **Reward tokens**: [20-29]\n",
    "- **Value tokens**: [30-39]\n",
    "\n",
    "This ensures that each token type is uniquely represented, preventing mix-ups between different types of information.\n",
    "\n",
    "\n",
    "### EinLinear: Einstein Notation as a Shorthand for MLP\n",
    "\n",
    "Einstein summation notation (einsum) is a compact and efficient way of writing tensor operations. In `EinLinear`, we use `torch.einsum()` instead of the standard `torch.matmul()`, making the computation more explicit and flexible.\n",
    "\n",
    "#### How EinLinear Works\n",
    "\n",
    "A regular MLP applies a linear transformation:\n",
    "\n",
    "$$\n",
    "Y = XW^T + b\n",
    "$$\n",
    "\n",
    "For multiple models (e.g., if we use separate linear layers for different token types), `EinLinear` performs batched linear transformations efficiently:\n",
    "\n",
    "```python\n",
    "output = torch.einsum(\"eoi,bei->beo\", self.weight, x)\n",
    "```\n",
    "\n",
    "where:\n",
    "\n",
    "- eoi represents the weight tensor (n_models, out_features, in_features).\n",
    "- bei represents the input tensor (batch_size, n_models, in_features).\n",
    "\n",
    "The result is (batch_size, n_models, out_features).\n",
    "\n",
    "This is just a compact way of writing matrix multiplication across multiple models, saving computation time and improving clarity.\n",
    "\n",
    "### Causal Masking: Why and How?\n",
    "\n",
    "Transformers process entire sequences at once, but in RL, future information must not be leaked to the model during training. This is handled via causal masking.\n",
    "\n",
    "#### Types of Masking in TT\n",
    "\n",
    "##### Self-Causal Masking\n",
    "- Ensures each token only attends to past tokens.\n",
    "- Implemented using a lower triangular mask (future tokens are masked out).\n",
    "- Prevents information leakage during training.\n",
    "\n",
    "##### Value Masking\n",
    "- In TT, reward-to-go (RTG) is included as a token.\n",
    "- RTG contains future information, so it must not be attended to by other tokens.\n",
    "- The mask explicitly blocks RTG tokens during self-attention.\n",
    "\n",
    "### KV Cache: Why and How It Works\n",
    "\n",
    "In inference, processing one token at a time (autoregressive decoding) is inefficient if we recompute self-attention for all previous tokens at every step. Key-Value (KV) Caching solves this by storing past computations, reducing redundant work.\n",
    "\n",
    "#### How KV Cache Works\n",
    "- During inference, previously computed key-value (K-V) pairs are stored.\n",
    "- When a new token arrives, we append its K-V pairs instead of recomputing for all tokens.\n",
    "- This makes generation much faster."
   ]
  },
  {
   "cell_type": "code",
   "execution_count": 13,
   "metadata": {},
   "outputs": [],
   "source": [
    "class Block(nn.Module):\n",
    "    # Transformer block\n",
    "    def __init__(\n",
    "        self,\n",
    "        seq_len,\n",
    "        embedding_dim: int,\n",
    "        transition_dim: int,\n",
    "        n_heads: int,\n",
    "        attention_dropout: float,\n",
    "        residual_dropout: float,\n",
    "    ):\n",
    "        super().__init__()\n",
    "        self.attn = nn.MultiheadAttention(\n",
    "            embedding_dim, n_heads, batch_first=True, dropout=attention_dropout\n",
    "        )\n",
    "        self.attn_norm = nn.LayerNorm(embedding_dim)\n",
    "\n",
    "        self.fc_norm = nn.LayerNorm(embedding_dim)\n",
    "\n",
    "        self.drop = nn.Dropout(residual_dropout)\n",
    "\n",
    "        self.mlp = nn.Sequential(\n",
    "            nn.Linear(embedding_dim, embedding_dim * 4),\n",
    "            nn.GELU(),\n",
    "            nn.Linear(embedding_dim * 4, embedding_dim),\n",
    "            nn.Dropout(residual_dropout),\n",
    "        )\n",
    "        self.seq_len = seq_len\n",
    "\n",
    "        # mask value of true means that the value is not allowed to be attended to\n",
    "        mask = ~torch.tril(torch.ones(seq_len, seq_len)).bool()\n",
    "        # transition_dim - 1 stores rewards to go, we don't want to attend to them because they contain future information\n",
    "        mask[:, transition_dim - 1 :: transition_dim] = True\n",
    "        self.register_buffer(\"mask\", mask)\n",
    "\n",
    "    def forward(\n",
    "        self, x: torch.Tensor, kv_cache: Optional[torch.Tensor] = None\n",
    "    ) -> torch.Tensor:\n",
    "        # x shape (batch_size, n_tokens, embedding_dim) in prefill mode else (batch_size, 1, embedding_dim)\n",
    "        # kv_cache shape (batch_size, n_tokens, embedding_dim) in inference mode else None\n",
    "        _, n_tokens, _ = x.shape\n",
    "\n",
    "        # normalize the input before passing it to the attention layer\n",
    "        x_norm = self.attn_norm(x)\n",
    "\n",
    "        if kv_cache is None:\n",
    "            # when kv_cache is None, we are in prefill mode\n",
    "\n",
    "            # attn_mask shape (seq_len, seq_len), but incoming shape is (batch_size, n_tokens, embedding_dim)\n",
    "            # so filter the mask to the correct size (n_tokens, n_tokens)\n",
    "            attn_mask = self.mask[:n_tokens, :n_tokens]\n",
    "            q, k, v = x_norm, x_norm, x_norm\n",
    "        else:\n",
    "            assert n_tokens == 1, \"kv_cache can only be None with a single token\"\n",
    "            # +1 because we are adding a new token\n",
    "            assert kv_cache.shape[1] + 1 <= self.seq_len, \"kv_cache is too large\"\n",
    "\n",
    "            # attn_mask is None because we are running in inference mode, processing one token at a time\n",
    "            # and this token is not allowed to attend to future tokens\n",
    "            attn_mask = None\n",
    "            q, k, v = (\n",
    "                x_norm,\n",
    "                # shape (batch_size, n_tokens + 1, embedding_dim)\n",
    "                torch.cat([kv_cache, x_norm], dim=1),\n",
    "                torch.cat([kv_cache, x_norm], dim=1),\n",
    "            )\n",
    "\n",
    "        new_kv_cache = k\n",
    "\n",
    "        # x shape (batch_size, n_tokens, embedding_dim) in prefill mode else (batch_size, 1, embedding_dim)\n",
    "        x = x + self.drop(\n",
    "            self.attn(q, k, v, attn_mask=attn_mask, need_weights=False)[0]\n",
    "        )\n",
    "\n",
    "        x = x + self.mlp(self.fc_norm(x))\n",
    "\n",
    "        return x, new_kv_cache\n",
    "\n",
    "\n",
    "class EinLinear(nn.Module):\n",
    "    def __init__(\n",
    "        self, n_models: int, in_features: int, out_features: int, bias: bool = True\n",
    "    ):\n",
    "        super().__init__()\n",
    "        self.n_models = n_models\n",
    "        self.in_features = in_features\n",
    "        self.out_features = out_features\n",
    "        self.weight = nn.Parameter(torch.Tensor(n_models, out_features, in_features))\n",
    "        if bias:\n",
    "            self.bias = nn.Parameter(torch.Tensor(n_models, out_features))\n",
    "        else:\n",
    "            self.register_parameter(\"bias\", None)\n",
    "        self.reset_parameters()\n",
    "\n",
    "    def reset_parameters(self):\n",
    "        for i in range(self.n_models):\n",
    "            nn.init.kaiming_uniform_(self.weight[i], a=math.sqrt(5))\n",
    "            if self.bias is not None:\n",
    "                fan_in, _ = nn.init._calculate_fan_in_and_fan_out(self.weight[i])\n",
    "                bound = 1 / math.sqrt(fan_in)\n",
    "                nn.init.uniform_(self.bias[i], -bound, bound)\n",
    "\n",
    "    def forward(self, x: torch.Tensor, model_idx: Optional[int] = None) -> torch.Tensor:\n",
    "        if model_idx is None:\n",
    "            # when model_idx is None, we are in prefill mode\n",
    "            # (n_models, out_features, in_features) * (batch_size, n_models, in_features) -> (batch_size, n_models, out_features)\n",
    "            output = torch.einsum(\"eoi,bei->beo\", self.weight, x)\n",
    "        else:\n",
    "            # when model_idx is not None, we are in inference mode\n",
    "            # shape (batch_size, in_features) * (out_features, in_features).T -> (batch_size, out_features)\n",
    "            output = x @ self.weight[model_idx].T\n",
    "\n",
    "        if self.bias is not None:\n",
    "            raise RuntimeError()\n",
    "\n",
    "        return output\n",
    "\n",
    "\n",
    "class TrajectoryTransformer(nn.Module):\n",
    "    def __init__(\n",
    "        self,\n",
    "        seq_len: int,\n",
    "        embedding_dim: int,\n",
    "        n_heads: int,\n",
    "        transition_dim: int,\n",
    "        n_blocks: int,\n",
    "        vocab_size: int,\n",
    "        dropout_embedding: float = 0.1,\n",
    "        attention_dropout: float = 0.1,\n",
    "        residual_dropout: float = 0.1,\n",
    "        use_sep_heads: bool = False,\n",
    "    ):\n",
    "        super().__init__()\n",
    "        self.seq_len = seq_len\n",
    "        self.embedding_dim = embedding_dim\n",
    "        self.n_heads = n_heads\n",
    "        self.transition_dim = transition_dim\n",
    "        self.n_blocks = n_blocks\n",
    "        self.vocab_size = vocab_size\n",
    "\n",
    "        # our input contains transition_dim types of tokens and each token is from a vocab of size vocab_size\n",
    "        # so the total number of tokens is transition_dim * vocab_size\n",
    "        self.token_embedding = nn.Embedding(\n",
    "            vocab_size * transition_dim, self.embedding_dim\n",
    "        )\n",
    "        # learnable positional embedding\n",
    "        self.positional_embedding = nn.Parameter(\n",
    "            torch.zeros(1, seq_len, self.embedding_dim)\n",
    "        )\n",
    "\n",
    "        self.dropout_embedding = nn.Dropout(dropout_embedding)\n",
    "\n",
    "        # create n_blocks of transformer blocks\n",
    "        self.blocks = nn.ModuleList(\n",
    "            [\n",
    "                Block(\n",
    "                    self.seq_len,\n",
    "                    self.embedding_dim,\n",
    "                    self.transition_dim,\n",
    "                    self.n_heads,\n",
    "                    attention_dropout,\n",
    "                    residual_dropout,\n",
    "                )\n",
    "                for _ in range(self.n_blocks)\n",
    "            ]\n",
    "        )\n",
    "\n",
    "        self.norm = nn.LayerNorm(self.embedding_dim)\n",
    "\n",
    "        self.use_sep_heads = use_sep_heads\n",
    "\n",
    "        if not self.use_sep_heads:\n",
    "            # project the output of the transformer to the vocab size\n",
    "            # since each token type is from a vocab of size vocab_size\n",
    "            # we can do this. But for instance if every token type used different\n",
    "            # number of bins, then we would have handled this differently. But dont worry\n",
    "            # that is not the case here.\n",
    "            self.fc = nn.Linear(self.embedding_dim, vocab_size)\n",
    "        else:\n",
    "            self.fc = EinLinear(\n",
    "                self.transition_dim, self.embedding_dim, vocab_size, bias=False\n",
    "            )\n",
    "\n",
    "        # self.apply is a crazy function that applies the given function recursively to every submodule\n",
    "        self.apply(self._init_weights)\n",
    "\n",
    "    def _init_weights(self, module):\n",
    "        # standard practice in transformer models\n",
    "        if isinstance(module, (nn.Linear, nn.Embedding)):\n",
    "            torch.nn.init.xavier_uniform_(module.weight)\n",
    "            if isinstance(module, (nn.Linear)) and module.bias is not None:\n",
    "                torch.nn.init.constant_(module.bias, 0.0)\n",
    "        elif isinstance(module, nn.LayerNorm):\n",
    "            torch.nn.init.constant_(module.bias, 0.0)\n",
    "            torch.nn.init.constant_(module.weight, 1.0)\n",
    "        elif isinstance(module, TrajectoryTransformer):\n",
    "            torch.nn.init.normal_(module.positional_embedding, mean=0.0, std=0.02)\n",
    "\n",
    "    def get_seq_len(self):\n",
    "        return self.seq_len\n",
    "\n",
    "    def _pad_to_full_transition(self, tokens: torch.Tensor) -> torch.Tensor:\n",
    "        # pad the tokens to full transition_dim\n",
    "        batch_size, n_tokens, _ = tokens.shape\n",
    "        n_pad = round_to_multiple(n_tokens, self.transition_dim) - n_tokens\n",
    "        padding = torch.zeros(\n",
    "            batch_size, n_pad, self.embedding_dim, device=tokens.device\n",
    "        )\n",
    "        x_pad = torch.cat([tokens, padding], dim=1)\n",
    "        return x_pad, n_pad\n",
    "\n",
    "    def _offset_tokens(\n",
    "        self, tokens: torch.Tensor, kv_caches: Optional[List] = None\n",
    "    ) -> torch.Tensor:\n",
    "        # for beginners, this function may be a bit confusing. So let me explain\n",
    "\n",
    "        # our input consists of transition_dim types of tokens\n",
    "        # and each token is from a vocab of size vocab_size. So total\n",
    "        # there are transition_dim * vocab_size unique tokens. In contrast\n",
    "        # to NLP where we have just one token type(the word) and each word\n",
    "        # is from a vocab of size vocab_size (50k in llama).\n",
    "        # So to bridge this gap, we need to project each token's local vocab\n",
    "        # into the global vocab space. And the way we do this is by offsetting\n",
    "        # each token type by a factor of vocab_size.\n",
    "        # eg. if we have 3 token types and vocab_size is 10, then the tokens\n",
    "        # will be offset by [0, 10, 20] respectively.\n",
    "        # given input [2, 6, 3, 1, 2, 5] and vocab_size 10,\n",
    "        # the output will be [2, 16, 23, 11, 12, 25]\n",
    "\n",
    "        n_tokens = tokens.shape[1] if kv_caches is None else kv_caches[0].shape[1] + 1\n",
    "        # calculate the number of transitions in the input\n",
    "        n_transition = int(np.ceil(n_tokens / self.transition_dim))\n",
    "\n",
    "        # if transition_dim is 4, and vocab_size is 10, then the offsets will be\n",
    "        # [0, 10, 20, 30]\n",
    "        # shape (transition_dim,)\n",
    "        offsets = (\n",
    "            torch.arange(self.transition_dim, device=tokens.device) * self.vocab_size\n",
    "        )\n",
    "        # repeat the offset n_transition times\n",
    "        # shape (n_transition * transition_dim,)\n",
    "        offsets = offsets.repeat(n_transition)\n",
    "        if kv_caches is not None:\n",
    "            # in inference mode, we need to offset the last token only\n",
    "            offset_idx = offsets[:n_tokens][-1] + tokens\n",
    "        else:\n",
    "            # add the offsets to the tokens, and truncate the tokens to n_tokens\n",
    "            offset_idx = offsets[:n_tokens] + tokens\n",
    "        return offset_idx\n",
    "\n",
    "    def forward(\n",
    "        self, tokens: torch.Tensor, kv_caches: Optional[List] = None\n",
    "    ) -> torch.Tensor:\n",
    "        # tokens shape (batch_size, n_tokens) in prefill mode else (batch_size, 1)\n",
    "        batch_size, n_tokens = tokens.shape\n",
    "        assert (\n",
    "            n_tokens <= self.seq_len\n",
    "        ), f\"n_tokens {n_tokens} is greater than seq_len {self.seq_len}\"\n",
    "\n",
    "        if kv_caches is not None:\n",
    "            assert n_tokens == 1, \"kv_caches can only be used with a single token\"\n",
    "\n",
    "        # project each token into their vocab space, this is similar to tokenization\n",
    "        # in NLP where we project each word into their vocab space\n",
    "        # (batch_size, n_tokens)\n",
    "        offset_idx = self._offset_tokens(tokens, kv_caches)\n",
    "\n",
    "        # (batch_size, n_tokens) -> (batch_size, n_tokens, embedding_dim)\n",
    "        tokens = self.token_embedding(offset_idx)\n",
    "\n",
    "        if kv_caches is not None:\n",
    "            # in inference mode\n",
    "            idx = kv_caches[0].shape[1]\n",
    "            # (1, 1, embedding_dim)\n",
    "            positional_embedding = self.positional_embedding[:, idx : idx + 1]\n",
    "        else:\n",
    "            # in prefill mode\n",
    "            # initialize kv_caches to None\n",
    "            kv_caches = [None for _ in range(self.n_blocks)]\n",
    "            # (1, n_tokens, embedding_dim)\n",
    "            positional_embedding = self.positional_embedding[:, :n_tokens]\n",
    "\n",
    "        # (batch_size, n_tokens, embedding_dim) -> (batch_size, n_tokens, embedding_dim)\n",
    "        tokens = self.dropout_embedding(tokens + positional_embedding)\n",
    "\n",
    "        new_kv_caches = []\n",
    "        for block, kv_cache in zip(self.blocks, kv_caches):\n",
    "            tokens, new_kv_cache = block(tokens, kv_cache)\n",
    "            new_kv_caches.append(new_kv_cache)\n",
    "\n",
    "        # (batch_size, n_tokens, embedding_dim) -> (batch_size, n_tokens, embedding_dim)\n",
    "        tokens = self.norm(tokens)\n",
    "\n",
    "        if self.use_sep_heads:\n",
    "            # by using separate heads, we can route each token type to a different module\n",
    "            # this can be useful when each token type uses different number of bins or\n",
    "            # we want to give more capacity for the model to learn.\n",
    "            if kv_caches[0] is None:\n",
    "                # in prefill mode, we need to calculate the logits for each token type\n",
    "                # (batch_size, n_tokens, embedding_dim) -> (batch_size, n_tokens + n_pad, embedding_dim)\n",
    "                x_pad, n_pad = self._pad_to_full_transition(tokens)\n",
    "                # (batch_size, n_tokens + n_pad, vocab_size) -> (batch_size * n_transitions, transition_dim, embedding_dim)\n",
    "                x_pad = x_pad.view(-1, self.transition_dim, self.embedding_dim)\n",
    "                # (batch_size * n_transitions, transition_dim, embedding_dim) -> (batch_size * n_transitions, transition_dim, vocab_size)\n",
    "                logits = self.fc(x_pad, model_idx=None)\n",
    "                # (batch_size * n_transitions, transition_dim, vocab_size) -> (batch_size, n_tokens + n_pad, vocab_size)\n",
    "                logits = logits.reshape(batch_size, n_tokens + n_pad, self.vocab_size)\n",
    "                # truncate the logits to n_tokens\n",
    "                logits = logits[:, :n_tokens, :]\n",
    "            else:\n",
    "                # in inference mode, we need to calculate the logits for the last token type\n",
    "                # infer the model index to route the token to the correct model.\n",
    "                cache_size = kv_cache[0].shape[1]\n",
    "                model_idx = cache_size % self.transition_dim\n",
    "                # (batch_size, 1, embedding_dim) -> (batch_size, embedding_dim) -> (batch_size, vocab_size) -> (batch_size, 1, vocab_size)\n",
    "                logits = self.fc(tokens.squeeze(1), model_idx).unsqueeze(1)\n",
    "        else:\n",
    "            # (batch_size, n_tokens, embedding_dim) -> (batch_size, n_tokens, vocab_size)\n",
    "            logits = self.fc(tokens)\n",
    "        return logits, new_kv_caches"
   ]
  },
  {
   "cell_type": "markdown",
   "metadata": {},
   "source": [
    "## Sampling Techniques\n",
    "\n",
    "When generating sequences in TT, selecting the next token is crucial for controlling exploration vs. exploitation in trajectory rollouts. The code implements three sampling strategies:\n",
    "\n",
    "### Greedy Sampling\n",
    "\n",
    "![[Greedy - huggingface](https://huggingface.co/blog/how-to-generate#greedy-search)](img/offline_rl/greedy.jpeg)\n",
    "\n",
    "\n",
    "#### How It Works:\n",
    "- Always picks the token with the highest probability (argmax).\n",
    "- No randomness; always chooses the most likely action.\n",
    "\n",
    "#### Pros:\n",
    "- Deterministic (same input → same output).\n",
    "- Exploits the model’s knowledge effectively.\n",
    "\n",
    "#### Cons:\n",
    "- Can lead to suboptimal decisions (local optima).\n",
    "- Lacks diversity—may get stuck in repetitive or unnatural trajectories.\n",
    "\n",
    "#### Use Case in TT:\n",
    "- Best suited for deterministic policy rollouts where maximizing likelihood is preferred.\n",
    "- Not ideal for exploration-driven RL tasks.\n",
    "\n",
    "### Top-K Sampling\n",
    "\n",
    "#### How It Works:\n",
    "- Filters logits by keeping only the top-K most probable tokens and sets the rest to -inf.\n",
    "- Sampling is then performed only among these top-K tokens.\n",
    "\n",
    "#### Pros:\n",
    "- Reduces randomness while still allowing diversity.\n",
    "- Prevents sampling from extremely unlikely tokens.\n",
    "\n",
    "#### Cons:\n",
    "- Limits exploration to the top-K tokens.\n",
    "- Requires tuning K—too low may restrict diversity, too high may introduce poor samples.\n",
    "\n",
    "#### Use Case in TT:\n",
    "- Helps balance exploration and exploitation, useful in stochastic policy rollouts.\n",
    "- Ideal for trajectory prediction where diverse outcomes are needed.\n",
    "\n",
    "### Temperature Scaling\n",
    "\n",
    "#### How It Works:\n",
    "- Adjusts the sharpness of the probability distribution by dividing logits by a temperature factor (T) before applying softmax.\n",
    "  - High T (T > 1.0): More uniform distribution (increases exploration).\n",
    "  - Low T (T < 1.0): Peaked distribution (increases exploitation).\n",
    "\n",
    "By combining these techniques, TT can generate diverse, high-quality trajectories while maintaining stability and performance."
   ]
  },
  {
   "cell_type": "code",
   "execution_count": 14,
   "metadata": {},
   "outputs": [],
   "source": [
    "def sample_token_from_logits(\n",
    "    logits: torch.Tensor,\n",
    "    temperature: float = 1.0,\n",
    "    greedy: bool = False,\n",
    "    top_k: Optional[int] = None,\n",
    ") -> torch.Tensor:\n",
    "    \"\"\"\n",
    "    This function return exactly one token from the logits.\n",
    "    We have options to sample from the logits using\n",
    "    1. Greedy sampling\n",
    "    2. Top-k sampling\n",
    "    3. Temperature scaling\n",
    "\n",
    "    \"\"\"\n",
    "    # logits shape (batch_size, vocab_size) representing the logits of the next token\n",
    "\n",
    "    # Apply temperature scaling, the higher the temperature, the more uniform the distribution\n",
    "    # the lower the temperature, the more peaked the distribution\n",
    "    if temperature != 1.0:\n",
    "        logits = logits / temperature\n",
    "\n",
    "    if top_k is not None:\n",
    "        # Apply top-k sampling\n",
    "        # (batch_size, vocab_size) -> (batch_size, top_k)\n",
    "        v, indices = torch.topk(logits, top_k, dim=-1)\n",
    "\n",
    "        # Next instruction is a bit tricky, but it simply selects the top-k tokens\n",
    "        # set all logits to -inf except the top-k indices\n",
    "        # v[:, [-1]] might be a bit confusing, but it simply selects the last element\n",
    "        # along dim=1, and the result is a tensor of shape (batch_size, 1)\n",
    "        logits[logits < v[:, [-1]]] = -float(\"Inf\")\n",
    "    # Calculate the probabilities from the logits\n",
    "    probs = F.softmax(logits, dim=-1)\n",
    "    if not greedy:\n",
    "        # Sample from the top-k indices\n",
    "        # (batch_size, top_k) -> (batch_size, 1)\n",
    "        idx = torch.multinomial(probs, num_samples=1)\n",
    "    else:\n",
    "        # Greedy sampling\n",
    "        _, idx = torch.max(probs, dim=-1)\n",
    "    return idx\n",
    "\n",
    "\n",
    "def sample_tokens(\n",
    "    model: nn.Module,\n",
    "    context: nn.Module,\n",
    "    kv_caches: Optional[List],\n",
    "    n_steps: int,\n",
    "    temperature: float = 1.0,\n",
    "    greedy: bool = False,\n",
    "    top_k: Optional[int] = None,\n",
    ") -> torch.Tensor:\n",
    "    \"\"\"\n",
    "    Sample a sequence of tokens from the model.\n",
    "\n",
    "    Args:\n",
    "        model (nn.Module): The model to sample from.\n",
    "        context (nn.Module): The context to condition the sampling on.\n",
    "            shape (batch_size, n_tokens).\n",
    "        n_steps (int): The number of steps to sample.\n",
    "        temperature (float): The temperature scaling factor.\n",
    "        greedy (bool): Whether to sample greedily.\n",
    "        top_k (Optional[int]): The top-k sampling parameter.\n",
    "\n",
    "    Returns:\n",
    "        torch.Tensor: The sampled tokens.\n",
    "    \"\"\"\n",
    "    # tensor to store the logits of the next   sampled tokens\n",
    "    raw_logits = torch.zeros(\n",
    "        context.shape[0], n_steps, vocab_size, device=context.device\n",
    "    )\n",
    "    if kv_caches is None:\n",
    "        # when kv_caches is None, we are in prefilling step\n",
    "        logits, kv_caches = model(context, kv_caches)\n",
    "        # Sample the next token\n",
    "        # (batch_size, 1)\n",
    "        token = sample_token_from_logits(\n",
    "            logits[:, -1], temperature=temperature, greedy=greedy, top_k=top_k\n",
    "        )\n",
    "\n",
    "        context = torch.cat([context, token], dim=-1)\n",
    "\n",
    "        raw_logits[:, 0] = logits[:, -1]\n",
    "        # since we already did one step, we need to sample n_steps - 1\n",
    "        steps = range(1, n_steps)\n",
    "    else:\n",
    "        steps = range(n_steps)\n",
    "\n",
    "    for i in steps:\n",
    "        # crop the context so that it doesn't exceed the seq_len\n",
    "        curr_context_len = context.shape[1]\n",
    "        n_crop = round_to_multiple(\n",
    "            max(0, curr_context_len - model.get_seq_len()), transition_dim\n",
    "        )\n",
    "        if n_crop > 0:\n",
    "            # since we are cropping from the left, we need to update the kv_caches\n",
    "            kv_caches = [kv[:, n_crop:] for kv in kv_caches]\n",
    "        # Get the model's prediction\n",
    "        # (batch_size, 1) -> (batch_size, 1, vocab_size)\n",
    "        logits, kv_caches = model(context[:, -1:], kv_caches)\n",
    "        # Sample the next token\n",
    "        # (batch_size, 1)\n",
    "        token = sample_token_from_logits(\n",
    "            logits[:, -1], temperature=temperature, greedy=greedy, top_k=top_k\n",
    "        )\n",
    "\n",
    "        context = torch.cat([context, token], dim=-1)\n",
    "\n",
    "        raw_logits[:, i] = logits[:, -1]\n",
    "    return context, kv_caches, raw_logits"
   ]
  },
  {
   "cell_type": "markdown",
   "metadata": {},
   "source": [
    "## Beam Search\n",
    "\n",
    "Beam search is a search algorithm used in sequence generation tasks (e.g., NLP, trajectory modeling) to find the most probable sequence by maintaining multiple candidate sequences (beams) at each step. Instead of greedily picking the best token at each step (as in greedy decoding), beam search explores multiple top-k candidates, allowing better long-horizon decision-making.\n",
    "\n",
    "![[beam search - huggingface](https://huggingface.co/blog/how-to-generate#beam-search)](img/offline_rl/beam_search.png)\n",
    "\n",
    "In TT, beam search is used to generate high-reward trajectories by optimizing reward-to-go (RTG) during rollout. The goal is to predict future actions that maximize cumulative rewards.\n",
    "\n",
    "### How Beam Search Works in TT:\n",
    "\n",
    "1. **Initialize multiple beams**: Start with an initial state and maintain multiple possible trajectory candidates.\n",
    "2. **Expand beams**: At each step, sample the top-k most probable tokens (actions) based on model predictions.\n",
    "3. **Score beams**: Rank the expanded beams using reward-to-go (RTG) as the scoring function.\n",
    "4. **Prune beams**: Keep only the top-k highest-scoring beams, discarding the rest.\n",
    "5. **Repeat until termination**: Continue the process until a trajectory reaches the desired length or terminal state.\n",
    "\n",
    "The implementation may appear complex because it supports vectorized/batched beam search, meaning the context tensor's first dimension represents `batch_size`. This allows multiple independent rollouts to be processed in parallel, significantly improving efficiency.\n",
    "\n",
    "### Understanding Stochasticity in Beam Search\n",
    "\n",
    "Beam search is typically deterministic, but in TT, stochasticity is introduced through parameters like:\n",
    "\n",
    "- **obs_top_k, act_top_k, rew_top_k**: Restrict the set of sampled tokens to the top-k most probable ones, controlling exploration.\n",
    "- **temperature**: Adjusts how uniform or peaked the probability distribution is. Higher values encourage exploration, lower values favor exploitation.\n",
    "- **greedy**: If `True`, always picks the most probable token (deterministic); otherwise, sampling introduces randomness.\n",
    "\n",
    "#### Key Clarification:\n",
    "- **Higher stochasticity**: More diverse plans are explored.\n",
    "- **Lower stochasticity**: The model converges to a narrower, more deterministic trajectory.\n",
    "\n",
    "### Beam Search Objectives in TT\n",
    "\n",
    "Beam search in TT can be performed based on different objectives:\n",
    "\n",
    "#### Reward Maximization (Implemented Here)\n",
    "- Selects plans that maximize Reward-to-Go (RTG).\n",
    "- The search prioritizes high-return trajectories, making this useful for decision-time planning in offline RL.\n",
    "\n",
    "#### Policy Cloning (Alternative Objective)\n",
    "- Mimics the dataset used to train TT.\n",
    "- Instead of maximizing rewards, the model selects the most likely action from its learned distribution.\n",
    "- Achieved by maximizing action likelihood rather than RTG.\n",
    "- This effectively reproduces the behavior of the dataset, rather than searching for the highest return.\n"
   ]
  },
  {
   "cell_type": "code",
   "execution_count": null,
   "metadata": {},
   "outputs": [],
   "source": [
    "# This functions are probably the most important functions in this notebook and\n",
    "# also the most complex.\n",
    "\n",
    "\n",
    "def vec_beam_plan(\n",
    "    model: nn.Module,\n",
    "    discretizer: KBinsDiscretizer,\n",
    "    context: torch.Tensor,\n",
    "    beam_width: int,\n",
    "    beam_steps: int,\n",
    "    beam_context: int,\n",
    "    sample_expansion: int,\n",
    "    observation_dim: int,\n",
    "    action_dim: int,\n",
    "    reward_dim: int,\n",
    "    value_dim: int,\n",
    "    transition_dim: int,\n",
    "    obs_top_k: Optional[int] = None,\n",
    "    act_top_k: Optional[int] = None,\n",
    "    rew_top_k: Optional[int] = None,\n",
    "    temperature: float = 1.0,\n",
    "    greedy: bool = False,\n",
    ") -> torch.Tensor:\n",
    "    \"\"\"\n",
    "    In the most simplest terms, this function is responsible for planning a sequence of actions\n",
    "    that maximizes the expected rewards conditioned on the context.\n",
    "\n",
    "    It uses beam search to explore the space of possible plans. Beam search is a heuristic search\n",
    "    algorithm that explores a graph by expanding the most promising nodes in a limited set called the beam.\n",
    "\n",
    "    The concept of beam search is simple, but the implementation can be a bit tricky mainly because\n",
    "    we are processing multiple sequences in parallel. This is where the complexity comes from.\n",
    "    \"\"\"\n",
    "    batch_size = context.shape[0]\n",
    "    tokens_context_size = beam_context * transition_dim\n",
    "    n_crop = round_to_multiple(\n",
    "        max(0, context.shape[1] - tokens_context_size), transition_dim\n",
    "    )\n",
    "    context = context[:, n_crop:]\n",
    "    # context shape (batch_size, seq_len) -> (beam_width, beam_width, seq_len)\n",
    "    plan = context.unsqueeze(1).repeat(1, beam_width, 1)\n",
    "\n",
    "    # tensor to store the rewards obtained from environment\n",
    "    # the +1 is non-intuitive, but it is because we need to store the value at t+1\n",
    "    # you will see this later.\n",
    "    rewards = torch.zeros(batch_size, beam_width, beam_steps + 1, device=context.device)\n",
    "    discounts = discount_factor ** torch.arange(beam_steps + 1, device=context.device)\n",
    "\n",
    "    # because beam plan start with a fresh context, we need to prefill the model\n",
    "    # first with the context, hence kv_caches is None\n",
    "    kv_caches = None\n",
    "    for t in trange(beam_steps, desc=\"Beam Search\", leave=False):\n",
    "        # sample_expansion is not strictly necessary, but it is used to increase the number of samples\n",
    "        #   which should allow us to explore more diverse plans. The reason this works is because the way\n",
    "        #   we sample tokens is stochastic, so by sampling more tokens, we are able to explore more diverse plans.\n",
    "        # (batch_size, beam_width, n_tokens) -> (batch_size, beam_width * sample_expansion, n_tokens)\n",
    "        #   -> (batch_size * beam_width * sample_expansion, n_tokens)\n",
    "        plan = plan.repeat(1, sample_expansion, 1).flatten(0, 1)\n",
    "        # (batch_size, beam_width, beam_steps + 1) -> (batch_size * beam_width * sample_expansion, beam_steps + 1)\n",
    "        rewards = rewards.repeat(1, sample_expansion, 1).flatten(0, 1)\n",
    "\n",
    "        if kv_caches is not None:\n",
    "            # When we are in inference mode, we need to expand the kv_caches\n",
    "            # (batch_size * beam_width, n_tokens, embedding_dim) -> (batch_size * beam_width * sample_expansion, n_tokens, embedding_dim)\n",
    "            new_kv_caches = []\n",
    "            for kv in kv_caches:\n",
    "                _, n_tokens, embedding_dim = kv.shape\n",
    "                new_kv_cache = (\n",
    "                    kv.view(batch_size, beam_width, n_tokens, embedding_dim)\n",
    "                    .repeat(1, sample_expansion, 1, 1)\n",
    "                    .flatten(0, 1)\n",
    "                )\n",
    "                new_kv_caches.append(new_kv_cache)\n",
    "            kv_caches = new_kv_caches\n",
    "\n",
    "        # sample actions\n",
    "        # plan (batch_size * beam_width * sample_expansion, n_tokens) -> (batch_size * beam_width * sample_expansion, n_tokens + action_dim)\n",
    "        # kv_caches is updated with the new action tokens\n",
    "        plan, kv_caches, _ = sample_tokens(\n",
    "            model,\n",
    "            plan,\n",
    "            kv_caches,\n",
    "            n_steps=action_dim,\n",
    "            top_k=act_top_k,\n",
    "            temperature=temperature,\n",
    "            greedy=greedy,\n",
    "        )\n",
    "\n",
    "        # sample rewards and values\n",
    "        # plan (batch_size * beam_width * sample_expansion, n_tokens) -> (batch_size * beam_width * sample_expansion, n_tokens + reward_dim + value_dim)\n",
    "        # kv_caches is updated with the new reward and value tokens\n",
    "        # logits shape (batch_size * beam_width * sample_expansion, reward_dim + value_dim, vocab_size)\n",
    "        plan, kv_caches, logits = sample_tokens(\n",
    "            model,\n",
    "            plan,\n",
    "            kv_caches,\n",
    "            n_steps=reward_dim + value_dim,\n",
    "            top_k=rew_top_k,\n",
    "            temperature=temperature,\n",
    "            greedy=greedy,\n",
    "        )\n",
    "\n",
    "        # calculate probabilities from logits\n",
    "        probs = F.softmax(logits, dim=-1)\n",
    "\n",
    "        # calculate the expected rewards and values\n",
    "        # (batch_size * beam_width * sample_expansion, reward_dim + value_dim, vocab_size)\n",
    "        #   -> (batch_size * beam_width * sample_expansion, reward_dim + value_dim)\n",
    "        rewards_and_values = discretizer.expectation(\n",
    "            probs, subslice=(transition_dim - reward_dim - value_dim, transition_dim)\n",
    "        )\n",
    "\n",
    "        rewards[..., t : t + reward_dim + value_dim] = rewards_and_values\n",
    "        # Did you notice that rewards contains rewards at t and values at t+1, why?\n",
    "        #   This is only a trick to make it easier to calculate the value at t. In the next step, the value at t+1\n",
    "        #   will be overwritten by the actual reward at t+1.\n",
    "\n",
    "        # Let's talk about how we calculate the value, the value here represents the rewards to go starting beginning of beam plan.\n",
    "        #   when we want to calculate value (rewards to go) at t, we need to consider discounted rewards from 0 to t\n",
    "        #   and also future discounted rewards from t+1 to end.\n",
    "        # (batch_size * beam_width * sample_expansion, beam_steps + 1) * (beam_steps + 1) -> (batch_size * beam_width * sample_expansion)\n",
    "        # the reason we care of values is that it helps us to select the best plans\n",
    "        values = (rewards * discounts).sum(dim=-1)\n",
    "\n",
    "        # select the top-k values\n",
    "        values, idx = torch.topk(values.view(batch_size, -1), k=beam_width, dim=-1)\n",
    "        # (batch_size, beam_width) -> (batch_size, beam_width, 1)\n",
    "        idx = idx.unsqueeze(-1)\n",
    "\n",
    "        # shape (batch_size * beam_width * sample_expansion, beam_steps + 1) -> (batch_size, beam_width * sample_expansion, beam_steps + 1)\n",
    "        rewards = rewards.view(batch_size, beam_width * sample_expansion, -1)\n",
    "\n",
    "        # the gather operation is a bit tricky, but it is used to select the rewards corresponding to the top-k values\n",
    "        # for every batch, select the rewards corresponding to the top-k values\n",
    "        # since idx contains the indices along the beam_width * sample_expansion dimension\n",
    "        # we need to repeat the idx along the last dimension to match the rewards shape,\n",
    "        # and then use it to select the rewards\n",
    "        # (batch_size, beam_width * sample_expansion, beam_steps + 1) -> (batch_size, beam_width, beam_steps + 1)\n",
    "        rewards = torch.gather(rewards, 1, idx.repeat(1, 1, beam_steps + 1))\n",
    "\n",
    "        # select the top-k plans\n",
    "        # shape (batch_size * beam_width * sample_expansion, n_tokens) -> (batch_size, beam_width * sample_expansion, n_tokens)\n",
    "        plan = plan.view(batch_size, beam_width * sample_expansion, -1)\n",
    "        # shape (batch_size, beam_width * sample_expansion, n_tokens) -> (batch_size, beam_width, n_tokens)\n",
    "        plan = torch.gather(plan, 1, idx.repeat(1, 1, plan.shape[-1]))\n",
    "\n",
    "        # select the top-k kv_caches\n",
    "        best_kv_caches = []\n",
    "        for kv in kv_caches:\n",
    "            _, n_tokens, embedding_dim = kv.shape\n",
    "            kv = kv.view(\n",
    "                batch_size, beam_width * sample_expansion, n_tokens, embedding_dim\n",
    "            )\n",
    "            # same idea as above, repeat idx along the last 2 dimensions\n",
    "            # kv shape (batch_size, beam_width * sample_expansion, n_tokens, embedding_dim) -> (batch_size, beam_width, n_tokens, embedding_dim)\n",
    "            kv = torch.gather(\n",
    "                kv, 1, idx.unsqueeze(-1).repeat(1, 1, n_tokens, embedding_dim)\n",
    "            )\n",
    "            best_kv_caches.append(kv.flatten(0, 1))\n",
    "\n",
    "        if t < beam_steps - 1:\n",
    "            # sample observations only if we are not at the last step, why?\n",
    "            # because beam plan has to end with a valid transition [...., obs, act, rew, val]\n",
    "\n",
    "            # plan (batch_size, beam_width, n_tokens) -> (batch_size * beam_width, n_tokens)\n",
    "            plan = plan.view(batch_size * beam_width, -1)\n",
    "\n",
    "            # sample observations\n",
    "            # plan (batch_size * beam_width, n_tokens) -> (batch_size * beam_width, n_tokens + observation_dim)\n",
    "            plan, kv_caches, _ = sample_tokens(\n",
    "                model,\n",
    "                plan,\n",
    "                best_kv_caches,\n",
    "                n_steps=observation_dim,\n",
    "                top_k=obs_top_k,\n",
    "                temperature=temperature,\n",
    "                greedy=greedy,\n",
    "            )\n",
    "            # plan (batch_size * beam_width, n_tokens + observation_dim) -> (batch_size, beam_width, n_tokens + observation_dim)\n",
    "            plan = plan.view(batch_size, beam_width, -1)\n",
    "\n",
    "    # (batch_size, beam_width) -> (batch_size)\n",
    "    # for each batch, select the plan with the highest value and return it's index\n",
    "    argmax = torch.argmax(values, dim=-1)\n",
    "\n",
    "    # select the best plan\n",
    "    # (batch_size, beam_width, n_tokens) -> (batch_size, n_tokens)\n",
    "    best_plan = plan[torch.arange(batch_size), argmax]\n",
    "    # filter out the context tokens and return the best plan as obtained from the beam search\n",
    "    best_plan = best_plan[:, context.shape[1] :]\n",
    "    return best_plan"
   ]
  },
  {
   "cell_type": "markdown",
   "metadata": {},
   "source": [
    "## Rollout\n",
    "\n",
    "A rollout in TT is the process of generating a trajectory by sampling actions, predicting future states and rewards, and interacting with the environment. The model acts as a policy, guiding decision-making by simulating future transitions based on its learned distribution of trajectories.\n",
    "\n",
    "### In the context of TT, rollouts are used to:\n",
    "- Evaluate learned policies in an environment.\n",
    "- Simulate future trajectories without interacting with the real world (important in offline RL).\n",
    "- Plan actions over multiple time steps using beam search.\n",
    "\n",
    "### How a Rollout Uses the Policy Model & Beam Search\n",
    "\n",
    "During a rollout, TT acts as a policy model, generating actions step-by-step in an autoregressive manner. The key steps are:\n",
    "\n",
    "#### Conditioning on Context\n",
    "- The rollout starts with a history of past states, actions, and rewards (context).\n",
    "- This context is stored in a sequence of discrete tokens.\n",
    "\n",
    "#### Predicting the Next Step\n",
    "- The model samples the next token (state, action, reward) from its learned distribution.\n",
    "- This is done using beam search, which expands multiple possible future trajectories and selects the best one.\n",
    "\n",
    "#### Beam Search for Improved Decision-Making\n",
    "- Instead of greedily picking the most probable action, TT explores multiple high-reward trajectories in parallel.\n",
    "- Beam search ranks these trajectories based on:\n",
    "  - Reward-to-Go (RTG) (for reward-maximizing planning).\n",
    "  - Likelihood of actions (for policy cloning).\n",
    "- The highest-ranked trajectory is selected for rollout.\n",
    "\n",
    "#### Executing the Action & Updating Context\n",
    "- The chosen action is executed in the environment (or simulated).\n",
    "- The next observed state and reward are added to the context.\n",
    "- The process repeats until the trajectory reaches a termination condition.\n",
    "\n",
    "### How Rollouts Enable Long-Term Planning\n",
    "- **Looks Beyond Immediate Rewards**: Unlike traditional RL policies, which optimize one-step actions, TT predicts entire sequences using beam search, making decisions that maximize long-term rewards.\n",
    "- **Handles Multi-Step Dependencies**: TT’s Transformer-based architecture models long-range dependencies, ensuring that actions are chosen not just for short-term gain but for overall trajectory optimization.\n",
    "- **Works Without Online Interaction**: Since rollouts are model-generated, TT can plan offline, leveraging historical data to simulate high-return behaviors without real-time environment interaction."
   ]
  },
  {
   "cell_type": "code",
   "execution_count": 16,
   "metadata": {},
   "outputs": [],
   "source": [
    "@torch.no_grad()\n",
    "def vec_rollout(\n",
    "    model: nn.Module,\n",
    "    env: DummyVecEnv,\n",
    "    discretizer: KBinsDiscretizer,\n",
    "    beam_width: int,\n",
    "    beam_steps: int,\n",
    "    beam_context: int,\n",
    "    sample_expansion: int,\n",
    "    observation_dim: int,\n",
    "    action_dim: int,\n",
    "    reward_dim: int,\n",
    "    value_dim: int,\n",
    "    transition_dim: int,\n",
    "    max_steps: int,\n",
    "    plan_every: int,\n",
    "    obs_top_k: Optional[int] = None,\n",
    "    act_top_k: Optional[int] = None,\n",
    "    rew_top_k: Optional[int] = None,\n",
    "    temperature: float = 1.0,\n",
    "    greedy: bool = False,\n",
    "    device: torch.device = torch.device(\"cpu\"),\n",
    "):\n",
    "    \"\"\"\n",
    "    What is a rollout? A rollout is a simulation of an agent interacting with the environment\n",
    "    by following a plan. The plan is generated by the model using beam search. The model\n",
    "    predicts the next action, reward, and observation conditioned on the context. The context\n",
    "    is the history of the agent's interaction with the environment.\n",
    "\n",
    "    This function is responsible for performing a rollout using the model and the environment\n",
    "    and returning the total rewards obtained by the agent.\n",
    "\n",
    "    Similar to the vec_beam_plan function, this function is a bit complex because it processes\n",
    "    multiple sequences in parallel. The complexity comes from the fact that we are using a vectorized\n",
    "    environment, which means that we are processing multiple environments in parallel.\n",
    "    \"\"\"\n",
    "    assert (\n",
    "        plan_every <= beam_steps\n",
    "    ), f\"plan_every {plan_every} should be less than or equal to beam_steps {beam_steps}\"\n",
    "\n",
    "    # reset the environment amd get the initial observation\n",
    "    # in most environments, the initial observation selected randomly.\n",
    "    obs = env.reset()\n",
    "\n",
    "    # obs shape (num_envs, observation_dim)\n",
    "    obs = flatten_space(obs, env.observation_space)\n",
    "    total_rewards = np.zeros(env.num_envs)\n",
    "    context = torch.zeros(\n",
    "        (env.num_envs, (max_steps + 1) * transition_dim),\n",
    "        device=device,\n",
    "        dtype=torch.long,\n",
    "    )\n",
    "    # context_idx is used to keep track of the current index in the context\n",
    "    context_idx = 0\n",
    "\n",
    "    # discretize the observation\n",
    "    # obs_token shape (num_envs, observation_dim)\n",
    "    obs_token = discretizer.encode(obs, subslice=(0, observation_dim))\n",
    "\n",
    "    value_placeholder = np.ones((env.num_envs, value_dim)) * 1e6\n",
    "\n",
    "    # update the context with the initial observation\n",
    "    context[:, :observation_dim] = torch.tensor(obs_token, device=device)\n",
    "\n",
    "    # tensor to keep track of which environments are done\n",
    "    dones = np.zeros(env.num_envs, dtype=np.bool)\n",
    "\n",
    "    # usually max_steps is set to default max_num_steps in the environment\n",
    "    for t in trange(max_steps, desc=\"Rollout\", leave=False):\n",
    "        # Process one step in the environment\n",
    "        # one step consists of selecting an action, taking a step in the environment,\n",
    "        # and updating the context with the new observation, action, reward, and value.\n",
    "        if t % plan_every == 0:\n",
    "            # every plan_every steps, we generate a new plan using beam search\n",
    "            # and store the predicted tokens in plan_buffer.\n",
    "            # higher plan_every means we are using the same plan for longer\n",
    "            # as a result, we are putting more trust in the model's prediction\n",
    "            # of the future states, actions, and rewards.\n",
    "\n",
    "            context_idx = (\n",
    "                ((t + 1) * transition_dim) - action_dim - reward_dim - value_dim\n",
    "            )\n",
    "            context_not_dones = context[~dones, :context_idx]\n",
    "\n",
    "            # generate a new plan using beam search\n",
    "            # predicted_tokens shape (num_envs, beam_steps * transition_dim)\n",
    "            predicted_tokens = vec_beam_plan(\n",
    "                model,\n",
    "                discretizer,\n",
    "                context_not_dones,\n",
    "                beam_width,\n",
    "                beam_steps,\n",
    "                beam_context,\n",
    "                sample_expansion,\n",
    "                observation_dim,\n",
    "                action_dim,\n",
    "                reward_dim,\n",
    "                value_dim,\n",
    "                transition_dim,\n",
    "                obs_top_k=obs_top_k,\n",
    "                act_top_k=act_top_k,\n",
    "                rew_top_k=rew_top_k,\n",
    "                temperature=temperature,\n",
    "                greedy=greedy,\n",
    "            )\n",
    "            plan_buffer = torch.zeros(\n",
    "                env.num_envs,\n",
    "                predicted_tokens.shape[-1],\n",
    "                device=device,\n",
    "                dtype=predicted_tokens.dtype,\n",
    "            )\n",
    "            plan_buffer[~dones] = predicted_tokens\n",
    "        else:\n",
    "            # if we are not generating a new plan, we use the plan_buffer\n",
    "            # to get the next transition_dim number of tokens\n",
    "            plan_buffer = plan_buffer[:, transition_dim:]\n",
    "\n",
    "        # get the action from the predicted tokens\n",
    "        # action_token shape (num_envs, action_dim)\n",
    "        action_token = plan_buffer[:, :action_dim].cpu().numpy()\n",
    "        # decode the action\n",
    "        # action shape (num_envs, action_dim)\n",
    "        action = discretizer.decode(\n",
    "            action_token, subslice=(observation_dim, observation_dim + action_dim)\n",
    "        )\n",
    "        action = unflatten_space(action, env.action_space)\n",
    "        next_obs, reward, done, _ = env.step(action)\n",
    "        # next_obs shape (num_envs, observation_dim)\n",
    "        next_obs = flatten_space(next_obs, env.observation_space)\n",
    "        # discretize the next observation\n",
    "        # next_obs_token shape (num_envs, observation_dim)\n",
    "        next_obs_token = discretizer.encode(\n",
    "            next_obs[~dones], subslice=(0, observation_dim)\n",
    "        )\n",
    "        # discretize the reward and value\n",
    "        # reward_value_tokens shape (num_envs, reward_dim + value_dim)\n",
    "        reward_value_tokens = discretizer.encode(\n",
    "            np.hstack([reward.reshape(-1, reward_dim), value_placeholder]),\n",
    "            subslice=(transition_dim - reward_dim - action_dim, transition_dim),\n",
    "        )\n",
    "\n",
    "        # update the context\n",
    "        context_idx = t * transition_dim\n",
    "        # add action\n",
    "        context[\n",
    "            ~dones,\n",
    "            context_idx + observation_dim : context_idx + observation_dim + action_dim,\n",
    "        ] = torch.as_tensor(action_token[~dones], device=device)\n",
    "        # add reward and value\n",
    "        context[\n",
    "            ~dones,\n",
    "            context_idx + observation_dim + action_dim : context_idx + transition_dim,\n",
    "        ] = torch.as_tensor(reward_value_tokens[~dones], device=device)\n",
    "        # add next observation\n",
    "        context[\n",
    "            ~dones,\n",
    "            context_idx\n",
    "            + transition_dim : context_idx\n",
    "            + transition_dim\n",
    "            + observation_dim,\n",
    "        ] = torch.as_tensor(next_obs_token, device=device)\n",
    "\n",
    "        total_rewards[~dones] += reward[~dones]\n",
    "\n",
    "        dones[done] = True\n",
    "        if np.all(dones):\n",
    "            break\n",
    "    return total_rewards, dones"
   ]
  },
  {
   "cell_type": "markdown",
   "metadata": {},
   "source": [
    "## Model Training\n",
    "\n",
    "### Loss Function: Cross-Entropy Loss, Action Weighting, and Masking\n",
    "\n",
    "#### Why Cross-Entropy Loss?\n",
    "\n",
    "TT models trajectory prediction as a sequence modeling problem, similar to language modeling. Instead of predicting the next word, TT predicts the next token in a trajectory (state, action, reward, value). Since each token is discretized into bins, the model’s output is a classification problem over a vocabulary of discrete bins.\n",
    "\n",
    "Cross-entropy loss is used because it is the standard for classification tasks:\n",
    "\n",
    "$$\n",
    "L = -\\sum p_{\\text{true}} \\log p_{\\text{pred}}\n",
    "$$\n",
    "\n",
    "where:\n",
    "\n",
    "- $p_{\\text{true}}$ is the true probability distribution (one-hot encoded).\n",
    "- $p_{\\text{pred}}$ is the predicted probability distribution over the discrete bins.\n",
    "\n",
    "![Loss](img/offline_rl/loss.png)\n",
    "\n",
    "#### Why are Actions Weighted Higher?\n",
    "\n",
    "- Actions are weighted higher (factor of 5) because errors in action prediction have the most direct impact on trajectory optimization.\n",
    "- Since TT is used for decision-time planning, predicting incorrect actions leads to poor rollouts, making action prediction more critical than observations or rewards.\n",
    "\n",
    "#### Why Use a Loss Mask?\n",
    "\n",
    "- The model operates on sequences of different lengths.\n",
    "- Padding is added to ensure equal sequence lengths in a batch.\n",
    "- The loss mask prevents the model from learning from padded tokens, avoiding training artifacts.\n",
    "\n",
    "### Vectorized Environments in Gym: What and Why?\n",
    "\n",
    "A vectorized environment (from Gym's `DummyVecEnv`) runs multiple independent environments in parallel.\n",
    "\n",
    "- Instead of rolling out one episode at a time, we can execute multiple rollouts simultaneously.\n",
    "- This provides faster evaluation by utilizing batch processing on the GPU.\n",
    "\n",
    "### Learning Rate Scheduler, Weight Decay, and Gradient Clipping\n",
    "\n",
    "#### Learning Rate Scheduler: Why It’s Needed\n",
    "- TT is a Transformer-based model, meaning it benefits from a warmup-decay schedule.\n",
    "- Instead of keeping a fixed learning rate, the scheduler adjusts it dynamically based on the training step.\n",
    "- This prevents instability early in training and helps the model converge smoothly.\n",
    "\n",
    "![Learning Rate Schedule](img/offline_rl/lr_schedule.png)\n",
    "\n",
    "#### Weight Decay: Why Regularization Matters\n",
    "- Weight decay penalizes large weights, helping the model avoid overfitting.\n",
    "- Since TT learns from a fixed dataset (offline RL), overfitting is a major concern, making regularization crucial.\n",
    "\n",
    "#### Gradient Clipping: Why It’s Used\n",
    "- Transformers can experience exploding gradients, especially when handling long trajectories.\n",
    "- Clipping prevents gradients from becoming too large, stabilizing training.\n",
    "- Without clipping, loss can spike suddenly, leading to divergence.\n",
    "\n",
    "### Predictive Accuracy: What It Is and Why It’s Not Important for TT\n",
    "\n",
    "Predictive accuracy measures how often the model correctly predicts the next token in a trajectory. Computed as:\n",
    "\n",
    "$$\n",
    "\\text{Accuracy} = \\frac{\\text{Correct Predictions}}{\\text{Total Predictions}}\n",
    "$$\n",
    "\n",
    "#### Why It’s NOT Crucial for TT?\n",
    "- Unlike supervised learning, TT does not optimize for direct action prediction.\n",
    "- A high accuracy doesn’t necessarily mean better rollouts—what matters is how well the model generates high-return trajectories.\n",
    "- Used here mainly as a diagnostic tool to check if the model is learning meaningful representations.\n",
    "\n",
    "Predictive accuracy is a useful debugging metric, but rollout performance is the real measure of success in TT.\n",
    "\n",
    "![Predictive Accuracy](img/offline_rl/accuracy.png)\n",
    "\n",
    "### Evaluation in TT: Key Metrics & Purpose\n",
    "\n",
    "Model evaluation in **Trajectory Transformer (TT)** focuses on **rollout performance**, rather than accuracy or loss. Since TT is designed for **trajectory generation and decision-time planning**, we assess how well it produces **high-return trajectories**. The key metrics are:  \n",
    "\n",
    "#### **Mean Reward**  \n",
    "- Measures the **average cumulative reward** across rollouts.  \n",
    "- A higher mean reward indicates **better trajectory optimization**.  \n",
    "- The trend of mean reward over training epochs suggests that training could **potentially stop at ~30 epochs** for this environment.  \n",
    "\n",
    "![Mean Rewards](img/offline_rl/mean_reward.png)  \n",
    "\n",
    "\n",
    "#### **Reward Standard Deviation (Std Dev)**  \n",
    "- Captures **variability in rollouts**.  \n",
    "- **Low std** means **consistent performance**, while **high std** suggests instability.  \n",
    "\n",
    "#### **Done Ratio**  \n",
    "- Tracks how often rollouts **reach termination**.  \n",
    "- Only meaningful for environments with **terminal conditions** (e.g., `AntMaze`).  \n",
    "- In environments like **HalfCheetah**, which do not naturally terminate, rollouts end only when **max steps are reached**.  \n",
    "\n",
    "#### **Mean Rollout Time**  \n",
    "- Measures **inference efficiency**, influenced by:  \n",
    "  - **Beam width**  \n",
    "  - **Sequence length**  \n",
    "  - **Sampling strategy**  \n",
    "- Faster rollouts improve **real-time decision-making**.  \n",
    "\n",
    "![Mean Rollout Time](img/offline_rl/rollout_time.png)  \n",
    "\n",
    "#### **Total Rewards Distribution**  \n",
    "- Shows the **spread of rewards** from multiple episodes.  \n",
    "- Helps detect **outliers and inconsistencies** beyond the mean.  \n",
    "- Over training epochs, the distribution **trends upward**:  \n",
    "  - **Early epochs:** Most rollouts accumulate **negative rewards**.  \n",
    "  - **Later epochs:** Rollouts **converge to positive rewards**, indicating TT **learns a stable policy**.  \n",
    "\n",
    "![Rewards Distribution](img/offline_rl/reward_distri.png)  \n",
    "\n",
    "#### **Conclusion**  \n",
    "\n",
    "These metrics ensure TT is **not just memorizing past data**, but is truly capable of **effective planning**. Based on evaluation results, the trained TT model **successfully navigates the environment**.  \n",
    "\n",
    "**Is this the most optimal policy?**  \n",
    "That question requires **comparing TT with other RL methods**. For further analysis, please refer to the original **Trajectory Transformer paper**—such comparisons are **beyond the scope of this notebook**.  \n"
   ]
  },
  {
   "cell_type": "code",
   "execution_count": null,
   "metadata": {},
   "outputs": [],
   "source": [
    "# | code-fold: true\n",
    "# | code-summary: Training loop, loss function, and evaluation functions\n",
    "\n",
    "\n",
    "def calculate_loss(\n",
    "    model: nn.Module,\n",
    "    batch: Tuple[torch.Tensor, torch.Tensor, torch.Tensor],\n",
    "    vocab_size: int,\n",
    "    transition_dim: int,\n",
    "    observation_dim: int,\n",
    "    action_dim: int,\n",
    "    reward_dim: int,\n",
    "    value_dim: int,\n",
    "    device: torch.device = torch.device(\"cpu\"),\n",
    ") -> torch.Tensor:\n",
    "    # inputs shape (batch_size, seq_len)\n",
    "    # targets shape (batch_size, seq_len)\n",
    "    # loss_pad_mask shape (batch_size, seq_len)\n",
    "    inputs, targets, loss_pad_mask = batch\n",
    "    inputs = inputs.to(device)\n",
    "    targets = targets.to(device)\n",
    "    loss_pad_mask = loss_pad_mask.to(device)\n",
    "    # logits shape (batch_size, seq_len, vocab_size)\n",
    "    logits, _ = model(inputs)\n",
    "    # flatten the logits and targets to shape (batch_size * seq_len, vocab_size)\n",
    "    assert logits.shape[-1] == vocab_size, \"vocab_size mismatch\"\n",
    "    logits = logits.reshape(-1, vocab_size)\n",
    "    # flatten the targets to shape (batch_size * seq_len)\n",
    "    targets = targets.reshape(-1)\n",
    "    # loss shape (batch_size * seq_len)\n",
    "    loss = F.cross_entropy(logits, targets, reduction=\"none\")\n",
    "    assert loss.shape == (inputs.shape[0] * inputs.shape[1],), \"loss shape mismatch\"\n",
    "\n",
    "    n_states = math.ceil(inputs.shape[1] / transition_dim)\n",
    "    # weights shape (observation_dim + action_dim + reward_dim + value_dim)\n",
    "    weights = torch.cat(\n",
    "        [\n",
    "            torch.ones(observation_dim, device=inputs.device),\n",
    "            torch.ones(action_dim, device=inputs.device) * 5,\n",
    "            torch.ones(reward_dim, device=inputs.device) * 1,\n",
    "            torch.ones(value_dim, device=inputs.device) * 1,\n",
    "        ]\n",
    "    )\n",
    "    # remove the first element from weights because we are starting from the second token\n",
    "    weights = weights.repeat(n_states)[1:].repeat(inputs.shape[0], 1)\n",
    "    loss = loss * weights.view(-1)\n",
    "    # apply the loss pad mask to the loss because we don't want to calculate the loss for padded values\n",
    "    loss = (loss * loss_pad_mask.view(-1)).mean()\n",
    "    return loss\n",
    "\n",
    "\n",
    "def vec_eval(\n",
    "    env: Env,\n",
    "    model: nn.Module,\n",
    "    discretizer: KBinsDiscretizer,\n",
    "    num_episodes: int,\n",
    "    beam_width: int,\n",
    "    beam_steps: int,\n",
    "    beam_context: int,\n",
    "    sample_expansion: int,\n",
    "    observation_dim: int,\n",
    "    action_dim: int,\n",
    "    reward_dim: int,\n",
    "    value_dim: int,\n",
    "    transition_dim: int,\n",
    "    plan_every: int,\n",
    "    obs_top_k: Optional[int] = None,\n",
    "    act_top_k: Optional[int] = None,\n",
    "    rew_top_k: Optional[int] = None,\n",
    "    temperature: float = 1.0,\n",
    "    greedy: bool = False,\n",
    "    device: torch.device = torch.device(\"cpu\"),\n",
    "):\n",
    "    model.eval()\n",
    "\n",
    "    # create a vectorized environment, this allows us to run multiple environments in parallel\n",
    "    vec_env = DummyVecEnv([lambda: gym.make(env.name) for _ in range(num_episodes)])\n",
    "    start_time = time.time()\n",
    "    total_rewards, dones = vec_rollout(\n",
    "        model,\n",
    "        vec_env,\n",
    "        discretizer,\n",
    "        beam_width,\n",
    "        beam_steps,\n",
    "        beam_context,\n",
    "        sample_expansion,\n",
    "        observation_dim,\n",
    "        action_dim,\n",
    "        reward_dim,\n",
    "        value_dim,\n",
    "        transition_dim,\n",
    "        (\n",
    "            vec_env.envs[0]._max_episode_steps\n",
    "            if not local\n",
    "            else vec_env.envs[0]._max_episode_steps\n",
    "        ),\n",
    "        plan_every,\n",
    "        obs_top_k=obs_top_k,\n",
    "        act_top_k=act_top_k,\n",
    "        rew_top_k=rew_top_k,\n",
    "        temperature=temperature,\n",
    "        greedy=greedy,\n",
    "        device=device,\n",
    "    )\n",
    "    end_time = time.time()\n",
    "    mean_rewards = np.mean(total_rewards)\n",
    "    std_rewards = np.std(total_rewards)\n",
    "\n",
    "    done_ratio = np.mean(dones)\n",
    "\n",
    "    model.train()\n",
    "    return (\n",
    "        mean_rewards,\n",
    "        std_rewards,\n",
    "        done_ratio,\n",
    "        end_time - start_time,\n",
    "        0,\n",
    "        total_rewards,\n",
    "    )\n",
    "\n",
    "\n",
    "@torch.no_grad()\n",
    "def calculate_predictive_accuracy(\n",
    "    model: nn.Module,\n",
    "    dataloader: Subset,\n",
    "    device: torch.device = torch.device(\"cpu\"),\n",
    ") -> float:\n",
    "    model.eval()\n",
    "    total_correct = 0\n",
    "    total_samples = 0\n",
    "\n",
    "    # sample 10% of the data\n",
    "    sampling_rate = 0.1\n",
    "    dataloader = DataLoader(\n",
    "        dataloader.dataset,\n",
    "        batch_size=dataloader.batch_size,\n",
    "        sampler=SubsetRandomSampler(\n",
    "            np.random.choice(\n",
    "                len(dataloader.dataset),\n",
    "                int(sampling_rate * len(dataloader.dataset)),\n",
    "                replace=False,\n",
    "            )\n",
    "        ),\n",
    "    )\n",
    "\n",
    "    for data in tqdm(dataloader, desc=\"Calculating predictive accuracy\", leave=False):\n",
    "        x, y, mask = data\n",
    "        x, y, mask = x.to(device), y.to(device), mask.to(device)\n",
    "        logits, _ = model(x)\n",
    "        # (batch_size, seq_len, vocab_size) -> (batch_size * seq_len, vocab_size)\n",
    "        logits = logits.reshape(-1, logits.shape[-1])\n",
    "        y = y.reshape(-1)\n",
    "        mask = mask.reshape(-1)\n",
    "        # only consider the tokens that are not masked\n",
    "        mask_idx = mask.nonzero(as_tuple=True)[0]\n",
    "        y = y[mask_idx]\n",
    "        logits = logits[mask_idx]\n",
    "        # (batch_size * seq_len) -> (batch_size)\n",
    "        y_pred = torch.argmax(logits, dim=-1)\n",
    "        correct = (y_pred == y).sum().item()\n",
    "        total_correct += correct\n",
    "        total_samples += y.shape[0]\n",
    "    model.train()\n",
    "    return total_correct / total_samples\n",
    "\n",
    "\n",
    "def train(\n",
    "    model: nn.Module,\n",
    "    train_dataloader: DataLoader,\n",
    "    test_dataloader: DataLoader,\n",
    "    discretizer: KBinsDiscretizer,\n",
    "    optimizer: torch.optim.Optimizer,\n",
    "    scheduler: GPTScheduler,\n",
    "    vocab_size: int,\n",
    "    n_epochs: int,\n",
    "    writer: SummaryWriter,\n",
    "    device: torch.device = torch.device(\"cpu\"),\n",
    "    eval_every: int = 10,\n",
    "    checkpoint_path: Optional[str] = None,\n",
    "    clip_grad: Optional[float] = None,\n",
    "):\n",
    "    model.train()\n",
    "    step = 0\n",
    "    for epoch in trange(n_epochs, desc=\"Training\"):\n",
    "        start_time = time.time()\n",
    "        total_loss = 0\n",
    "        for batch in tqdm(\n",
    "            train_dataloader, desc=f\"Epoch {epoch + 1}/{n_epochs}\", leave=False\n",
    "        ):\n",
    "            loss = calculate_loss(\n",
    "                model,\n",
    "                batch,\n",
    "                vocab_size,\n",
    "                device=device,\n",
    "                transition_dim=transition_dim,\n",
    "                observation_dim=observation_dim,\n",
    "                action_dim=action_dim,\n",
    "                reward_dim=reward_dim,\n",
    "                value_dim=value_dim,\n",
    "            )\n",
    "\n",
    "            _batch_tokens = batch[0].reshape(-1).shape[0]\n",
    "\n",
    "            # write learning rate to tensorboard\n",
    "            writer.add_scalar(\"Learning rate\", scheduler.get_current_lr(), step)\n",
    "\n",
    "            scheduler.step(batch_size=_batch_tokens)\n",
    "            optimizer.zero_grad()\n",
    "            loss.backward()\n",
    "            if clip_grad is not None:\n",
    "                torch.nn.utils.clip_grad_norm_(model.parameters(), clip_grad)\n",
    "            optimizer.step()\n",
    "\n",
    "            writer.add_scalar(\"Loss/train\", loss.item(), step)\n",
    "            total_loss += loss.item()\n",
    "            step += 1\n",
    "        writer.add_scalar(\"Epoch\", epoch, epoch)\n",
    "        end_time = time.time()\n",
    "        writer.add_scalar(\"Time/train\", end_time - start_time, epoch)\n",
    "\n",
    "        train_accuracy = calculate_predictive_accuracy(\n",
    "            model, train_dataloader, device=device\n",
    "        )\n",
    "        if len(test_dataloader) > 0:\n",
    "            test_accuracy = calculate_predictive_accuracy(\n",
    "                model, test_dataloader, device=device\n",
    "            )\n",
    "        else:\n",
    "            test_accuracy = 0\n",
    "        writer.add_scalar(\"Accuracy/train\", train_accuracy, epoch)\n",
    "        writer.add_scalar(\"Accuracy/test\", test_accuracy, epoch)\n",
    "\n",
    "        for name, param in model.named_parameters():\n",
    "            if param.requires_grad:\n",
    "                writer.add_histogram(f\"weights/{name}\", param.data.cpu().numpy(), epoch)\n",
    "                writer.add_histogram(\n",
    "                    f\"gradients/{name}\", param.grad.cpu().numpy(), epoch\n",
    "                )\n",
    "\n",
    "        # +1 because this operation is pointless to do for first epoch.\n",
    "        if (epoch) % eval_every == 0:\n",
    "            start_time = time.time()\n",
    "\n",
    "            (\n",
    "                mean_rewards,\n",
    "                std_rewards,\n",
    "                done_ratio,\n",
    "                mean_rollout_time,\n",
    "                std_rollout_time,\n",
    "                total_rewards,  # total_rewards\n",
    "            ) = vec_eval(\n",
    "                env,\n",
    "                model,\n",
    "                discretizer,\n",
    "                num_episodes=10 if not local else 1,\n",
    "                beam_width=32 if not local else 2,\n",
    "                beam_steps=5 if not local else 2,\n",
    "                beam_context=5 if not local else 2,\n",
    "                sample_expansion=2 if not local else 1,\n",
    "                observation_dim=observation_dim,\n",
    "                action_dim=action_dim,\n",
    "                reward_dim=reward_dim,\n",
    "                value_dim=value_dim,\n",
    "                transition_dim=transition_dim,\n",
    "                plan_every=1 if not local else 2,\n",
    "                obs_top_k=1,\n",
    "                act_top_k=None,\n",
    "                rew_top_k=1,\n",
    "                temperature=1.0,\n",
    "                greedy=False,\n",
    "                device=device,\n",
    "            )\n",
    "            writer.add_scalar(\"Reward/mean\", mean_rewards, epoch)\n",
    "            writer.add_scalar(\"Reward/std\", std_rewards, epoch)\n",
    "            writer.add_scalar(\"Done ratio\", done_ratio, epoch)\n",
    "            writer.add_scalar(\"Rollout time/mean\", mean_rollout_time, epoch)\n",
    "            writer.add_scalar(\"Rollout time/std\", std_rollout_time, epoch)\n",
    "\n",
    "            # log total_rewards as histogram\n",
    "            total_rewards = np.array(total_rewards)\n",
    "            writer.add_histogram(\"Total rewards\", total_rewards, epoch)\n",
    "\n",
    "            end_time = time.time()\n",
    "            writer.add_scalar(\"Time/eval\", end_time - start_time, epoch)\n",
    "\n",
    "        if checkpoint_path:\n",
    "            torch.save(model.state_dict(), checkpoint_path + f\"model_{epoch}.pth\")\n",
    "            torch.save(optimizer.state_dict(), checkpoint_path + \"optimizer.pth\")\n",
    "\n",
    "        writer.flush()"
   ]
  },
  {
   "cell_type": "markdown",
   "metadata": {},
   "source": [
    "### Hardware & Training Details\n",
    "\n",
    "This notebook was developed and tested on different hardware setups to balance ease of development and computational efficiency:\n",
    "\n",
    "#### Development Setup:\n",
    "- **Device**: 2024 M3 MacBook Air\n",
    "- **Specs**: 16GB RAM\n",
    "- **Limitation**: Model training and rollouts could not run due to insufficient compute power.\n",
    "\n",
    "#### Final Training & Rollout Setup:\n",
    "- **Instance**: Rented from [vast.ai](https://cloud.vast.ai/) at $0.2/hr\n",
    "- **Specs**:\n",
    "  - **GPU**: 1× RTX 4070S\n",
    "  - **CPU**: AMD Ryzen 9 7950X (16-Core)\n",
    "  - **RAM**: 64GB\n",
    "  - **Storage**: 49.2GB available disk space\n",
    "\n",
    "#### Training Time:\n",
    "- Full training, including evaluations, took approximately 10 hours.\n",
    "\n",
    "![Training/Eval Times](img/offline_rl/train_eval_time.png)"
   ]
  },
  {
   "cell_type": "code",
   "execution_count": null,
   "metadata": {},
   "outputs": [
    {
     "name": "stdout",
     "output_type": "stream",
     "text": [
      "Using device: mps\n"
     ]
    },
    {
     "data": {
      "application/vnd.jupyter.widget-view+json": {
       "model_id": "76ae2b69930047a0b603bdf9480b9488",
       "version_major": 2,
       "version_minor": 0
      },
      "text/plain": [
       "Training:   0%|          | 0/5 [00:00<?, ?it/s]"
      ]
     },
     "metadata": {},
     "output_type": "display_data"
    },
    {
     "data": {
      "application/vnd.jupyter.widget-view+json": {
       "model_id": "7eb0b250aa2a46f8ad820c5ee4dbaffe",
       "version_major": 2,
       "version_minor": 0
      },
      "text/plain": [
       "Epoch 1/5:   0%|          | 0/79 [00:00<?, ?it/s]"
      ]
     },
     "metadata": {},
     "output_type": "display_data"
    },
    {
     "data": {
      "application/vnd.jupyter.widget-view+json": {
       "model_id": "5a05d35974004946810ae21091c26b89",
       "version_major": 2,
       "version_minor": 0
      },
      "text/plain": [
       "Calculating predictive accuracy:   0%|          | 0/8 [00:00<?, ?it/s]"
      ]
     },
     "metadata": {},
     "output_type": "display_data"
    },
    {
     "name": "stderr",
     "output_type": "stream",
     "text": [
      "/Users/abrar/Library/Caches/pypoetry/virtualenvs/blog-FROQ9Grm-py3.11/lib/python3.11/site-packages/gymnasium/envs/registration.py:525: UserWarning: \u001b[33mWARN: Using the latest versioned environment `HalfCheetah-v5` instead of the unversioned environment `HalfCheetah`.\u001b[0m\n",
      "  logger.warn(\n"
     ]
    },
    {
     "data": {
      "application/vnd.jupyter.widget-view+json": {
       "model_id": "dc0d7a781ef8458183ce0087f7927fc4",
       "version_major": 2,
       "version_minor": 0
      },
      "text/plain": [
       "Rollout:   0%|          | 0/1000 [00:00<?, ?it/s]"
      ]
     },
     "metadata": {},
     "output_type": "display_data"
    },
    {
     "data": {
      "application/vnd.jupyter.widget-view+json": {
       "model_id": "8a7f2511987b475c8e5043be12121139",
       "version_major": 2,
       "version_minor": 0
      },
      "text/plain": [
       "Beam Search:   0%|          | 0/2 [00:00<?, ?it/s]"
      ]
     },
     "metadata": {},
     "output_type": "display_data"
    },
    {
     "data": {
      "application/vnd.jupyter.widget-view+json": {
       "model_id": "a2a93391902f466d99300cce0549d966",
       "version_major": 2,
       "version_minor": 0
      },
      "text/plain": [
       "Beam Search:   0%|          | 0/2 [00:00<?, ?it/s]"
      ]
     },
     "metadata": {},
     "output_type": "display_data"
    },
    {
     "data": {
      "application/vnd.jupyter.widget-view+json": {
       "model_id": "0e35c2a0ee9d48adae0d8c9b51f74d79",
       "version_major": 2,
       "version_minor": 0
      },
      "text/plain": [
       "Beam Search:   0%|          | 0/2 [00:00<?, ?it/s]"
      ]
     },
     "metadata": {},
     "output_type": "display_data"
    },
    {
     "data": {
      "application/vnd.jupyter.widget-view+json": {
       "model_id": "00566b1244cd424e90bf6f1038ba13d5",
       "version_major": 2,
       "version_minor": 0
      },
      "text/plain": [
       "Beam Search:   0%|          | 0/2 [00:00<?, ?it/s]"
      ]
     },
     "metadata": {},
     "output_type": "display_data"
    },
    {
     "data": {
      "application/vnd.jupyter.widget-view+json": {
       "model_id": "3e605615d9f64fc895a7a9c55414c1b9",
       "version_major": 2,
       "version_minor": 0
      },
      "text/plain": [
       "Beam Search:   0%|          | 0/2 [00:00<?, ?it/s]"
      ]
     },
     "metadata": {},
     "output_type": "display_data"
    },
    {
     "data": {
      "application/vnd.jupyter.widget-view+json": {
       "model_id": "63690b6707ee494eb2177cb72171fcce",
       "version_major": 2,
       "version_minor": 0
      },
      "text/plain": [
       "Beam Search:   0%|          | 0/2 [00:00<?, ?it/s]"
      ]
     },
     "metadata": {},
     "output_type": "display_data"
    },
    {
     "data": {
      "application/vnd.jupyter.widget-view+json": {
       "model_id": "3635cde182d44eac97161654fa522fa6",
       "version_major": 2,
       "version_minor": 0
      },
      "text/plain": [
       "Beam Search:   0%|          | 0/2 [00:00<?, ?it/s]"
      ]
     },
     "metadata": {},
     "output_type": "display_data"
    },
    {
     "data": {
      "application/vnd.jupyter.widget-view+json": {
       "model_id": "6e23e3c8aedd44bcab34e46d2c8ca732",
       "version_major": 2,
       "version_minor": 0
      },
      "text/plain": [
       "Beam Search:   0%|          | 0/2 [00:00<?, ?it/s]"
      ]
     },
     "metadata": {},
     "output_type": "display_data"
    },
    {
     "data": {
      "application/vnd.jupyter.widget-view+json": {
       "model_id": "1deb8146d4b04cad9c8ac03629c49d66",
       "version_major": 2,
       "version_minor": 0
      },
      "text/plain": [
       "Beam Search:   0%|          | 0/2 [00:00<?, ?it/s]"
      ]
     },
     "metadata": {},
     "output_type": "display_data"
    },
    {
     "data": {
      "application/vnd.jupyter.widget-view+json": {
       "model_id": "d5c91ca820844413ae527b98e31b0dbf",
       "version_major": 2,
       "version_minor": 0
      },
      "text/plain": [
       "Beam Search:   0%|          | 0/2 [00:00<?, ?it/s]"
      ]
     },
     "metadata": {},
     "output_type": "display_data"
    },
    {
     "data": {
      "application/vnd.jupyter.widget-view+json": {
       "model_id": "3c7ff4a9545e481b9011e3a047a76203",
       "version_major": 2,
       "version_minor": 0
      },
      "text/plain": [
       "Beam Search:   0%|          | 0/2 [00:00<?, ?it/s]"
      ]
     },
     "metadata": {},
     "output_type": "display_data"
    },
    {
     "data": {
      "application/vnd.jupyter.widget-view+json": {
       "model_id": "4c62761cdf324a4a912b670a51034329",
       "version_major": 2,
       "version_minor": 0
      },
      "text/plain": [
       "Beam Search:   0%|          | 0/2 [00:00<?, ?it/s]"
      ]
     },
     "metadata": {},
     "output_type": "display_data"
    },
    {
     "data": {
      "application/vnd.jupyter.widget-view+json": {
       "model_id": "c99816e4b9754ead95c2e8602fc69b53",
       "version_major": 2,
       "version_minor": 0
      },
      "text/plain": [
       "Beam Search:   0%|          | 0/2 [00:00<?, ?it/s]"
      ]
     },
     "metadata": {},
     "output_type": "display_data"
    },
    {
     "data": {
      "application/vnd.jupyter.widget-view+json": {
       "model_id": "6aa8c38ec844475598bc2f3985170df9",
       "version_major": 2,
       "version_minor": 0
      },
      "text/plain": [
       "Beam Search:   0%|          | 0/2 [00:00<?, ?it/s]"
      ]
     },
     "metadata": {},
     "output_type": "display_data"
    },
    {
     "data": {
      "application/vnd.jupyter.widget-view+json": {
       "model_id": "838e7da033fc4ebd987169879f2cc0ab",
       "version_major": 2,
       "version_minor": 0
      },
      "text/plain": [
       "Beam Search:   0%|          | 0/2 [00:00<?, ?it/s]"
      ]
     },
     "metadata": {},
     "output_type": "display_data"
    },
    {
     "data": {
      "application/vnd.jupyter.widget-view+json": {
       "model_id": "608bf883842f4a2e9f4f90ab0f6410ca",
       "version_major": 2,
       "version_minor": 0
      },
      "text/plain": [
       "Beam Search:   0%|          | 0/2 [00:00<?, ?it/s]"
      ]
     },
     "metadata": {},
     "output_type": "display_data"
    },
    {
     "data": {
      "application/vnd.jupyter.widget-view+json": {
       "model_id": "ec6814057fbd454d941fa90cc495ad40",
       "version_major": 2,
       "version_minor": 0
      },
      "text/plain": [
       "Beam Search:   0%|          | 0/2 [00:00<?, ?it/s]"
      ]
     },
     "metadata": {},
     "output_type": "display_data"
    },
    {
     "data": {
      "application/vnd.jupyter.widget-view+json": {
       "model_id": "f0798e0914ce4094b1ba4815b345a23e",
       "version_major": 2,
       "version_minor": 0
      },
      "text/plain": [
       "Beam Search:   0%|          | 0/2 [00:00<?, ?it/s]"
      ]
     },
     "metadata": {},
     "output_type": "display_data"
    },
    {
     "data": {
      "application/vnd.jupyter.widget-view+json": {
       "model_id": "71966e731c2e4a1ab87b1f170b124099",
       "version_major": 2,
       "version_minor": 0
      },
      "text/plain": [
       "Beam Search:   0%|          | 0/2 [00:00<?, ?it/s]"
      ]
     },
     "metadata": {},
     "output_type": "display_data"
    },
    {
     "data": {
      "application/vnd.jupyter.widget-view+json": {
       "model_id": "96c73fb79d11481a9d21cdc508c33c4c",
       "version_major": 2,
       "version_minor": 0
      },
      "text/plain": [
       "Beam Search:   0%|          | 0/2 [00:00<?, ?it/s]"
      ]
     },
     "metadata": {},
     "output_type": "display_data"
    },
    {
     "data": {
      "application/vnd.jupyter.widget-view+json": {
       "model_id": "dfc9e47fefdc4911b9f5176c0cfa71f5",
       "version_major": 2,
       "version_minor": 0
      },
      "text/plain": [
       "Beam Search:   0%|          | 0/2 [00:00<?, ?it/s]"
      ]
     },
     "metadata": {},
     "output_type": "display_data"
    },
    {
     "data": {
      "application/vnd.jupyter.widget-view+json": {
       "model_id": "4081cdf5664149efb31a67f9cbdb3915",
       "version_major": 2,
       "version_minor": 0
      },
      "text/plain": [
       "Beam Search:   0%|          | 0/2 [00:00<?, ?it/s]"
      ]
     },
     "metadata": {},
     "output_type": "display_data"
    },
    {
     "data": {
      "application/vnd.jupyter.widget-view+json": {
       "model_id": "1603066b1ace4cfc9769df6d23be5396",
       "version_major": 2,
       "version_minor": 0
      },
      "text/plain": [
       "Beam Search:   0%|          | 0/2 [00:00<?, ?it/s]"
      ]
     },
     "metadata": {},
     "output_type": "display_data"
    },
    {
     "data": {
      "application/vnd.jupyter.widget-view+json": {
       "model_id": "76211eaabf394bafacfb403b47ad6dba",
       "version_major": 2,
       "version_minor": 0
      },
      "text/plain": [
       "Beam Search:   0%|          | 0/2 [00:00<?, ?it/s]"
      ]
     },
     "metadata": {},
     "output_type": "display_data"
    },
    {
     "data": {
      "application/vnd.jupyter.widget-view+json": {
       "model_id": "d5c4ce7df20143a7b31fd3b9b8e10793",
       "version_major": 2,
       "version_minor": 0
      },
      "text/plain": [
       "Beam Search:   0%|          | 0/2 [00:00<?, ?it/s]"
      ]
     },
     "metadata": {},
     "output_type": "display_data"
    },
    {
     "data": {
      "application/vnd.jupyter.widget-view+json": {
       "model_id": "250aded5a7094eb096053498536555af",
       "version_major": 2,
       "version_minor": 0
      },
      "text/plain": [
       "Beam Search:   0%|          | 0/2 [00:00<?, ?it/s]"
      ]
     },
     "metadata": {},
     "output_type": "display_data"
    },
    {
     "data": {
      "application/vnd.jupyter.widget-view+json": {
       "model_id": "7dab68062b8b49138accde8f45f83147",
       "version_major": 2,
       "version_minor": 0
      },
      "text/plain": [
       "Beam Search:   0%|          | 0/2 [00:00<?, ?it/s]"
      ]
     },
     "metadata": {},
     "output_type": "display_data"
    },
    {
     "data": {
      "application/vnd.jupyter.widget-view+json": {
       "model_id": "38e768ad83e84b76aa54f4f9820b5eba",
       "version_major": 2,
       "version_minor": 0
      },
      "text/plain": [
       "Beam Search:   0%|          | 0/2 [00:00<?, ?it/s]"
      ]
     },
     "metadata": {},
     "output_type": "display_data"
    },
    {
     "data": {
      "application/vnd.jupyter.widget-view+json": {
       "model_id": "d29380654c6e4bec87fec03e5ce1bd7a",
       "version_major": 2,
       "version_minor": 0
      },
      "text/plain": [
       "Beam Search:   0%|          | 0/2 [00:00<?, ?it/s]"
      ]
     },
     "metadata": {},
     "output_type": "display_data"
    },
    {
     "data": {
      "application/vnd.jupyter.widget-view+json": {
       "model_id": "c5737336b957492c9521d7435f2b1d6f",
       "version_major": 2,
       "version_minor": 0
      },
      "text/plain": [
       "Beam Search:   0%|          | 0/2 [00:00<?, ?it/s]"
      ]
     },
     "metadata": {},
     "output_type": "display_data"
    },
    {
     "data": {
      "application/vnd.jupyter.widget-view+json": {
       "model_id": "2ed8b4d95a954e27b27446e0a3bb4ba1",
       "version_major": 2,
       "version_minor": 0
      },
      "text/plain": [
       "Beam Search:   0%|          | 0/2 [00:00<?, ?it/s]"
      ]
     },
     "metadata": {},
     "output_type": "display_data"
    },
    {
     "data": {
      "application/vnd.jupyter.widget-view+json": {
       "model_id": "44c7f4d2e48843a4ab8a47243d4780a8",
       "version_major": 2,
       "version_minor": 0
      },
      "text/plain": [
       "Beam Search:   0%|          | 0/2 [00:00<?, ?it/s]"
      ]
     },
     "metadata": {},
     "output_type": "display_data"
    },
    {
     "data": {
      "application/vnd.jupyter.widget-view+json": {
       "model_id": "fa2ad4ddb398497692953ec745924239",
       "version_major": 2,
       "version_minor": 0
      },
      "text/plain": [
       "Beam Search:   0%|          | 0/2 [00:00<?, ?it/s]"
      ]
     },
     "metadata": {},
     "output_type": "display_data"
    },
    {
     "data": {
      "application/vnd.jupyter.widget-view+json": {
       "model_id": "1b971f232e06420dba7a0b7654425042",
       "version_major": 2,
       "version_minor": 0
      },
      "text/plain": [
       "Beam Search:   0%|          | 0/2 [00:00<?, ?it/s]"
      ]
     },
     "metadata": {},
     "output_type": "display_data"
    },
    {
     "data": {
      "application/vnd.jupyter.widget-view+json": {
       "model_id": "11dec3b7a46648dca4c44a9c48a37462",
       "version_major": 2,
       "version_minor": 0
      },
      "text/plain": [
       "Beam Search:   0%|          | 0/2 [00:00<?, ?it/s]"
      ]
     },
     "metadata": {},
     "output_type": "display_data"
    },
    {
     "data": {
      "application/vnd.jupyter.widget-view+json": {
       "model_id": "d172b0cb66d240de903a70b2b9e9a771",
       "version_major": 2,
       "version_minor": 0
      },
      "text/plain": [
       "Beam Search:   0%|          | 0/2 [00:00<?, ?it/s]"
      ]
     },
     "metadata": {},
     "output_type": "display_data"
    },
    {
     "data": {
      "application/vnd.jupyter.widget-view+json": {
       "model_id": "9d3c74a5e84549f4a3da7af9cd162e54",
       "version_major": 2,
       "version_minor": 0
      },
      "text/plain": [
       "Beam Search:   0%|          | 0/2 [00:00<?, ?it/s]"
      ]
     },
     "metadata": {},
     "output_type": "display_data"
    },
    {
     "data": {
      "application/vnd.jupyter.widget-view+json": {
       "model_id": "af02c70024854f27b24ca0323ff16843",
       "version_major": 2,
       "version_minor": 0
      },
      "text/plain": [
       "Beam Search:   0%|          | 0/2 [00:00<?, ?it/s]"
      ]
     },
     "metadata": {},
     "output_type": "display_data"
    },
    {
     "data": {
      "application/vnd.jupyter.widget-view+json": {
       "model_id": "e5439532eb8a4bd18dbb3dbae4b547e0",
       "version_major": 2,
       "version_minor": 0
      },
      "text/plain": [
       "Beam Search:   0%|          | 0/2 [00:00<?, ?it/s]"
      ]
     },
     "metadata": {},
     "output_type": "display_data"
    },
    {
     "data": {
      "application/vnd.jupyter.widget-view+json": {
       "model_id": "a3897f66f0ed436da3b829a42bdf2531",
       "version_major": 2,
       "version_minor": 0
      },
      "text/plain": [
       "Beam Search:   0%|          | 0/2 [00:00<?, ?it/s]"
      ]
     },
     "metadata": {},
     "output_type": "display_data"
    },
    {
     "data": {
      "application/vnd.jupyter.widget-view+json": {
       "model_id": "d4669771ef0c45d2a39ee4dc3f48bee1",
       "version_major": 2,
       "version_minor": 0
      },
      "text/plain": [
       "Beam Search:   0%|          | 0/2 [00:00<?, ?it/s]"
      ]
     },
     "metadata": {},
     "output_type": "display_data"
    },
    {
     "data": {
      "application/vnd.jupyter.widget-view+json": {
       "model_id": "d5d4e8f09e2e443e8fb03e9f47fff1f1",
       "version_major": 2,
       "version_minor": 0
      },
      "text/plain": [
       "Beam Search:   0%|          | 0/2 [00:00<?, ?it/s]"
      ]
     },
     "metadata": {},
     "output_type": "display_data"
    },
    {
     "data": {
      "application/vnd.jupyter.widget-view+json": {
       "model_id": "10b1dacbaa8e4633aef095a9de4d7f07",
       "version_major": 2,
       "version_minor": 0
      },
      "text/plain": [
       "Beam Search:   0%|          | 0/2 [00:00<?, ?it/s]"
      ]
     },
     "metadata": {},
     "output_type": "display_data"
    },
    {
     "data": {
      "application/vnd.jupyter.widget-view+json": {
       "model_id": "729e1c921bc14ee88d6cb8a4e8cc402a",
       "version_major": 2,
       "version_minor": 0
      },
      "text/plain": [
       "Beam Search:   0%|          | 0/2 [00:00<?, ?it/s]"
      ]
     },
     "metadata": {},
     "output_type": "display_data"
    },
    {
     "data": {
      "application/vnd.jupyter.widget-view+json": {
       "model_id": "ea0fe359342a4d6da9b7b9adeabe5b5c",
       "version_major": 2,
       "version_minor": 0
      },
      "text/plain": [
       "Beam Search:   0%|          | 0/2 [00:00<?, ?it/s]"
      ]
     },
     "metadata": {},
     "output_type": "display_data"
    },
    {
     "data": {
      "application/vnd.jupyter.widget-view+json": {
       "model_id": "a4c561ccff20431fb4a1af5f0b4fa8b6",
       "version_major": 2,
       "version_minor": 0
      },
      "text/plain": [
       "Beam Search:   0%|          | 0/2 [00:00<?, ?it/s]"
      ]
     },
     "metadata": {},
     "output_type": "display_data"
    },
    {
     "data": {
      "application/vnd.jupyter.widget-view+json": {
       "model_id": "17ec9194d1764625af768566b7ccb77d",
       "version_major": 2,
       "version_minor": 0
      },
      "text/plain": [
       "Beam Search:   0%|          | 0/2 [00:00<?, ?it/s]"
      ]
     },
     "metadata": {},
     "output_type": "display_data"
    },
    {
     "data": {
      "application/vnd.jupyter.widget-view+json": {
       "model_id": "fee0e4c69fc84c4184d31ccc21f83c41",
       "version_major": 2,
       "version_minor": 0
      },
      "text/plain": [
       "Beam Search:   0%|          | 0/2 [00:00<?, ?it/s]"
      ]
     },
     "metadata": {},
     "output_type": "display_data"
    },
    {
     "data": {
      "application/vnd.jupyter.widget-view+json": {
       "model_id": "a68f0eff938e47f383328a3c5c90469b",
       "version_major": 2,
       "version_minor": 0
      },
      "text/plain": [
       "Beam Search:   0%|          | 0/2 [00:00<?, ?it/s]"
      ]
     },
     "metadata": {},
     "output_type": "display_data"
    },
    {
     "data": {
      "application/vnd.jupyter.widget-view+json": {
       "model_id": "cb5cdb6005d04bed898cf4ea30c95324",
       "version_major": 2,
       "version_minor": 0
      },
      "text/plain": [
       "Beam Search:   0%|          | 0/2 [00:00<?, ?it/s]"
      ]
     },
     "metadata": {},
     "output_type": "display_data"
    },
    {
     "data": {
      "application/vnd.jupyter.widget-view+json": {
       "model_id": "3a1d04050f1846639f51b86dc65a1f7b",
       "version_major": 2,
       "version_minor": 0
      },
      "text/plain": [
       "Beam Search:   0%|          | 0/2 [00:00<?, ?it/s]"
      ]
     },
     "metadata": {},
     "output_type": "display_data"
    },
    {
     "data": {
      "application/vnd.jupyter.widget-view+json": {
       "model_id": "a9eaeeaefba7475ab520fed6d7933e08",
       "version_major": 2,
       "version_minor": 0
      },
      "text/plain": [
       "Beam Search:   0%|          | 0/2 [00:00<?, ?it/s]"
      ]
     },
     "metadata": {},
     "output_type": "display_data"
    },
    {
     "data": {
      "application/vnd.jupyter.widget-view+json": {
       "model_id": "45e996f1199943bf951ffc3e9261ec27",
       "version_major": 2,
       "version_minor": 0
      },
      "text/plain": [
       "Beam Search:   0%|          | 0/2 [00:00<?, ?it/s]"
      ]
     },
     "metadata": {},
     "output_type": "display_data"
    },
    {
     "data": {
      "application/vnd.jupyter.widget-view+json": {
       "model_id": "2d25c2cd380a4c4aa2348c3c5a2c8b7f",
       "version_major": 2,
       "version_minor": 0
      },
      "text/plain": [
       "Beam Search:   0%|          | 0/2 [00:00<?, ?it/s]"
      ]
     },
     "metadata": {},
     "output_type": "display_data"
    },
    {
     "data": {
      "application/vnd.jupyter.widget-view+json": {
       "model_id": "9432d72b65fc45cc9cbd8c3bd90a13e6",
       "version_major": 2,
       "version_minor": 0
      },
      "text/plain": [
       "Beam Search:   0%|          | 0/2 [00:00<?, ?it/s]"
      ]
     },
     "metadata": {},
     "output_type": "display_data"
    },
    {
     "data": {
      "application/vnd.jupyter.widget-view+json": {
       "model_id": "61bf7b65bba94605b1be18979be0ce8d",
       "version_major": 2,
       "version_minor": 0
      },
      "text/plain": [
       "Beam Search:   0%|          | 0/2 [00:00<?, ?it/s]"
      ]
     },
     "metadata": {},
     "output_type": "display_data"
    },
    {
     "data": {
      "application/vnd.jupyter.widget-view+json": {
       "model_id": "78c79cd12a6f4baf80c02fb0dbba86a6",
       "version_major": 2,
       "version_minor": 0
      },
      "text/plain": [
       "Beam Search:   0%|          | 0/2 [00:00<?, ?it/s]"
      ]
     },
     "metadata": {},
     "output_type": "display_data"
    },
    {
     "data": {
      "application/vnd.jupyter.widget-view+json": {
       "model_id": "63a513d0a4104e1b83988551515d6845",
       "version_major": 2,
       "version_minor": 0
      },
      "text/plain": [
       "Beam Search:   0%|          | 0/2 [00:00<?, ?it/s]"
      ]
     },
     "metadata": {},
     "output_type": "display_data"
    },
    {
     "data": {
      "application/vnd.jupyter.widget-view+json": {
       "model_id": "6713ea6f13dc4742996710e31dce00a9",
       "version_major": 2,
       "version_minor": 0
      },
      "text/plain": [
       "Beam Search:   0%|          | 0/2 [00:00<?, ?it/s]"
      ]
     },
     "metadata": {},
     "output_type": "display_data"
    },
    {
     "data": {
      "application/vnd.jupyter.widget-view+json": {
       "model_id": "7f1db34510884dd9a4b2a7abb704b6a3",
       "version_major": 2,
       "version_minor": 0
      },
      "text/plain": [
       "Beam Search:   0%|          | 0/2 [00:00<?, ?it/s]"
      ]
     },
     "metadata": {},
     "output_type": "display_data"
    },
    {
     "data": {
      "application/vnd.jupyter.widget-view+json": {
       "model_id": "26f58a5bdf7e4aeaae85ad3e576af547",
       "version_major": 2,
       "version_minor": 0
      },
      "text/plain": [
       "Beam Search:   0%|          | 0/2 [00:00<?, ?it/s]"
      ]
     },
     "metadata": {},
     "output_type": "display_data"
    },
    {
     "data": {
      "application/vnd.jupyter.widget-view+json": {
       "model_id": "39bcf704f374408aa1f376bb5ffc88ec",
       "version_major": 2,
       "version_minor": 0
      },
      "text/plain": [
       "Beam Search:   0%|          | 0/2 [00:00<?, ?it/s]"
      ]
     },
     "metadata": {},
     "output_type": "display_data"
    },
    {
     "data": {
      "application/vnd.jupyter.widget-view+json": {
       "model_id": "11bd6a762fdb408dae215b804a69c7b9",
       "version_major": 2,
       "version_minor": 0
      },
      "text/plain": [
       "Beam Search:   0%|          | 0/2 [00:00<?, ?it/s]"
      ]
     },
     "metadata": {},
     "output_type": "display_data"
    },
    {
     "data": {
      "application/vnd.jupyter.widget-view+json": {
       "model_id": "4b39236c68424154a3d574b5ddf52d3f",
       "version_major": 2,
       "version_minor": 0
      },
      "text/plain": [
       "Beam Search:   0%|          | 0/2 [00:00<?, ?it/s]"
      ]
     },
     "metadata": {},
     "output_type": "display_data"
    },
    {
     "data": {
      "application/vnd.jupyter.widget-view+json": {
       "model_id": "ac47b2d203a846e7841870fc563b0357",
       "version_major": 2,
       "version_minor": 0
      },
      "text/plain": [
       "Beam Search:   0%|          | 0/2 [00:00<?, ?it/s]"
      ]
     },
     "metadata": {},
     "output_type": "display_data"
    },
    {
     "data": {
      "application/vnd.jupyter.widget-view+json": {
       "model_id": "31143b60b5904ad29d5893a04db67079",
       "version_major": 2,
       "version_minor": 0
      },
      "text/plain": [
       "Beam Search:   0%|          | 0/2 [00:00<?, ?it/s]"
      ]
     },
     "metadata": {},
     "output_type": "display_data"
    },
    {
     "data": {
      "application/vnd.jupyter.widget-view+json": {
       "model_id": "e5314acb6493477b81858d0725ce188b",
       "version_major": 2,
       "version_minor": 0
      },
      "text/plain": [
       "Beam Search:   0%|          | 0/2 [00:00<?, ?it/s]"
      ]
     },
     "metadata": {},
     "output_type": "display_data"
    },
    {
     "data": {
      "application/vnd.jupyter.widget-view+json": {
       "model_id": "55e2af82e162447ca332a219324430f6",
       "version_major": 2,
       "version_minor": 0
      },
      "text/plain": [
       "Beam Search:   0%|          | 0/2 [00:00<?, ?it/s]"
      ]
     },
     "metadata": {},
     "output_type": "display_data"
    },
    {
     "data": {
      "application/vnd.jupyter.widget-view+json": {
       "model_id": "77bcf0ae53734bda8d22ba1f772c1336",
       "version_major": 2,
       "version_minor": 0
      },
      "text/plain": [
       "Beam Search:   0%|          | 0/2 [00:00<?, ?it/s]"
      ]
     },
     "metadata": {},
     "output_type": "display_data"
    },
    {
     "data": {
      "application/vnd.jupyter.widget-view+json": {
       "model_id": "8feb7fb1dc784f728cb022dcf882532a",
       "version_major": 2,
       "version_minor": 0
      },
      "text/plain": [
       "Beam Search:   0%|          | 0/2 [00:00<?, ?it/s]"
      ]
     },
     "metadata": {},
     "output_type": "display_data"
    },
    {
     "data": {
      "application/vnd.jupyter.widget-view+json": {
       "model_id": "da38cdb952aa4fe9af16db46605d6887",
       "version_major": 2,
       "version_minor": 0
      },
      "text/plain": [
       "Beam Search:   0%|          | 0/2 [00:00<?, ?it/s]"
      ]
     },
     "metadata": {},
     "output_type": "display_data"
    },
    {
     "data": {
      "application/vnd.jupyter.widget-view+json": {
       "model_id": "5989fcb032814f849b7f06a167b23bf4",
       "version_major": 2,
       "version_minor": 0
      },
      "text/plain": [
       "Beam Search:   0%|          | 0/2 [00:00<?, ?it/s]"
      ]
     },
     "metadata": {},
     "output_type": "display_data"
    },
    {
     "data": {
      "application/vnd.jupyter.widget-view+json": {
       "model_id": "e77d3ef2f8774fc2a0f82da406828080",
       "version_major": 2,
       "version_minor": 0
      },
      "text/plain": [
       "Beam Search:   0%|          | 0/2 [00:00<?, ?it/s]"
      ]
     },
     "metadata": {},
     "output_type": "display_data"
    },
    {
     "data": {
      "application/vnd.jupyter.widget-view+json": {
       "model_id": "bd74e09785474b14ad5d03ad0852b5fe",
       "version_major": 2,
       "version_minor": 0
      },
      "text/plain": [
       "Beam Search:   0%|          | 0/2 [00:00<?, ?it/s]"
      ]
     },
     "metadata": {},
     "output_type": "display_data"
    },
    {
     "data": {
      "application/vnd.jupyter.widget-view+json": {
       "model_id": "fe467b6ebef3412c8d49598dbd036fda",
       "version_major": 2,
       "version_minor": 0
      },
      "text/plain": [
       "Beam Search:   0%|          | 0/2 [00:00<?, ?it/s]"
      ]
     },
     "metadata": {},
     "output_type": "display_data"
    },
    {
     "data": {
      "application/vnd.jupyter.widget-view+json": {
       "model_id": "8625cbe316b04a959e251960b1b07537",
       "version_major": 2,
       "version_minor": 0
      },
      "text/plain": [
       "Beam Search:   0%|          | 0/2 [00:00<?, ?it/s]"
      ]
     },
     "metadata": {},
     "output_type": "display_data"
    },
    {
     "data": {
      "application/vnd.jupyter.widget-view+json": {
       "model_id": "5754570da2974e2dadf9b97daccb696e",
       "version_major": 2,
       "version_minor": 0
      },
      "text/plain": [
       "Beam Search:   0%|          | 0/2 [00:00<?, ?it/s]"
      ]
     },
     "metadata": {},
     "output_type": "display_data"
    },
    {
     "data": {
      "application/vnd.jupyter.widget-view+json": {
       "model_id": "678820c8890a4d17bc63b7df3dbe35f3",
       "version_major": 2,
       "version_minor": 0
      },
      "text/plain": [
       "Beam Search:   0%|          | 0/2 [00:00<?, ?it/s]"
      ]
     },
     "metadata": {},
     "output_type": "display_data"
    },
    {
     "data": {
      "application/vnd.jupyter.widget-view+json": {
       "model_id": "1e10ecb7c1f04554a542324549ada47b",
       "version_major": 2,
       "version_minor": 0
      },
      "text/plain": [
       "Beam Search:   0%|          | 0/2 [00:00<?, ?it/s]"
      ]
     },
     "metadata": {},
     "output_type": "display_data"
    },
    {
     "data": {
      "application/vnd.jupyter.widget-view+json": {
       "model_id": "d940a9c024414002b688e241d1edbfc8",
       "version_major": 2,
       "version_minor": 0
      },
      "text/plain": [
       "Beam Search:   0%|          | 0/2 [00:00<?, ?it/s]"
      ]
     },
     "metadata": {},
     "output_type": "display_data"
    },
    {
     "data": {
      "application/vnd.jupyter.widget-view+json": {
       "model_id": "0928b00e74254b0582088ea948eddcb0",
       "version_major": 2,
       "version_minor": 0
      },
      "text/plain": [
       "Beam Search:   0%|          | 0/2 [00:00<?, ?it/s]"
      ]
     },
     "metadata": {},
     "output_type": "display_data"
    },
    {
     "data": {
      "application/vnd.jupyter.widget-view+json": {
       "model_id": "6946f832769445f8955c13170b33171f",
       "version_major": 2,
       "version_minor": 0
      },
      "text/plain": [
       "Beam Search:   0%|          | 0/2 [00:00<?, ?it/s]"
      ]
     },
     "metadata": {},
     "output_type": "display_data"
    },
    {
     "data": {
      "application/vnd.jupyter.widget-view+json": {
       "model_id": "c7c1659789214ee9ad1ef969d6503893",
       "version_major": 2,
       "version_minor": 0
      },
      "text/plain": [
       "Beam Search:   0%|          | 0/2 [00:00<?, ?it/s]"
      ]
     },
     "metadata": {},
     "output_type": "display_data"
    },
    {
     "data": {
      "application/vnd.jupyter.widget-view+json": {
       "model_id": "2a3af41db75242c39c2f5b3dacf70647",
       "version_major": 2,
       "version_minor": 0
      },
      "text/plain": [
       "Beam Search:   0%|          | 0/2 [00:00<?, ?it/s]"
      ]
     },
     "metadata": {},
     "output_type": "display_data"
    },
    {
     "data": {
      "application/vnd.jupyter.widget-view+json": {
       "model_id": "9e20e44b4dc745da93e3aee237135a10",
       "version_major": 2,
       "version_minor": 0
      },
      "text/plain": [
       "Beam Search:   0%|          | 0/2 [00:00<?, ?it/s]"
      ]
     },
     "metadata": {},
     "output_type": "display_data"
    },
    {
     "data": {
      "application/vnd.jupyter.widget-view+json": {
       "model_id": "d49d059b98834c759577c3854056b4ab",
       "version_major": 2,
       "version_minor": 0
      },
      "text/plain": [
       "Beam Search:   0%|          | 0/2 [00:00<?, ?it/s]"
      ]
     },
     "metadata": {},
     "output_type": "display_data"
    },
    {
     "data": {
      "application/vnd.jupyter.widget-view+json": {
       "model_id": "ba22543fdf36440ca77d5d5faae570e3",
       "version_major": 2,
       "version_minor": 0
      },
      "text/plain": [
       "Beam Search:   0%|          | 0/2 [00:00<?, ?it/s]"
      ]
     },
     "metadata": {},
     "output_type": "display_data"
    },
    {
     "data": {
      "application/vnd.jupyter.widget-view+json": {
       "model_id": "8755d99e0f194d8fba38cd5ac0a64201",
       "version_major": 2,
       "version_minor": 0
      },
      "text/plain": [
       "Beam Search:   0%|          | 0/2 [00:00<?, ?it/s]"
      ]
     },
     "metadata": {},
     "output_type": "display_data"
    },
    {
     "data": {
      "application/vnd.jupyter.widget-view+json": {
       "model_id": "2f5711de9d73484bb959b7653f86bf60",
       "version_major": 2,
       "version_minor": 0
      },
      "text/plain": [
       "Beam Search:   0%|          | 0/2 [00:00<?, ?it/s]"
      ]
     },
     "metadata": {},
     "output_type": "display_data"
    },
    {
     "data": {
      "application/vnd.jupyter.widget-view+json": {
       "model_id": "171120f44d42468aba6db437a9402582",
       "version_major": 2,
       "version_minor": 0
      },
      "text/plain": [
       "Beam Search:   0%|          | 0/2 [00:00<?, ?it/s]"
      ]
     },
     "metadata": {},
     "output_type": "display_data"
    },
    {
     "data": {
      "application/vnd.jupyter.widget-view+json": {
       "model_id": "b00e88d2ba9f4327a5c549b9ef22c9b3",
       "version_major": 2,
       "version_minor": 0
      },
      "text/plain": [
       "Beam Search:   0%|          | 0/2 [00:00<?, ?it/s]"
      ]
     },
     "metadata": {},
     "output_type": "display_data"
    },
    {
     "data": {
      "application/vnd.jupyter.widget-view+json": {
       "model_id": "eb172f9c2a9841468239a82a36516870",
       "version_major": 2,
       "version_minor": 0
      },
      "text/plain": [
       "Beam Search:   0%|          | 0/2 [00:00<?, ?it/s]"
      ]
     },
     "metadata": {},
     "output_type": "display_data"
    },
    {
     "data": {
      "application/vnd.jupyter.widget-view+json": {
       "model_id": "404d6eaa453e425ca527cf3c2140f5cb",
       "version_major": 2,
       "version_minor": 0
      },
      "text/plain": [
       "Beam Search:   0%|          | 0/2 [00:00<?, ?it/s]"
      ]
     },
     "metadata": {},
     "output_type": "display_data"
    },
    {
     "data": {
      "application/vnd.jupyter.widget-view+json": {
       "model_id": "8b3309e151d04f6295eca464b325ef84",
       "version_major": 2,
       "version_minor": 0
      },
      "text/plain": [
       "Beam Search:   0%|          | 0/2 [00:00<?, ?it/s]"
      ]
     },
     "metadata": {},
     "output_type": "display_data"
    },
    {
     "data": {
      "application/vnd.jupyter.widget-view+json": {
       "model_id": "4f6dd7f5e04141e89f1acc973d8050cf",
       "version_major": 2,
       "version_minor": 0
      },
      "text/plain": [
       "Beam Search:   0%|          | 0/2 [00:00<?, ?it/s]"
      ]
     },
     "metadata": {},
     "output_type": "display_data"
    },
    {
     "data": {
      "application/vnd.jupyter.widget-view+json": {
       "model_id": "124aa768c0e347d39d5c4e561e7981a6",
       "version_major": 2,
       "version_minor": 0
      },
      "text/plain": [
       "Beam Search:   0%|          | 0/2 [00:00<?, ?it/s]"
      ]
     },
     "metadata": {},
     "output_type": "display_data"
    },
    {
     "data": {
      "application/vnd.jupyter.widget-view+json": {
       "model_id": "25ae4f29b20c4703a5f9cf2cbd4a5dd3",
       "version_major": 2,
       "version_minor": 0
      },
      "text/plain": [
       "Beam Search:   0%|          | 0/2 [00:00<?, ?it/s]"
      ]
     },
     "metadata": {},
     "output_type": "display_data"
    },
    {
     "data": {
      "application/vnd.jupyter.widget-view+json": {
       "model_id": "e6a0cf24cda24a22bbf9a60e0c649170",
       "version_major": 2,
       "version_minor": 0
      },
      "text/plain": [
       "Beam Search:   0%|          | 0/2 [00:00<?, ?it/s]"
      ]
     },
     "metadata": {},
     "output_type": "display_data"
    },
    {
     "data": {
      "application/vnd.jupyter.widget-view+json": {
       "model_id": "a8d6e6d27bf444a5afe45b21201b197b",
       "version_major": 2,
       "version_minor": 0
      },
      "text/plain": [
       "Beam Search:   0%|          | 0/2 [00:00<?, ?it/s]"
      ]
     },
     "metadata": {},
     "output_type": "display_data"
    },
    {
     "data": {
      "application/vnd.jupyter.widget-view+json": {
       "model_id": "0e7ed4373dff4b0487c27e663ad7199b",
       "version_major": 2,
       "version_minor": 0
      },
      "text/plain": [
       "Beam Search:   0%|          | 0/2 [00:00<?, ?it/s]"
      ]
     },
     "metadata": {},
     "output_type": "display_data"
    },
    {
     "data": {
      "application/vnd.jupyter.widget-view+json": {
       "model_id": "4299036a38444b87ac442ed5913a2959",
       "version_major": 2,
       "version_minor": 0
      },
      "text/plain": [
       "Beam Search:   0%|          | 0/2 [00:00<?, ?it/s]"
      ]
     },
     "metadata": {},
     "output_type": "display_data"
    },
    {
     "data": {
      "application/vnd.jupyter.widget-view+json": {
       "model_id": "84d85a1591fb4d7398f2e17de2375cb6",
       "version_major": 2,
       "version_minor": 0
      },
      "text/plain": [
       "Beam Search:   0%|          | 0/2 [00:00<?, ?it/s]"
      ]
     },
     "metadata": {},
     "output_type": "display_data"
    },
    {
     "data": {
      "application/vnd.jupyter.widget-view+json": {
       "model_id": "f143e8eff7ab4ff380e03242b2dba08e",
       "version_major": 2,
       "version_minor": 0
      },
      "text/plain": [
       "Beam Search:   0%|          | 0/2 [00:00<?, ?it/s]"
      ]
     },
     "metadata": {},
     "output_type": "display_data"
    },
    {
     "data": {
      "application/vnd.jupyter.widget-view+json": {
       "model_id": "d2dd781f64a74d829461206e8f84ad36",
       "version_major": 2,
       "version_minor": 0
      },
      "text/plain": [
       "Beam Search:   0%|          | 0/2 [00:00<?, ?it/s]"
      ]
     },
     "metadata": {},
     "output_type": "display_data"
    },
    {
     "data": {
      "application/vnd.jupyter.widget-view+json": {
       "model_id": "ef9e4306b75c461db6cda4a47e02da20",
       "version_major": 2,
       "version_minor": 0
      },
      "text/plain": [
       "Beam Search:   0%|          | 0/2 [00:00<?, ?it/s]"
      ]
     },
     "metadata": {},
     "output_type": "display_data"
    },
    {
     "data": {
      "application/vnd.jupyter.widget-view+json": {
       "model_id": "c964218f28d0444a82af68c5aaa5742d",
       "version_major": 2,
       "version_minor": 0
      },
      "text/plain": [
       "Beam Search:   0%|          | 0/2 [00:00<?, ?it/s]"
      ]
     },
     "metadata": {},
     "output_type": "display_data"
    },
    {
     "data": {
      "application/vnd.jupyter.widget-view+json": {
       "model_id": "a54dc18a33054939b26c50e81e9b70ee",
       "version_major": 2,
       "version_minor": 0
      },
      "text/plain": [
       "Beam Search:   0%|          | 0/2 [00:00<?, ?it/s]"
      ]
     },
     "metadata": {},
     "output_type": "display_data"
    },
    {
     "data": {
      "application/vnd.jupyter.widget-view+json": {
       "model_id": "2e71a5da88f94629adfcd973552f58b2",
       "version_major": 2,
       "version_minor": 0
      },
      "text/plain": [
       "Beam Search:   0%|          | 0/2 [00:00<?, ?it/s]"
      ]
     },
     "metadata": {},
     "output_type": "display_data"
    },
    {
     "data": {
      "application/vnd.jupyter.widget-view+json": {
       "model_id": "a083940e4e8f43a7a6a508e36cc9b4c7",
       "version_major": 2,
       "version_minor": 0
      },
      "text/plain": [
       "Beam Search:   0%|          | 0/2 [00:00<?, ?it/s]"
      ]
     },
     "metadata": {},
     "output_type": "display_data"
    },
    {
     "data": {
      "application/vnd.jupyter.widget-view+json": {
       "model_id": "4798d92f420a43d5b6d1d775fc28e9bd",
       "version_major": 2,
       "version_minor": 0
      },
      "text/plain": [
       "Beam Search:   0%|          | 0/2 [00:00<?, ?it/s]"
      ]
     },
     "metadata": {},
     "output_type": "display_data"
    },
    {
     "data": {
      "application/vnd.jupyter.widget-view+json": {
       "model_id": "a7076f0d025e47f4931c9e7f4f260907",
       "version_major": 2,
       "version_minor": 0
      },
      "text/plain": [
       "Beam Search:   0%|          | 0/2 [00:00<?, ?it/s]"
      ]
     },
     "metadata": {},
     "output_type": "display_data"
    },
    {
     "data": {
      "application/vnd.jupyter.widget-view+json": {
       "model_id": "32c404e4809b4ce382e24bdfcb62f312",
       "version_major": 2,
       "version_minor": 0
      },
      "text/plain": [
       "Beam Search:   0%|          | 0/2 [00:00<?, ?it/s]"
      ]
     },
     "metadata": {},
     "output_type": "display_data"
    },
    {
     "data": {
      "application/vnd.jupyter.widget-view+json": {
       "model_id": "e815de880cc34995acf799206afbc38a",
       "version_major": 2,
       "version_minor": 0
      },
      "text/plain": [
       "Beam Search:   0%|          | 0/2 [00:00<?, ?it/s]"
      ]
     },
     "metadata": {},
     "output_type": "display_data"
    },
    {
     "data": {
      "application/vnd.jupyter.widget-view+json": {
       "model_id": "a4d5bfa98cac4fc0b7b71e7d9c6c546b",
       "version_major": 2,
       "version_minor": 0
      },
      "text/plain": [
       "Beam Search:   0%|          | 0/2 [00:00<?, ?it/s]"
      ]
     },
     "metadata": {},
     "output_type": "display_data"
    },
    {
     "data": {
      "application/vnd.jupyter.widget-view+json": {
       "model_id": "6dc25ef1d7934090940a9847ebb18725",
       "version_major": 2,
       "version_minor": 0
      },
      "text/plain": [
       "Beam Search:   0%|          | 0/2 [00:00<?, ?it/s]"
      ]
     },
     "metadata": {},
     "output_type": "display_data"
    },
    {
     "data": {
      "application/vnd.jupyter.widget-view+json": {
       "model_id": "cf8c6511aa1446399ceba87becea5dc0",
       "version_major": 2,
       "version_minor": 0
      },
      "text/plain": [
       "Beam Search:   0%|          | 0/2 [00:00<?, ?it/s]"
      ]
     },
     "metadata": {},
     "output_type": "display_data"
    },
    {
     "data": {
      "application/vnd.jupyter.widget-view+json": {
       "model_id": "326e3a2164bc45f8a3ffb3925f5eb161",
       "version_major": 2,
       "version_minor": 0
      },
      "text/plain": [
       "Beam Search:   0%|          | 0/2 [00:00<?, ?it/s]"
      ]
     },
     "metadata": {},
     "output_type": "display_data"
    },
    {
     "data": {
      "application/vnd.jupyter.widget-view+json": {
       "model_id": "b5d3172264954c1fad8f002bc186b988",
       "version_major": 2,
       "version_minor": 0
      },
      "text/plain": [
       "Beam Search:   0%|          | 0/2 [00:00<?, ?it/s]"
      ]
     },
     "metadata": {},
     "output_type": "display_data"
    },
    {
     "data": {
      "application/vnd.jupyter.widget-view+json": {
       "model_id": "a3cde096386e4e9799350506566ef68c",
       "version_major": 2,
       "version_minor": 0
      },
      "text/plain": [
       "Beam Search:   0%|          | 0/2 [00:00<?, ?it/s]"
      ]
     },
     "metadata": {},
     "output_type": "display_data"
    },
    {
     "data": {
      "application/vnd.jupyter.widget-view+json": {
       "model_id": "b8502164b57640d289523fce6cc56d57",
       "version_major": 2,
       "version_minor": 0
      },
      "text/plain": [
       "Beam Search:   0%|          | 0/2 [00:00<?, ?it/s]"
      ]
     },
     "metadata": {},
     "output_type": "display_data"
    },
    {
     "data": {
      "application/vnd.jupyter.widget-view+json": {
       "model_id": "148214f408a74f8ab6f29189a2dffd0e",
       "version_major": 2,
       "version_minor": 0
      },
      "text/plain": [
       "Beam Search:   0%|          | 0/2 [00:00<?, ?it/s]"
      ]
     },
     "metadata": {},
     "output_type": "display_data"
    },
    {
     "data": {
      "application/vnd.jupyter.widget-view+json": {
       "model_id": "beb0c9656dcb4cdbbb6f60ab3c7c17d8",
       "version_major": 2,
       "version_minor": 0
      },
      "text/plain": [
       "Beam Search:   0%|          | 0/2 [00:00<?, ?it/s]"
      ]
     },
     "metadata": {},
     "output_type": "display_data"
    },
    {
     "data": {
      "application/vnd.jupyter.widget-view+json": {
       "model_id": "b89eaef585084365af6247acc5e4ffb3",
       "version_major": 2,
       "version_minor": 0
      },
      "text/plain": [
       "Beam Search:   0%|          | 0/2 [00:00<?, ?it/s]"
      ]
     },
     "metadata": {},
     "output_type": "display_data"
    },
    {
     "data": {
      "application/vnd.jupyter.widget-view+json": {
       "model_id": "c1afbc56e2ce46cbaf39b923ff509f12",
       "version_major": 2,
       "version_minor": 0
      },
      "text/plain": [
       "Beam Search:   0%|          | 0/2 [00:00<?, ?it/s]"
      ]
     },
     "metadata": {},
     "output_type": "display_data"
    },
    {
     "data": {
      "application/vnd.jupyter.widget-view+json": {
       "model_id": "29ffa1612c714c86a9b9b25afba83dbd",
       "version_major": 2,
       "version_minor": 0
      },
      "text/plain": [
       "Beam Search:   0%|          | 0/2 [00:00<?, ?it/s]"
      ]
     },
     "metadata": {},
     "output_type": "display_data"
    },
    {
     "data": {
      "application/vnd.jupyter.widget-view+json": {
       "model_id": "5f3161fafe8b445896eeb745e98d56be",
       "version_major": 2,
       "version_minor": 0
      },
      "text/plain": [
       "Beam Search:   0%|          | 0/2 [00:00<?, ?it/s]"
      ]
     },
     "metadata": {},
     "output_type": "display_data"
    },
    {
     "data": {
      "application/vnd.jupyter.widget-view+json": {
       "model_id": "6152e24a37cc4ecca65c5873b5120bce",
       "version_major": 2,
       "version_minor": 0
      },
      "text/plain": [
       "Beam Search:   0%|          | 0/2 [00:00<?, ?it/s]"
      ]
     },
     "metadata": {},
     "output_type": "display_data"
    },
    {
     "data": {
      "application/vnd.jupyter.widget-view+json": {
       "model_id": "6d07c6320ae64048a89527ecf9e5502d",
       "version_major": 2,
       "version_minor": 0
      },
      "text/plain": [
       "Beam Search:   0%|          | 0/2 [00:00<?, ?it/s]"
      ]
     },
     "metadata": {},
     "output_type": "display_data"
    },
    {
     "data": {
      "application/vnd.jupyter.widget-view+json": {
       "model_id": "451aa356a6674b36b61d49c805ba75ae",
       "version_major": 2,
       "version_minor": 0
      },
      "text/plain": [
       "Beam Search:   0%|          | 0/2 [00:00<?, ?it/s]"
      ]
     },
     "metadata": {},
     "output_type": "display_data"
    },
    {
     "data": {
      "application/vnd.jupyter.widget-view+json": {
       "model_id": "e1416be5d70944e08726d7c34a016c52",
       "version_major": 2,
       "version_minor": 0
      },
      "text/plain": [
       "Beam Search:   0%|          | 0/2 [00:00<?, ?it/s]"
      ]
     },
     "metadata": {},
     "output_type": "display_data"
    },
    {
     "data": {
      "application/vnd.jupyter.widget-view+json": {
       "model_id": "4340dffc081a4161a2efcac21eb65022",
       "version_major": 2,
       "version_minor": 0
      },
      "text/plain": [
       "Beam Search:   0%|          | 0/2 [00:00<?, ?it/s]"
      ]
     },
     "metadata": {},
     "output_type": "display_data"
    },
    {
     "data": {
      "application/vnd.jupyter.widget-view+json": {
       "model_id": "275854ac468444b194851edc04b9d716",
       "version_major": 2,
       "version_minor": 0
      },
      "text/plain": [
       "Beam Search:   0%|          | 0/2 [00:00<?, ?it/s]"
      ]
     },
     "metadata": {},
     "output_type": "display_data"
    },
    {
     "data": {
      "application/vnd.jupyter.widget-view+json": {
       "model_id": "b1dbd113b84247119b84a6e7f8c0382e",
       "version_major": 2,
       "version_minor": 0
      },
      "text/plain": [
       "Beam Search:   0%|          | 0/2 [00:00<?, ?it/s]"
      ]
     },
     "metadata": {},
     "output_type": "display_data"
    },
    {
     "data": {
      "application/vnd.jupyter.widget-view+json": {
       "model_id": "e5675e0402d94bc5a193ecc9130a6a4c",
       "version_major": 2,
       "version_minor": 0
      },
      "text/plain": [
       "Beam Search:   0%|          | 0/2 [00:00<?, ?it/s]"
      ]
     },
     "metadata": {},
     "output_type": "display_data"
    },
    {
     "data": {
      "application/vnd.jupyter.widget-view+json": {
       "model_id": "1e1885a2d62f4088ad7e808d664856fa",
       "version_major": 2,
       "version_minor": 0
      },
      "text/plain": [
       "Beam Search:   0%|          | 0/2 [00:00<?, ?it/s]"
      ]
     },
     "metadata": {},
     "output_type": "display_data"
    },
    {
     "data": {
      "application/vnd.jupyter.widget-view+json": {
       "model_id": "f514196ca36a4f758714300bea80a552",
       "version_major": 2,
       "version_minor": 0
      },
      "text/plain": [
       "Beam Search:   0%|          | 0/2 [00:00<?, ?it/s]"
      ]
     },
     "metadata": {},
     "output_type": "display_data"
    },
    {
     "data": {
      "application/vnd.jupyter.widget-view+json": {
       "model_id": "86ef02b2c44a458e9b69981f91691b41",
       "version_major": 2,
       "version_minor": 0
      },
      "text/plain": [
       "Beam Search:   0%|          | 0/2 [00:00<?, ?it/s]"
      ]
     },
     "metadata": {},
     "output_type": "display_data"
    },
    {
     "data": {
      "application/vnd.jupyter.widget-view+json": {
       "model_id": "f70cc4cce8bb415ab0a21d398c5300e7",
       "version_major": 2,
       "version_minor": 0
      },
      "text/plain": [
       "Beam Search:   0%|          | 0/2 [00:00<?, ?it/s]"
      ]
     },
     "metadata": {},
     "output_type": "display_data"
    },
    {
     "data": {
      "application/vnd.jupyter.widget-view+json": {
       "model_id": "0f6a69d66aec4ed88a3aeb579263ec08",
       "version_major": 2,
       "version_minor": 0
      },
      "text/plain": [
       "Beam Search:   0%|          | 0/2 [00:00<?, ?it/s]"
      ]
     },
     "metadata": {},
     "output_type": "display_data"
    },
    {
     "data": {
      "application/vnd.jupyter.widget-view+json": {
       "model_id": "52888c424cd843a1a6178136a6c7a9e5",
       "version_major": 2,
       "version_minor": 0
      },
      "text/plain": [
       "Beam Search:   0%|          | 0/2 [00:00<?, ?it/s]"
      ]
     },
     "metadata": {},
     "output_type": "display_data"
    },
    {
     "data": {
      "application/vnd.jupyter.widget-view+json": {
       "model_id": "70da65e03cfd4c54be84965a5c399cab",
       "version_major": 2,
       "version_minor": 0
      },
      "text/plain": [
       "Beam Search:   0%|          | 0/2 [00:00<?, ?it/s]"
      ]
     },
     "metadata": {},
     "output_type": "display_data"
    },
    {
     "data": {
      "application/vnd.jupyter.widget-view+json": {
       "model_id": "85cf4016c4cf4dc49a9a20490daab094",
       "version_major": 2,
       "version_minor": 0
      },
      "text/plain": [
       "Beam Search:   0%|          | 0/2 [00:00<?, ?it/s]"
      ]
     },
     "metadata": {},
     "output_type": "display_data"
    },
    {
     "data": {
      "application/vnd.jupyter.widget-view+json": {
       "model_id": "bb8272db1da643b88a84390e348c9f1a",
       "version_major": 2,
       "version_minor": 0
      },
      "text/plain": [
       "Beam Search:   0%|          | 0/2 [00:00<?, ?it/s]"
      ]
     },
     "metadata": {},
     "output_type": "display_data"
    },
    {
     "data": {
      "application/vnd.jupyter.widget-view+json": {
       "model_id": "b73477f91b824a3a959571f8e285cc17",
       "version_major": 2,
       "version_minor": 0
      },
      "text/plain": [
       "Beam Search:   0%|          | 0/2 [00:00<?, ?it/s]"
      ]
     },
     "metadata": {},
     "output_type": "display_data"
    },
    {
     "data": {
      "application/vnd.jupyter.widget-view+json": {
       "model_id": "17b509d6a8f54c3e8655c84586a6a0a5",
       "version_major": 2,
       "version_minor": 0
      },
      "text/plain": [
       "Beam Search:   0%|          | 0/2 [00:00<?, ?it/s]"
      ]
     },
     "metadata": {},
     "output_type": "display_data"
    },
    {
     "data": {
      "application/vnd.jupyter.widget-view+json": {
       "model_id": "dc95754c46e04db4a497d59cfdf00de3",
       "version_major": 2,
       "version_minor": 0
      },
      "text/plain": [
       "Beam Search:   0%|          | 0/2 [00:00<?, ?it/s]"
      ]
     },
     "metadata": {},
     "output_type": "display_data"
    },
    {
     "data": {
      "application/vnd.jupyter.widget-view+json": {
       "model_id": "f4079c53f050422a8c09ae5fe5f8b4c8",
       "version_major": 2,
       "version_minor": 0
      },
      "text/plain": [
       "Beam Search:   0%|          | 0/2 [00:00<?, ?it/s]"
      ]
     },
     "metadata": {},
     "output_type": "display_data"
    },
    {
     "data": {
      "application/vnd.jupyter.widget-view+json": {
       "model_id": "93975251a53f47a5910073f09c38235d",
       "version_major": 2,
       "version_minor": 0
      },
      "text/plain": [
       "Beam Search:   0%|          | 0/2 [00:00<?, ?it/s]"
      ]
     },
     "metadata": {},
     "output_type": "display_data"
    },
    {
     "data": {
      "application/vnd.jupyter.widget-view+json": {
       "model_id": "7dc8d1b8a7754c23a82d150a4d463b52",
       "version_major": 2,
       "version_minor": 0
      },
      "text/plain": [
       "Beam Search:   0%|          | 0/2 [00:00<?, ?it/s]"
      ]
     },
     "metadata": {},
     "output_type": "display_data"
    },
    {
     "data": {
      "application/vnd.jupyter.widget-view+json": {
       "model_id": "10593f16e1254517ad69d8a5582b4366",
       "version_major": 2,
       "version_minor": 0
      },
      "text/plain": [
       "Beam Search:   0%|          | 0/2 [00:00<?, ?it/s]"
      ]
     },
     "metadata": {},
     "output_type": "display_data"
    },
    {
     "data": {
      "application/vnd.jupyter.widget-view+json": {
       "model_id": "e2e50c5eca9243b18976ffea226c1f04",
       "version_major": 2,
       "version_minor": 0
      },
      "text/plain": [
       "Beam Search:   0%|          | 0/2 [00:00<?, ?it/s]"
      ]
     },
     "metadata": {},
     "output_type": "display_data"
    },
    {
     "data": {
      "application/vnd.jupyter.widget-view+json": {
       "model_id": "59a3627220ad40358ad9af5907878090",
       "version_major": 2,
       "version_minor": 0
      },
      "text/plain": [
       "Beam Search:   0%|          | 0/2 [00:00<?, ?it/s]"
      ]
     },
     "metadata": {},
     "output_type": "display_data"
    },
    {
     "data": {
      "application/vnd.jupyter.widget-view+json": {
       "model_id": "9137cf72f8cd4d4b9b2045ae3ea9f7c3",
       "version_major": 2,
       "version_minor": 0
      },
      "text/plain": [
       "Beam Search:   0%|          | 0/2 [00:00<?, ?it/s]"
      ]
     },
     "metadata": {},
     "output_type": "display_data"
    },
    {
     "data": {
      "application/vnd.jupyter.widget-view+json": {
       "model_id": "d7de2b9374d048cc8634b9a4a8a7faef",
       "version_major": 2,
       "version_minor": 0
      },
      "text/plain": [
       "Beam Search:   0%|          | 0/2 [00:00<?, ?it/s]"
      ]
     },
     "metadata": {},
     "output_type": "display_data"
    },
    {
     "data": {
      "application/vnd.jupyter.widget-view+json": {
       "model_id": "07601f09df054295adf22c29f8c1bf83",
       "version_major": 2,
       "version_minor": 0
      },
      "text/plain": [
       "Beam Search:   0%|          | 0/2 [00:00<?, ?it/s]"
      ]
     },
     "metadata": {},
     "output_type": "display_data"
    },
    {
     "data": {
      "application/vnd.jupyter.widget-view+json": {
       "model_id": "482ab5a04dfd46aab132fcffcad91339",
       "version_major": 2,
       "version_minor": 0
      },
      "text/plain": [
       "Beam Search:   0%|          | 0/2 [00:00<?, ?it/s]"
      ]
     },
     "metadata": {},
     "output_type": "display_data"
    },
    {
     "data": {
      "application/vnd.jupyter.widget-view+json": {
       "model_id": "709ceb0544d44152a47c91ce146c371e",
       "version_major": 2,
       "version_minor": 0
      },
      "text/plain": [
       "Beam Search:   0%|          | 0/2 [00:00<?, ?it/s]"
      ]
     },
     "metadata": {},
     "output_type": "display_data"
    },
    {
     "data": {
      "application/vnd.jupyter.widget-view+json": {
       "model_id": "9339b41176544c29912b57d42772d0fe",
       "version_major": 2,
       "version_minor": 0
      },
      "text/plain": [
       "Beam Search:   0%|          | 0/2 [00:00<?, ?it/s]"
      ]
     },
     "metadata": {},
     "output_type": "display_data"
    },
    {
     "data": {
      "application/vnd.jupyter.widget-view+json": {
       "model_id": "f5f7ff151a1a4d5aa0d525c56010afa4",
       "version_major": 2,
       "version_minor": 0
      },
      "text/plain": [
       "Beam Search:   0%|          | 0/2 [00:00<?, ?it/s]"
      ]
     },
     "metadata": {},
     "output_type": "display_data"
    },
    {
     "data": {
      "application/vnd.jupyter.widget-view+json": {
       "model_id": "a403becd42de422983cfe30351a6888b",
       "version_major": 2,
       "version_minor": 0
      },
      "text/plain": [
       "Beam Search:   0%|          | 0/2 [00:00<?, ?it/s]"
      ]
     },
     "metadata": {},
     "output_type": "display_data"
    },
    {
     "data": {
      "application/vnd.jupyter.widget-view+json": {
       "model_id": "48c91dcbacf34547b3fdbdb86f98e2ca",
       "version_major": 2,
       "version_minor": 0
      },
      "text/plain": [
       "Beam Search:   0%|          | 0/2 [00:00<?, ?it/s]"
      ]
     },
     "metadata": {},
     "output_type": "display_data"
    },
    {
     "data": {
      "application/vnd.jupyter.widget-view+json": {
       "model_id": "6b67780af72b4f99a24b16c10f40cb96",
       "version_major": 2,
       "version_minor": 0
      },
      "text/plain": [
       "Beam Search:   0%|          | 0/2 [00:00<?, ?it/s]"
      ]
     },
     "metadata": {},
     "output_type": "display_data"
    },
    {
     "data": {
      "application/vnd.jupyter.widget-view+json": {
       "model_id": "cd117f0991b14f45a2e27219e34202a1",
       "version_major": 2,
       "version_minor": 0
      },
      "text/plain": [
       "Beam Search:   0%|          | 0/2 [00:00<?, ?it/s]"
      ]
     },
     "metadata": {},
     "output_type": "display_data"
    },
    {
     "data": {
      "application/vnd.jupyter.widget-view+json": {
       "model_id": "2f4322fa599a4eb2bbbf5b93b0f7ae07",
       "version_major": 2,
       "version_minor": 0
      },
      "text/plain": [
       "Beam Search:   0%|          | 0/2 [00:00<?, ?it/s]"
      ]
     },
     "metadata": {},
     "output_type": "display_data"
    },
    {
     "data": {
      "application/vnd.jupyter.widget-view+json": {
       "model_id": "b23533fe434343f88e835b0a75325ef7",
       "version_major": 2,
       "version_minor": 0
      },
      "text/plain": [
       "Beam Search:   0%|          | 0/2 [00:00<?, ?it/s]"
      ]
     },
     "metadata": {},
     "output_type": "display_data"
    },
    {
     "data": {
      "application/vnd.jupyter.widget-view+json": {
       "model_id": "fb4e396902e0406a9cfb54d8c2d905f9",
       "version_major": 2,
       "version_minor": 0
      },
      "text/plain": [
       "Beam Search:   0%|          | 0/2 [00:00<?, ?it/s]"
      ]
     },
     "metadata": {},
     "output_type": "display_data"
    },
    {
     "data": {
      "application/vnd.jupyter.widget-view+json": {
       "model_id": "7a62924093384c79b10f9a6b0a97d05b",
       "version_major": 2,
       "version_minor": 0
      },
      "text/plain": [
       "Beam Search:   0%|          | 0/2 [00:00<?, ?it/s]"
      ]
     },
     "metadata": {},
     "output_type": "display_data"
    },
    {
     "data": {
      "application/vnd.jupyter.widget-view+json": {
       "model_id": "c5f71f9fb820413fb22290d85f8cd5c5",
       "version_major": 2,
       "version_minor": 0
      },
      "text/plain": [
       "Beam Search:   0%|          | 0/2 [00:00<?, ?it/s]"
      ]
     },
     "metadata": {},
     "output_type": "display_data"
    },
    {
     "data": {
      "application/vnd.jupyter.widget-view+json": {
       "model_id": "6445154851624fd6ad14b310455b12c9",
       "version_major": 2,
       "version_minor": 0
      },
      "text/plain": [
       "Beam Search:   0%|          | 0/2 [00:00<?, ?it/s]"
      ]
     },
     "metadata": {},
     "output_type": "display_data"
    },
    {
     "data": {
      "application/vnd.jupyter.widget-view+json": {
       "model_id": "2e1c7410268b4c168514dc35902dcf31",
       "version_major": 2,
       "version_minor": 0
      },
      "text/plain": [
       "Beam Search:   0%|          | 0/2 [00:00<?, ?it/s]"
      ]
     },
     "metadata": {},
     "output_type": "display_data"
    },
    {
     "data": {
      "application/vnd.jupyter.widget-view+json": {
       "model_id": "3e1dcd8930774e189085414dabaf40dd",
       "version_major": 2,
       "version_minor": 0
      },
      "text/plain": [
       "Beam Search:   0%|          | 0/2 [00:00<?, ?it/s]"
      ]
     },
     "metadata": {},
     "output_type": "display_data"
    },
    {
     "data": {
      "application/vnd.jupyter.widget-view+json": {
       "model_id": "85ec35ff77c24a4991c5b2ffe935f7ea",
       "version_major": 2,
       "version_minor": 0
      },
      "text/plain": [
       "Beam Search:   0%|          | 0/2 [00:00<?, ?it/s]"
      ]
     },
     "metadata": {},
     "output_type": "display_data"
    },
    {
     "data": {
      "application/vnd.jupyter.widget-view+json": {
       "model_id": "e5754c40440b4b0daeb7414104b0917d",
       "version_major": 2,
       "version_minor": 0
      },
      "text/plain": [
       "Beam Search:   0%|          | 0/2 [00:00<?, ?it/s]"
      ]
     },
     "metadata": {},
     "output_type": "display_data"
    },
    {
     "data": {
      "application/vnd.jupyter.widget-view+json": {
       "model_id": "fe071ac7ede44b75a49141ce5efc84f0",
       "version_major": 2,
       "version_minor": 0
      },
      "text/plain": [
       "Beam Search:   0%|          | 0/2 [00:00<?, ?it/s]"
      ]
     },
     "metadata": {},
     "output_type": "display_data"
    },
    {
     "data": {
      "application/vnd.jupyter.widget-view+json": {
       "model_id": "4b549ef471854313af3172043423ce55",
       "version_major": 2,
       "version_minor": 0
      },
      "text/plain": [
       "Beam Search:   0%|          | 0/2 [00:00<?, ?it/s]"
      ]
     },
     "metadata": {},
     "output_type": "display_data"
    },
    {
     "data": {
      "application/vnd.jupyter.widget-view+json": {
       "model_id": "ade199ca0c1a4415bc591d0a45f45451",
       "version_major": 2,
       "version_minor": 0
      },
      "text/plain": [
       "Beam Search:   0%|          | 0/2 [00:00<?, ?it/s]"
      ]
     },
     "metadata": {},
     "output_type": "display_data"
    },
    {
     "data": {
      "application/vnd.jupyter.widget-view+json": {
       "model_id": "073449974470465aaf1d5102222bf36e",
       "version_major": 2,
       "version_minor": 0
      },
      "text/plain": [
       "Beam Search:   0%|          | 0/2 [00:00<?, ?it/s]"
      ]
     },
     "metadata": {},
     "output_type": "display_data"
    },
    {
     "data": {
      "application/vnd.jupyter.widget-view+json": {
       "model_id": "feaa3d8e3f6f4f628ea1ec05f72a4f83",
       "version_major": 2,
       "version_minor": 0
      },
      "text/plain": [
       "Beam Search:   0%|          | 0/2 [00:00<?, ?it/s]"
      ]
     },
     "metadata": {},
     "output_type": "display_data"
    },
    {
     "data": {
      "application/vnd.jupyter.widget-view+json": {
       "model_id": "ff6b6c1e5c6e480bbe1594815abb4a51",
       "version_major": 2,
       "version_minor": 0
      },
      "text/plain": [
       "Beam Search:   0%|          | 0/2 [00:00<?, ?it/s]"
      ]
     },
     "metadata": {},
     "output_type": "display_data"
    },
    {
     "data": {
      "application/vnd.jupyter.widget-view+json": {
       "model_id": "a3dc034a13d74b558660d1ce863ff41d",
       "version_major": 2,
       "version_minor": 0
      },
      "text/plain": [
       "Beam Search:   0%|          | 0/2 [00:00<?, ?it/s]"
      ]
     },
     "metadata": {},
     "output_type": "display_data"
    },
    {
     "data": {
      "application/vnd.jupyter.widget-view+json": {
       "model_id": "49e1024e9e184e0ca59dfb3166a3f8dc",
       "version_major": 2,
       "version_minor": 0
      },
      "text/plain": [
       "Beam Search:   0%|          | 0/2 [00:00<?, ?it/s]"
      ]
     },
     "metadata": {},
     "output_type": "display_data"
    },
    {
     "data": {
      "application/vnd.jupyter.widget-view+json": {
       "model_id": "4e4d77c7100d4566a4993b352ea8ff9c",
       "version_major": 2,
       "version_minor": 0
      },
      "text/plain": [
       "Beam Search:   0%|          | 0/2 [00:00<?, ?it/s]"
      ]
     },
     "metadata": {},
     "output_type": "display_data"
    },
    {
     "data": {
      "application/vnd.jupyter.widget-view+json": {
       "model_id": "02d72730189f49308f56378b4c867db9",
       "version_major": 2,
       "version_minor": 0
      },
      "text/plain": [
       "Beam Search:   0%|          | 0/2 [00:00<?, ?it/s]"
      ]
     },
     "metadata": {},
     "output_type": "display_data"
    },
    {
     "data": {
      "application/vnd.jupyter.widget-view+json": {
       "model_id": "6470522811034b5d82c1c7c4601c0d4a",
       "version_major": 2,
       "version_minor": 0
      },
      "text/plain": [
       "Beam Search:   0%|          | 0/2 [00:00<?, ?it/s]"
      ]
     },
     "metadata": {},
     "output_type": "display_data"
    },
    {
     "data": {
      "application/vnd.jupyter.widget-view+json": {
       "model_id": "8d505e1671ba4803ba11ccc5618fa0d3",
       "version_major": 2,
       "version_minor": 0
      },
      "text/plain": [
       "Beam Search:   0%|          | 0/2 [00:00<?, ?it/s]"
      ]
     },
     "metadata": {},
     "output_type": "display_data"
    },
    {
     "data": {
      "application/vnd.jupyter.widget-view+json": {
       "model_id": "8bdae29b7b584b4bbd920a95fef4da80",
       "version_major": 2,
       "version_minor": 0
      },
      "text/plain": [
       "Beam Search:   0%|          | 0/2 [00:00<?, ?it/s]"
      ]
     },
     "metadata": {},
     "output_type": "display_data"
    },
    {
     "data": {
      "application/vnd.jupyter.widget-view+json": {
       "model_id": "053c698b51e647cf9cd3f2e3ffb77404",
       "version_major": 2,
       "version_minor": 0
      },
      "text/plain": [
       "Beam Search:   0%|          | 0/2 [00:00<?, ?it/s]"
      ]
     },
     "metadata": {},
     "output_type": "display_data"
    },
    {
     "data": {
      "application/vnd.jupyter.widget-view+json": {
       "model_id": "1f22f605a5d84f1da35253016117705e",
       "version_major": 2,
       "version_minor": 0
      },
      "text/plain": [
       "Beam Search:   0%|          | 0/2 [00:00<?, ?it/s]"
      ]
     },
     "metadata": {},
     "output_type": "display_data"
    },
    {
     "data": {
      "application/vnd.jupyter.widget-view+json": {
       "model_id": "58af86788060471dae00f090f839271a",
       "version_major": 2,
       "version_minor": 0
      },
      "text/plain": [
       "Beam Search:   0%|          | 0/2 [00:00<?, ?it/s]"
      ]
     },
     "metadata": {},
     "output_type": "display_data"
    },
    {
     "data": {
      "application/vnd.jupyter.widget-view+json": {
       "model_id": "7c91567d78ed4e399728008e2744810c",
       "version_major": 2,
       "version_minor": 0
      },
      "text/plain": [
       "Beam Search:   0%|          | 0/2 [00:00<?, ?it/s]"
      ]
     },
     "metadata": {},
     "output_type": "display_data"
    },
    {
     "data": {
      "application/vnd.jupyter.widget-view+json": {
       "model_id": "1cfe33202e25435c98cb67e6bcd73adb",
       "version_major": 2,
       "version_minor": 0
      },
      "text/plain": [
       "Beam Search:   0%|          | 0/2 [00:00<?, ?it/s]"
      ]
     },
     "metadata": {},
     "output_type": "display_data"
    },
    {
     "data": {
      "application/vnd.jupyter.widget-view+json": {
       "model_id": "65ca55e9a70f496f817782f1ca0a564f",
       "version_major": 2,
       "version_minor": 0
      },
      "text/plain": [
       "Beam Search:   0%|          | 0/2 [00:00<?, ?it/s]"
      ]
     },
     "metadata": {},
     "output_type": "display_data"
    },
    {
     "data": {
      "application/vnd.jupyter.widget-view+json": {
       "model_id": "9cb863193a994b8c83e4e09331743c43",
       "version_major": 2,
       "version_minor": 0
      },
      "text/plain": [
       "Beam Search:   0%|          | 0/2 [00:00<?, ?it/s]"
      ]
     },
     "metadata": {},
     "output_type": "display_data"
    },
    {
     "data": {
      "application/vnd.jupyter.widget-view+json": {
       "model_id": "ca0fd1f47d9f4e5d8862cbd99851595d",
       "version_major": 2,
       "version_minor": 0
      },
      "text/plain": [
       "Beam Search:   0%|          | 0/2 [00:00<?, ?it/s]"
      ]
     },
     "metadata": {},
     "output_type": "display_data"
    },
    {
     "data": {
      "application/vnd.jupyter.widget-view+json": {
       "model_id": "ba7a23890d8f4ac8ba30854a2aa7464c",
       "version_major": 2,
       "version_minor": 0
      },
      "text/plain": [
       "Beam Search:   0%|          | 0/2 [00:00<?, ?it/s]"
      ]
     },
     "metadata": {},
     "output_type": "display_data"
    },
    {
     "data": {
      "application/vnd.jupyter.widget-view+json": {
       "model_id": "dcae7f180f554fada4773584c0a6c5f9",
       "version_major": 2,
       "version_minor": 0
      },
      "text/plain": [
       "Beam Search:   0%|          | 0/2 [00:00<?, ?it/s]"
      ]
     },
     "metadata": {},
     "output_type": "display_data"
    },
    {
     "data": {
      "application/vnd.jupyter.widget-view+json": {
       "model_id": "1e33d905336e40f6b0e2c00af9b6b28a",
       "version_major": 2,
       "version_minor": 0
      },
      "text/plain": [
       "Beam Search:   0%|          | 0/2 [00:00<?, ?it/s]"
      ]
     },
     "metadata": {},
     "output_type": "display_data"
    },
    {
     "data": {
      "application/vnd.jupyter.widget-view+json": {
       "model_id": "4567e513fa074974b228bdb16ea037cb",
       "version_major": 2,
       "version_minor": 0
      },
      "text/plain": [
       "Beam Search:   0%|          | 0/2 [00:00<?, ?it/s]"
      ]
     },
     "metadata": {},
     "output_type": "display_data"
    },
    {
     "data": {
      "application/vnd.jupyter.widget-view+json": {
       "model_id": "77b3f85e37b34f8192f00032590bd253",
       "version_major": 2,
       "version_minor": 0
      },
      "text/plain": [
       "Beam Search:   0%|          | 0/2 [00:00<?, ?it/s]"
      ]
     },
     "metadata": {},
     "output_type": "display_data"
    },
    {
     "data": {
      "application/vnd.jupyter.widget-view+json": {
       "model_id": "665cb3c23a0d4090b76592869e0795ae",
       "version_major": 2,
       "version_minor": 0
      },
      "text/plain": [
       "Beam Search:   0%|          | 0/2 [00:00<?, ?it/s]"
      ]
     },
     "metadata": {},
     "output_type": "display_data"
    },
    {
     "data": {
      "application/vnd.jupyter.widget-view+json": {
       "model_id": "8841a0290ef54ec9aa0156fb4b65edea",
       "version_major": 2,
       "version_minor": 0
      },
      "text/plain": [
       "Beam Search:   0%|          | 0/2 [00:00<?, ?it/s]"
      ]
     },
     "metadata": {},
     "output_type": "display_data"
    },
    {
     "data": {
      "application/vnd.jupyter.widget-view+json": {
       "model_id": "1527109959464cbdadddd02f954a0565",
       "version_major": 2,
       "version_minor": 0
      },
      "text/plain": [
       "Beam Search:   0%|          | 0/2 [00:00<?, ?it/s]"
      ]
     },
     "metadata": {},
     "output_type": "display_data"
    },
    {
     "data": {
      "application/vnd.jupyter.widget-view+json": {
       "model_id": "253a9e7bdce8460d9eb7e752dd11ae13",
       "version_major": 2,
       "version_minor": 0
      },
      "text/plain": [
       "Beam Search:   0%|          | 0/2 [00:00<?, ?it/s]"
      ]
     },
     "metadata": {},
     "output_type": "display_data"
    },
    {
     "data": {
      "application/vnd.jupyter.widget-view+json": {
       "model_id": "b3224ed080f04e50b014ef83fc95bc6c",
       "version_major": 2,
       "version_minor": 0
      },
      "text/plain": [
       "Beam Search:   0%|          | 0/2 [00:00<?, ?it/s]"
      ]
     },
     "metadata": {},
     "output_type": "display_data"
    },
    {
     "data": {
      "application/vnd.jupyter.widget-view+json": {
       "model_id": "87200a6109754fcaa459bf98edfe6f0d",
       "version_major": 2,
       "version_minor": 0
      },
      "text/plain": [
       "Beam Search:   0%|          | 0/2 [00:00<?, ?it/s]"
      ]
     },
     "metadata": {},
     "output_type": "display_data"
    },
    {
     "data": {
      "application/vnd.jupyter.widget-view+json": {
       "model_id": "7532bffed7714ed2af56bd4657190a08",
       "version_major": 2,
       "version_minor": 0
      },
      "text/plain": [
       "Beam Search:   0%|          | 0/2 [00:00<?, ?it/s]"
      ]
     },
     "metadata": {},
     "output_type": "display_data"
    },
    {
     "data": {
      "application/vnd.jupyter.widget-view+json": {
       "model_id": "7c673be2875f410cb3ab37ef93140e26",
       "version_major": 2,
       "version_minor": 0
      },
      "text/plain": [
       "Beam Search:   0%|          | 0/2 [00:00<?, ?it/s]"
      ]
     },
     "metadata": {},
     "output_type": "display_data"
    },
    {
     "data": {
      "application/vnd.jupyter.widget-view+json": {
       "model_id": "e33e68d85f404e43a5c46039cb2e0f28",
       "version_major": 2,
       "version_minor": 0
      },
      "text/plain": [
       "Beam Search:   0%|          | 0/2 [00:00<?, ?it/s]"
      ]
     },
     "metadata": {},
     "output_type": "display_data"
    },
    {
     "data": {
      "application/vnd.jupyter.widget-view+json": {
       "model_id": "e73abe6d481c4682bd12f6dd70eea430",
       "version_major": 2,
       "version_minor": 0
      },
      "text/plain": [
       "Beam Search:   0%|          | 0/2 [00:00<?, ?it/s]"
      ]
     },
     "metadata": {},
     "output_type": "display_data"
    },
    {
     "data": {
      "application/vnd.jupyter.widget-view+json": {
       "model_id": "102f77a89db747b8b6c2d7790d581a18",
       "version_major": 2,
       "version_minor": 0
      },
      "text/plain": [
       "Beam Search:   0%|          | 0/2 [00:00<?, ?it/s]"
      ]
     },
     "metadata": {},
     "output_type": "display_data"
    },
    {
     "data": {
      "application/vnd.jupyter.widget-view+json": {
       "model_id": "f024599be1f04fb9b2389aed569f3ac9",
       "version_major": 2,
       "version_minor": 0
      },
      "text/plain": [
       "Beam Search:   0%|          | 0/2 [00:00<?, ?it/s]"
      ]
     },
     "metadata": {},
     "output_type": "display_data"
    },
    {
     "data": {
      "application/vnd.jupyter.widget-view+json": {
       "model_id": "2eab40692b414120a9fa96bf5a60168e",
       "version_major": 2,
       "version_minor": 0
      },
      "text/plain": [
       "Beam Search:   0%|          | 0/2 [00:00<?, ?it/s]"
      ]
     },
     "metadata": {},
     "output_type": "display_data"
    },
    {
     "data": {
      "application/vnd.jupyter.widget-view+json": {
       "model_id": "d77340e083ad41a7a6843c9956e15b03",
       "version_major": 2,
       "version_minor": 0
      },
      "text/plain": [
       "Beam Search:   0%|          | 0/2 [00:00<?, ?it/s]"
      ]
     },
     "metadata": {},
     "output_type": "display_data"
    },
    {
     "data": {
      "application/vnd.jupyter.widget-view+json": {
       "model_id": "dda8acb400db4eacb7c3ac024258ac19",
       "version_major": 2,
       "version_minor": 0
      },
      "text/plain": [
       "Beam Search:   0%|          | 0/2 [00:00<?, ?it/s]"
      ]
     },
     "metadata": {},
     "output_type": "display_data"
    },
    {
     "data": {
      "application/vnd.jupyter.widget-view+json": {
       "model_id": "9ecce34e66464585b3de7cb62e8d8a51",
       "version_major": 2,
       "version_minor": 0
      },
      "text/plain": [
       "Beam Search:   0%|          | 0/2 [00:00<?, ?it/s]"
      ]
     },
     "metadata": {},
     "output_type": "display_data"
    },
    {
     "data": {
      "application/vnd.jupyter.widget-view+json": {
       "model_id": "b03cf7b29fac418498bb84911fd8430c",
       "version_major": 2,
       "version_minor": 0
      },
      "text/plain": [
       "Beam Search:   0%|          | 0/2 [00:00<?, ?it/s]"
      ]
     },
     "metadata": {},
     "output_type": "display_data"
    },
    {
     "data": {
      "application/vnd.jupyter.widget-view+json": {
       "model_id": "4920268bb98d45efbc7a58ffa46b40b0",
       "version_major": 2,
       "version_minor": 0
      },
      "text/plain": [
       "Beam Search:   0%|          | 0/2 [00:00<?, ?it/s]"
      ]
     },
     "metadata": {},
     "output_type": "display_data"
    },
    {
     "data": {
      "application/vnd.jupyter.widget-view+json": {
       "model_id": "86a675f6a50a4bc69cb6bd52ba4bfdab",
       "version_major": 2,
       "version_minor": 0
      },
      "text/plain": [
       "Beam Search:   0%|          | 0/2 [00:00<?, ?it/s]"
      ]
     },
     "metadata": {},
     "output_type": "display_data"
    },
    {
     "data": {
      "application/vnd.jupyter.widget-view+json": {
       "model_id": "f91c71ee5bbc4e1e9711e2db83556c6a",
       "version_major": 2,
       "version_minor": 0
      },
      "text/plain": [
       "Beam Search:   0%|          | 0/2 [00:00<?, ?it/s]"
      ]
     },
     "metadata": {},
     "output_type": "display_data"
    },
    {
     "data": {
      "application/vnd.jupyter.widget-view+json": {
       "model_id": "e286add59fa74be1ad78d84e6faa8228",
       "version_major": 2,
       "version_minor": 0
      },
      "text/plain": [
       "Beam Search:   0%|          | 0/2 [00:00<?, ?it/s]"
      ]
     },
     "metadata": {},
     "output_type": "display_data"
    },
    {
     "data": {
      "application/vnd.jupyter.widget-view+json": {
       "model_id": "0eeef74b318c4b578ee01d5a969d4656",
       "version_major": 2,
       "version_minor": 0
      },
      "text/plain": [
       "Beam Search:   0%|          | 0/2 [00:00<?, ?it/s]"
      ]
     },
     "metadata": {},
     "output_type": "display_data"
    },
    {
     "data": {
      "application/vnd.jupyter.widget-view+json": {
       "model_id": "c39b3c8e280344879c58ca69e249499d",
       "version_major": 2,
       "version_minor": 0
      },
      "text/plain": [
       "Beam Search:   0%|          | 0/2 [00:00<?, ?it/s]"
      ]
     },
     "metadata": {},
     "output_type": "display_data"
    },
    {
     "data": {
      "application/vnd.jupyter.widget-view+json": {
       "model_id": "741fb9c24c934ae4a8427d65343ef11f",
       "version_major": 2,
       "version_minor": 0
      },
      "text/plain": [
       "Beam Search:   0%|          | 0/2 [00:00<?, ?it/s]"
      ]
     },
     "metadata": {},
     "output_type": "display_data"
    },
    {
     "data": {
      "application/vnd.jupyter.widget-view+json": {
       "model_id": "c7d8500601614e418016cbbf3157836b",
       "version_major": 2,
       "version_minor": 0
      },
      "text/plain": [
       "Beam Search:   0%|          | 0/2 [00:00<?, ?it/s]"
      ]
     },
     "metadata": {},
     "output_type": "display_data"
    },
    {
     "data": {
      "application/vnd.jupyter.widget-view+json": {
       "model_id": "e1c89f5547404a14ae9d9223df9a921d",
       "version_major": 2,
       "version_minor": 0
      },
      "text/plain": [
       "Beam Search:   0%|          | 0/2 [00:00<?, ?it/s]"
      ]
     },
     "metadata": {},
     "output_type": "display_data"
    },
    {
     "data": {
      "application/vnd.jupyter.widget-view+json": {
       "model_id": "c839c314175340799068132fcfcdd8ce",
       "version_major": 2,
       "version_minor": 0
      },
      "text/plain": [
       "Beam Search:   0%|          | 0/2 [00:00<?, ?it/s]"
      ]
     },
     "metadata": {},
     "output_type": "display_data"
    },
    {
     "data": {
      "application/vnd.jupyter.widget-view+json": {
       "model_id": "b88e45aeb4ad4849bc940efeba33e050",
       "version_major": 2,
       "version_minor": 0
      },
      "text/plain": [
       "Beam Search:   0%|          | 0/2 [00:00<?, ?it/s]"
      ]
     },
     "metadata": {},
     "output_type": "display_data"
    },
    {
     "data": {
      "application/vnd.jupyter.widget-view+json": {
       "model_id": "e803f0eb819d45efb95182bd5fd67360",
       "version_major": 2,
       "version_minor": 0
      },
      "text/plain": [
       "Beam Search:   0%|          | 0/2 [00:00<?, ?it/s]"
      ]
     },
     "metadata": {},
     "output_type": "display_data"
    },
    {
     "data": {
      "application/vnd.jupyter.widget-view+json": {
       "model_id": "98dcbce73c7b4893b34bf213bb53c5e1",
       "version_major": 2,
       "version_minor": 0
      },
      "text/plain": [
       "Beam Search:   0%|          | 0/2 [00:00<?, ?it/s]"
      ]
     },
     "metadata": {},
     "output_type": "display_data"
    },
    {
     "data": {
      "application/vnd.jupyter.widget-view+json": {
       "model_id": "aff34852d1464194a0305374ada06da1",
       "version_major": 2,
       "version_minor": 0
      },
      "text/plain": [
       "Beam Search:   0%|          | 0/2 [00:00<?, ?it/s]"
      ]
     },
     "metadata": {},
     "output_type": "display_data"
    },
    {
     "data": {
      "application/vnd.jupyter.widget-view+json": {
       "model_id": "c557817dbd294690bf76f2506702d1e7",
       "version_major": 2,
       "version_minor": 0
      },
      "text/plain": [
       "Beam Search:   0%|          | 0/2 [00:00<?, ?it/s]"
      ]
     },
     "metadata": {},
     "output_type": "display_data"
    },
    {
     "data": {
      "application/vnd.jupyter.widget-view+json": {
       "model_id": "6f0f72ed1bf642c18c8dbd58577d929d",
       "version_major": 2,
       "version_minor": 0
      },
      "text/plain": [
       "Beam Search:   0%|          | 0/2 [00:00<?, ?it/s]"
      ]
     },
     "metadata": {},
     "output_type": "display_data"
    },
    {
     "data": {
      "application/vnd.jupyter.widget-view+json": {
       "model_id": "f66383639c054995ad0942546fd16c38",
       "version_major": 2,
       "version_minor": 0
      },
      "text/plain": [
       "Beam Search:   0%|          | 0/2 [00:00<?, ?it/s]"
      ]
     },
     "metadata": {},
     "output_type": "display_data"
    },
    {
     "data": {
      "application/vnd.jupyter.widget-view+json": {
       "model_id": "f660975d155b4301b6994b28463b22bf",
       "version_major": 2,
       "version_minor": 0
      },
      "text/plain": [
       "Beam Search:   0%|          | 0/2 [00:00<?, ?it/s]"
      ]
     },
     "metadata": {},
     "output_type": "display_data"
    },
    {
     "data": {
      "application/vnd.jupyter.widget-view+json": {
       "model_id": "b9ae242c0a944a24b39fe920e0e82283",
       "version_major": 2,
       "version_minor": 0
      },
      "text/plain": [
       "Beam Search:   0%|          | 0/2 [00:00<?, ?it/s]"
      ]
     },
     "metadata": {},
     "output_type": "display_data"
    },
    {
     "data": {
      "application/vnd.jupyter.widget-view+json": {
       "model_id": "f7ff5d1da40c4649950fd9d3a9633898",
       "version_major": 2,
       "version_minor": 0
      },
      "text/plain": [
       "Beam Search:   0%|          | 0/2 [00:00<?, ?it/s]"
      ]
     },
     "metadata": {},
     "output_type": "display_data"
    },
    {
     "data": {
      "application/vnd.jupyter.widget-view+json": {
       "model_id": "b970fa0e3f4e4f37bde02aec333d9b09",
       "version_major": 2,
       "version_minor": 0
      },
      "text/plain": [
       "Beam Search:   0%|          | 0/2 [00:00<?, ?it/s]"
      ]
     },
     "metadata": {},
     "output_type": "display_data"
    },
    {
     "data": {
      "application/vnd.jupyter.widget-view+json": {
       "model_id": "b747517b6d2b4695b831868b0ccb7b0a",
       "version_major": 2,
       "version_minor": 0
      },
      "text/plain": [
       "Beam Search:   0%|          | 0/2 [00:00<?, ?it/s]"
      ]
     },
     "metadata": {},
     "output_type": "display_data"
    },
    {
     "data": {
      "application/vnd.jupyter.widget-view+json": {
       "model_id": "9d2ac9cf4a584fea987bca5aae23a417",
       "version_major": 2,
       "version_minor": 0
      },
      "text/plain": [
       "Beam Search:   0%|          | 0/2 [00:00<?, ?it/s]"
      ]
     },
     "metadata": {},
     "output_type": "display_data"
    },
    {
     "data": {
      "application/vnd.jupyter.widget-view+json": {
       "model_id": "fc9837a6aa154c17a61dd079e36053bd",
       "version_major": 2,
       "version_minor": 0
      },
      "text/plain": [
       "Beam Search:   0%|          | 0/2 [00:00<?, ?it/s]"
      ]
     },
     "metadata": {},
     "output_type": "display_data"
    },
    {
     "data": {
      "application/vnd.jupyter.widget-view+json": {
       "model_id": "4a9b6cb694204aa3a7790a1aa2cc9b87",
       "version_major": 2,
       "version_minor": 0
      },
      "text/plain": [
       "Beam Search:   0%|          | 0/2 [00:00<?, ?it/s]"
      ]
     },
     "metadata": {},
     "output_type": "display_data"
    },
    {
     "data": {
      "application/vnd.jupyter.widget-view+json": {
       "model_id": "abee3a3b46824b8d8d813ca1d380cdd0",
       "version_major": 2,
       "version_minor": 0
      },
      "text/plain": [
       "Beam Search:   0%|          | 0/2 [00:00<?, ?it/s]"
      ]
     },
     "metadata": {},
     "output_type": "display_data"
    },
    {
     "data": {
      "application/vnd.jupyter.widget-view+json": {
       "model_id": "be174383e8ab4771a8b147db8fefe230",
       "version_major": 2,
       "version_minor": 0
      },
      "text/plain": [
       "Beam Search:   0%|          | 0/2 [00:00<?, ?it/s]"
      ]
     },
     "metadata": {},
     "output_type": "display_data"
    },
    {
     "data": {
      "application/vnd.jupyter.widget-view+json": {
       "model_id": "26ca9db1c407439396f494ddacdf4370",
       "version_major": 2,
       "version_minor": 0
      },
      "text/plain": [
       "Beam Search:   0%|          | 0/2 [00:00<?, ?it/s]"
      ]
     },
     "metadata": {},
     "output_type": "display_data"
    },
    {
     "data": {
      "application/vnd.jupyter.widget-view+json": {
       "model_id": "a2e47f324e084d0a8123eb980f2d4f9f",
       "version_major": 2,
       "version_minor": 0
      },
      "text/plain": [
       "Beam Search:   0%|          | 0/2 [00:00<?, ?it/s]"
      ]
     },
     "metadata": {},
     "output_type": "display_data"
    },
    {
     "data": {
      "application/vnd.jupyter.widget-view+json": {
       "model_id": "4debbe89d61e4faabc0e51c910f20810",
       "version_major": 2,
       "version_minor": 0
      },
      "text/plain": [
       "Beam Search:   0%|          | 0/2 [00:00<?, ?it/s]"
      ]
     },
     "metadata": {},
     "output_type": "display_data"
    },
    {
     "data": {
      "application/vnd.jupyter.widget-view+json": {
       "model_id": "29cd4c2ad08b457dba959ca409823b11",
       "version_major": 2,
       "version_minor": 0
      },
      "text/plain": [
       "Beam Search:   0%|          | 0/2 [00:00<?, ?it/s]"
      ]
     },
     "metadata": {},
     "output_type": "display_data"
    },
    {
     "data": {
      "application/vnd.jupyter.widget-view+json": {
       "model_id": "cc570e5f3287436faddc93879fb22662",
       "version_major": 2,
       "version_minor": 0
      },
      "text/plain": [
       "Beam Search:   0%|          | 0/2 [00:00<?, ?it/s]"
      ]
     },
     "metadata": {},
     "output_type": "display_data"
    },
    {
     "data": {
      "application/vnd.jupyter.widget-view+json": {
       "model_id": "b0554bfd871f425194963357217225a4",
       "version_major": 2,
       "version_minor": 0
      },
      "text/plain": [
       "Beam Search:   0%|          | 0/2 [00:00<?, ?it/s]"
      ]
     },
     "metadata": {},
     "output_type": "display_data"
    },
    {
     "data": {
      "application/vnd.jupyter.widget-view+json": {
       "model_id": "ea1d3b7cbebf4511a3ebf716f2cb0e77",
       "version_major": 2,
       "version_minor": 0
      },
      "text/plain": [
       "Beam Search:   0%|          | 0/2 [00:00<?, ?it/s]"
      ]
     },
     "metadata": {},
     "output_type": "display_data"
    },
    {
     "data": {
      "application/vnd.jupyter.widget-view+json": {
       "model_id": "ac522c655df04b239337d828a8d3426b",
       "version_major": 2,
       "version_minor": 0
      },
      "text/plain": [
       "Beam Search:   0%|          | 0/2 [00:00<?, ?it/s]"
      ]
     },
     "metadata": {},
     "output_type": "display_data"
    },
    {
     "data": {
      "application/vnd.jupyter.widget-view+json": {
       "model_id": "229d585e1a624bfc90f2c538e021de9a",
       "version_major": 2,
       "version_minor": 0
      },
      "text/plain": [
       "Beam Search:   0%|          | 0/2 [00:00<?, ?it/s]"
      ]
     },
     "metadata": {},
     "output_type": "display_data"
    },
    {
     "data": {
      "application/vnd.jupyter.widget-view+json": {
       "model_id": "32028cb37e15446fb87e3f0285c6429f",
       "version_major": 2,
       "version_minor": 0
      },
      "text/plain": [
       "Beam Search:   0%|          | 0/2 [00:00<?, ?it/s]"
      ]
     },
     "metadata": {},
     "output_type": "display_data"
    },
    {
     "data": {
      "application/vnd.jupyter.widget-view+json": {
       "model_id": "06c08ca90614405d8d025b69a38c87da",
       "version_major": 2,
       "version_minor": 0
      },
      "text/plain": [
       "Beam Search:   0%|          | 0/2 [00:00<?, ?it/s]"
      ]
     },
     "metadata": {},
     "output_type": "display_data"
    },
    {
     "data": {
      "application/vnd.jupyter.widget-view+json": {
       "model_id": "6defaf8855d141b9a572467f852e0d71",
       "version_major": 2,
       "version_minor": 0
      },
      "text/plain": [
       "Beam Search:   0%|          | 0/2 [00:00<?, ?it/s]"
      ]
     },
     "metadata": {},
     "output_type": "display_data"
    },
    {
     "data": {
      "application/vnd.jupyter.widget-view+json": {
       "model_id": "47fc66df013a465a9dc9e72c7065bca3",
       "version_major": 2,
       "version_minor": 0
      },
      "text/plain": [
       "Beam Search:   0%|          | 0/2 [00:00<?, ?it/s]"
      ]
     },
     "metadata": {},
     "output_type": "display_data"
    },
    {
     "data": {
      "application/vnd.jupyter.widget-view+json": {
       "model_id": "b51da2fd9d664099a3743ac80c5b62c6",
       "version_major": 2,
       "version_minor": 0
      },
      "text/plain": [
       "Beam Search:   0%|          | 0/2 [00:00<?, ?it/s]"
      ]
     },
     "metadata": {},
     "output_type": "display_data"
    },
    {
     "data": {
      "application/vnd.jupyter.widget-view+json": {
       "model_id": "6cc146aa03024f38ae67f053f888d0df",
       "version_major": 2,
       "version_minor": 0
      },
      "text/plain": [
       "Beam Search:   0%|          | 0/2 [00:00<?, ?it/s]"
      ]
     },
     "metadata": {},
     "output_type": "display_data"
    },
    {
     "data": {
      "application/vnd.jupyter.widget-view+json": {
       "model_id": "44bc0bef0518424fb36b61790bf65585",
       "version_major": 2,
       "version_minor": 0
      },
      "text/plain": [
       "Beam Search:   0%|          | 0/2 [00:00<?, ?it/s]"
      ]
     },
     "metadata": {},
     "output_type": "display_data"
    },
    {
     "data": {
      "application/vnd.jupyter.widget-view+json": {
       "model_id": "5618a9ab6b89450894ba04aee6516c74",
       "version_major": 2,
       "version_minor": 0
      },
      "text/plain": [
       "Beam Search:   0%|          | 0/2 [00:00<?, ?it/s]"
      ]
     },
     "metadata": {},
     "output_type": "display_data"
    },
    {
     "data": {
      "application/vnd.jupyter.widget-view+json": {
       "model_id": "aa9ed9aec70e44b992d6db2c1c0b734e",
       "version_major": 2,
       "version_minor": 0
      },
      "text/plain": [
       "Beam Search:   0%|          | 0/2 [00:00<?, ?it/s]"
      ]
     },
     "metadata": {},
     "output_type": "display_data"
    },
    {
     "data": {
      "application/vnd.jupyter.widget-view+json": {
       "model_id": "084fe353979e4450a1244cbaaf5cf602",
       "version_major": 2,
       "version_minor": 0
      },
      "text/plain": [
       "Beam Search:   0%|          | 0/2 [00:00<?, ?it/s]"
      ]
     },
     "metadata": {},
     "output_type": "display_data"
    },
    {
     "data": {
      "application/vnd.jupyter.widget-view+json": {
       "model_id": "6f83e759e7934420a62a03d7d81f558c",
       "version_major": 2,
       "version_minor": 0
      },
      "text/plain": [
       "Beam Search:   0%|          | 0/2 [00:00<?, ?it/s]"
      ]
     },
     "metadata": {},
     "output_type": "display_data"
    },
    {
     "data": {
      "application/vnd.jupyter.widget-view+json": {
       "model_id": "335aa3b4aea34372a8066debac8dff78",
       "version_major": 2,
       "version_minor": 0
      },
      "text/plain": [
       "Beam Search:   0%|          | 0/2 [00:00<?, ?it/s]"
      ]
     },
     "metadata": {},
     "output_type": "display_data"
    },
    {
     "data": {
      "application/vnd.jupyter.widget-view+json": {
       "model_id": "cb61e31ca86a43d089ba7409fcb1782e",
       "version_major": 2,
       "version_minor": 0
      },
      "text/plain": [
       "Beam Search:   0%|          | 0/2 [00:00<?, ?it/s]"
      ]
     },
     "metadata": {},
     "output_type": "display_data"
    },
    {
     "data": {
      "application/vnd.jupyter.widget-view+json": {
       "model_id": "9d1bf37e15a3409c8381dd456908423f",
       "version_major": 2,
       "version_minor": 0
      },
      "text/plain": [
       "Beam Search:   0%|          | 0/2 [00:00<?, ?it/s]"
      ]
     },
     "metadata": {},
     "output_type": "display_data"
    },
    {
     "data": {
      "application/vnd.jupyter.widget-view+json": {
       "model_id": "80c9fa7d570046bdb87ee49251d5e5ac",
       "version_major": 2,
       "version_minor": 0
      },
      "text/plain": [
       "Beam Search:   0%|          | 0/2 [00:00<?, ?it/s]"
      ]
     },
     "metadata": {},
     "output_type": "display_data"
    },
    {
     "data": {
      "application/vnd.jupyter.widget-view+json": {
       "model_id": "a56a955e513544e9a7f7efaca718b236",
       "version_major": 2,
       "version_minor": 0
      },
      "text/plain": [
       "Beam Search:   0%|          | 0/2 [00:00<?, ?it/s]"
      ]
     },
     "metadata": {},
     "output_type": "display_data"
    },
    {
     "data": {
      "application/vnd.jupyter.widget-view+json": {
       "model_id": "2f87a6f60dd848ba8dae2049704f1ebd",
       "version_major": 2,
       "version_minor": 0
      },
      "text/plain": [
       "Beam Search:   0%|          | 0/2 [00:00<?, ?it/s]"
      ]
     },
     "metadata": {},
     "output_type": "display_data"
    },
    {
     "data": {
      "application/vnd.jupyter.widget-view+json": {
       "model_id": "062eac26f2564f18bf672d165d47a326",
       "version_major": 2,
       "version_minor": 0
      },
      "text/plain": [
       "Beam Search:   0%|          | 0/2 [00:00<?, ?it/s]"
      ]
     },
     "metadata": {},
     "output_type": "display_data"
    },
    {
     "data": {
      "application/vnd.jupyter.widget-view+json": {
       "model_id": "284f4b5bf69b4693bc2789a89d7fc5ae",
       "version_major": 2,
       "version_minor": 0
      },
      "text/plain": [
       "Beam Search:   0%|          | 0/2 [00:00<?, ?it/s]"
      ]
     },
     "metadata": {},
     "output_type": "display_data"
    },
    {
     "data": {
      "application/vnd.jupyter.widget-view+json": {
       "model_id": "000a8e5b24c94974b2c3049685b43a24",
       "version_major": 2,
       "version_minor": 0
      },
      "text/plain": [
       "Beam Search:   0%|          | 0/2 [00:00<?, ?it/s]"
      ]
     },
     "metadata": {},
     "output_type": "display_data"
    },
    {
     "data": {
      "application/vnd.jupyter.widget-view+json": {
       "model_id": "0e5dc9db28f94faf853920a066320724",
       "version_major": 2,
       "version_minor": 0
      },
      "text/plain": [
       "Beam Search:   0%|          | 0/2 [00:00<?, ?it/s]"
      ]
     },
     "metadata": {},
     "output_type": "display_data"
    },
    {
     "data": {
      "application/vnd.jupyter.widget-view+json": {
       "model_id": "1a3409d2294a4b4d9f9391db03e3263b",
       "version_major": 2,
       "version_minor": 0
      },
      "text/plain": [
       "Beam Search:   0%|          | 0/2 [00:00<?, ?it/s]"
      ]
     },
     "metadata": {},
     "output_type": "display_data"
    },
    {
     "data": {
      "application/vnd.jupyter.widget-view+json": {
       "model_id": "ef6a65a775a94462a97e65103f1b998c",
       "version_major": 2,
       "version_minor": 0
      },
      "text/plain": [
       "Beam Search:   0%|          | 0/2 [00:00<?, ?it/s]"
      ]
     },
     "metadata": {},
     "output_type": "display_data"
    },
    {
     "data": {
      "application/vnd.jupyter.widget-view+json": {
       "model_id": "5f0d371e009e4c128ac8fd3f0929b379",
       "version_major": 2,
       "version_minor": 0
      },
      "text/plain": [
       "Beam Search:   0%|          | 0/2 [00:00<?, ?it/s]"
      ]
     },
     "metadata": {},
     "output_type": "display_data"
    },
    {
     "data": {
      "application/vnd.jupyter.widget-view+json": {
       "model_id": "d28a453a2dcc4ced8f445e500b48038b",
       "version_major": 2,
       "version_minor": 0
      },
      "text/plain": [
       "Beam Search:   0%|          | 0/2 [00:00<?, ?it/s]"
      ]
     },
     "metadata": {},
     "output_type": "display_data"
    },
    {
     "data": {
      "application/vnd.jupyter.widget-view+json": {
       "model_id": "e5914481ea0843ccb64b855dfd50424c",
       "version_major": 2,
       "version_minor": 0
      },
      "text/plain": [
       "Beam Search:   0%|          | 0/2 [00:00<?, ?it/s]"
      ]
     },
     "metadata": {},
     "output_type": "display_data"
    },
    {
     "data": {
      "application/vnd.jupyter.widget-view+json": {
       "model_id": "da2f307d8e664d989c970225ada35a6e",
       "version_major": 2,
       "version_minor": 0
      },
      "text/plain": [
       "Beam Search:   0%|          | 0/2 [00:00<?, ?it/s]"
      ]
     },
     "metadata": {},
     "output_type": "display_data"
    },
    {
     "data": {
      "application/vnd.jupyter.widget-view+json": {
       "model_id": "4244ff854cd947a199864c98d975c4e4",
       "version_major": 2,
       "version_minor": 0
      },
      "text/plain": [
       "Beam Search:   0%|          | 0/2 [00:00<?, ?it/s]"
      ]
     },
     "metadata": {},
     "output_type": "display_data"
    },
    {
     "data": {
      "application/vnd.jupyter.widget-view+json": {
       "model_id": "649e265cd35d4c1f97670a90c927324a",
       "version_major": 2,
       "version_minor": 0
      },
      "text/plain": [
       "Beam Search:   0%|          | 0/2 [00:00<?, ?it/s]"
      ]
     },
     "metadata": {},
     "output_type": "display_data"
    },
    {
     "data": {
      "application/vnd.jupyter.widget-view+json": {
       "model_id": "9bc4044701d746188405b6f268097893",
       "version_major": 2,
       "version_minor": 0
      },
      "text/plain": [
       "Beam Search:   0%|          | 0/2 [00:00<?, ?it/s]"
      ]
     },
     "metadata": {},
     "output_type": "display_data"
    },
    {
     "data": {
      "application/vnd.jupyter.widget-view+json": {
       "model_id": "6b3b692af0204a0bb1994b6c5ef275ed",
       "version_major": 2,
       "version_minor": 0
      },
      "text/plain": [
       "Beam Search:   0%|          | 0/2 [00:00<?, ?it/s]"
      ]
     },
     "metadata": {},
     "output_type": "display_data"
    },
    {
     "data": {
      "application/vnd.jupyter.widget-view+json": {
       "model_id": "ca39d71514aa4345b91b5e153f54d8dc",
       "version_major": 2,
       "version_minor": 0
      },
      "text/plain": [
       "Beam Search:   0%|          | 0/2 [00:00<?, ?it/s]"
      ]
     },
     "metadata": {},
     "output_type": "display_data"
    },
    {
     "data": {
      "application/vnd.jupyter.widget-view+json": {
       "model_id": "8c2f89e3d3dc4e5b96be78312ede1dc3",
       "version_major": 2,
       "version_minor": 0
      },
      "text/plain": [
       "Beam Search:   0%|          | 0/2 [00:00<?, ?it/s]"
      ]
     },
     "metadata": {},
     "output_type": "display_data"
    },
    {
     "data": {
      "application/vnd.jupyter.widget-view+json": {
       "model_id": "3c773e10509d4549858b4e2e7f5f39f0",
       "version_major": 2,
       "version_minor": 0
      },
      "text/plain": [
       "Beam Search:   0%|          | 0/2 [00:00<?, ?it/s]"
      ]
     },
     "metadata": {},
     "output_type": "display_data"
    },
    {
     "data": {
      "application/vnd.jupyter.widget-view+json": {
       "model_id": "20e5d346183a4586b4e781bd3f1b97eb",
       "version_major": 2,
       "version_minor": 0
      },
      "text/plain": [
       "Beam Search:   0%|          | 0/2 [00:00<?, ?it/s]"
      ]
     },
     "metadata": {},
     "output_type": "display_data"
    },
    {
     "data": {
      "application/vnd.jupyter.widget-view+json": {
       "model_id": "4e1b5917bc5e4331b121ebd9cd4aecf2",
       "version_major": 2,
       "version_minor": 0
      },
      "text/plain": [
       "Beam Search:   0%|          | 0/2 [00:00<?, ?it/s]"
      ]
     },
     "metadata": {},
     "output_type": "display_data"
    },
    {
     "data": {
      "application/vnd.jupyter.widget-view+json": {
       "model_id": "38cdaac5c8ee4373babfbd108dee8dbc",
       "version_major": 2,
       "version_minor": 0
      },
      "text/plain": [
       "Beam Search:   0%|          | 0/2 [00:00<?, ?it/s]"
      ]
     },
     "metadata": {},
     "output_type": "display_data"
    },
    {
     "data": {
      "application/vnd.jupyter.widget-view+json": {
       "model_id": "c6281402ea354537a52a299fd351b02d",
       "version_major": 2,
       "version_minor": 0
      },
      "text/plain": [
       "Beam Search:   0%|          | 0/2 [00:00<?, ?it/s]"
      ]
     },
     "metadata": {},
     "output_type": "display_data"
    },
    {
     "data": {
      "application/vnd.jupyter.widget-view+json": {
       "model_id": "04506f49cd1040728a7fe0bd37524799",
       "version_major": 2,
       "version_minor": 0
      },
      "text/plain": [
       "Beam Search:   0%|          | 0/2 [00:00<?, ?it/s]"
      ]
     },
     "metadata": {},
     "output_type": "display_data"
    },
    {
     "data": {
      "application/vnd.jupyter.widget-view+json": {
       "model_id": "5743b3d8ba98445c9932ac2260c3aafd",
       "version_major": 2,
       "version_minor": 0
      },
      "text/plain": [
       "Beam Search:   0%|          | 0/2 [00:00<?, ?it/s]"
      ]
     },
     "metadata": {},
     "output_type": "display_data"
    },
    {
     "data": {
      "application/vnd.jupyter.widget-view+json": {
       "model_id": "66e7ed436a0349319a57c36c1389c6f4",
       "version_major": 2,
       "version_minor": 0
      },
      "text/plain": [
       "Beam Search:   0%|          | 0/2 [00:00<?, ?it/s]"
      ]
     },
     "metadata": {},
     "output_type": "display_data"
    },
    {
     "data": {
      "application/vnd.jupyter.widget-view+json": {
       "model_id": "b22beebf15664ed0a0adb4470105d081",
       "version_major": 2,
       "version_minor": 0
      },
      "text/plain": [
       "Beam Search:   0%|          | 0/2 [00:00<?, ?it/s]"
      ]
     },
     "metadata": {},
     "output_type": "display_data"
    },
    {
     "data": {
      "application/vnd.jupyter.widget-view+json": {
       "model_id": "c9afbd6e5d144e33b283df8aca1aadba",
       "version_major": 2,
       "version_minor": 0
      },
      "text/plain": [
       "Beam Search:   0%|          | 0/2 [00:00<?, ?it/s]"
      ]
     },
     "metadata": {},
     "output_type": "display_data"
    },
    {
     "data": {
      "application/vnd.jupyter.widget-view+json": {
       "model_id": "357d96fb4a474c33b892fddabba970d4",
       "version_major": 2,
       "version_minor": 0
      },
      "text/plain": [
       "Beam Search:   0%|          | 0/2 [00:00<?, ?it/s]"
      ]
     },
     "metadata": {},
     "output_type": "display_data"
    },
    {
     "data": {
      "application/vnd.jupyter.widget-view+json": {
       "model_id": "ff02ecf387a8417881e23db1cca6270b",
       "version_major": 2,
       "version_minor": 0
      },
      "text/plain": [
       "Beam Search:   0%|          | 0/2 [00:00<?, ?it/s]"
      ]
     },
     "metadata": {},
     "output_type": "display_data"
    },
    {
     "data": {
      "application/vnd.jupyter.widget-view+json": {
       "model_id": "da39ef100ffe4ef29322a0b0039e00b2",
       "version_major": 2,
       "version_minor": 0
      },
      "text/plain": [
       "Beam Search:   0%|          | 0/2 [00:00<?, ?it/s]"
      ]
     },
     "metadata": {},
     "output_type": "display_data"
    },
    {
     "data": {
      "application/vnd.jupyter.widget-view+json": {
       "model_id": "967c801f51a84c1caeb94589aca2ff17",
       "version_major": 2,
       "version_minor": 0
      },
      "text/plain": [
       "Beam Search:   0%|          | 0/2 [00:00<?, ?it/s]"
      ]
     },
     "metadata": {},
     "output_type": "display_data"
    },
    {
     "data": {
      "application/vnd.jupyter.widget-view+json": {
       "model_id": "5d255a42984a47c1a1910bfc4f73b76d",
       "version_major": 2,
       "version_minor": 0
      },
      "text/plain": [
       "Beam Search:   0%|          | 0/2 [00:00<?, ?it/s]"
      ]
     },
     "metadata": {},
     "output_type": "display_data"
    },
    {
     "data": {
      "application/vnd.jupyter.widget-view+json": {
       "model_id": "c628a5ae245f4c34ae2e49aca150424a",
       "version_major": 2,
       "version_minor": 0
      },
      "text/plain": [
       "Beam Search:   0%|          | 0/2 [00:00<?, ?it/s]"
      ]
     },
     "metadata": {},
     "output_type": "display_data"
    },
    {
     "data": {
      "application/vnd.jupyter.widget-view+json": {
       "model_id": "0b6a9b0af0fd42e78b85810dda05698e",
       "version_major": 2,
       "version_minor": 0
      },
      "text/plain": [
       "Beam Search:   0%|          | 0/2 [00:00<?, ?it/s]"
      ]
     },
     "metadata": {},
     "output_type": "display_data"
    },
    {
     "data": {
      "application/vnd.jupyter.widget-view+json": {
       "model_id": "3f51f0154d4046d18a062b46dedd3c88",
       "version_major": 2,
       "version_minor": 0
      },
      "text/plain": [
       "Beam Search:   0%|          | 0/2 [00:00<?, ?it/s]"
      ]
     },
     "metadata": {},
     "output_type": "display_data"
    },
    {
     "data": {
      "application/vnd.jupyter.widget-view+json": {
       "model_id": "8e9627be121e43b9bad0111855fe2788",
       "version_major": 2,
       "version_minor": 0
      },
      "text/plain": [
       "Beam Search:   0%|          | 0/2 [00:00<?, ?it/s]"
      ]
     },
     "metadata": {},
     "output_type": "display_data"
    },
    {
     "data": {
      "application/vnd.jupyter.widget-view+json": {
       "model_id": "527ab11722ad4d5fb6a7248b2b620ff6",
       "version_major": 2,
       "version_minor": 0
      },
      "text/plain": [
       "Beam Search:   0%|          | 0/2 [00:00<?, ?it/s]"
      ]
     },
     "metadata": {},
     "output_type": "display_data"
    },
    {
     "data": {
      "application/vnd.jupyter.widget-view+json": {
       "model_id": "4d43aa98756c467fb289132fc2dc2239",
       "version_major": 2,
       "version_minor": 0
      },
      "text/plain": [
       "Beam Search:   0%|          | 0/2 [00:00<?, ?it/s]"
      ]
     },
     "metadata": {},
     "output_type": "display_data"
    },
    {
     "data": {
      "application/vnd.jupyter.widget-view+json": {
       "model_id": "eaa6aa48c0c840959ae1f65dd528f11f",
       "version_major": 2,
       "version_minor": 0
      },
      "text/plain": [
       "Beam Search:   0%|          | 0/2 [00:00<?, ?it/s]"
      ]
     },
     "metadata": {},
     "output_type": "display_data"
    },
    {
     "data": {
      "application/vnd.jupyter.widget-view+json": {
       "model_id": "08959299cfc04f09a8b2ba6da841c46d",
       "version_major": 2,
       "version_minor": 0
      },
      "text/plain": [
       "Beam Search:   0%|          | 0/2 [00:00<?, ?it/s]"
      ]
     },
     "metadata": {},
     "output_type": "display_data"
    },
    {
     "data": {
      "application/vnd.jupyter.widget-view+json": {
       "model_id": "cd91dad4ce804cce90f83b67b5b5b376",
       "version_major": 2,
       "version_minor": 0
      },
      "text/plain": [
       "Beam Search:   0%|          | 0/2 [00:00<?, ?it/s]"
      ]
     },
     "metadata": {},
     "output_type": "display_data"
    },
    {
     "data": {
      "application/vnd.jupyter.widget-view+json": {
       "model_id": "8ec9f29e75f84f4d917d8ed65c903e87",
       "version_major": 2,
       "version_minor": 0
      },
      "text/plain": [
       "Beam Search:   0%|          | 0/2 [00:00<?, ?it/s]"
      ]
     },
     "metadata": {},
     "output_type": "display_data"
    },
    {
     "data": {
      "application/vnd.jupyter.widget-view+json": {
       "model_id": "3c95125c70be40eba5e3559fc11c1358",
       "version_major": 2,
       "version_minor": 0
      },
      "text/plain": [
       "Beam Search:   0%|          | 0/2 [00:00<?, ?it/s]"
      ]
     },
     "metadata": {},
     "output_type": "display_data"
    },
    {
     "data": {
      "application/vnd.jupyter.widget-view+json": {
       "model_id": "f38a1480ece046b19004ca73244a0f0c",
       "version_major": 2,
       "version_minor": 0
      },
      "text/plain": [
       "Beam Search:   0%|          | 0/2 [00:00<?, ?it/s]"
      ]
     },
     "metadata": {},
     "output_type": "display_data"
    },
    {
     "data": {
      "application/vnd.jupyter.widget-view+json": {
       "model_id": "cd1b3178089147faaac0b4b36a454621",
       "version_major": 2,
       "version_minor": 0
      },
      "text/plain": [
       "Beam Search:   0%|          | 0/2 [00:00<?, ?it/s]"
      ]
     },
     "metadata": {},
     "output_type": "display_data"
    },
    {
     "data": {
      "application/vnd.jupyter.widget-view+json": {
       "model_id": "447e11fe810a4e42a2d380644e77612c",
       "version_major": 2,
       "version_minor": 0
      },
      "text/plain": [
       "Beam Search:   0%|          | 0/2 [00:00<?, ?it/s]"
      ]
     },
     "metadata": {},
     "output_type": "display_data"
    },
    {
     "data": {
      "application/vnd.jupyter.widget-view+json": {
       "model_id": "4482121644f2402db536e5de2438220c",
       "version_major": 2,
       "version_minor": 0
      },
      "text/plain": [
       "Beam Search:   0%|          | 0/2 [00:00<?, ?it/s]"
      ]
     },
     "metadata": {},
     "output_type": "display_data"
    },
    {
     "data": {
      "application/vnd.jupyter.widget-view+json": {
       "model_id": "52769fc2638c43f785f3f5f2006923f8",
       "version_major": 2,
       "version_minor": 0
      },
      "text/plain": [
       "Beam Search:   0%|          | 0/2 [00:00<?, ?it/s]"
      ]
     },
     "metadata": {},
     "output_type": "display_data"
    },
    {
     "data": {
      "application/vnd.jupyter.widget-view+json": {
       "model_id": "25143b69237a4b2d9c8c387443a2877b",
       "version_major": 2,
       "version_minor": 0
      },
      "text/plain": [
       "Beam Search:   0%|          | 0/2 [00:00<?, ?it/s]"
      ]
     },
     "metadata": {},
     "output_type": "display_data"
    },
    {
     "data": {
      "application/vnd.jupyter.widget-view+json": {
       "model_id": "20b1db0d4c0d49aea6321f57325a5777",
       "version_major": 2,
       "version_minor": 0
      },
      "text/plain": [
       "Beam Search:   0%|          | 0/2 [00:00<?, ?it/s]"
      ]
     },
     "metadata": {},
     "output_type": "display_data"
    },
    {
     "data": {
      "application/vnd.jupyter.widget-view+json": {
       "model_id": "8037b1cd953544ef9ce1e27e0f136405",
       "version_major": 2,
       "version_minor": 0
      },
      "text/plain": [
       "Beam Search:   0%|          | 0/2 [00:00<?, ?it/s]"
      ]
     },
     "metadata": {},
     "output_type": "display_data"
    },
    {
     "data": {
      "application/vnd.jupyter.widget-view+json": {
       "model_id": "0323b6b4e1ca41b795176d4a00fbccb2",
       "version_major": 2,
       "version_minor": 0
      },
      "text/plain": [
       "Beam Search:   0%|          | 0/2 [00:00<?, ?it/s]"
      ]
     },
     "metadata": {},
     "output_type": "display_data"
    },
    {
     "data": {
      "application/vnd.jupyter.widget-view+json": {
       "model_id": "dbbb2206795045cfbd9a5f466f3334d7",
       "version_major": 2,
       "version_minor": 0
      },
      "text/plain": [
       "Beam Search:   0%|          | 0/2 [00:00<?, ?it/s]"
      ]
     },
     "metadata": {},
     "output_type": "display_data"
    },
    {
     "data": {
      "application/vnd.jupyter.widget-view+json": {
       "model_id": "d2334f5c1cb848818f2b3b5a0de96a18",
       "version_major": 2,
       "version_minor": 0
      },
      "text/plain": [
       "Beam Search:   0%|          | 0/2 [00:00<?, ?it/s]"
      ]
     },
     "metadata": {},
     "output_type": "display_data"
    },
    {
     "data": {
      "application/vnd.jupyter.widget-view+json": {
       "model_id": "b2c6de710305452bba80e7fd7b00622a",
       "version_major": 2,
       "version_minor": 0
      },
      "text/plain": [
       "Beam Search:   0%|          | 0/2 [00:00<?, ?it/s]"
      ]
     },
     "metadata": {},
     "output_type": "display_data"
    },
    {
     "data": {
      "application/vnd.jupyter.widget-view+json": {
       "model_id": "4d8ee9c7da7f45d5aa50fb780fcc3c49",
       "version_major": 2,
       "version_minor": 0
      },
      "text/plain": [
       "Beam Search:   0%|          | 0/2 [00:00<?, ?it/s]"
      ]
     },
     "metadata": {},
     "output_type": "display_data"
    },
    {
     "data": {
      "application/vnd.jupyter.widget-view+json": {
       "model_id": "cde8665449b34262b15b5e78bea1377d",
       "version_major": 2,
       "version_minor": 0
      },
      "text/plain": [
       "Beam Search:   0%|          | 0/2 [00:00<?, ?it/s]"
      ]
     },
     "metadata": {},
     "output_type": "display_data"
    },
    {
     "data": {
      "application/vnd.jupyter.widget-view+json": {
       "model_id": "48b56a7d8a5743c18d99d62f059f49db",
       "version_major": 2,
       "version_minor": 0
      },
      "text/plain": [
       "Beam Search:   0%|          | 0/2 [00:00<?, ?it/s]"
      ]
     },
     "metadata": {},
     "output_type": "display_data"
    },
    {
     "data": {
      "application/vnd.jupyter.widget-view+json": {
       "model_id": "490d3557d9b14d5fbcfa42a0cdc3ca5e",
       "version_major": 2,
       "version_minor": 0
      },
      "text/plain": [
       "Beam Search:   0%|          | 0/2 [00:00<?, ?it/s]"
      ]
     },
     "metadata": {},
     "output_type": "display_data"
    },
    {
     "data": {
      "application/vnd.jupyter.widget-view+json": {
       "model_id": "6bbe48ea6f0344cba241060bdd839b54",
       "version_major": 2,
       "version_minor": 0
      },
      "text/plain": [
       "Beam Search:   0%|          | 0/2 [00:00<?, ?it/s]"
      ]
     },
     "metadata": {},
     "output_type": "display_data"
    },
    {
     "data": {
      "application/vnd.jupyter.widget-view+json": {
       "model_id": "8b35357771264aadbb7408a38fccad6a",
       "version_major": 2,
       "version_minor": 0
      },
      "text/plain": [
       "Beam Search:   0%|          | 0/2 [00:00<?, ?it/s]"
      ]
     },
     "metadata": {},
     "output_type": "display_data"
    },
    {
     "data": {
      "application/vnd.jupyter.widget-view+json": {
       "model_id": "cc1e8279eaf7426da64f122fb08158ed",
       "version_major": 2,
       "version_minor": 0
      },
      "text/plain": [
       "Beam Search:   0%|          | 0/2 [00:00<?, ?it/s]"
      ]
     },
     "metadata": {},
     "output_type": "display_data"
    },
    {
     "data": {
      "application/vnd.jupyter.widget-view+json": {
       "model_id": "f4eff4ac71b54aa493d4ecd3a6678991",
       "version_major": 2,
       "version_minor": 0
      },
      "text/plain": [
       "Beam Search:   0%|          | 0/2 [00:00<?, ?it/s]"
      ]
     },
     "metadata": {},
     "output_type": "display_data"
    },
    {
     "data": {
      "application/vnd.jupyter.widget-view+json": {
       "model_id": "969945dd0158437abb275ab7db765281",
       "version_major": 2,
       "version_minor": 0
      },
      "text/plain": [
       "Beam Search:   0%|          | 0/2 [00:00<?, ?it/s]"
      ]
     },
     "metadata": {},
     "output_type": "display_data"
    },
    {
     "data": {
      "application/vnd.jupyter.widget-view+json": {
       "model_id": "5f056923fdb040fe8667f54254365d08",
       "version_major": 2,
       "version_minor": 0
      },
      "text/plain": [
       "Beam Search:   0%|          | 0/2 [00:00<?, ?it/s]"
      ]
     },
     "metadata": {},
     "output_type": "display_data"
    },
    {
     "data": {
      "application/vnd.jupyter.widget-view+json": {
       "model_id": "bfa0e5b7e975413d836d0680b18738b8",
       "version_major": 2,
       "version_minor": 0
      },
      "text/plain": [
       "Beam Search:   0%|          | 0/2 [00:00<?, ?it/s]"
      ]
     },
     "metadata": {},
     "output_type": "display_data"
    },
    {
     "data": {
      "application/vnd.jupyter.widget-view+json": {
       "model_id": "7de8b8d6aa5f4be89f2e037f204f0abf",
       "version_major": 2,
       "version_minor": 0
      },
      "text/plain": [
       "Beam Search:   0%|          | 0/2 [00:00<?, ?it/s]"
      ]
     },
     "metadata": {},
     "output_type": "display_data"
    },
    {
     "data": {
      "application/vnd.jupyter.widget-view+json": {
       "model_id": "4594def128794939a5f910614d2081ec",
       "version_major": 2,
       "version_minor": 0
      },
      "text/plain": [
       "Beam Search:   0%|          | 0/2 [00:00<?, ?it/s]"
      ]
     },
     "metadata": {},
     "output_type": "display_data"
    },
    {
     "data": {
      "application/vnd.jupyter.widget-view+json": {
       "model_id": "e55377c9790e4e0ba76dcc560aeb4b24",
       "version_major": 2,
       "version_minor": 0
      },
      "text/plain": [
       "Beam Search:   0%|          | 0/2 [00:00<?, ?it/s]"
      ]
     },
     "metadata": {},
     "output_type": "display_data"
    },
    {
     "data": {
      "application/vnd.jupyter.widget-view+json": {
       "model_id": "d45143b7af7e4d39836437d71bce22a1",
       "version_major": 2,
       "version_minor": 0
      },
      "text/plain": [
       "Beam Search:   0%|          | 0/2 [00:00<?, ?it/s]"
      ]
     },
     "metadata": {},
     "output_type": "display_data"
    },
    {
     "data": {
      "application/vnd.jupyter.widget-view+json": {
       "model_id": "a469b7fa03f54ecd8d8eb1f1f794cca6",
       "version_major": 2,
       "version_minor": 0
      },
      "text/plain": [
       "Beam Search:   0%|          | 0/2 [00:00<?, ?it/s]"
      ]
     },
     "metadata": {},
     "output_type": "display_data"
    },
    {
     "data": {
      "application/vnd.jupyter.widget-view+json": {
       "model_id": "e39dd80108f14701bcab604e930f19f2",
       "version_major": 2,
       "version_minor": 0
      },
      "text/plain": [
       "Beam Search:   0%|          | 0/2 [00:00<?, ?it/s]"
      ]
     },
     "metadata": {},
     "output_type": "display_data"
    },
    {
     "data": {
      "application/vnd.jupyter.widget-view+json": {
       "model_id": "425b4efa9b294f5d97eac652214ada89",
       "version_major": 2,
       "version_minor": 0
      },
      "text/plain": [
       "Beam Search:   0%|          | 0/2 [00:00<?, ?it/s]"
      ]
     },
     "metadata": {},
     "output_type": "display_data"
    },
    {
     "data": {
      "application/vnd.jupyter.widget-view+json": {
       "model_id": "6232e48c7b23425684ad0794359b2773",
       "version_major": 2,
       "version_minor": 0
      },
      "text/plain": [
       "Beam Search:   0%|          | 0/2 [00:00<?, ?it/s]"
      ]
     },
     "metadata": {},
     "output_type": "display_data"
    },
    {
     "data": {
      "application/vnd.jupyter.widget-view+json": {
       "model_id": "9a7c2278a8e8430781e2cf7fcfe0a5ec",
       "version_major": 2,
       "version_minor": 0
      },
      "text/plain": [
       "Beam Search:   0%|          | 0/2 [00:00<?, ?it/s]"
      ]
     },
     "metadata": {},
     "output_type": "display_data"
    },
    {
     "data": {
      "application/vnd.jupyter.widget-view+json": {
       "model_id": "34de444272e74d53b2678a3418ac9723",
       "version_major": 2,
       "version_minor": 0
      },
      "text/plain": [
       "Beam Search:   0%|          | 0/2 [00:00<?, ?it/s]"
      ]
     },
     "metadata": {},
     "output_type": "display_data"
    },
    {
     "data": {
      "application/vnd.jupyter.widget-view+json": {
       "model_id": "10c9e834b2c943c489542116630d7f6f",
       "version_major": 2,
       "version_minor": 0
      },
      "text/plain": [
       "Beam Search:   0%|          | 0/2 [00:00<?, ?it/s]"
      ]
     },
     "metadata": {},
     "output_type": "display_data"
    },
    {
     "data": {
      "application/vnd.jupyter.widget-view+json": {
       "model_id": "24a7cdece9044b3ab9f8ed0c5435e66e",
       "version_major": 2,
       "version_minor": 0
      },
      "text/plain": [
       "Beam Search:   0%|          | 0/2 [00:00<?, ?it/s]"
      ]
     },
     "metadata": {},
     "output_type": "display_data"
    },
    {
     "data": {
      "application/vnd.jupyter.widget-view+json": {
       "model_id": "506f9c6c9c5f4d46863486cd7b268e84",
       "version_major": 2,
       "version_minor": 0
      },
      "text/plain": [
       "Beam Search:   0%|          | 0/2 [00:00<?, ?it/s]"
      ]
     },
     "metadata": {},
     "output_type": "display_data"
    },
    {
     "data": {
      "application/vnd.jupyter.widget-view+json": {
       "model_id": "a6eb47ceb33443379eb602f8f0a0af69",
       "version_major": 2,
       "version_minor": 0
      },
      "text/plain": [
       "Beam Search:   0%|          | 0/2 [00:00<?, ?it/s]"
      ]
     },
     "metadata": {},
     "output_type": "display_data"
    },
    {
     "data": {
      "application/vnd.jupyter.widget-view+json": {
       "model_id": "6b00242f015e4c0bac8ce987d28482c6",
       "version_major": 2,
       "version_minor": 0
      },
      "text/plain": [
       "Beam Search:   0%|          | 0/2 [00:00<?, ?it/s]"
      ]
     },
     "metadata": {},
     "output_type": "display_data"
    },
    {
     "data": {
      "application/vnd.jupyter.widget-view+json": {
       "model_id": "61d77a9f6bd947dca645abe9288563d3",
       "version_major": 2,
       "version_minor": 0
      },
      "text/plain": [
       "Beam Search:   0%|          | 0/2 [00:00<?, ?it/s]"
      ]
     },
     "metadata": {},
     "output_type": "display_data"
    },
    {
     "data": {
      "application/vnd.jupyter.widget-view+json": {
       "model_id": "8c9a4638083143ddbeccbb0bb0155933",
       "version_major": 2,
       "version_minor": 0
      },
      "text/plain": [
       "Beam Search:   0%|          | 0/2 [00:00<?, ?it/s]"
      ]
     },
     "metadata": {},
     "output_type": "display_data"
    },
    {
     "data": {
      "application/vnd.jupyter.widget-view+json": {
       "model_id": "a039df224d0f4440843116b46733a1ca",
       "version_major": 2,
       "version_minor": 0
      },
      "text/plain": [
       "Beam Search:   0%|          | 0/2 [00:00<?, ?it/s]"
      ]
     },
     "metadata": {},
     "output_type": "display_data"
    },
    {
     "data": {
      "application/vnd.jupyter.widget-view+json": {
       "model_id": "b6adf34104964ce6ab4e7c2abaf176ee",
       "version_major": 2,
       "version_minor": 0
      },
      "text/plain": [
       "Beam Search:   0%|          | 0/2 [00:00<?, ?it/s]"
      ]
     },
     "metadata": {},
     "output_type": "display_data"
    },
    {
     "data": {
      "application/vnd.jupyter.widget-view+json": {
       "model_id": "cad02a34dedc46d1becf5645ad944a7d",
       "version_major": 2,
       "version_minor": 0
      },
      "text/plain": [
       "Beam Search:   0%|          | 0/2 [00:00<?, ?it/s]"
      ]
     },
     "metadata": {},
     "output_type": "display_data"
    },
    {
     "data": {
      "application/vnd.jupyter.widget-view+json": {
       "model_id": "02e2f4ad0cbf40bd89ac1e103a027962",
       "version_major": 2,
       "version_minor": 0
      },
      "text/plain": [
       "Beam Search:   0%|          | 0/2 [00:00<?, ?it/s]"
      ]
     },
     "metadata": {},
     "output_type": "display_data"
    },
    {
     "data": {
      "application/vnd.jupyter.widget-view+json": {
       "model_id": "db2cd8cf96404447ac9df14ad8f43571",
       "version_major": 2,
       "version_minor": 0
      },
      "text/plain": [
       "Beam Search:   0%|          | 0/2 [00:00<?, ?it/s]"
      ]
     },
     "metadata": {},
     "output_type": "display_data"
    },
    {
     "data": {
      "application/vnd.jupyter.widget-view+json": {
       "model_id": "9b6dfa00cf4846c0b75d16ccd7db5914",
       "version_major": 2,
       "version_minor": 0
      },
      "text/plain": [
       "Beam Search:   0%|          | 0/2 [00:00<?, ?it/s]"
      ]
     },
     "metadata": {},
     "output_type": "display_data"
    },
    {
     "data": {
      "application/vnd.jupyter.widget-view+json": {
       "model_id": "6769a2b55e074874a742b298b8c53a07",
       "version_major": 2,
       "version_minor": 0
      },
      "text/plain": [
       "Beam Search:   0%|          | 0/2 [00:00<?, ?it/s]"
      ]
     },
     "metadata": {},
     "output_type": "display_data"
    },
    {
     "data": {
      "application/vnd.jupyter.widget-view+json": {
       "model_id": "b8d31ed972474bba825b901e4e78bcad",
       "version_major": 2,
       "version_minor": 0
      },
      "text/plain": [
       "Beam Search:   0%|          | 0/2 [00:00<?, ?it/s]"
      ]
     },
     "metadata": {},
     "output_type": "display_data"
    },
    {
     "data": {
      "application/vnd.jupyter.widget-view+json": {
       "model_id": "4b5e1ad5126d4d5ca1801f2f259078ed",
       "version_major": 2,
       "version_minor": 0
      },
      "text/plain": [
       "Beam Search:   0%|          | 0/2 [00:00<?, ?it/s]"
      ]
     },
     "metadata": {},
     "output_type": "display_data"
    },
    {
     "data": {
      "application/vnd.jupyter.widget-view+json": {
       "model_id": "0ce01a0b3ed54e5e8efc5903eff8bb58",
       "version_major": 2,
       "version_minor": 0
      },
      "text/plain": [
       "Beam Search:   0%|          | 0/2 [00:00<?, ?it/s]"
      ]
     },
     "metadata": {},
     "output_type": "display_data"
    },
    {
     "data": {
      "application/vnd.jupyter.widget-view+json": {
       "model_id": "0b3b5629b2384e2f809a0a9679b3d046",
       "version_major": 2,
       "version_minor": 0
      },
      "text/plain": [
       "Beam Search:   0%|          | 0/2 [00:00<?, ?it/s]"
      ]
     },
     "metadata": {},
     "output_type": "display_data"
    },
    {
     "data": {
      "application/vnd.jupyter.widget-view+json": {
       "model_id": "3a48e5e38fee482a89bc7aa52f3bef55",
       "version_major": 2,
       "version_minor": 0
      },
      "text/plain": [
       "Beam Search:   0%|          | 0/2 [00:00<?, ?it/s]"
      ]
     },
     "metadata": {},
     "output_type": "display_data"
    },
    {
     "data": {
      "application/vnd.jupyter.widget-view+json": {
       "model_id": "d07f9a23342b46eea36aa4e0fb9e6b9d",
       "version_major": 2,
       "version_minor": 0
      },
      "text/plain": [
       "Beam Search:   0%|          | 0/2 [00:00<?, ?it/s]"
      ]
     },
     "metadata": {},
     "output_type": "display_data"
    },
    {
     "data": {
      "application/vnd.jupyter.widget-view+json": {
       "model_id": "2ee8d5ae28e842979882867e46cba27d",
       "version_major": 2,
       "version_minor": 0
      },
      "text/plain": [
       "Beam Search:   0%|          | 0/2 [00:00<?, ?it/s]"
      ]
     },
     "metadata": {},
     "output_type": "display_data"
    },
    {
     "data": {
      "application/vnd.jupyter.widget-view+json": {
       "model_id": "d3876eafb7074240a341837f07126958",
       "version_major": 2,
       "version_minor": 0
      },
      "text/plain": [
       "Beam Search:   0%|          | 0/2 [00:00<?, ?it/s]"
      ]
     },
     "metadata": {},
     "output_type": "display_data"
    },
    {
     "data": {
      "application/vnd.jupyter.widget-view+json": {
       "model_id": "a9c5bbc7651142bcbb9765828f9b7cc7",
       "version_major": 2,
       "version_minor": 0
      },
      "text/plain": [
       "Beam Search:   0%|          | 0/2 [00:00<?, ?it/s]"
      ]
     },
     "metadata": {},
     "output_type": "display_data"
    },
    {
     "data": {
      "application/vnd.jupyter.widget-view+json": {
       "model_id": "32a8f20ee541494c9e6de138dd1de387",
       "version_major": 2,
       "version_minor": 0
      },
      "text/plain": [
       "Beam Search:   0%|          | 0/2 [00:00<?, ?it/s]"
      ]
     },
     "metadata": {},
     "output_type": "display_data"
    },
    {
     "data": {
      "application/vnd.jupyter.widget-view+json": {
       "model_id": "ff50f93a0fb94b33830ab07c67f7fc1e",
       "version_major": 2,
       "version_minor": 0
      },
      "text/plain": [
       "Beam Search:   0%|          | 0/2 [00:00<?, ?it/s]"
      ]
     },
     "metadata": {},
     "output_type": "display_data"
    },
    {
     "data": {
      "application/vnd.jupyter.widget-view+json": {
       "model_id": "b67623bc896843ce8d030b7fd70415fc",
       "version_major": 2,
       "version_minor": 0
      },
      "text/plain": [
       "Beam Search:   0%|          | 0/2 [00:00<?, ?it/s]"
      ]
     },
     "metadata": {},
     "output_type": "display_data"
    },
    {
     "data": {
      "application/vnd.jupyter.widget-view+json": {
       "model_id": "8784b009fcd64bb0abaf39063bdcdeee",
       "version_major": 2,
       "version_minor": 0
      },
      "text/plain": [
       "Beam Search:   0%|          | 0/2 [00:00<?, ?it/s]"
      ]
     },
     "metadata": {},
     "output_type": "display_data"
    },
    {
     "data": {
      "application/vnd.jupyter.widget-view+json": {
       "model_id": "996ee0cbfcc6409581c8074b211a99c9",
       "version_major": 2,
       "version_minor": 0
      },
      "text/plain": [
       "Beam Search:   0%|          | 0/2 [00:00<?, ?it/s]"
      ]
     },
     "metadata": {},
     "output_type": "display_data"
    },
    {
     "data": {
      "application/vnd.jupyter.widget-view+json": {
       "model_id": "72df29eca40f45839dc36687e8e8d9a5",
       "version_major": 2,
       "version_minor": 0
      },
      "text/plain": [
       "Beam Search:   0%|          | 0/2 [00:00<?, ?it/s]"
      ]
     },
     "metadata": {},
     "output_type": "display_data"
    },
    {
     "data": {
      "application/vnd.jupyter.widget-view+json": {
       "model_id": "1492988e871b4498a3b4b2ea2fbe490c",
       "version_major": 2,
       "version_minor": 0
      },
      "text/plain": [
       "Beam Search:   0%|          | 0/2 [00:00<?, ?it/s]"
      ]
     },
     "metadata": {},
     "output_type": "display_data"
    },
    {
     "data": {
      "application/vnd.jupyter.widget-view+json": {
       "model_id": "45bba1ec3f5e47f598adadc2c5bccb20",
       "version_major": 2,
       "version_minor": 0
      },
      "text/plain": [
       "Beam Search:   0%|          | 0/2 [00:00<?, ?it/s]"
      ]
     },
     "metadata": {},
     "output_type": "display_data"
    },
    {
     "data": {
      "application/vnd.jupyter.widget-view+json": {
       "model_id": "e97e3e7bceec4ebd84397cbef8407d09",
       "version_major": 2,
       "version_minor": 0
      },
      "text/plain": [
       "Beam Search:   0%|          | 0/2 [00:00<?, ?it/s]"
      ]
     },
     "metadata": {},
     "output_type": "display_data"
    },
    {
     "data": {
      "application/vnd.jupyter.widget-view+json": {
       "model_id": "123ee228defe4719a540294defc5ebc9",
       "version_major": 2,
       "version_minor": 0
      },
      "text/plain": [
       "Beam Search:   0%|          | 0/2 [00:00<?, ?it/s]"
      ]
     },
     "metadata": {},
     "output_type": "display_data"
    },
    {
     "data": {
      "application/vnd.jupyter.widget-view+json": {
       "model_id": "36ff040543ff4e0f9200068e00609e6e",
       "version_major": 2,
       "version_minor": 0
      },
      "text/plain": [
       "Beam Search:   0%|          | 0/2 [00:00<?, ?it/s]"
      ]
     },
     "metadata": {},
     "output_type": "display_data"
    },
    {
     "data": {
      "application/vnd.jupyter.widget-view+json": {
       "model_id": "7c5b2ba8c4b846ce8486f38371b9e445",
       "version_major": 2,
       "version_minor": 0
      },
      "text/plain": [
       "Beam Search:   0%|          | 0/2 [00:00<?, ?it/s]"
      ]
     },
     "metadata": {},
     "output_type": "display_data"
    },
    {
     "data": {
      "application/vnd.jupyter.widget-view+json": {
       "model_id": "61b7f85a022d4fbdb1aaf75b5733cac7",
       "version_major": 2,
       "version_minor": 0
      },
      "text/plain": [
       "Beam Search:   0%|          | 0/2 [00:00<?, ?it/s]"
      ]
     },
     "metadata": {},
     "output_type": "display_data"
    },
    {
     "data": {
      "application/vnd.jupyter.widget-view+json": {
       "model_id": "d3f7a206255544e98c4d088257f43075",
       "version_major": 2,
       "version_minor": 0
      },
      "text/plain": [
       "Beam Search:   0%|          | 0/2 [00:00<?, ?it/s]"
      ]
     },
     "metadata": {},
     "output_type": "display_data"
    },
    {
     "data": {
      "application/vnd.jupyter.widget-view+json": {
       "model_id": "f891e17f7eeb41f795f80a616b36a9cf",
       "version_major": 2,
       "version_minor": 0
      },
      "text/plain": [
       "Beam Search:   0%|          | 0/2 [00:00<?, ?it/s]"
      ]
     },
     "metadata": {},
     "output_type": "display_data"
    },
    {
     "data": {
      "application/vnd.jupyter.widget-view+json": {
       "model_id": "1ea76467513546968d0ac949833b3f50",
       "version_major": 2,
       "version_minor": 0
      },
      "text/plain": [
       "Beam Search:   0%|          | 0/2 [00:00<?, ?it/s]"
      ]
     },
     "metadata": {},
     "output_type": "display_data"
    },
    {
     "data": {
      "application/vnd.jupyter.widget-view+json": {
       "model_id": "0efc2f5bf4d945798f96978da85237b6",
       "version_major": 2,
       "version_minor": 0
      },
      "text/plain": [
       "Beam Search:   0%|          | 0/2 [00:00<?, ?it/s]"
      ]
     },
     "metadata": {},
     "output_type": "display_data"
    },
    {
     "data": {
      "application/vnd.jupyter.widget-view+json": {
       "model_id": "e299f648af5e45329f4958efb4250e86",
       "version_major": 2,
       "version_minor": 0
      },
      "text/plain": [
       "Beam Search:   0%|          | 0/2 [00:00<?, ?it/s]"
      ]
     },
     "metadata": {},
     "output_type": "display_data"
    },
    {
     "data": {
      "application/vnd.jupyter.widget-view+json": {
       "model_id": "affd8288baa64f84ab45b873d7923d67",
       "version_major": 2,
       "version_minor": 0
      },
      "text/plain": [
       "Beam Search:   0%|          | 0/2 [00:00<?, ?it/s]"
      ]
     },
     "metadata": {},
     "output_type": "display_data"
    },
    {
     "data": {
      "application/vnd.jupyter.widget-view+json": {
       "model_id": "7fd00b4a45444d958e05d838a0b17426",
       "version_major": 2,
       "version_minor": 0
      },
      "text/plain": [
       "Beam Search:   0%|          | 0/2 [00:00<?, ?it/s]"
      ]
     },
     "metadata": {},
     "output_type": "display_data"
    },
    {
     "data": {
      "application/vnd.jupyter.widget-view+json": {
       "model_id": "f7e37bc5d73445f99b13ee98335fff5f",
       "version_major": 2,
       "version_minor": 0
      },
      "text/plain": [
       "Beam Search:   0%|          | 0/2 [00:00<?, ?it/s]"
      ]
     },
     "metadata": {},
     "output_type": "display_data"
    },
    {
     "data": {
      "application/vnd.jupyter.widget-view+json": {
       "model_id": "451ba81597474f0b9d1c468828d81559",
       "version_major": 2,
       "version_minor": 0
      },
      "text/plain": [
       "Beam Search:   0%|          | 0/2 [00:00<?, ?it/s]"
      ]
     },
     "metadata": {},
     "output_type": "display_data"
    },
    {
     "data": {
      "application/vnd.jupyter.widget-view+json": {
       "model_id": "ea586e01e4874428978db696016f4d90",
       "version_major": 2,
       "version_minor": 0
      },
      "text/plain": [
       "Beam Search:   0%|          | 0/2 [00:00<?, ?it/s]"
      ]
     },
     "metadata": {},
     "output_type": "display_data"
    },
    {
     "data": {
      "application/vnd.jupyter.widget-view+json": {
       "model_id": "4a60b56a86f845afb40912e038cdaf12",
       "version_major": 2,
       "version_minor": 0
      },
      "text/plain": [
       "Beam Search:   0%|          | 0/2 [00:00<?, ?it/s]"
      ]
     },
     "metadata": {},
     "output_type": "display_data"
    },
    {
     "data": {
      "application/vnd.jupyter.widget-view+json": {
       "model_id": "983f184a0976482eafbe851524d4eee5",
       "version_major": 2,
       "version_minor": 0
      },
      "text/plain": [
       "Beam Search:   0%|          | 0/2 [00:00<?, ?it/s]"
      ]
     },
     "metadata": {},
     "output_type": "display_data"
    },
    {
     "data": {
      "application/vnd.jupyter.widget-view+json": {
       "model_id": "e7e50e95364246c2b6b462bd953dfbd5",
       "version_major": 2,
       "version_minor": 0
      },
      "text/plain": [
       "Beam Search:   0%|          | 0/2 [00:00<?, ?it/s]"
      ]
     },
     "metadata": {},
     "output_type": "display_data"
    },
    {
     "data": {
      "application/vnd.jupyter.widget-view+json": {
       "model_id": "e1970aec39874b6f9ed32a4df4010075",
       "version_major": 2,
       "version_minor": 0
      },
      "text/plain": [
       "Beam Search:   0%|          | 0/2 [00:00<?, ?it/s]"
      ]
     },
     "metadata": {},
     "output_type": "display_data"
    },
    {
     "data": {
      "application/vnd.jupyter.widget-view+json": {
       "model_id": "b4032437e8544da6bfe1c524f5624f74",
       "version_major": 2,
       "version_minor": 0
      },
      "text/plain": [
       "Beam Search:   0%|          | 0/2 [00:00<?, ?it/s]"
      ]
     },
     "metadata": {},
     "output_type": "display_data"
    },
    {
     "data": {
      "application/vnd.jupyter.widget-view+json": {
       "model_id": "63a3319ca8704eb7adb28095de22eeeb",
       "version_major": 2,
       "version_minor": 0
      },
      "text/plain": [
       "Beam Search:   0%|          | 0/2 [00:00<?, ?it/s]"
      ]
     },
     "metadata": {},
     "output_type": "display_data"
    },
    {
     "data": {
      "application/vnd.jupyter.widget-view+json": {
       "model_id": "1c52333be16548119897d881616e1bfe",
       "version_major": 2,
       "version_minor": 0
      },
      "text/plain": [
       "Beam Search:   0%|          | 0/2 [00:00<?, ?it/s]"
      ]
     },
     "metadata": {},
     "output_type": "display_data"
    },
    {
     "data": {
      "application/vnd.jupyter.widget-view+json": {
       "model_id": "1a77d9110d7e4e06bd4fa71b81c23fb0",
       "version_major": 2,
       "version_minor": 0
      },
      "text/plain": [
       "Beam Search:   0%|          | 0/2 [00:00<?, ?it/s]"
      ]
     },
     "metadata": {},
     "output_type": "display_data"
    },
    {
     "data": {
      "application/vnd.jupyter.widget-view+json": {
       "model_id": "aed00e68c92c411d9fadb1bebfd3c929",
       "version_major": 2,
       "version_minor": 0
      },
      "text/plain": [
       "Beam Search:   0%|          | 0/2 [00:00<?, ?it/s]"
      ]
     },
     "metadata": {},
     "output_type": "display_data"
    },
    {
     "data": {
      "application/vnd.jupyter.widget-view+json": {
       "model_id": "3cf5022d83064b2487d0705c11767b56",
       "version_major": 2,
       "version_minor": 0
      },
      "text/plain": [
       "Beam Search:   0%|          | 0/2 [00:00<?, ?it/s]"
      ]
     },
     "metadata": {},
     "output_type": "display_data"
    },
    {
     "data": {
      "application/vnd.jupyter.widget-view+json": {
       "model_id": "a20758254d594cb18131ec2c8424a1dc",
       "version_major": 2,
       "version_minor": 0
      },
      "text/plain": [
       "Beam Search:   0%|          | 0/2 [00:00<?, ?it/s]"
      ]
     },
     "metadata": {},
     "output_type": "display_data"
    },
    {
     "data": {
      "application/vnd.jupyter.widget-view+json": {
       "model_id": "ab430a6347ed47b2a9249c906f9b61ef",
       "version_major": 2,
       "version_minor": 0
      },
      "text/plain": [
       "Beam Search:   0%|          | 0/2 [00:00<?, ?it/s]"
      ]
     },
     "metadata": {},
     "output_type": "display_data"
    },
    {
     "data": {
      "application/vnd.jupyter.widget-view+json": {
       "model_id": "e27d73f9ddac46c18b2bc9b92b9bc885",
       "version_major": 2,
       "version_minor": 0
      },
      "text/plain": [
       "Beam Search:   0%|          | 0/2 [00:00<?, ?it/s]"
      ]
     },
     "metadata": {},
     "output_type": "display_data"
    },
    {
     "data": {
      "application/vnd.jupyter.widget-view+json": {
       "model_id": "c1a5c8e76ff64c229aa953a570231716",
       "version_major": 2,
       "version_minor": 0
      },
      "text/plain": [
       "Beam Search:   0%|          | 0/2 [00:00<?, ?it/s]"
      ]
     },
     "metadata": {},
     "output_type": "display_data"
    },
    {
     "data": {
      "application/vnd.jupyter.widget-view+json": {
       "model_id": "cbb5fbd884d842a4988e52c5a0825394",
       "version_major": 2,
       "version_minor": 0
      },
      "text/plain": [
       "Beam Search:   0%|          | 0/2 [00:00<?, ?it/s]"
      ]
     },
     "metadata": {},
     "output_type": "display_data"
    },
    {
     "data": {
      "application/vnd.jupyter.widget-view+json": {
       "model_id": "655c26d85ad64c379bb6f819b4f7f58c",
       "version_major": 2,
       "version_minor": 0
      },
      "text/plain": [
       "Beam Search:   0%|          | 0/2 [00:00<?, ?it/s]"
      ]
     },
     "metadata": {},
     "output_type": "display_data"
    },
    {
     "data": {
      "application/vnd.jupyter.widget-view+json": {
       "model_id": "82f013f603244bb29750b6668def3f6a",
       "version_major": 2,
       "version_minor": 0
      },
      "text/plain": [
       "Beam Search:   0%|          | 0/2 [00:00<?, ?it/s]"
      ]
     },
     "metadata": {},
     "output_type": "display_data"
    },
    {
     "data": {
      "application/vnd.jupyter.widget-view+json": {
       "model_id": "f50ef5ea06d94e358e5e5e0e37a62bcd",
       "version_major": 2,
       "version_minor": 0
      },
      "text/plain": [
       "Beam Search:   0%|          | 0/2 [00:00<?, ?it/s]"
      ]
     },
     "metadata": {},
     "output_type": "display_data"
    },
    {
     "data": {
      "application/vnd.jupyter.widget-view+json": {
       "model_id": "d46f3838b16741f9aecd938ae5406e37",
       "version_major": 2,
       "version_minor": 0
      },
      "text/plain": [
       "Beam Search:   0%|          | 0/2 [00:00<?, ?it/s]"
      ]
     },
     "metadata": {},
     "output_type": "display_data"
    },
    {
     "data": {
      "application/vnd.jupyter.widget-view+json": {
       "model_id": "4f410584cd56487db44b3f3556749422",
       "version_major": 2,
       "version_minor": 0
      },
      "text/plain": [
       "Beam Search:   0%|          | 0/2 [00:00<?, ?it/s]"
      ]
     },
     "metadata": {},
     "output_type": "display_data"
    },
    {
     "data": {
      "application/vnd.jupyter.widget-view+json": {
       "model_id": "b20ef02586fd415a9ebfa445544abeb0",
       "version_major": 2,
       "version_minor": 0
      },
      "text/plain": [
       "Beam Search:   0%|          | 0/2 [00:00<?, ?it/s]"
      ]
     },
     "metadata": {},
     "output_type": "display_data"
    },
    {
     "data": {
      "application/vnd.jupyter.widget-view+json": {
       "model_id": "1ca3b2089c76452780e1e8686ab61073",
       "version_major": 2,
       "version_minor": 0
      },
      "text/plain": [
       "Beam Search:   0%|          | 0/2 [00:00<?, ?it/s]"
      ]
     },
     "metadata": {},
     "output_type": "display_data"
    },
    {
     "data": {
      "application/vnd.jupyter.widget-view+json": {
       "model_id": "f57a3bf6443c4df9ad668463f0225dc0",
       "version_major": 2,
       "version_minor": 0
      },
      "text/plain": [
       "Beam Search:   0%|          | 0/2 [00:00<?, ?it/s]"
      ]
     },
     "metadata": {},
     "output_type": "display_data"
    },
    {
     "data": {
      "application/vnd.jupyter.widget-view+json": {
       "model_id": "d77d4af9a45344afaf1f28ac26cfaabf",
       "version_major": 2,
       "version_minor": 0
      },
      "text/plain": [
       "Beam Search:   0%|          | 0/2 [00:00<?, ?it/s]"
      ]
     },
     "metadata": {},
     "output_type": "display_data"
    },
    {
     "data": {
      "application/vnd.jupyter.widget-view+json": {
       "model_id": "04e6aa7f400b42ecacd909c7f1b38182",
       "version_major": 2,
       "version_minor": 0
      },
      "text/plain": [
       "Beam Search:   0%|          | 0/2 [00:00<?, ?it/s]"
      ]
     },
     "metadata": {},
     "output_type": "display_data"
    },
    {
     "data": {
      "application/vnd.jupyter.widget-view+json": {
       "model_id": "563611a6f72643919f6b332bf85fc3b6",
       "version_major": 2,
       "version_minor": 0
      },
      "text/plain": [
       "Beam Search:   0%|          | 0/2 [00:00<?, ?it/s]"
      ]
     },
     "metadata": {},
     "output_type": "display_data"
    },
    {
     "data": {
      "application/vnd.jupyter.widget-view+json": {
       "model_id": "9d62898d32d54e35b467d20b5390c880",
       "version_major": 2,
       "version_minor": 0
      },
      "text/plain": [
       "Beam Search:   0%|          | 0/2 [00:00<?, ?it/s]"
      ]
     },
     "metadata": {},
     "output_type": "display_data"
    },
    {
     "data": {
      "application/vnd.jupyter.widget-view+json": {
       "model_id": "5b5c2655d4bf4284891d5c2496cbecbd",
       "version_major": 2,
       "version_minor": 0
      },
      "text/plain": [
       "Beam Search:   0%|          | 0/2 [00:00<?, ?it/s]"
      ]
     },
     "metadata": {},
     "output_type": "display_data"
    },
    {
     "data": {
      "application/vnd.jupyter.widget-view+json": {
       "model_id": "b66b05103dc543b5acce7449db8cba6b",
       "version_major": 2,
       "version_minor": 0
      },
      "text/plain": [
       "Beam Search:   0%|          | 0/2 [00:00<?, ?it/s]"
      ]
     },
     "metadata": {},
     "output_type": "display_data"
    },
    {
     "data": {
      "application/vnd.jupyter.widget-view+json": {
       "model_id": "95717dab8f4b464da9ce6abd66e453b4",
       "version_major": 2,
       "version_minor": 0
      },
      "text/plain": [
       "Beam Search:   0%|          | 0/2 [00:00<?, ?it/s]"
      ]
     },
     "metadata": {},
     "output_type": "display_data"
    },
    {
     "data": {
      "application/vnd.jupyter.widget-view+json": {
       "model_id": "702427f3fd1b4ed49749f2519d937d76",
       "version_major": 2,
       "version_minor": 0
      },
      "text/plain": [
       "Beam Search:   0%|          | 0/2 [00:00<?, ?it/s]"
      ]
     },
     "metadata": {},
     "output_type": "display_data"
    },
    {
     "data": {
      "application/vnd.jupyter.widget-view+json": {
       "model_id": "b5efecc1c3614422aaf0e25e79c7fee8",
       "version_major": 2,
       "version_minor": 0
      },
      "text/plain": [
       "Beam Search:   0%|          | 0/2 [00:00<?, ?it/s]"
      ]
     },
     "metadata": {},
     "output_type": "display_data"
    },
    {
     "data": {
      "application/vnd.jupyter.widget-view+json": {
       "model_id": "a9a65194a76a4d13b17a6c19f95905c6",
       "version_major": 2,
       "version_minor": 0
      },
      "text/plain": [
       "Beam Search:   0%|          | 0/2 [00:00<?, ?it/s]"
      ]
     },
     "metadata": {},
     "output_type": "display_data"
    },
    {
     "data": {
      "application/vnd.jupyter.widget-view+json": {
       "model_id": "23747df6c8774425be7fa35f1470d72f",
       "version_major": 2,
       "version_minor": 0
      },
      "text/plain": [
       "Beam Search:   0%|          | 0/2 [00:00<?, ?it/s]"
      ]
     },
     "metadata": {},
     "output_type": "display_data"
    },
    {
     "data": {
      "application/vnd.jupyter.widget-view+json": {
       "model_id": "ad6a8cde4bf943a491fb3c04199e2257",
       "version_major": 2,
       "version_minor": 0
      },
      "text/plain": [
       "Beam Search:   0%|          | 0/2 [00:00<?, ?it/s]"
      ]
     },
     "metadata": {},
     "output_type": "display_data"
    },
    {
     "data": {
      "application/vnd.jupyter.widget-view+json": {
       "model_id": "53d644b7276f4d46b0c3e71dc7604d1e",
       "version_major": 2,
       "version_minor": 0
      },
      "text/plain": [
       "Beam Search:   0%|          | 0/2 [00:00<?, ?it/s]"
      ]
     },
     "metadata": {},
     "output_type": "display_data"
    },
    {
     "data": {
      "application/vnd.jupyter.widget-view+json": {
       "model_id": "ae6f9c0bb9ea4cf38fbef67a73f446c7",
       "version_major": 2,
       "version_minor": 0
      },
      "text/plain": [
       "Beam Search:   0%|          | 0/2 [00:00<?, ?it/s]"
      ]
     },
     "metadata": {},
     "output_type": "display_data"
    },
    {
     "data": {
      "application/vnd.jupyter.widget-view+json": {
       "model_id": "179748ffd8074a59875161a65c53fac9",
       "version_major": 2,
       "version_minor": 0
      },
      "text/plain": [
       "Beam Search:   0%|          | 0/2 [00:00<?, ?it/s]"
      ]
     },
     "metadata": {},
     "output_type": "display_data"
    },
    {
     "data": {
      "application/vnd.jupyter.widget-view+json": {
       "model_id": "c475a59e9ca0468d884c3a2b863d43d1",
       "version_major": 2,
       "version_minor": 0
      },
      "text/plain": [
       "Beam Search:   0%|          | 0/2 [00:00<?, ?it/s]"
      ]
     },
     "metadata": {},
     "output_type": "display_data"
    },
    {
     "data": {
      "application/vnd.jupyter.widget-view+json": {
       "model_id": "f19aa36227e04a769e7abf2fe43751e8",
       "version_major": 2,
       "version_minor": 0
      },
      "text/plain": [
       "Beam Search:   0%|          | 0/2 [00:00<?, ?it/s]"
      ]
     },
     "metadata": {},
     "output_type": "display_data"
    },
    {
     "data": {
      "application/vnd.jupyter.widget-view+json": {
       "model_id": "13b9d498b4ba4a05b0c5c32ea1ba3c88",
       "version_major": 2,
       "version_minor": 0
      },
      "text/plain": [
       "Beam Search:   0%|          | 0/2 [00:00<?, ?it/s]"
      ]
     },
     "metadata": {},
     "output_type": "display_data"
    },
    {
     "data": {
      "application/vnd.jupyter.widget-view+json": {
       "model_id": "0d787e7e1a214e10bb3fb5d9d4c8967a",
       "version_major": 2,
       "version_minor": 0
      },
      "text/plain": [
       "Beam Search:   0%|          | 0/2 [00:00<?, ?it/s]"
      ]
     },
     "metadata": {},
     "output_type": "display_data"
    },
    {
     "data": {
      "application/vnd.jupyter.widget-view+json": {
       "model_id": "e12d75568c3a45f697b23c561cd22c9b",
       "version_major": 2,
       "version_minor": 0
      },
      "text/plain": [
       "Beam Search:   0%|          | 0/2 [00:00<?, ?it/s]"
      ]
     },
     "metadata": {},
     "output_type": "display_data"
    },
    {
     "data": {
      "application/vnd.jupyter.widget-view+json": {
       "model_id": "96a43907845946938907b7e92d1d246e",
       "version_major": 2,
       "version_minor": 0
      },
      "text/plain": [
       "Beam Search:   0%|          | 0/2 [00:00<?, ?it/s]"
      ]
     },
     "metadata": {},
     "output_type": "display_data"
    },
    {
     "data": {
      "application/vnd.jupyter.widget-view+json": {
       "model_id": "427f8ab0d99445d3a49a82aee90e41ef",
       "version_major": 2,
       "version_minor": 0
      },
      "text/plain": [
       "Beam Search:   0%|          | 0/2 [00:00<?, ?it/s]"
      ]
     },
     "metadata": {},
     "output_type": "display_data"
    },
    {
     "data": {
      "application/vnd.jupyter.widget-view+json": {
       "model_id": "6dbe1bae741f4d4580d13396091123db",
       "version_major": 2,
       "version_minor": 0
      },
      "text/plain": [
       "Beam Search:   0%|          | 0/2 [00:00<?, ?it/s]"
      ]
     },
     "metadata": {},
     "output_type": "display_data"
    },
    {
     "data": {
      "application/vnd.jupyter.widget-view+json": {
       "model_id": "71653a27ffbc4ed8a5cdadfb69c0eeca",
       "version_major": 2,
       "version_minor": 0
      },
      "text/plain": [
       "Beam Search:   0%|          | 0/2 [00:00<?, ?it/s]"
      ]
     },
     "metadata": {},
     "output_type": "display_data"
    },
    {
     "data": {
      "application/vnd.jupyter.widget-view+json": {
       "model_id": "3669c79b2a4a4e0a880686f5cb9f6e0e",
       "version_major": 2,
       "version_minor": 0
      },
      "text/plain": [
       "Beam Search:   0%|          | 0/2 [00:00<?, ?it/s]"
      ]
     },
     "metadata": {},
     "output_type": "display_data"
    },
    {
     "data": {
      "application/vnd.jupyter.widget-view+json": {
       "model_id": "e7e0324d2cfb47908e334207b46e00c1",
       "version_major": 2,
       "version_minor": 0
      },
      "text/plain": [
       "Beam Search:   0%|          | 0/2 [00:00<?, ?it/s]"
      ]
     },
     "metadata": {},
     "output_type": "display_data"
    },
    {
     "data": {
      "application/vnd.jupyter.widget-view+json": {
       "model_id": "ba7f35f2456344edbecf79560a30ca05",
       "version_major": 2,
       "version_minor": 0
      },
      "text/plain": [
       "Beam Search:   0%|          | 0/2 [00:00<?, ?it/s]"
      ]
     },
     "metadata": {},
     "output_type": "display_data"
    },
    {
     "data": {
      "application/vnd.jupyter.widget-view+json": {
       "model_id": "1addb97a5958486089aecfe2e3679f6c",
       "version_major": 2,
       "version_minor": 0
      },
      "text/plain": [
       "Beam Search:   0%|          | 0/2 [00:00<?, ?it/s]"
      ]
     },
     "metadata": {},
     "output_type": "display_data"
    },
    {
     "data": {
      "application/vnd.jupyter.widget-view+json": {
       "model_id": "10e78184f775498ab358085590a320d3",
       "version_major": 2,
       "version_minor": 0
      },
      "text/plain": [
       "Beam Search:   0%|          | 0/2 [00:00<?, ?it/s]"
      ]
     },
     "metadata": {},
     "output_type": "display_data"
    },
    {
     "data": {
      "application/vnd.jupyter.widget-view+json": {
       "model_id": "d12e5d70ac7a44458d290f91eaa35c0b",
       "version_major": 2,
       "version_minor": 0
      },
      "text/plain": [
       "Beam Search:   0%|          | 0/2 [00:00<?, ?it/s]"
      ]
     },
     "metadata": {},
     "output_type": "display_data"
    },
    {
     "data": {
      "application/vnd.jupyter.widget-view+json": {
       "model_id": "06a64174f8c94444805cb3a32076ef46",
       "version_major": 2,
       "version_minor": 0
      },
      "text/plain": [
       "Beam Search:   0%|          | 0/2 [00:00<?, ?it/s]"
      ]
     },
     "metadata": {},
     "output_type": "display_data"
    },
    {
     "data": {
      "application/vnd.jupyter.widget-view+json": {
       "model_id": "0de005ec2aa94dd7a7ea75b2344035e7",
       "version_major": 2,
       "version_minor": 0
      },
      "text/plain": [
       "Beam Search:   0%|          | 0/2 [00:00<?, ?it/s]"
      ]
     },
     "metadata": {},
     "output_type": "display_data"
    },
    {
     "data": {
      "application/vnd.jupyter.widget-view+json": {
       "model_id": "39c71077d9c243ed926a6279b0e2d842",
       "version_major": 2,
       "version_minor": 0
      },
      "text/plain": [
       "Beam Search:   0%|          | 0/2 [00:00<?, ?it/s]"
      ]
     },
     "metadata": {},
     "output_type": "display_data"
    },
    {
     "data": {
      "application/vnd.jupyter.widget-view+json": {
       "model_id": "95cba8f9e5cc401fbce1750bc7b16e6a",
       "version_major": 2,
       "version_minor": 0
      },
      "text/plain": [
       "Beam Search:   0%|          | 0/2 [00:00<?, ?it/s]"
      ]
     },
     "metadata": {},
     "output_type": "display_data"
    },
    {
     "data": {
      "application/vnd.jupyter.widget-view+json": {
       "model_id": "7e3a9f7df7ee426bb7b43af71f28f065",
       "version_major": 2,
       "version_minor": 0
      },
      "text/plain": [
       "Beam Search:   0%|          | 0/2 [00:00<?, ?it/s]"
      ]
     },
     "metadata": {},
     "output_type": "display_data"
    },
    {
     "data": {
      "application/vnd.jupyter.widget-view+json": {
       "model_id": "cda2f7bc06ed4f4a8752a02322658f71",
       "version_major": 2,
       "version_minor": 0
      },
      "text/plain": [
       "Beam Search:   0%|          | 0/2 [00:00<?, ?it/s]"
      ]
     },
     "metadata": {},
     "output_type": "display_data"
    },
    {
     "data": {
      "application/vnd.jupyter.widget-view+json": {
       "model_id": "451286a8a3df493e8a74b90391ed18dd",
       "version_major": 2,
       "version_minor": 0
      },
      "text/plain": [
       "Beam Search:   0%|          | 0/2 [00:00<?, ?it/s]"
      ]
     },
     "metadata": {},
     "output_type": "display_data"
    },
    {
     "data": {
      "application/vnd.jupyter.widget-view+json": {
       "model_id": "97bf280d196d4a739ffbb7f8101ae610",
       "version_major": 2,
       "version_minor": 0
      },
      "text/plain": [
       "Beam Search:   0%|          | 0/2 [00:00<?, ?it/s]"
      ]
     },
     "metadata": {},
     "output_type": "display_data"
    },
    {
     "data": {
      "application/vnd.jupyter.widget-view+json": {
       "model_id": "7ee8f2ecf50a4dca81a5a2f89dbfd49a",
       "version_major": 2,
       "version_minor": 0
      },
      "text/plain": [
       "Beam Search:   0%|          | 0/2 [00:00<?, ?it/s]"
      ]
     },
     "metadata": {},
     "output_type": "display_data"
    },
    {
     "data": {
      "application/vnd.jupyter.widget-view+json": {
       "model_id": "70796adcf67c4a01b8e14cadfa847263",
       "version_major": 2,
       "version_minor": 0
      },
      "text/plain": [
       "Beam Search:   0%|          | 0/2 [00:00<?, ?it/s]"
      ]
     },
     "metadata": {},
     "output_type": "display_data"
    },
    {
     "data": {
      "application/vnd.jupyter.widget-view+json": {
       "model_id": "d89ea651c29649978647db7ef90b1d18",
       "version_major": 2,
       "version_minor": 0
      },
      "text/plain": [
       "Beam Search:   0%|          | 0/2 [00:00<?, ?it/s]"
      ]
     },
     "metadata": {},
     "output_type": "display_data"
    },
    {
     "data": {
      "application/vnd.jupyter.widget-view+json": {
       "model_id": "8ce1e5b71f8e446ba8ded15405cefe4a",
       "version_major": 2,
       "version_minor": 0
      },
      "text/plain": [
       "Beam Search:   0%|          | 0/2 [00:00<?, ?it/s]"
      ]
     },
     "metadata": {},
     "output_type": "display_data"
    },
    {
     "data": {
      "application/vnd.jupyter.widget-view+json": {
       "model_id": "46273803c48b4582b0b57b7cbe8ad680",
       "version_major": 2,
       "version_minor": 0
      },
      "text/plain": [
       "Beam Search:   0%|          | 0/2 [00:00<?, ?it/s]"
      ]
     },
     "metadata": {},
     "output_type": "display_data"
    },
    {
     "data": {
      "application/vnd.jupyter.widget-view+json": {
       "model_id": "846c7fc3635b42c68dbadd5aaa1cb57c",
       "version_major": 2,
       "version_minor": 0
      },
      "text/plain": [
       "Beam Search:   0%|          | 0/2 [00:00<?, ?it/s]"
      ]
     },
     "metadata": {},
     "output_type": "display_data"
    },
    {
     "data": {
      "application/vnd.jupyter.widget-view+json": {
       "model_id": "98a1714a1e77442bafdc8baf5b68c13c",
       "version_major": 2,
       "version_minor": 0
      },
      "text/plain": [
       "Beam Search:   0%|          | 0/2 [00:00<?, ?it/s]"
      ]
     },
     "metadata": {},
     "output_type": "display_data"
    },
    {
     "data": {
      "application/vnd.jupyter.widget-view+json": {
       "model_id": "2baec2549a5f42a6bc153b0c63f78529",
       "version_major": 2,
       "version_minor": 0
      },
      "text/plain": [
       "Beam Search:   0%|          | 0/2 [00:00<?, ?it/s]"
      ]
     },
     "metadata": {},
     "output_type": "display_data"
    },
    {
     "data": {
      "application/vnd.jupyter.widget-view+json": {
       "model_id": "3065461320bc4fd389dec2be4f8e0d83",
       "version_major": 2,
       "version_minor": 0
      },
      "text/plain": [
       "Beam Search:   0%|          | 0/2 [00:00<?, ?it/s]"
      ]
     },
     "metadata": {},
     "output_type": "display_data"
    },
    {
     "data": {
      "application/vnd.jupyter.widget-view+json": {
       "model_id": "4e77662bc67245d0bbbdf08b17730ba6",
       "version_major": 2,
       "version_minor": 0
      },
      "text/plain": [
       "Beam Search:   0%|          | 0/2 [00:00<?, ?it/s]"
      ]
     },
     "metadata": {},
     "output_type": "display_data"
    },
    {
     "data": {
      "application/vnd.jupyter.widget-view+json": {
       "model_id": "679a7a1fefc04e678334f511f82f15d5",
       "version_major": 2,
       "version_minor": 0
      },
      "text/plain": [
       "Beam Search:   0%|          | 0/2 [00:00<?, ?it/s]"
      ]
     },
     "metadata": {},
     "output_type": "display_data"
    },
    {
     "data": {
      "application/vnd.jupyter.widget-view+json": {
       "model_id": "d5eb15daf8074a3dbe7d8c783ec6f474",
       "version_major": 2,
       "version_minor": 0
      },
      "text/plain": [
       "Beam Search:   0%|          | 0/2 [00:00<?, ?it/s]"
      ]
     },
     "metadata": {},
     "output_type": "display_data"
    },
    {
     "data": {
      "application/vnd.jupyter.widget-view+json": {
       "model_id": "36d45f46dc3b48b49a4bb1dc3fb57c9c",
       "version_major": 2,
       "version_minor": 0
      },
      "text/plain": [
       "Beam Search:   0%|          | 0/2 [00:00<?, ?it/s]"
      ]
     },
     "metadata": {},
     "output_type": "display_data"
    },
    {
     "data": {
      "application/vnd.jupyter.widget-view+json": {
       "model_id": "5fac426304ce4ae7b1308719faff98de",
       "version_major": 2,
       "version_minor": 0
      },
      "text/plain": [
       "Beam Search:   0%|          | 0/2 [00:00<?, ?it/s]"
      ]
     },
     "metadata": {},
     "output_type": "display_data"
    },
    {
     "data": {
      "application/vnd.jupyter.widget-view+json": {
       "model_id": "30037e308eaf4eb0aa203827b8071572",
       "version_major": 2,
       "version_minor": 0
      },
      "text/plain": [
       "Beam Search:   0%|          | 0/2 [00:00<?, ?it/s]"
      ]
     },
     "metadata": {},
     "output_type": "display_data"
    },
    {
     "data": {
      "application/vnd.jupyter.widget-view+json": {
       "model_id": "cd2a3f38970c4584a15f19698b60ac70",
       "version_major": 2,
       "version_minor": 0
      },
      "text/plain": [
       "Beam Search:   0%|          | 0/2 [00:00<?, ?it/s]"
      ]
     },
     "metadata": {},
     "output_type": "display_data"
    },
    {
     "data": {
      "application/vnd.jupyter.widget-view+json": {
       "model_id": "9512e11b8e074773b5ed611d9b1f00d8",
       "version_major": 2,
       "version_minor": 0
      },
      "text/plain": [
       "Beam Search:   0%|          | 0/2 [00:00<?, ?it/s]"
      ]
     },
     "metadata": {},
     "output_type": "display_data"
    },
    {
     "data": {
      "application/vnd.jupyter.widget-view+json": {
       "model_id": "bf6e3751794248608ca99052455a861b",
       "version_major": 2,
       "version_minor": 0
      },
      "text/plain": [
       "Beam Search:   0%|          | 0/2 [00:00<?, ?it/s]"
      ]
     },
     "metadata": {},
     "output_type": "display_data"
    },
    {
     "data": {
      "application/vnd.jupyter.widget-view+json": {
       "model_id": "bee1eaf2eccd44c98004ccca5445f94a",
       "version_major": 2,
       "version_minor": 0
      },
      "text/plain": [
       "Beam Search:   0%|          | 0/2 [00:00<?, ?it/s]"
      ]
     },
     "metadata": {},
     "output_type": "display_data"
    },
    {
     "data": {
      "application/vnd.jupyter.widget-view+json": {
       "model_id": "c6b287ccdb88443ca752898565cb515d",
       "version_major": 2,
       "version_minor": 0
      },
      "text/plain": [
       "Beam Search:   0%|          | 0/2 [00:00<?, ?it/s]"
      ]
     },
     "metadata": {},
     "output_type": "display_data"
    },
    {
     "data": {
      "application/vnd.jupyter.widget-view+json": {
       "model_id": "ac487c89d02a4c15af4094cef2d29b62",
       "version_major": 2,
       "version_minor": 0
      },
      "text/plain": [
       "Beam Search:   0%|          | 0/2 [00:00<?, ?it/s]"
      ]
     },
     "metadata": {},
     "output_type": "display_data"
    },
    {
     "data": {
      "application/vnd.jupyter.widget-view+json": {
       "model_id": "277b90b2a1074a3caa1ee082891351cf",
       "version_major": 2,
       "version_minor": 0
      },
      "text/plain": [
       "Beam Search:   0%|          | 0/2 [00:00<?, ?it/s]"
      ]
     },
     "metadata": {},
     "output_type": "display_data"
    },
    {
     "data": {
      "application/vnd.jupyter.widget-view+json": {
       "model_id": "efea887d7bf243daa6c7478a677fc885",
       "version_major": 2,
       "version_minor": 0
      },
      "text/plain": [
       "Beam Search:   0%|          | 0/2 [00:00<?, ?it/s]"
      ]
     },
     "metadata": {},
     "output_type": "display_data"
    },
    {
     "data": {
      "application/vnd.jupyter.widget-view+json": {
       "model_id": "b376e10b13b2420b8920c28df109af58",
       "version_major": 2,
       "version_minor": 0
      },
      "text/plain": [
       "Beam Search:   0%|          | 0/2 [00:00<?, ?it/s]"
      ]
     },
     "metadata": {},
     "output_type": "display_data"
    },
    {
     "data": {
      "application/vnd.jupyter.widget-view+json": {
       "model_id": "e6939cfa022042a090ec74e2d9be21fe",
       "version_major": 2,
       "version_minor": 0
      },
      "text/plain": [
       "Beam Search:   0%|          | 0/2 [00:00<?, ?it/s]"
      ]
     },
     "metadata": {},
     "output_type": "display_data"
    },
    {
     "data": {
      "application/vnd.jupyter.widget-view+json": {
       "model_id": "81c32b79a68e4e39a5f084608d2aef13",
       "version_major": 2,
       "version_minor": 0
      },
      "text/plain": [
       "Beam Search:   0%|          | 0/2 [00:00<?, ?it/s]"
      ]
     },
     "metadata": {},
     "output_type": "display_data"
    },
    {
     "data": {
      "application/vnd.jupyter.widget-view+json": {
       "model_id": "f7d62a9d270342b9bf87984daabe64eb",
       "version_major": 2,
       "version_minor": 0
      },
      "text/plain": [
       "Beam Search:   0%|          | 0/2 [00:00<?, ?it/s]"
      ]
     },
     "metadata": {},
     "output_type": "display_data"
    },
    {
     "data": {
      "application/vnd.jupyter.widget-view+json": {
       "model_id": "b9165ddfdda5413b9b9097717eb234bc",
       "version_major": 2,
       "version_minor": 0
      },
      "text/plain": [
       "Beam Search:   0%|          | 0/2 [00:00<?, ?it/s]"
      ]
     },
     "metadata": {},
     "output_type": "display_data"
    },
    {
     "data": {
      "application/vnd.jupyter.widget-view+json": {
       "model_id": "41613638b15143f990d44af680adc5aa",
       "version_major": 2,
       "version_minor": 0
      },
      "text/plain": [
       "Beam Search:   0%|          | 0/2 [00:00<?, ?it/s]"
      ]
     },
     "metadata": {},
     "output_type": "display_data"
    },
    {
     "data": {
      "application/vnd.jupyter.widget-view+json": {
       "model_id": "06852526222246e992af0807be306013",
       "version_major": 2,
       "version_minor": 0
      },
      "text/plain": [
       "Beam Search:   0%|          | 0/2 [00:00<?, ?it/s]"
      ]
     },
     "metadata": {},
     "output_type": "display_data"
    },
    {
     "data": {
      "application/vnd.jupyter.widget-view+json": {
       "model_id": "63357bb9b19247c0b0a5e673a28530ed",
       "version_major": 2,
       "version_minor": 0
      },
      "text/plain": [
       "Beam Search:   0%|          | 0/2 [00:00<?, ?it/s]"
      ]
     },
     "metadata": {},
     "output_type": "display_data"
    },
    {
     "data": {
      "application/vnd.jupyter.widget-view+json": {
       "model_id": "eafd3b68a72e453098c166c41a350968",
       "version_major": 2,
       "version_minor": 0
      },
      "text/plain": [
       "Beam Search:   0%|          | 0/2 [00:00<?, ?it/s]"
      ]
     },
     "metadata": {},
     "output_type": "display_data"
    },
    {
     "data": {
      "application/vnd.jupyter.widget-view+json": {
       "model_id": "48a6d930f01d4647bb7c0c46078153f6",
       "version_major": 2,
       "version_minor": 0
      },
      "text/plain": [
       "Beam Search:   0%|          | 0/2 [00:00<?, ?it/s]"
      ]
     },
     "metadata": {},
     "output_type": "display_data"
    },
    {
     "data": {
      "application/vnd.jupyter.widget-view+json": {
       "model_id": "a470d9c6b6f44a219ae41a67d5470beb",
       "version_major": 2,
       "version_minor": 0
      },
      "text/plain": [
       "Beam Search:   0%|          | 0/2 [00:00<?, ?it/s]"
      ]
     },
     "metadata": {},
     "output_type": "display_data"
    },
    {
     "data": {
      "application/vnd.jupyter.widget-view+json": {
       "model_id": "9929eef0653f40c1b8d24e42d93e2aad",
       "version_major": 2,
       "version_minor": 0
      },
      "text/plain": [
       "Beam Search:   0%|          | 0/2 [00:00<?, ?it/s]"
      ]
     },
     "metadata": {},
     "output_type": "display_data"
    },
    {
     "data": {
      "application/vnd.jupyter.widget-view+json": {
       "model_id": "c81f97c44f584074bbba657ab8c97d3b",
       "version_major": 2,
       "version_minor": 0
      },
      "text/plain": [
       "Beam Search:   0%|          | 0/2 [00:00<?, ?it/s]"
      ]
     },
     "metadata": {},
     "output_type": "display_data"
    },
    {
     "data": {
      "application/vnd.jupyter.widget-view+json": {
       "model_id": "dbee544277534ca8a4f44f3b753ff9ff",
       "version_major": 2,
       "version_minor": 0
      },
      "text/plain": [
       "Beam Search:   0%|          | 0/2 [00:00<?, ?it/s]"
      ]
     },
     "metadata": {},
     "output_type": "display_data"
    },
    {
     "data": {
      "application/vnd.jupyter.widget-view+json": {
       "model_id": "63108b44080b439bbdfc8637891baa46",
       "version_major": 2,
       "version_minor": 0
      },
      "text/plain": [
       "Beam Search:   0%|          | 0/2 [00:00<?, ?it/s]"
      ]
     },
     "metadata": {},
     "output_type": "display_data"
    },
    {
     "data": {
      "application/vnd.jupyter.widget-view+json": {
       "model_id": "272e299b7d5040eca56732343ea3a422",
       "version_major": 2,
       "version_minor": 0
      },
      "text/plain": [
       "Beam Search:   0%|          | 0/2 [00:00<?, ?it/s]"
      ]
     },
     "metadata": {},
     "output_type": "display_data"
    },
    {
     "data": {
      "application/vnd.jupyter.widget-view+json": {
       "model_id": "f4ad4f65d25548c69fec6a450d182352",
       "version_major": 2,
       "version_minor": 0
      },
      "text/plain": [
       "Beam Search:   0%|          | 0/2 [00:00<?, ?it/s]"
      ]
     },
     "metadata": {},
     "output_type": "display_data"
    },
    {
     "data": {
      "application/vnd.jupyter.widget-view+json": {
       "model_id": "0a76d6a068dd4570a162b3f08393b21a",
       "version_major": 2,
       "version_minor": 0
      },
      "text/plain": [
       "Beam Search:   0%|          | 0/2 [00:00<?, ?it/s]"
      ]
     },
     "metadata": {},
     "output_type": "display_data"
    },
    {
     "data": {
      "application/vnd.jupyter.widget-view+json": {
       "model_id": "8fb2c2fb69e8477596c7b661514412e6",
       "version_major": 2,
       "version_minor": 0
      },
      "text/plain": [
       "Beam Search:   0%|          | 0/2 [00:00<?, ?it/s]"
      ]
     },
     "metadata": {},
     "output_type": "display_data"
    },
    {
     "data": {
      "application/vnd.jupyter.widget-view+json": {
       "model_id": "97a6ec0d5e0f47beb7d838c67f65a9c7",
       "version_major": 2,
       "version_minor": 0
      },
      "text/plain": [
       "Beam Search:   0%|          | 0/2 [00:00<?, ?it/s]"
      ]
     },
     "metadata": {},
     "output_type": "display_data"
    },
    {
     "data": {
      "application/vnd.jupyter.widget-view+json": {
       "model_id": "2e6bf593c15e42a8b84f09ff9e4fb2d2",
       "version_major": 2,
       "version_minor": 0
      },
      "text/plain": [
       "Beam Search:   0%|          | 0/2 [00:00<?, ?it/s]"
      ]
     },
     "metadata": {},
     "output_type": "display_data"
    },
    {
     "data": {
      "application/vnd.jupyter.widget-view+json": {
       "model_id": "9f8bd9be4919444794b36bd259e7936f",
       "version_major": 2,
       "version_minor": 0
      },
      "text/plain": [
       "Beam Search:   0%|          | 0/2 [00:00<?, ?it/s]"
      ]
     },
     "metadata": {},
     "output_type": "display_data"
    },
    {
     "data": {
      "application/vnd.jupyter.widget-view+json": {
       "model_id": "2aa936aa5b4f445a8b85809cef309ea1",
       "version_major": 2,
       "version_minor": 0
      },
      "text/plain": [
       "Beam Search:   0%|          | 0/2 [00:00<?, ?it/s]"
      ]
     },
     "metadata": {},
     "output_type": "display_data"
    },
    {
     "data": {
      "application/vnd.jupyter.widget-view+json": {
       "model_id": "ae8b53fbc1ab4e7cab9a741e5bd2b8da",
       "version_major": 2,
       "version_minor": 0
      },
      "text/plain": [
       "Beam Search:   0%|          | 0/2 [00:00<?, ?it/s]"
      ]
     },
     "metadata": {},
     "output_type": "display_data"
    },
    {
     "data": {
      "application/vnd.jupyter.widget-view+json": {
       "model_id": "501239064a41443893f00e7757c1dcd7",
       "version_major": 2,
       "version_minor": 0
      },
      "text/plain": [
       "Beam Search:   0%|          | 0/2 [00:00<?, ?it/s]"
      ]
     },
     "metadata": {},
     "output_type": "display_data"
    },
    {
     "data": {
      "application/vnd.jupyter.widget-view+json": {
       "model_id": "587cde5310374202b7079f47485de637",
       "version_major": 2,
       "version_minor": 0
      },
      "text/plain": [
       "Beam Search:   0%|          | 0/2 [00:00<?, ?it/s]"
      ]
     },
     "metadata": {},
     "output_type": "display_data"
    },
    {
     "data": {
      "application/vnd.jupyter.widget-view+json": {
       "model_id": "37a636bc5a7847b9a02e56ccd41577d2",
       "version_major": 2,
       "version_minor": 0
      },
      "text/plain": [
       "Epoch 2/5:   0%|          | 0/79 [00:00<?, ?it/s]"
      ]
     },
     "metadata": {},
     "output_type": "display_data"
    },
    {
     "data": {
      "application/vnd.jupyter.widget-view+json": {
       "model_id": "1a9252e00d6e4ae98bb1efbe6558e195",
       "version_major": 2,
       "version_minor": 0
      },
      "text/plain": [
       "Calculating predictive accuracy:   0%|          | 0/8 [00:00<?, ?it/s]"
      ]
     },
     "metadata": {},
     "output_type": "display_data"
    },
    {
     "data": {
      "application/vnd.jupyter.widget-view+json": {
       "model_id": "242278557e0e4cfa8c46571023855078",
       "version_major": 2,
       "version_minor": 0
      },
      "text/plain": [
       "Epoch 3/5:   0%|          | 0/79 [00:00<?, ?it/s]"
      ]
     },
     "metadata": {},
     "output_type": "display_data"
    },
    {
     "data": {
      "application/vnd.jupyter.widget-view+json": {
       "model_id": "e6c80fe3eeaa43cf8c384966c2aa37a9",
       "version_major": 2,
       "version_minor": 0
      },
      "text/plain": [
       "Calculating predictive accuracy:   0%|          | 0/8 [00:00<?, ?it/s]"
      ]
     },
     "metadata": {},
     "output_type": "display_data"
    },
    {
     "data": {
      "application/vnd.jupyter.widget-view+json": {
       "model_id": "ac563d797bfe4024b6ee2ec6afd42292",
       "version_major": 2,
       "version_minor": 0
      },
      "text/plain": [
       "Epoch 4/5:   0%|          | 0/79 [00:00<?, ?it/s]"
      ]
     },
     "metadata": {},
     "output_type": "display_data"
    },
    {
     "data": {
      "application/vnd.jupyter.widget-view+json": {
       "model_id": "e9bfb373ebe84de2bd157eb0ce6f6ad7",
       "version_major": 2,
       "version_minor": 0
      },
      "text/plain": [
       "Calculating predictive accuracy:   0%|          | 0/8 [00:00<?, ?it/s]"
      ]
     },
     "metadata": {},
     "output_type": "display_data"
    },
    {
     "data": {
      "application/vnd.jupyter.widget-view+json": {
       "model_id": "8ecf956afcc74bef8493fdc723b4c752",
       "version_major": 2,
       "version_minor": 0
      },
      "text/plain": [
       "Epoch 5/5:   0%|          | 0/79 [00:00<?, ?it/s]"
      ]
     },
     "metadata": {},
     "output_type": "display_data"
    },
    {
     "data": {
      "application/vnd.jupyter.widget-view+json": {
       "model_id": "6f078c188e2e4790a8b3ad7ac3716b61",
       "version_major": 2,
       "version_minor": 0
      },
      "text/plain": [
       "Calculating predictive accuracy:   0%|          | 0/8 [00:00<?, ?it/s]"
      ]
     },
     "metadata": {},
     "output_type": "display_data"
    },
    {
     "name": "stdout",
     "output_type": "stream",
     "text": [
      "Saved checkpoint to data/mujoco/halfcheetah/expert-v0/\n"
     ]
    }
   ],
   "source": [
    "# | code-fold: true\n",
    "# | code-summary: Main training runner\n",
    "\n",
    "print(f\"Using device: {device}\")\n",
    "writer = SummaryWriter()\n",
    "\n",
    "dataset.discretizer.to(device)\n",
    "# split the dataset into train and test\n",
    "train_size = int(len(dataset) * 1.0)\n",
    "test_size = len(dataset) - train_size\n",
    "train_dataset, test_dataset = torch.utils.data.random_split(\n",
    "    dataset, [train_size, test_size]\n",
    ")\n",
    "train_dataloader = DataLoader(\n",
    "    train_dataset,\n",
    "    batch_size=batch_size,\n",
    "    num_workers=8 if not local else 0,\n",
    "    shuffle=True,\n",
    "    pin_memory=True,\n",
    ")\n",
    "test_dataloader = DataLoader(\n",
    "    test_dataset,\n",
    "    batch_size=batch_size,\n",
    "    shuffle=False,\n",
    ")\n",
    "model = TrajectoryTransformer(\n",
    "    seq_len,\n",
    "    embedding_dim,\n",
    "    n_heads,\n",
    "    transition_dim,\n",
    "    n_blocks,\n",
    "    vocab_size,\n",
    "    use_sep_heads=use_sep_heads,\n",
    ").to(device)\n",
    "\n",
    "warmup_tokens = len(train_dataset) * seq_len\n",
    "final_tokens = n_epochs * warmup_tokens\n",
    "\n",
    "# write hyper parameters\n",
    "writer.add_hparams(\n",
    "    {\n",
    "        \"seq_len\": seq_len,\n",
    "        \"embedding_dim\": embedding_dim,\n",
    "        \"n_heads\": n_heads,\n",
    "        \"transition_dim\": transition_dim,\n",
    "        \"n_blocks\": n_blocks,\n",
    "        \"vocab_size\": vocab_size,\n",
    "        \"use_sep_heads\": use_sep_heads,\n",
    "        \"weight_decay\": weight_decay,\n",
    "        \"lr\": lr,\n",
    "        \"betas\": torch.tensor(betas),\n",
    "        \"batch_size\": batch_size,\n",
    "        \"n_epochs\": n_epochs,\n",
    "        \"eval_every\": eval_every,\n",
    "        \"clip_grad\": clip_grad,\n",
    "        \"warmup_tokens\": warmup_tokens,\n",
    "        \"final_tokens\": final_tokens,\n",
    "        \"env_name\": env.name,\n",
    "    },\n",
    "    {},\n",
    ")\n",
    "\n",
    "optimizer = get_optimizer(model, weight_decay, lr, betas)\n",
    "scheduler = get_scheduler(optimizer, warmup_tokens, final_tokens)\n",
    "if load_checkpoint:\n",
    "    print(f\"Loading model from {checkpoint_path}\")\n",
    "    model_files = glob.glob(checkpoint_path + \"model*.pth\")\n",
    "    if model_files:\n",
    "        latest_model_file = max(model_files, key=os.path.getctime)\n",
    "        print(f\"Loading model from {latest_model_file}\")\n",
    "        model.load_state_dict(torch.load(latest_model_file, map_location=device))\n",
    "    else:\n",
    "        print(\"No model files found, starting training from scratch.\")\n",
    "        raise ValueError(\"No model files found, starting training from scratch.\")\n",
    "    optimizer.load_state_dict(\n",
    "        torch.load(checkpoint_path + \"optimizer.pth\", map_location=device)\n",
    "    )\n",
    "else:\n",
    "    train(\n",
    "        model,\n",
    "        train_dataloader,\n",
    "        test_dataloader,\n",
    "        dataset.discretizer,\n",
    "        optimizer,\n",
    "        scheduler,\n",
    "        vocab_size,\n",
    "        n_epochs,\n",
    "        writer,\n",
    "        device=device,\n",
    "        eval_every=eval_every,\n",
    "        checkpoint_path=checkpoint_path,\n",
    "        clip_grad=clip_grad,\n",
    "    )\n",
    "    print(f\"Saved checkpoint to {checkpoint_path}\")"
   ]
  },
  {
   "cell_type": "markdown",
   "metadata": {},
   "source": [
    "## **Future Work**  \n",
    "\n",
    "### **Expand to More Environments**  \n",
    "- Test TT on diverse RL tasks: locomotion (Walker2D, Humanoid), navigation (AntMaze), and robotics (FrankaKitchen), environments with visual inputs.\n",
    "\n",
    "### **Speed Up Rollouts**  \n",
    "- Optimize inference using:  \n",
    "  **Parallel token sampling** to reduce autoregressive overhead.  \n",
    "  **Efficient beam search** with pruning or heuristics.  \n",
    "  **CUDA/TensorRT acceleration** for faster execution.  \n",
    "\n",
    "### **Improve Training Efficiency**  \n",
    "- Reduce training time using:  \n",
    "  **Gradient checkpointing** for memory efficiency.  \n",
    "  **Flash Attention** for optimized transformer computations.  \n",
    "  **Mixed-precision (FP16)** for faster execution.  \n",
    "  **Better discretization** to improve tokenization.  \n",
    "\n",
    "### **Enable Visualization**  \n",
    "- Implement `env.render()` to visualize rollouts.  \n",
    "- Generate trajectory videos to analyze model behavior.  \n",
    "\n",
    "### **Benchmark Against Other RL Methods**  \n",
    "- Compare TT with:  \n",
    "  **Decision Transformer (DT)** – Sequence modeling baseline.  \n",
    "  **CQL** – Offline RL with conservative action selection.\n",
    "  **TD3+BC** – Hybrid RL with behavioral cloning.\n",
    "\n",
    "### Other learning techniques\n",
    "- Goal conditioned\n",
    "- Imitation learning\n",
    "\n",
    "\n",
    "If you are interested in contributing or collaborating on any of these, please open a issue on [the github project](https://github.com/abrarsheikh/blog)."
   ]
  }
 ],
 "metadata": {
  "kernelspec": {
   "display_name": "blog-FROQ9Grm-py3.11",
   "language": "python",
   "name": "python3"
  },
  "language_info": {
   "codemirror_mode": {
    "name": "ipython",
    "version": 3
   },
   "file_extension": ".py",
   "mimetype": "text/x-python",
   "name": "python",
   "nbconvert_exporter": "python",
   "pygments_lexer": "ipython3",
   "version": "3.11.9"
  }
 },
 "nbformat": 4,
 "nbformat_minor": 2
}
