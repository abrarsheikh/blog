{
 "cells": [
  {
   "cell_type": "code",
   "execution_count": 1,
   "metadata": {},
   "outputs": [],
   "source": [
    "import torch\n",
    "import torch.nn as nn\n",
    "import torch.optim as optim\n",
    "import random\n",
    "from typing import Any\n",
    "import numpy as np\n",
    "import matplotlib.pyplot as plt\n",
    "import gymnasium as gym\n",
    "from gymnasium import spaces\n",
    "from typing import List\n",
    "import torch.nn.functional as F\n",
    "from typing import Tuple\n",
    "from torch.utils.tensorboard import SummaryWriter\n",
    "from torch.utils.data import DataLoader, Dataset\n",
    "from typing import Optional\n",
    "from tqdm.notebook import tqdm, trange\n",
    "from minari import EpisodeData, MinariDataset\n",
    "import minari\n",
    "from gymnasium import Env"
   ]
  },
  {
   "cell_type": "code",
   "execution_count": 2,
   "metadata": {},
   "outputs": [
    {
     "name": "stdout",
     "output_type": "stream",
     "text": [
      "Observation dim: 8, Action dim: 2\n",
      "Reward dim: 1, Value dim: 1\n",
      "Transition dim: 12\n"
     ]
    }
   ],
   "source": [
    "def get_space_dim(space):\n",
    "    if isinstance(space, spaces.Discrete):\n",
    "        return 1\n",
    "    elif isinstance(space, spaces.Box):\n",
    "        return space.shape[0]\n",
    "    elif isinstance(space, spaces.Dict):\n",
    "        return sum([get_space_dim(v) for v in space.values()])\n",
    "    else:\n",
    "        raise ValueError(\"Unsupported observation space\")\n",
    "\n",
    "\n",
    "m_dataset = minari.load_dataset(\"D4RL/pointmaze/medium-v2\", True)\n",
    "env = m_dataset.recover_environment().unwrapped\n",
    "# Environment parameters\n",
    "observation_dim = get_space_dim(env.observation_space)\n",
    "action_dim = get_space_dim(env.action_space)\n",
    "reward_dim = 1\n",
    "value_dim = 1\n",
    "transition_dim = observation_dim + action_dim + reward_dim + value_dim\n",
    "\n",
    "print(f\"Observation dim: {observation_dim}, Action dim: {action_dim}\")\n",
    "print(f\"Reward dim: {reward_dim}, Value dim: {value_dim}\")\n",
    "print(f\"Transition dim: {transition_dim}\")\n",
    "\n",
    "# Model parameters\n",
    "n_transitions = 10\n",
    "seq_len = n_transitions * transition_dim\n",
    "vocab_size = 100\n",
    "max_bins = vocab_size\n",
    "discount_factor = 0.99\n",
    "embedding_dim = 128\n",
    "n_heads = 4\n",
    "n_blocks = 4\n",
    "n_epochs = 25\n",
    "batch_size = 256\n",
    "lr = 0.0006\n",
    "eval_every = 2\n",
    "\n",
    "# other parameters\n",
    "n_episodes: Optional[int] = None\n",
    "\n",
    "if n_episodes:\n",
    "    m_dataset = m_dataset.sample_episodes(n_episodes)\n",
    "\n",
    "device = torch.device(\n",
    "    \"mps\"\n",
    "    if torch.backends.mps.is_available()\n",
    "    else \"cuda\" if torch.cuda.is_available() else \"cpu\"\n",
    ")"
   ]
  },
  {
   "cell_type": "code",
   "execution_count": 3,
   "metadata": {},
   "outputs": [],
   "source": [
    "class KBinsDiscretizer:\n",
    "    def __init__(self, dataset: np.ndarray, n_bins: int, strategy: str = \"ordinal\"):\n",
    "        self.n_bins = n_bins\n",
    "        self.strategy = strategy\n",
    "\n",
    "        # bin_edges shape: (n_features, n_bins + 1)\n",
    "        self.bin_edges = self._find_bin_edges(dataset)\n",
    "\n",
    "        self.bin_centers = (self.bin_edges[:, :-1] + self.bin_edges[:, 1:]) * 0.5\n",
    "        self.bin_centers_torch = torch.from_numpy(self.bin_centers).float()\n",
    "\n",
    "    def _find_bin_edges(self, dataset: np.ndarray):\n",
    "        bin_edges = []\n",
    "        if self.strategy == \"uniform\":\n",
    "            mins, maxs = np.min(dataset, axis=0), np.max(dataset, axis=0)\n",
    "            bin_edges = np.linspace(mins, maxs, self.n_bins + 1).T\n",
    "        elif self.strategy == \"quantile\":\n",
    "            quantiles = np.linspace(0, 100, self.n_bins + 1)\n",
    "            bin_edges = np.percentile(dataset, quantiles, axis=0).T\n",
    "        else:\n",
    "            raise ValueError(f\"Unknown strategy: {self.strategy}\")\n",
    "        return bin_edges\n",
    "\n",
    "    def encode(\n",
    "        self, X: np.ndarray, subslice: Optional[Tuple[int, int]] = None\n",
    "    ) -> np.ndarray:\n",
    "        if X.ndim == 1:\n",
    "            # this is to handle the case where we have a single sample\n",
    "            X = X[None]\n",
    "        # data shape: (n_samples, n_features)\n",
    "        edges = self.bin_edges\n",
    "        if subslice is not None:\n",
    "            start, end = subslice\n",
    "            edges = edges[start:end]\n",
    "\n",
    "        Xt = np.zeros(X.shape, dtype=np.long)\n",
    "\n",
    "        # See documentation of numpy.isclose for an explanation of ``rtol`` and ``atol``.\n",
    "        rtol = 1.0e-5\n",
    "        atol = 1.0e-8\n",
    "\n",
    "        for jj in range(X.shape[1]):\n",
    "            # Values which are close to a bin edge are susceptible to numeric\n",
    "            # instability. Add eps to X so these values are binned correctly\n",
    "            # with respect to their decimal truncation.\n",
    "            eps = atol + rtol * np.abs(X[:, jj])\n",
    "            # why [1:]? bins = edges - 1, but its unclear why we leave out the first element and not the last\n",
    "            Xt[:, jj] = np.digitize(X[:, jj] + eps, edges[jj][1:])\n",
    "\n",
    "        np.clip(Xt, 0, self.n_bins - 1, out=Xt)\n",
    "\n",
    "        return Xt\n",
    "\n",
    "    def decode(\n",
    "        self, Xt: np.ndarray, subslice: Optional[Tuple[int, int]] = None\n",
    "    ) -> np.ndarray:\n",
    "        if Xt.ndim == 1:\n",
    "            # this is to handle the case where we have a single sample\n",
    "            Xt = Xt[None]\n",
    "        # data shape: (n_samples, n_features)\n",
    "        centers = self.bin_centers\n",
    "        if subslice is not None:\n",
    "            start, end = subslice\n",
    "            centers = centers[start:end]\n",
    "\n",
    "        X = np.zeros(Xt.shape, dtype=np.float64)\n",
    "        for jj in range(Xt.shape[1]):\n",
    "            X[:, jj] = centers[jj, np.int_(Xt[:, jj])]\n",
    "\n",
    "        return X\n",
    "\n",
    "    def expectation(\n",
    "        self, probs: np.ndarray, subslice: Optional[Tuple[int, int]] = None\n",
    "    ) -> np.ndarray:\n",
    "        if probs.ndim == 1:\n",
    "            # this is to handle the case where we have a single sample\n",
    "            probs = probs[None]\n",
    "        # probs shape: (batch_size, n_features, n_bins)\n",
    "        # bin_centers shape: (n_features, n_bins) -> (1, n_features, n_bins)\n",
    "        if torch.is_tensor(probs):\n",
    "            bin_centers = self.bin_centers_torch.unsqueeze(0)\n",
    "        else:\n",
    "            # bin_centers shape: (n_features, n_bins) -> (1, n_features, n_bins)\n",
    "            bin_centers = self.bin_centers[None]\n",
    "\n",
    "        if subslice is not None:\n",
    "            start, end = subslice\n",
    "            bin_centers = bin_centers[:, start:end]\n",
    "\n",
    "        # (batch_size, n_features, n_bins) * (1, n_features, n_bins) -> sum (batch_size, n_features, n_bins) -> (batch_size, n_features)\n",
    "        X = (probs * bin_centers).sum(axis=-1)\n",
    "        return X\n",
    "\n",
    "    def to(self, device):\n",
    "        self.bin_centers_torch = self.bin_centers_torch.to(device)"
   ]
  },
  {
   "cell_type": "code",
   "execution_count": 4,
   "metadata": {},
   "outputs": [
    {
     "name": "stdout",
     "output_type": "stream",
     "text": [
      "All tests passed successfully.\n"
     ]
    }
   ],
   "source": [
    "# Test array\n",
    "test_arr = np.array([[1, 2], [3, 4], [5, 6]])\n",
    "\n",
    "# Initialize the discretizer\n",
    "discretizer = KBinsDiscretizer(test_arr, 1000, strategy=\"uniform\")\n",
    "\n",
    "# Encode and decode the test array\n",
    "encoded = discretizer.encode(test_arr)\n",
    "decoded = discretizer.decode(encoded)\n",
    "\n",
    "# Check if the decoded array is close to the original array\n",
    "assert np.isclose(\n",
    "    decoded, test_arr, atol=1e-2\n",
    ").all(), f\"Decoded array {decoded} is not close to the original array {test_arr}\"\n",
    "\n",
    "# Generate random probabilities\n",
    "probs = F.softmax(torch.from_numpy(np.random.rand(3, 2, 1000)), dim=-1).numpy()\n",
    "\n",
    "# Calculate the expectation\n",
    "expectation = discretizer.expectation(probs)\n",
    "\n",
    "# Check if the expectation is close to the mean of the test array\n",
    "expected_mean = np.tile(np.mean(test_arr, axis=0), (3, 1))\n",
    "assert np.isclose(\n",
    "    expectation, expected_mean, atol=1e-1\n",
    ").all(), f\"Expectation {expectation} is not close to the expected mean {expected_mean}\"\n",
    "\n",
    "print(\"All tests passed successfully.\")"
   ]
  },
  {
   "cell_type": "code",
   "execution_count": 5,
   "metadata": {},
   "outputs": [
    {
     "name": "stdout",
     "output_type": "stream",
     "text": [
      "All tests passed successfully.\n"
     ]
    }
   ],
   "source": [
    "def flatten_space(s_dict: Any, space: spaces.Space) -> np.ndarray:\n",
    "    if isinstance(space, spaces.Discrete):\n",
    "        return s_dict\n",
    "    elif isinstance(space, spaces.Box):\n",
    "        return s_dict\n",
    "    elif isinstance(space, spaces.Dict):\n",
    "        return np.concatenate([s_dict[k] for k in space.spaces.keys()], axis=-1)\n",
    "    else:\n",
    "        raise ValueError(\"Unsupported observation space\")\n",
    "\n",
    "\n",
    "def unflatten_space(s_flat: np.ndarray, space: spaces.Space) -> dict:\n",
    "    if isinstance(space, spaces.Discrete):\n",
    "        return s_flat\n",
    "    elif isinstance(space, spaces.Box):\n",
    "        return s_flat\n",
    "    elif isinstance(space, spaces.Dict):\n",
    "        s_dict = {}\n",
    "        start = 0\n",
    "        for k, v in space.spaces.items():\n",
    "            end = start + get_space_dim(v)\n",
    "            s_dict[k] = s_flat[:, start:end]\n",
    "            start = end\n",
    "        return s_dict\n",
    "    else:\n",
    "        raise ValueError(\"Unsupported observation space\")\n",
    "\n",
    "\n",
    "# Test the flatten_space_dict and unflatten_space_dict functions\n",
    "test_dict = {\"obs\": np.array([[1, 2, 3], [4, 5, 6]]), \"act\": np.array([[0], [1]])}\n",
    "test_space = spaces.Dict(\n",
    "    {\"obs\": spaces.Box(low=0, high=10, shape=(3,)), \"act\": spaces.Discrete(2)}\n",
    ")\n",
    "test_flat = flatten_space(test_dict, test_space)\n",
    "test_unflat = unflatten_space(test_flat, test_space)\n",
    "\n",
    "assert np.isclose(\n",
    "    test_flat, np.array([[0, 1, 2, 3], [1, 4, 5, 6]])\n",
    ").all(), f\"Flattened array {test_flat} is not as expected.\"\n",
    "assert np.isclose(\n",
    "    test_unflat[\"obs\"], test_dict[\"obs\"]\n",
    ").all(), f\"Unflattened observation {test_unflat['obs']} is not as expected.\"\n",
    "assert np.isclose(\n",
    "    test_unflat[\"act\"], test_dict[\"act\"]\n",
    ").all(), f\"Unflattened action {test_unflat['act']} is not as expected.\"\n",
    "\n",
    "# test discrete space\n",
    "test_dict = np.array([[0], [1]])\n",
    "test_space = spaces.Discrete(2)\n",
    "test_flat = flatten_space(test_dict, test_space)\n",
    "test_unflat = unflatten_space(test_flat, test_space)\n",
    "\n",
    "assert np.isclose(\n",
    "    test_flat, test_dict\n",
    ").all(), f\"Flattened array {test_flat} is not as expected.\"\n",
    "assert np.isclose(\n",
    "    test_unflat, test_dict\n",
    ").all(), f\"Unflattened array {test_unflat} is not as expected.\"\n",
    "\n",
    "# test box space\n",
    "test_dict = np.array([[1, 2, 3], [4, 5, 6]])\n",
    "test_space = spaces.Box(low=0, high=10, shape=(3,))\n",
    "test_flat = flatten_space(test_dict, test_space)\n",
    "test_unflat = unflatten_space(test_flat, test_space)\n",
    "\n",
    "assert np.isclose(\n",
    "    test_flat, test_dict\n",
    ").all(), f\"Flattened array {test_flat} is not as expected.\"\n",
    "assert np.isclose(\n",
    "    test_unflat, test_dict\n",
    ").all(), f\"Unflattened array {test_unflat} is not as expected.\"\n",
    "\n",
    "print(\"All tests passed successfully.\")"
   ]
  },
  {
   "cell_type": "code",
   "execution_count": 6,
   "metadata": {},
   "outputs": [],
   "source": [
    "def join_trajectory(env: Env, episode: EpisodeData, discount: float = 0.99):\n",
    "    trajectory_len = episode.rewards.shape[0]\n",
    "    observations = episode.observations\n",
    "    actions = episode.actions\n",
    "    rewards = episode.rewards\n",
    "\n",
    "    values = np.zeros(trajectory_len)\n",
    "    # calculate rewards to go with discount\n",
    "    for i in range(trajectory_len - 1, -1, -1):\n",
    "        values[i] = rewards[i] + (\n",
    "            discount * values[i + 1] if i + 1 < trajectory_len else 0\n",
    "        )\n",
    "\n",
    "    # drop the last state because we don't have a reward for it\n",
    "    states = flatten_space(observations, env.observation_space)\n",
    "    states = states[:-1, :].reshape(trajectory_len, -1)\n",
    "    actions = actions.reshape(trajectory_len, -1)\n",
    "    rewards = rewards.reshape(trajectory_len, -1)\n",
    "    values = values.reshape(trajectory_len, -1)\n",
    "\n",
    "    joined = np.concatenate([states, actions, rewards, values], axis=-1)\n",
    "\n",
    "    return joined\n",
    "\n",
    "\n",
    "class DiscretizeDataset(Dataset):\n",
    "    # Each input into the sequence model needs to be (batch_size, tokens)\n",
    "    # output should be in groups of transitions\n",
    "    def __init__(\n",
    "        self,\n",
    "        env: Env,\n",
    "        m_dataset: MinariDataset,\n",
    "        n_transitions: int,\n",
    "        discount: float = 0.99,\n",
    "        max_bins: int = 1000,\n",
    "    ):\n",
    "        self.m_dataset = m_dataset\n",
    "        self.n_transitions = n_transitions\n",
    "\n",
    "        self.joined_trajectories = []\n",
    "        for episode in m_dataset:\n",
    "            self.joined_trajectories.append(join_trajectory(env, episode, discount))\n",
    "\n",
    "        self.discretizer = KBinsDiscretizer(\n",
    "            n_bins=max_bins,\n",
    "            strategy=\"quantile\",\n",
    "            dataset=np.concatenate(self.joined_trajectories, axis=0),\n",
    "        )\n",
    "\n",
    "        indices = []\n",
    "        for traj_idx, joined_trajectory in enumerate(self.joined_trajectories):\n",
    "            traj_len = joined_trajectory.shape[0]\n",
    "            end = traj_len - 1\n",
    "            for i in range(end):\n",
    "                indices.append((traj_idx, i, i + n_transitions))\n",
    "\n",
    "        self.indices = np.array(indices)\n",
    "\n",
    "    def __len__(self):\n",
    "        return len(self.indices)\n",
    "\n",
    "    def __getitem__(self, idx):\n",
    "        traj_idx, start, end = self.indices[idx]\n",
    "        # shape (start - end)\n",
    "        joined = self.joined_trajectories[traj_idx][start:end]\n",
    "        loss_pad_mask = np.ones(\n",
    "            (self.n_transitions, joined.shape[-1]), dtype=np.float32\n",
    "        )\n",
    "        if joined.shape[0] < self.n_transitions:\n",
    "            joined = np.pad(\n",
    "                joined,\n",
    "                ((0, self.n_transitions - joined.shape[0]), (0, 0)),\n",
    "                mode=\"constant\",\n",
    "                constant_values=0,\n",
    "            )\n",
    "            loss_pad_mask[joined.shape[0] :] = 0\n",
    "\n",
    "        joined_discretized = self.discretizer.encode(joined)\n",
    "        joined_discretized = joined_discretized.reshape(-1).astype(np.long)\n",
    "        loss_pad_mask = loss_pad_mask.reshape(-1)\n",
    "        return joined_discretized[:-1], joined_discretized[1:], loss_pad_mask[:-1]"
   ]
  },
  {
   "cell_type": "code",
   "execution_count": 7,
   "metadata": {},
   "outputs": [
    {
     "name": "stdout",
     "output_type": "stream",
     "text": [
      "Length of dataset: 995248\n",
      "Shape of dataset: (119,), (119,)\n"
     ]
    }
   ],
   "source": [
    "dataset = DiscretizeDataset(\n",
    "    env=env,\n",
    "    m_dataset=m_dataset,\n",
    "    n_transitions=n_transitions,\n",
    "    discount=discount_factor,\n",
    "    max_bins=max_bins,\n",
    ")\n",
    "\n",
    "print(f\"Length of dataset: {len(dataset)}\")\n",
    "print(f\"Shape of dataset: {dataset[0][0].shape}, {dataset[0][1].shape}\")"
   ]
  },
  {
   "cell_type": "code",
   "execution_count": 9,
   "metadata": {},
   "outputs": [],
   "source": [
    "class Block(nn.Module):\n",
    "    def __init__(self, seq_len, embedding_dim: int, n_heads: int):\n",
    "        super().__init__()\n",
    "        self.attn = nn.MultiheadAttention(embedding_dim, n_heads, batch_first=True)\n",
    "        self.attn_norm = nn.LayerNorm(embedding_dim)\n",
    "\n",
    "        self.fc1 = nn.Linear(embedding_dim, embedding_dim * 2)\n",
    "        self.fc2 = nn.Linear(embedding_dim * 2, embedding_dim)\n",
    "        self.fc_norm = nn.LayerNorm(embedding_dim)\n",
    "\n",
    "        # mask value of true means that the value is not allowed to be attended to\n",
    "        self.register_buffer(\"mask\", ~torch.tril(torch.ones(seq_len, seq_len)).bool())\n",
    "        # transition_dim - 1 stores rewards to go, we don't want to attend to them because they contain future information\n",
    "        self.mask[:, transition_dim - 1 :: transition_dim] = True\n",
    "\n",
    "    def forward(self, x: torch.Tensor) -> torch.Tensor:\n",
    "        # x shape (batch_size, n_tokens, embedding_dim)\n",
    "        _, n_tokens, _ = x.shape\n",
    "        # attn_mask shape (seq_len, seq_len), but incoming shape is (batch_size, n_tokens, embedding_dim)\n",
    "        # so filter the mask to the correct size (n_tokens, n_tokens)\n",
    "        attn_mask = self.mask[:n_tokens, :n_tokens]\n",
    "        # attn_output shape (batch_size, n_tokens, embedding_dim)\n",
    "        attn_output, _ = self.attn(x, x, x, attn_mask=attn_mask)\n",
    "        # add and norm\n",
    "        # attn_output shape (batch_size, n_tokens, embedding_dim)\n",
    "        attn_output = self.attn_norm(attn_output + x)\n",
    "\n",
    "        # fc_output shape (batch_size, n_tokens, embedding_dim)\n",
    "        fc_output = self.fc1(attn_output)\n",
    "        fc_output = torch.relu(fc_output)\n",
    "        fc_output = self.fc2(fc_output)\n",
    "        fc_output = self.fc_norm(fc_output + attn_output)\n",
    "\n",
    "        return fc_output\n",
    "\n",
    "\n",
    "class TrajectoryTransformer(nn.Module):\n",
    "    def __init__(\n",
    "        self,\n",
    "        seq_len: int,\n",
    "        embedding_dim: int,\n",
    "        n_heads: int,\n",
    "        transition_dim: int,\n",
    "        n_blocks: int,\n",
    "        vocab_size: int,\n",
    "    ):\n",
    "        super().__init__()\n",
    "        self.seq_len = seq_len\n",
    "        self.embedding_dim = embedding_dim\n",
    "        self.n_heads = n_heads\n",
    "        self.transition_dim = transition_dim\n",
    "        self.n_blocks = n_blocks\n",
    "        self.vocab_size = vocab_size\n",
    "\n",
    "        self.token_embedding = nn.Embedding(seq_len * vocab_size, self.embedding_dim)\n",
    "        self.positional_embedding = nn.Parameter(\n",
    "            torch.zeros(1, seq_len, self.embedding_dim)\n",
    "        )\n",
    "\n",
    "        self.blocks = nn.ModuleList(\n",
    "            [\n",
    "                Block(self.seq_len, self.embedding_dim, self.n_heads)\n",
    "                for _ in range(self.n_blocks)\n",
    "            ]\n",
    "        )\n",
    "\n",
    "        self.fc = nn.Linear(self.embedding_dim, vocab_size)\n",
    "\n",
    "    def get_seq_len(self):\n",
    "        return self.seq_len\n",
    "\n",
    "    def _offset_tokens(self, tokens: torch.Tensor) -> torch.Tensor:\n",
    "        _, n_tokens = tokens.shape\n",
    "        n_transition = np.ceil(n_tokens / self.transition_dim).astype(int)\n",
    "\n",
    "        offsets = (\n",
    "            torch.arange(self.transition_dim, device=tokens.device) * self.vocab_size\n",
    "        )\n",
    "        # repeat the offset n_transition times\n",
    "        offsets = offsets.repeat(n_transition)\n",
    "        offset_idx = offsets[:n_tokens] + tokens\n",
    "        return offset_idx\n",
    "\n",
    "    def forward(self, tokens: torch.Tensor) -> torch.Tensor:\n",
    "        # tokens shape (batch_size, n_tokens)\n",
    "        _, n_tokens = tokens.shape\n",
    "        assert (\n",
    "            n_tokens <= self.seq_len\n",
    "        ), f\"n_tokens {n_tokens} is greater than seq_len {self.seq_len}\"\n",
    "\n",
    "        # project each token into their vocab space, this is similar to tokenization\n",
    "        # (batch_size, n_tokens)\n",
    "        offset_idx = self._offset_tokens(tokens)\n",
    "\n",
    "        # (batch_size, n_tokens, embedding_dim)\n",
    "        tokens = self.token_embedding(offset_idx)\n",
    "        positional_embedding = self.positional_embedding[:, :n_tokens]\n",
    "        tokens += positional_embedding\n",
    "\n",
    "        for block in self.blocks:\n",
    "            tokens = block(tokens)\n",
    "        # (batch_size, n_tokens, embedding_dim) -> (batch_size, n_tokens, vocab_size)\n",
    "        logits = self.fc(tokens)\n",
    "        return logits"
   ]
  },
  {
   "cell_type": "code",
   "execution_count": 36,
   "metadata": {},
   "outputs": [],
   "source": [
    "def sample_token_from_logits(\n",
    "    logits: torch.Tensor,\n",
    "    temperature: float = 1.0,\n",
    "    greedy: bool = False,\n",
    "    top_k: Optional[int] = None,\n",
    ") -> torch.Tensor:\n",
    "    \"\"\"\n",
    "    Sample the next token from the logits using temperature scaling and top-k sampling.\n",
    "\n",
    "    Args:\n",
    "        logits (torch.Tensor): The model's predicted logits.\n",
    "        temperature (float): The temperature scaling factor.\n",
    "        greedy (bool): Whether to sample greedily.\n",
    "        top_k (Optional[int]): The top-k sampling parameter.\n",
    "\n",
    "    Returns:\n",
    "        torch.Tensor: The sampled token.\n",
    "    \"\"\"\n",
    "    # Apply temperature scaling\n",
    "    if temperature != 1.0:\n",
    "        logits = logits / temperature\n",
    "\n",
    "    # Apply top-k sampling\n",
    "    if top_k is not None:\n",
    "        # Apply top-k sampling\n",
    "        # (batch_size, vocab_size) -> (batch_size, top_k)\n",
    "        v, indices = torch.topk(logits, top_k, dim=-1)\n",
    "        # set all logits to -inf except the top-k indices\n",
    "        logits[logits < v[:, [-1]]] = -float(\"Inf\")\n",
    "        probs = F.softmax(logits, dim=-1)\n",
    "        # Sample from the top-k indices\n",
    "        # (batch_size, top_k) -> (batch_size, 1)\n",
    "        idx = torch.multinomial(probs, num_samples=1)\n",
    "    else:\n",
    "        # Sample from the logits\n",
    "        probs = F.softmax(logits, dim=-1)\n",
    "        if not greedy:\n",
    "            idx = torch.multinomial(probs, num_samples=1)\n",
    "        else:\n",
    "            # Greedy sampling\n",
    "            _, idx = torch.max(probs, dim=-1)\n",
    "    return idx\n",
    "\n",
    "\n",
    "def round_to_multiple(number, multiple):\n",
    "    pad = (multiple - number % multiple) % multiple\n",
    "    return number + pad\n",
    "\n",
    "\n",
    "def sample_tokens(\n",
    "    model: nn.Module,\n",
    "    context: nn.Module,\n",
    "    n_steps: int,\n",
    "    temperature: float = 1.0,\n",
    "    greedy: bool = False,\n",
    "    top_k: Optional[int] = None,\n",
    ") -> torch.Tensor:\n",
    "    \"\"\"\n",
    "    Sample a sequence of tokens from the model.\n",
    "\n",
    "    Args:\n",
    "        model (nn.Module): The model to sample from.\n",
    "        context (nn.Module): The context to condition the sampling on.\n",
    "        n_steps (int): The number of steps to sample.\n",
    "        temperature (float): The temperature scaling factor.\n",
    "        greedy (bool): Whether to sample greedily.\n",
    "        top_k (Optional[int]): The top-k sampling parameter.\n",
    "\n",
    "    Returns:\n",
    "        torch.Tensor: The sampled tokens.\n",
    "    \"\"\"\n",
    "    raw_logits = torch.zeros(\n",
    "        context.shape[0], n_steps, vocab_size, device=context.device\n",
    "    )\n",
    "    for i in range(n_steps):\n",
    "        # crop the context so that it doesn't exceed the seq_len\n",
    "        curr_context_len = context.shape[1]\n",
    "        n_crop = round_to_multiple(\n",
    "            max(0, curr_context_len - model.get_seq_len()), transition_dim\n",
    "        )\n",
    "        context = context[:, n_crop:]\n",
    "        # Get the model's prediction\n",
    "        # (batch_size, seq_len, vocab_size)\n",
    "        logits = model(context)\n",
    "        # Sample the next token\n",
    "        # (batch_size, 1)\n",
    "        token = sample_token_from_logits(\n",
    "            logits[:, -1], temperature=temperature, greedy=greedy, top_k=top_k\n",
    "        )\n",
    "\n",
    "        context = torch.cat([context, token], dim=-1)\n",
    "\n",
    "        raw_logits[:, i] = logits[:, -1]\n",
    "    return context, raw_logits\n",
    "\n",
    "\n",
    "def beam_plan(\n",
    "    model: nn.Module,\n",
    "    discretizer: KBinsDiscretizer,\n",
    "    context: torch.Tensor,\n",
    "    beam_width: int,\n",
    "    beam_steps: int,\n",
    "    beam_context: int,\n",
    "    sample_expansion: int,\n",
    "    observation_dim: int,\n",
    "    action_dim: int,\n",
    "    reward_dim: int,\n",
    "    value_dim: int,\n",
    "    transition_dim: int,\n",
    "    obs_top_k: Optional[int] = None,\n",
    "    act_top_k: Optional[int] = None,\n",
    "    rew_top_k: Optional[int] = None,\n",
    "    temperature: float = 1.0,\n",
    "    greedy: bool = False,\n",
    ") -> torch.Tensor:\n",
    "    tokens_context_size = beam_context * transition_dim\n",
    "    n_crop = round_to_multiple(\n",
    "        max(0, context.shape[1] - tokens_context_size), transition_dim\n",
    "    )\n",
    "    context = context[:, n_crop:]\n",
    "    # context shape (seq_len) -> (beam_width, seq_len)\n",
    "    plan = context.repeat(beam_width, 1)\n",
    "\n",
    "    rewards = torch.zeros(beam_width, beam_steps + 1, device=context.device)\n",
    "    discounts = discount_factor ** torch.arange(beam_steps + 1, device=context.device)\n",
    "\n",
    "    for t in trange(beam_steps, desc=\"Beam Search\", leave=False):\n",
    "        # (beam_width, n_tokens) -> (beam_width * sample_expansion, n_tokens)\n",
    "        plan = plan.repeat(sample_expansion, 1)\n",
    "        rewards = rewards.repeat(sample_expansion, 1)\n",
    "\n",
    "        # sample actions\n",
    "        plan, _ = sample_tokens(\n",
    "            model,\n",
    "            plan,\n",
    "            n_steps=action_dim,\n",
    "            top_k=act_top_k,\n",
    "            temperature=temperature,\n",
    "            greedy=greedy,\n",
    "        )\n",
    "\n",
    "        # sample rewards and values\n",
    "        # plan (beam_width * sample_expansion, n_tokens) -> (beam_width * sample_expansion, n_tokens + reward_dim + value_dim)\n",
    "        # logits shape (beam_width * sample_expansion, reward_dim + value_dim, vocab_size)\n",
    "        plan, logits = sample_tokens(\n",
    "            model,\n",
    "            plan,\n",
    "            n_steps=reward_dim + value_dim,\n",
    "            top_k=rew_top_k,\n",
    "            temperature=temperature,\n",
    "            greedy=greedy,\n",
    "        )\n",
    "\n",
    "        probs = F.softmax(logits, dim=-1)\n",
    "        rewards_and_values = discretizer.expectation(\n",
    "            probs, subslice=(transition_dim - 2, transition_dim)\n",
    "        )\n",
    "\n",
    "        rewards[:, t : t + 2] = rewards_and_values\n",
    "        # Did you notice that rewards contains rewards at t and values at t+1, why?\n",
    "        #   when we want to calculate value (rewards to go) at t, we need to consider discounted rewards from 0 to t\n",
    "        #   and also future discounted rewards from t+1 to end. It is a bit awkward to apply discount factor to value (at t+1)\n",
    "        #   because predicted value is already discounted.\n",
    "        # (beam_width * sample_expansion, beam_steps + 1) * (beam_steps + 1) -> (beam_width * sample_expansion)\n",
    "        values = (rewards * discounts).sum(dim=-1)\n",
    "\n",
    "        # select top-k sequences\n",
    "        # (beam_width * sample_expansion) -> (beam_width)\n",
    "        values, idx = torch.topk(values, beam_width)\n",
    "\n",
    "        plan, rewards = plan[idx], rewards[idx]\n",
    "\n",
    "        if t < beam_steps - 1:\n",
    "            # sample observations only if we are not at the last step, why?\n",
    "            # because beam plan has to end with a valid transition [...., obs, act, rew, val]\n",
    "            plan, _ = sample_tokens(\n",
    "                model,\n",
    "                plan,\n",
    "                n_steps=observation_dim,\n",
    "                top_k=obs_top_k,\n",
    "                temperature=temperature,\n",
    "                greedy=greedy,\n",
    "            )\n",
    "\n",
    "    best_idx = torch.argmax(values)\n",
    "    # only return the best plan without the context\n",
    "    best_plan = plan[best_idx, context.shape[1] :]\n",
    "\n",
    "    return best_plan\n",
    "\n",
    "\n",
    "def rollout(\n",
    "    model: nn.Module,\n",
    "    env: Env,\n",
    "    discretizer: KBinsDiscretizer,\n",
    "    beam_width: int,\n",
    "    beam_steps: int,\n",
    "    beam_context: int,\n",
    "    sample_expansion: int,\n",
    "    observation_dim: int,\n",
    "    action_dim: int,\n",
    "    reward_dim: int,\n",
    "    value_dim: int,\n",
    "    transition_dim: int,\n",
    "    max_steps: int,\n",
    "    plan_every: int,\n",
    "    obs_top_k: Optional[int] = None,\n",
    "    act_top_k: Optional[int] = None,\n",
    "    rew_top_k: Optional[int] = None,\n",
    "    temperature: float = 1.0,\n",
    "    greedy: bool = False,\n",
    "    device: torch.device = torch.device(\"cpu\"),\n",
    "    generate_gif: bool = False,\n",
    "):\n",
    "    trajectory = []\n",
    "    assert (\n",
    "        plan_every <= beam_steps\n",
    "    ), f\"plan_every {plan_every} should be less than or equal to beam_steps {beam_steps}\"\n",
    "    obs, _ = env.reset()\n",
    "    imgs = []\n",
    "    if generate_gif:\n",
    "        imgs.append(env.render())\n",
    "    obs = flatten_space(obs, env.observation_space)\n",
    "    done = False\n",
    "    total_reward = 0\n",
    "\n",
    "    context = torch.zeros(\n",
    "        (1, (max_steps + 1) * transition_dim), device=device, dtype=torch.long\n",
    "    )\n",
    "\n",
    "    context_idx = 0\n",
    "\n",
    "    # discretize the observation\n",
    "    obs_token = discretizer.encode(\n",
    "        np.array([obs]), subslice=(0, observation_dim)\n",
    "    ).squeeze()\n",
    "\n",
    "    context[:, :observation_dim] = torch.tensor(obs_token, device=device)\n",
    "\n",
    "    for t in trange(max_steps, desc=\"Rollout\", leave=False):\n",
    "        if t % plan_every == 0:\n",
    "            # we need to plan a new trajectory, reset the context observation at t step\n",
    "            context_idx = (\n",
    "                ((t + 1) * transition_dim) - action_dim - reward_dim - value_dim\n",
    "            )\n",
    "            predicted_tokens = beam_plan(\n",
    "                model,\n",
    "                discretizer,\n",
    "                context[:, :context_idx],\n",
    "                beam_width,\n",
    "                beam_steps,\n",
    "                beam_context,\n",
    "                sample_expansion,\n",
    "                observation_dim,\n",
    "                action_dim,\n",
    "                reward_dim,\n",
    "                value_dim,\n",
    "                transition_dim,\n",
    "                obs_top_k=obs_top_k,\n",
    "                act_top_k=act_top_k,\n",
    "                rew_top_k=rew_top_k,\n",
    "                temperature=temperature,\n",
    "                greedy=greedy,\n",
    "            )\n",
    "        else:\n",
    "            predicted_tokens = predicted_tokens[transition_dim:]\n",
    "\n",
    "        # get the action from the predicted tokens\n",
    "        action_token = predicted_tokens[:action_dim].cpu().numpy()\n",
    "        # decode the action\n",
    "        action = discretizer.decode(\n",
    "            action_token, subslice=(observation_dim, observation_dim + action_dim)\n",
    "        ).squeeze()\n",
    "        action = unflatten_space(action, env.action_space)\n",
    "        next_obs, reward, terminated, truncated, _ = env.step(action)\n",
    "        next_obs = flatten_space(next_obs, env.observation_space)\n",
    "        done = terminated or truncated\n",
    "\n",
    "        total_reward += reward\n",
    "\n",
    "        if generate_gif:\n",
    "            imgs.append(env.render())\n",
    "\n",
    "        if done:\n",
    "            break\n",
    "\n",
    "        # discretize the next observation\n",
    "        next_obs_token = discretizer.encode(next_obs, subslice=(0, observation_dim))\n",
    "        # discretize the reward and value\n",
    "        reward_value_tokens = discretizer.encode(\n",
    "            np.array([reward, 0]), subslice=(transition_dim - 2, transition_dim)\n",
    "        )\n",
    "\n",
    "        # update the context\n",
    "        context_idx = t * transition_dim\n",
    "        # add action\n",
    "        context[\n",
    "            :,\n",
    "            context_idx + observation_dim : context_idx + observation_dim + action_dim,\n",
    "        ] = torch.as_tensor(action_token, device=device)\n",
    "        # add reward and value\n",
    "        context[\n",
    "            :, context_idx + observation_dim + action_dim : context_idx + transition_dim\n",
    "        ] = torch.as_tensor(reward_value_tokens, device=device)\n",
    "        # add next observation\n",
    "        context[\n",
    "            :,\n",
    "            context_idx\n",
    "            + transition_dim : context_idx\n",
    "            + transition_dim\n",
    "            + observation_dim,\n",
    "        ] = torch.as_tensor(next_obs_token, device=device)\n",
    "\n",
    "        trajectory.append((obs, next_obs, action, reward, done))\n",
    "        obs = next_obs\n",
    "\n",
    "    if generate_gif:\n",
    "        return total_reward, trajectory, imgs\n",
    "    return total_reward, trajectory, _"
   ]
  },
  {
   "cell_type": "code",
   "execution_count": 11,
   "metadata": {},
   "outputs": [
    {
     "name": "stdout",
     "output_type": "stream",
     "text": [
      "Using device: mps\n"
     ]
    },
    {
     "data": {
      "application/vnd.jupyter.widget-view+json": {
       "model_id": "172766ceb2c7486898576301620bb106",
       "version_major": 2,
       "version_minor": 0
      },
      "text/plain": [
       "Training:   0%|          | 0/25 [00:00<?, ?it/s]"
      ]
     },
     "metadata": {},
     "output_type": "display_data"
    },
    {
     "data": {
      "application/vnd.jupyter.widget-view+json": {
       "model_id": "5a810c609c264fdf872210731f1fa7ae",
       "version_major": 2,
       "version_minor": 0
      },
      "text/plain": [
       "Epoch 1/25:   0%|          | 0/3888 [00:00<?, ?it/s]"
      ]
     },
     "metadata": {},
     "output_type": "display_data"
    },
    {
     "data": {
      "application/vnd.jupyter.widget-view+json": {
       "model_id": "753f1458b8114f7fa815d3137a5c714f",
       "version_major": 2,
       "version_minor": 0
      },
      "text/plain": [
       "Epoch 2/25:   0%|          | 0/3888 [00:00<?, ?it/s]"
      ]
     },
     "metadata": {},
     "output_type": "display_data"
    },
    {
     "data": {
      "application/vnd.jupyter.widget-view+json": {
       "model_id": "4aa9d1857499480ea8b339bb7eeb356d",
       "version_major": 2,
       "version_minor": 0
      },
      "text/plain": [
       "Epoch 3/25:   0%|          | 0/3888 [00:00<?, ?it/s]"
      ]
     },
     "metadata": {},
     "output_type": "display_data"
    },
    {
     "data": {
      "application/vnd.jupyter.widget-view+json": {
       "model_id": "5f2623fb01034846b68d61200930a609",
       "version_major": 2,
       "version_minor": 0
      },
      "text/plain": [
       "Epoch 4/25:   0%|          | 0/3888 [00:00<?, ?it/s]"
      ]
     },
     "metadata": {},
     "output_type": "display_data"
    },
    {
     "data": {
      "application/vnd.jupyter.widget-view+json": {
       "model_id": "e29d31f3269e4f50a143a1f8bfcac727",
       "version_major": 2,
       "version_minor": 0
      },
      "text/plain": [
       "Epoch 5/25:   0%|          | 0/3888 [00:00<?, ?it/s]"
      ]
     },
     "metadata": {},
     "output_type": "display_data"
    },
    {
     "data": {
      "application/vnd.jupyter.widget-view+json": {
       "model_id": "a2eb442f20794bf0b10af3fd505f3c47",
       "version_major": 2,
       "version_minor": 0
      },
      "text/plain": [
       "Epoch 6/25:   0%|          | 0/3888 [00:00<?, ?it/s]"
      ]
     },
     "metadata": {},
     "output_type": "display_data"
    },
    {
     "data": {
      "application/vnd.jupyter.widget-view+json": {
       "model_id": "47e78629ceb642d98087ffb103a1ef80",
       "version_major": 2,
       "version_minor": 0
      },
      "text/plain": [
       "Epoch 7/25:   0%|          | 0/3888 [00:00<?, ?it/s]"
      ]
     },
     "metadata": {},
     "output_type": "display_data"
    },
    {
     "data": {
      "application/vnd.jupyter.widget-view+json": {
       "model_id": "00288728de324868b9b3111e57887db5",
       "version_major": 2,
       "version_minor": 0
      },
      "text/plain": [
       "Epoch 8/25:   0%|          | 0/3888 [00:00<?, ?it/s]"
      ]
     },
     "metadata": {},
     "output_type": "display_data"
    },
    {
     "data": {
      "application/vnd.jupyter.widget-view+json": {
       "model_id": "224c5b45927341859e763de8e700f270",
       "version_major": 2,
       "version_minor": 0
      },
      "text/plain": [
       "Epoch 9/25:   0%|          | 0/3888 [00:00<?, ?it/s]"
      ]
     },
     "metadata": {},
     "output_type": "display_data"
    },
    {
     "data": {
      "application/vnd.jupyter.widget-view+json": {
       "model_id": "8b9708898ffc4390b1b8c28be5c3d34f",
       "version_major": 2,
       "version_minor": 0
      },
      "text/plain": [
       "Epoch 10/25:   0%|          | 0/3888 [00:00<?, ?it/s]"
      ]
     },
     "metadata": {},
     "output_type": "display_data"
    },
    {
     "data": {
      "application/vnd.jupyter.widget-view+json": {
       "model_id": "158d4bec40d44983bbde78b78b6c2a31",
       "version_major": 2,
       "version_minor": 0
      },
      "text/plain": [
       "Epoch 11/25:   0%|          | 0/3888 [00:00<?, ?it/s]"
      ]
     },
     "metadata": {},
     "output_type": "display_data"
    },
    {
     "data": {
      "application/vnd.jupyter.widget-view+json": {
       "model_id": "432623353b8540f2b2f20062f4c0d771",
       "version_major": 2,
       "version_minor": 0
      },
      "text/plain": [
       "Epoch 12/25:   0%|          | 0/3888 [00:00<?, ?it/s]"
      ]
     },
     "metadata": {},
     "output_type": "display_data"
    },
    {
     "data": {
      "application/vnd.jupyter.widget-view+json": {
       "model_id": "b0c88f1f52614ec58dbcef451cd1a658",
       "version_major": 2,
       "version_minor": 0
      },
      "text/plain": [
       "Epoch 13/25:   0%|          | 0/3888 [00:00<?, ?it/s]"
      ]
     },
     "metadata": {},
     "output_type": "display_data"
    },
    {
     "data": {
      "application/vnd.jupyter.widget-view+json": {
       "model_id": "e3110482291047778720beec01a778d9",
       "version_major": 2,
       "version_minor": 0
      },
      "text/plain": [
       "Epoch 14/25:   0%|          | 0/3888 [00:00<?, ?it/s]"
      ]
     },
     "metadata": {},
     "output_type": "display_data"
    },
    {
     "data": {
      "application/vnd.jupyter.widget-view+json": {
       "model_id": "67ae9bdae51148df95ec52819539c362",
       "version_major": 2,
       "version_minor": 0
      },
      "text/plain": [
       "Epoch 15/25:   0%|          | 0/3888 [00:00<?, ?it/s]"
      ]
     },
     "metadata": {},
     "output_type": "display_data"
    },
    {
     "data": {
      "application/vnd.jupyter.widget-view+json": {
       "model_id": "39849ee2d0224badbe303ab9a9536e4a",
       "version_major": 2,
       "version_minor": 0
      },
      "text/plain": [
       "Epoch 16/25:   0%|          | 0/3888 [00:00<?, ?it/s]"
      ]
     },
     "metadata": {},
     "output_type": "display_data"
    },
    {
     "data": {
      "application/vnd.jupyter.widget-view+json": {
       "model_id": "e9a73f4734bf49618bce14c6a05981c5",
       "version_major": 2,
       "version_minor": 0
      },
      "text/plain": [
       "Epoch 17/25:   0%|          | 0/3888 [00:00<?, ?it/s]"
      ]
     },
     "metadata": {},
     "output_type": "display_data"
    },
    {
     "data": {
      "application/vnd.jupyter.widget-view+json": {
       "model_id": "c47e0c49b4784d9a9e251f60ea5ad975",
       "version_major": 2,
       "version_minor": 0
      },
      "text/plain": [
       "Epoch 18/25:   0%|          | 0/3888 [00:00<?, ?it/s]"
      ]
     },
     "metadata": {},
     "output_type": "display_data"
    },
    {
     "data": {
      "application/vnd.jupyter.widget-view+json": {
       "model_id": "56571972196142a7b83bf5bbcb8f96f8",
       "version_major": 2,
       "version_minor": 0
      },
      "text/plain": [
       "Epoch 19/25:   0%|          | 0/3888 [00:00<?, ?it/s]"
      ]
     },
     "metadata": {},
     "output_type": "display_data"
    },
    {
     "data": {
      "application/vnd.jupyter.widget-view+json": {
       "model_id": "2e392532e0ec464fa5973d3d6b204323",
       "version_major": 2,
       "version_minor": 0
      },
      "text/plain": [
       "Epoch 20/25:   0%|          | 0/3888 [00:00<?, ?it/s]"
      ]
     },
     "metadata": {},
     "output_type": "display_data"
    },
    {
     "data": {
      "application/vnd.jupyter.widget-view+json": {
       "model_id": "96a5c43c62214796921da95071ccfe02",
       "version_major": 2,
       "version_minor": 0
      },
      "text/plain": [
       "Epoch 21/25:   0%|          | 0/3888 [00:00<?, ?it/s]"
      ]
     },
     "metadata": {},
     "output_type": "display_data"
    },
    {
     "data": {
      "application/vnd.jupyter.widget-view+json": {
       "model_id": "3738e8da625949f99140968e4ff25c37",
       "version_major": 2,
       "version_minor": 0
      },
      "text/plain": [
       "Epoch 22/25:   0%|          | 0/3888 [00:00<?, ?it/s]"
      ]
     },
     "metadata": {},
     "output_type": "display_data"
    },
    {
     "data": {
      "application/vnd.jupyter.widget-view+json": {
       "model_id": "30162020a9d14badb5189e9130e4dc61",
       "version_major": 2,
       "version_minor": 0
      },
      "text/plain": [
       "Epoch 23/25:   0%|          | 0/3888 [00:00<?, ?it/s]"
      ]
     },
     "metadata": {},
     "output_type": "display_data"
    },
    {
     "data": {
      "application/vnd.jupyter.widget-view+json": {
       "model_id": "fba82ecc281d43bf9783f5a8ed876c67",
       "version_major": 2,
       "version_minor": 0
      },
      "text/plain": [
       "Epoch 24/25:   0%|          | 0/3888 [00:00<?, ?it/s]"
      ]
     },
     "metadata": {},
     "output_type": "display_data"
    },
    {
     "data": {
      "application/vnd.jupyter.widget-view+json": {
       "model_id": "011041b43f8348df8cb86693f737b2f5",
       "version_major": 2,
       "version_minor": 0
      },
      "text/plain": [
       "Epoch 25/25:   0%|          | 0/3888 [00:00<?, ?it/s]"
      ]
     },
     "metadata": {},
     "output_type": "display_data"
    }
   ],
   "source": [
    "def calculate_loss(\n",
    "    model: nn.Module,\n",
    "    batch: Tuple[torch.Tensor, torch.Tensor, torch.Tensor],\n",
    "    vocab_size: int,\n",
    "    transition_dim: int,\n",
    "    observation_dim: int,\n",
    "    action_dim: int,\n",
    "    reward_dim: int,\n",
    "    value_dim: int,\n",
    "    device: torch.device = torch.device(\"cpu\"),\n",
    ") -> torch.Tensor:\n",
    "    # inputs shape (batch_size, seq_len)\n",
    "    # targets shape (batch_size, seq_len)\n",
    "    # loss_pad_mask shape (batch_size, seq_len)\n",
    "    inputs, targets, loss_pad_mask = batch\n",
    "    inputs = inputs.to(device)\n",
    "    targets = targets.to(device)\n",
    "    loss_pad_mask = loss_pad_mask.to(device)\n",
    "    # logits shape (batch_size, seq_len, vocab_size)\n",
    "    logits = model(inputs)\n",
    "    # flatten the logits and targets to shape (batch_size * seq_len, vocab_size)\n",
    "    logits = logits.view(-1, vocab_size)\n",
    "    # flatten the targets to shape (batch_size * seq_len)\n",
    "    targets = targets.view(-1)\n",
    "    # loss shape (batch_size * seq_len)\n",
    "    loss = F.cross_entropy(logits, targets)\n",
    "\n",
    "    n_states = int(np.ceil(inputs.shape[1] / transition_dim))\n",
    "    weights = torch.cat(\n",
    "        [\n",
    "            torch.ones(observation_dim, device=inputs.device),\n",
    "            torch.ones(action_dim, device=inputs.device) * 5,\n",
    "            torch.ones(reward_dim, device=inputs.device) * 1,\n",
    "            torch.ones(value_dim, device=inputs.device) * 1,\n",
    "        ]\n",
    "    )\n",
    "    weights = weights.repeat(n_states)[1:].repeat(inputs.shape[0], 1)\n",
    "    loss = loss * weights.view(-1)\n",
    "    # apply the loss pad mask to the loss because we don't want to calculate the loss for padded values\n",
    "    loss = (loss * loss_pad_mask.view(-1)).mean()\n",
    "    return loss\n",
    "\n",
    "\n",
    "def eval(\n",
    "    env: Env,\n",
    "    model: nn.Module,\n",
    "    discretizer: KBinsDiscretizer,\n",
    "    num_episodes: int,\n",
    "    beam_width: int,\n",
    "    beam_steps: int,\n",
    "    beam_context: int,\n",
    "    sample_expansion: int,\n",
    "    observation_dim: int,\n",
    "    action_dim: int,\n",
    "    reward_dim: int,\n",
    "    value_dim: int,\n",
    "    transition_dim: int,\n",
    "    max_steps: int,\n",
    "    plan_every: int,\n",
    "    obs_top_k: Optional[int] = None,\n",
    "    act_top_k: Optional[int] = None,\n",
    "    rew_top_k: Optional[int] = None,\n",
    "    temperature: float = 1.0,\n",
    "    greedy: bool = False,\n",
    "    device: torch.device = torch.device(\"cpu\"),\n",
    "):\n",
    "    model.eval()\n",
    "\n",
    "    total_rewards = []\n",
    "\n",
    "    for _ in trange(num_episodes, desc=\"Evaluating episode\", leave=False):\n",
    "        total_reward, _ = rollout(\n",
    "            model,\n",
    "            env,\n",
    "            discretizer,\n",
    "            beam_width,\n",
    "            beam_steps,\n",
    "            beam_context,\n",
    "            sample_expansion,\n",
    "            observation_dim,\n",
    "            action_dim,\n",
    "            reward_dim,\n",
    "            value_dim,\n",
    "            transition_dim,\n",
    "            max_steps,\n",
    "            plan_every,\n",
    "            obs_top_k=obs_top_k,\n",
    "            act_top_k=act_top_k,\n",
    "            rew_top_k=rew_top_k,\n",
    "            temperature=temperature,\n",
    "            greedy=greedy,\n",
    "            device=device,\n",
    "        )\n",
    "        total_rewards.append(total_reward)\n",
    "\n",
    "    mean_rewards = np.mean(total_rewards)\n",
    "    std_rewards = np.std(total_rewards)\n",
    "\n",
    "    model.train()\n",
    "    return mean_rewards, std_rewards\n",
    "\n",
    "\n",
    "def train(\n",
    "    model: nn.Module,\n",
    "    dataloader: torch.utils.data.DataLoader,\n",
    "    optimizer: torch.optim.Optimizer,\n",
    "    vocab_size: int,\n",
    "    n_epochs: int,\n",
    "    writer: SummaryWriter,\n",
    "    device: torch.device = torch.device(\"cpu\"),\n",
    "    eval_every: int = 10,\n",
    "):\n",
    "    model.train()\n",
    "    step = 0\n",
    "    for epoch in trange(n_epochs, desc=\"Training\"):\n",
    "        total_loss = 0\n",
    "        for batch in tqdm(\n",
    "            dataloader, desc=f\"Epoch {epoch + 1}/{n_epochs}\", leave=False\n",
    "        ):\n",
    "            optimizer.zero_grad()\n",
    "            loss = calculate_loss(\n",
    "                model,\n",
    "                batch,\n",
    "                vocab_size,\n",
    "                device=device,\n",
    "                transition_dim=transition_dim,\n",
    "                observation_dim=observation_dim,\n",
    "                action_dim=action_dim,\n",
    "                reward_dim=reward_dim,\n",
    "                value_dim=value_dim,\n",
    "            )\n",
    "            loss.backward()\n",
    "            optimizer.step()\n",
    "            writer.add_scalar(\"Loss/train\", loss.item(), step)\n",
    "            total_loss += loss.item()\n",
    "            step += 1\n",
    "\n",
    "\n",
    "print(f\"Using device: {device}\")\n",
    "\n",
    "writer = SummaryWriter()\n",
    "dataset.discretizer.to(device)\n",
    "dataloader = torch.utils.data.DataLoader(dataset, batch_size=batch_size, shuffle=True)\n",
    "model = TrajectoryTransformer(\n",
    "    seq_len, embedding_dim, n_heads, transition_dim, n_blocks, vocab_size\n",
    ").to(device)\n",
    "optimizer = optim.Adam(model.parameters(), lr=lr)\n",
    "train(\n",
    "    model,\n",
    "    dataloader,\n",
    "    optimizer,\n",
    "    vocab_size,\n",
    "    n_epochs,\n",
    "    writer,\n",
    "    device=device,\n",
    "    eval_every=eval_every,\n",
    ")"
   ]
  },
  {
   "cell_type": "code",
   "execution_count": 67,
   "metadata": {},
   "outputs": [
    {
     "data": {
      "application/vnd.jupyter.widget-view+json": {
       "model_id": "8e5730ac233949e4a07b35d764dd83d9",
       "version_major": 2,
       "version_minor": 0
      },
      "text/plain": [
       "Rollout:   0%|          | 0/400 [00:00<?, ?it/s]"
      ]
     },
     "metadata": {},
     "output_type": "display_data"
    },
    {
     "data": {
      "application/vnd.jupyter.widget-view+json": {
       "model_id": "05bf6922bb3b4edea7e735926f6da823",
       "version_major": 2,
       "version_minor": 0
      },
      "text/plain": [
       "Beam Search:   0%|          | 0/3 [00:00<?, ?it/s]"
      ]
     },
     "metadata": {},
     "output_type": "display_data"
    },
    {
     "data": {
      "application/vnd.jupyter.widget-view+json": {
       "model_id": "b9725d7526e343999c90c5cb3e595873",
       "version_major": 2,
       "version_minor": 0
      },
      "text/plain": [
       "Beam Search:   0%|          | 0/3 [00:00<?, ?it/s]"
      ]
     },
     "metadata": {},
     "output_type": "display_data"
    },
    {
     "data": {
      "application/vnd.jupyter.widget-view+json": {
       "model_id": "dcf6850922cb4f20ab87e3f73e909983",
       "version_major": 2,
       "version_minor": 0
      },
      "text/plain": [
       "Beam Search:   0%|          | 0/3 [00:00<?, ?it/s]"
      ]
     },
     "metadata": {},
     "output_type": "display_data"
    },
    {
     "data": {
      "application/vnd.jupyter.widget-view+json": {
       "model_id": "ba54d23fc8c44219bffc6147deb041fa",
       "version_major": 2,
       "version_minor": 0
      },
      "text/plain": [
       "Beam Search:   0%|          | 0/3 [00:00<?, ?it/s]"
      ]
     },
     "metadata": {},
     "output_type": "display_data"
    },
    {
     "data": {
      "application/vnd.jupyter.widget-view+json": {
       "model_id": "2b82a4e87a7b4e168f485fa49175c535",
       "version_major": 2,
       "version_minor": 0
      },
      "text/plain": [
       "Beam Search:   0%|          | 0/3 [00:00<?, ?it/s]"
      ]
     },
     "metadata": {},
     "output_type": "display_data"
    },
    {
     "data": {
      "application/vnd.jupyter.widget-view+json": {
       "model_id": "f31aefd0b0b140d8903e23a5a804bbdc",
       "version_major": 2,
       "version_minor": 0
      },
      "text/plain": [
       "Beam Search:   0%|          | 0/3 [00:00<?, ?it/s]"
      ]
     },
     "metadata": {},
     "output_type": "display_data"
    },
    {
     "data": {
      "application/vnd.jupyter.widget-view+json": {
       "model_id": "80e8ede115fd45078a446da596af2063",
       "version_major": 2,
       "version_minor": 0
      },
      "text/plain": [
       "Beam Search:   0%|          | 0/3 [00:00<?, ?it/s]"
      ]
     },
     "metadata": {},
     "output_type": "display_data"
    },
    {
     "data": {
      "application/vnd.jupyter.widget-view+json": {
       "model_id": "ce065f79e31b4e84929122e3f7dba2c5",
       "version_major": 2,
       "version_minor": 0
      },
      "text/plain": [
       "Beam Search:   0%|          | 0/3 [00:00<?, ?it/s]"
      ]
     },
     "metadata": {},
     "output_type": "display_data"
    },
    {
     "data": {
      "application/vnd.jupyter.widget-view+json": {
       "model_id": "bf24793edfb7452a90c07180b995638a",
       "version_major": 2,
       "version_minor": 0
      },
      "text/plain": [
       "Beam Search:   0%|          | 0/3 [00:00<?, ?it/s]"
      ]
     },
     "metadata": {},
     "output_type": "display_data"
    },
    {
     "data": {
      "application/vnd.jupyter.widget-view+json": {
       "model_id": "dcbf8ad992cb4571a2262cc3902ded52",
       "version_major": 2,
       "version_minor": 0
      },
      "text/plain": [
       "Beam Search:   0%|          | 0/3 [00:00<?, ?it/s]"
      ]
     },
     "metadata": {},
     "output_type": "display_data"
    },
    {
     "data": {
      "application/vnd.jupyter.widget-view+json": {
       "model_id": "c7ac5cada9334ee3a62009332938d2a0",
       "version_major": 2,
       "version_minor": 0
      },
      "text/plain": [
       "Beam Search:   0%|          | 0/3 [00:00<?, ?it/s]"
      ]
     },
     "metadata": {},
     "output_type": "display_data"
    },
    {
     "data": {
      "application/vnd.jupyter.widget-view+json": {
       "model_id": "7605164e9d0346be9248c0dbc3f91b81",
       "version_major": 2,
       "version_minor": 0
      },
      "text/plain": [
       "Beam Search:   0%|          | 0/3 [00:00<?, ?it/s]"
      ]
     },
     "metadata": {},
     "output_type": "display_data"
    },
    {
     "data": {
      "application/vnd.jupyter.widget-view+json": {
       "model_id": "7d60d68bc11743009fad7dfd6976a852",
       "version_major": 2,
       "version_minor": 0
      },
      "text/plain": [
       "Beam Search:   0%|          | 0/3 [00:00<?, ?it/s]"
      ]
     },
     "metadata": {},
     "output_type": "display_data"
    },
    {
     "data": {
      "application/vnd.jupyter.widget-view+json": {
       "model_id": "6e641fc000e842b8a66750f4f292fabc",
       "version_major": 2,
       "version_minor": 0
      },
      "text/plain": [
       "Beam Search:   0%|          | 0/3 [00:00<?, ?it/s]"
      ]
     },
     "metadata": {},
     "output_type": "display_data"
    },
    {
     "data": {
      "application/vnd.jupyter.widget-view+json": {
       "model_id": "748f3814379c4aaea331d493203d1734",
       "version_major": 2,
       "version_minor": 0
      },
      "text/plain": [
       "Beam Search:   0%|          | 0/3 [00:00<?, ?it/s]"
      ]
     },
     "metadata": {},
     "output_type": "display_data"
    },
    {
     "data": {
      "application/vnd.jupyter.widget-view+json": {
       "model_id": "3b0db9968ec846b1ba11c3845461fca2",
       "version_major": 2,
       "version_minor": 0
      },
      "text/plain": [
       "Beam Search:   0%|          | 0/3 [00:00<?, ?it/s]"
      ]
     },
     "metadata": {},
     "output_type": "display_data"
    },
    {
     "data": {
      "application/vnd.jupyter.widget-view+json": {
       "model_id": "9af73f49e9274d75891de64ff98773b8",
       "version_major": 2,
       "version_minor": 0
      },
      "text/plain": [
       "Beam Search:   0%|          | 0/3 [00:00<?, ?it/s]"
      ]
     },
     "metadata": {},
     "output_type": "display_data"
    },
    {
     "data": {
      "application/vnd.jupyter.widget-view+json": {
       "model_id": "a93e5d0367ae44788f2a26f889a8086a",
       "version_major": 2,
       "version_minor": 0
      },
      "text/plain": [
       "Beam Search:   0%|          | 0/3 [00:00<?, ?it/s]"
      ]
     },
     "metadata": {},
     "output_type": "display_data"
    },
    {
     "data": {
      "application/vnd.jupyter.widget-view+json": {
       "model_id": "7528627a0c21446195af2517e1391513",
       "version_major": 2,
       "version_minor": 0
      },
      "text/plain": [
       "Beam Search:   0%|          | 0/3 [00:00<?, ?it/s]"
      ]
     },
     "metadata": {},
     "output_type": "display_data"
    },
    {
     "data": {
      "application/vnd.jupyter.widget-view+json": {
       "model_id": "aff4e539e856431eb22d40203c4345d1",
       "version_major": 2,
       "version_minor": 0
      },
      "text/plain": [
       "Beam Search:   0%|          | 0/3 [00:00<?, ?it/s]"
      ]
     },
     "metadata": {},
     "output_type": "display_data"
    },
    {
     "data": {
      "application/vnd.jupyter.widget-view+json": {
       "model_id": "ccf3ff582f7b40e79a3d51c52561e86e",
       "version_major": 2,
       "version_minor": 0
      },
      "text/plain": [
       "Beam Search:   0%|          | 0/3 [00:00<?, ?it/s]"
      ]
     },
     "metadata": {},
     "output_type": "display_data"
    },
    {
     "data": {
      "application/vnd.jupyter.widget-view+json": {
       "model_id": "cdd4bc76dff94ace806be31414e868f7",
       "version_major": 2,
       "version_minor": 0
      },
      "text/plain": [
       "Beam Search:   0%|          | 0/3 [00:00<?, ?it/s]"
      ]
     },
     "metadata": {},
     "output_type": "display_data"
    },
    {
     "data": {
      "application/vnd.jupyter.widget-view+json": {
       "model_id": "0bc33a49f47549a2a0bd6a505d7b3522",
       "version_major": 2,
       "version_minor": 0
      },
      "text/plain": [
       "Beam Search:   0%|          | 0/3 [00:00<?, ?it/s]"
      ]
     },
     "metadata": {},
     "output_type": "display_data"
    },
    {
     "data": {
      "application/vnd.jupyter.widget-view+json": {
       "model_id": "67f3cf18677b48548cbfb3d963f3b204",
       "version_major": 2,
       "version_minor": 0
      },
      "text/plain": [
       "Beam Search:   0%|          | 0/3 [00:00<?, ?it/s]"
      ]
     },
     "metadata": {},
     "output_type": "display_data"
    },
    {
     "data": {
      "application/vnd.jupyter.widget-view+json": {
       "model_id": "c7bdf1ca9be143d089a041910b834336",
       "version_major": 2,
       "version_minor": 0
      },
      "text/plain": [
       "Beam Search:   0%|          | 0/3 [00:00<?, ?it/s]"
      ]
     },
     "metadata": {},
     "output_type": "display_data"
    },
    {
     "data": {
      "application/vnd.jupyter.widget-view+json": {
       "model_id": "bbe073fcc7654b0fb19dbd431a466374",
       "version_major": 2,
       "version_minor": 0
      },
      "text/plain": [
       "Beam Search:   0%|          | 0/3 [00:00<?, ?it/s]"
      ]
     },
     "metadata": {},
     "output_type": "display_data"
    },
    {
     "data": {
      "application/vnd.jupyter.widget-view+json": {
       "model_id": "a7a1644ae52b403483c3be148e80d5ee",
       "version_major": 2,
       "version_minor": 0
      },
      "text/plain": [
       "Beam Search:   0%|          | 0/3 [00:00<?, ?it/s]"
      ]
     },
     "metadata": {},
     "output_type": "display_data"
    },
    {
     "data": {
      "application/vnd.jupyter.widget-view+json": {
       "model_id": "38486a072b7e41beae19c5c3c9ac2714",
       "version_major": 2,
       "version_minor": 0
      },
      "text/plain": [
       "Beam Search:   0%|          | 0/3 [00:00<?, ?it/s]"
      ]
     },
     "metadata": {},
     "output_type": "display_data"
    },
    {
     "data": {
      "application/vnd.jupyter.widget-view+json": {
       "model_id": "c7b43b1a58e54969aa8fc409d461eb69",
       "version_major": 2,
       "version_minor": 0
      },
      "text/plain": [
       "Beam Search:   0%|          | 0/3 [00:00<?, ?it/s]"
      ]
     },
     "metadata": {},
     "output_type": "display_data"
    },
    {
     "data": {
      "application/vnd.jupyter.widget-view+json": {
       "model_id": "d610ad38a8044848ab35be89b26f3eec",
       "version_major": 2,
       "version_minor": 0
      },
      "text/plain": [
       "Beam Search:   0%|          | 0/3 [00:00<?, ?it/s]"
      ]
     },
     "metadata": {},
     "output_type": "display_data"
    },
    {
     "data": {
      "application/vnd.jupyter.widget-view+json": {
       "model_id": "3e04be6a074b4e73a55cf125b838c446",
       "version_major": 2,
       "version_minor": 0
      },
      "text/plain": [
       "Beam Search:   0%|          | 0/3 [00:00<?, ?it/s]"
      ]
     },
     "metadata": {},
     "output_type": "display_data"
    },
    {
     "data": {
      "application/vnd.jupyter.widget-view+json": {
       "model_id": "b4e8a4b81b274491a9d2f777449c2582",
       "version_major": 2,
       "version_minor": 0
      },
      "text/plain": [
       "Beam Search:   0%|          | 0/3 [00:00<?, ?it/s]"
      ]
     },
     "metadata": {},
     "output_type": "display_data"
    },
    {
     "data": {
      "application/vnd.jupyter.widget-view+json": {
       "model_id": "86853bc1858b4f76beff8b988ce68d63",
       "version_major": 2,
       "version_minor": 0
      },
      "text/plain": [
       "Beam Search:   0%|          | 0/3 [00:00<?, ?it/s]"
      ]
     },
     "metadata": {},
     "output_type": "display_data"
    },
    {
     "data": {
      "application/vnd.jupyter.widget-view+json": {
       "model_id": "229433a947ec417c98fcae6a59d7f047",
       "version_major": 2,
       "version_minor": 0
      },
      "text/plain": [
       "Beam Search:   0%|          | 0/3 [00:00<?, ?it/s]"
      ]
     },
     "metadata": {},
     "output_type": "display_data"
    },
    {
     "data": {
      "application/vnd.jupyter.widget-view+json": {
       "model_id": "a0e9688be3cf47aba5ce47e18c3a07d6",
       "version_major": 2,
       "version_minor": 0
      },
      "text/plain": [
       "Beam Search:   0%|          | 0/3 [00:00<?, ?it/s]"
      ]
     },
     "metadata": {},
     "output_type": "display_data"
    },
    {
     "data": {
      "application/vnd.jupyter.widget-view+json": {
       "model_id": "25fd6c4f951049649ccbbe82cd738385",
       "version_major": 2,
       "version_minor": 0
      },
      "text/plain": [
       "Beam Search:   0%|          | 0/3 [00:00<?, ?it/s]"
      ]
     },
     "metadata": {},
     "output_type": "display_data"
    },
    {
     "data": {
      "application/vnd.jupyter.widget-view+json": {
       "model_id": "2ce4c84494ce4e93afab9365e3efdd07",
       "version_major": 2,
       "version_minor": 0
      },
      "text/plain": [
       "Beam Search:   0%|          | 0/3 [00:00<?, ?it/s]"
      ]
     },
     "metadata": {},
     "output_type": "display_data"
    },
    {
     "data": {
      "application/vnd.jupyter.widget-view+json": {
       "model_id": "d79de588ada643cfb59f82588095f345",
       "version_major": 2,
       "version_minor": 0
      },
      "text/plain": [
       "Beam Search:   0%|          | 0/3 [00:00<?, ?it/s]"
      ]
     },
     "metadata": {},
     "output_type": "display_data"
    },
    {
     "data": {
      "application/vnd.jupyter.widget-view+json": {
       "model_id": "228923c3f894468fb15fe8e7f5dacf0b",
       "version_major": 2,
       "version_minor": 0
      },
      "text/plain": [
       "Beam Search:   0%|          | 0/3 [00:00<?, ?it/s]"
      ]
     },
     "metadata": {},
     "output_type": "display_data"
    },
    {
     "data": {
      "application/vnd.jupyter.widget-view+json": {
       "model_id": "f441d3c9cff240ac9ca281a0272d8a8d",
       "version_major": 2,
       "version_minor": 0
      },
      "text/plain": [
       "Beam Search:   0%|          | 0/3 [00:00<?, ?it/s]"
      ]
     },
     "metadata": {},
     "output_type": "display_data"
    },
    {
     "data": {
      "application/vnd.jupyter.widget-view+json": {
       "model_id": "7ca64dfeced34271895f9b6e59bf3f1f",
       "version_major": 2,
       "version_minor": 0
      },
      "text/plain": [
       "Beam Search:   0%|          | 0/3 [00:00<?, ?it/s]"
      ]
     },
     "metadata": {},
     "output_type": "display_data"
    },
    {
     "data": {
      "application/vnd.jupyter.widget-view+json": {
       "model_id": "c468a465d0f9446b932ad7cc71dead51",
       "version_major": 2,
       "version_minor": 0
      },
      "text/plain": [
       "Beam Search:   0%|          | 0/3 [00:00<?, ?it/s]"
      ]
     },
     "metadata": {},
     "output_type": "display_data"
    },
    {
     "data": {
      "application/vnd.jupyter.widget-view+json": {
       "model_id": "e070878d8fe245639a6a4bcd872bfc77",
       "version_major": 2,
       "version_minor": 0
      },
      "text/plain": [
       "Beam Search:   0%|          | 0/3 [00:00<?, ?it/s]"
      ]
     },
     "metadata": {},
     "output_type": "display_data"
    },
    {
     "data": {
      "application/vnd.jupyter.widget-view+json": {
       "model_id": "3c5f11a6cf6d4b6a989f1caa25c672e4",
       "version_major": 2,
       "version_minor": 0
      },
      "text/plain": [
       "Beam Search:   0%|          | 0/3 [00:00<?, ?it/s]"
      ]
     },
     "metadata": {},
     "output_type": "display_data"
    },
    {
     "data": {
      "application/vnd.jupyter.widget-view+json": {
       "model_id": "b537e0f50f1d4cf6b5e49a4b04878ad7",
       "version_major": 2,
       "version_minor": 0
      },
      "text/plain": [
       "Beam Search:   0%|          | 0/3 [00:00<?, ?it/s]"
      ]
     },
     "metadata": {},
     "output_type": "display_data"
    },
    {
     "data": {
      "application/vnd.jupyter.widget-view+json": {
       "model_id": "f2fb38d35bbb44c9a2680b8f03c1e949",
       "version_major": 2,
       "version_minor": 0
      },
      "text/plain": [
       "Beam Search:   0%|          | 0/3 [00:00<?, ?it/s]"
      ]
     },
     "metadata": {},
     "output_type": "display_data"
    },
    {
     "data": {
      "application/vnd.jupyter.widget-view+json": {
       "model_id": "f52090c7671e40c3bf33b02ea0657056",
       "version_major": 2,
       "version_minor": 0
      },
      "text/plain": [
       "Beam Search:   0%|          | 0/3 [00:00<?, ?it/s]"
      ]
     },
     "metadata": {},
     "output_type": "display_data"
    },
    {
     "data": {
      "application/vnd.jupyter.widget-view+json": {
       "model_id": "e190be2e8f1d45dfb073e084b1d0af1f",
       "version_major": 2,
       "version_minor": 0
      },
      "text/plain": [
       "Beam Search:   0%|          | 0/3 [00:00<?, ?it/s]"
      ]
     },
     "metadata": {},
     "output_type": "display_data"
    },
    {
     "data": {
      "application/vnd.jupyter.widget-view+json": {
       "model_id": "415890a0d13146f4b5dc1b82cc47a7fd",
       "version_major": 2,
       "version_minor": 0
      },
      "text/plain": [
       "Beam Search:   0%|          | 0/3 [00:00<?, ?it/s]"
      ]
     },
     "metadata": {},
     "output_type": "display_data"
    },
    {
     "data": {
      "application/vnd.jupyter.widget-view+json": {
       "model_id": "911f80b8ca1d4fd182cd0f7639017c9e",
       "version_major": 2,
       "version_minor": 0
      },
      "text/plain": [
       "Beam Search:   0%|          | 0/3 [00:00<?, ?it/s]"
      ]
     },
     "metadata": {},
     "output_type": "display_data"
    },
    {
     "data": {
      "application/vnd.jupyter.widget-view+json": {
       "model_id": "78f1018868d5447d840335e25458cb8c",
       "version_major": 2,
       "version_minor": 0
      },
      "text/plain": [
       "Beam Search:   0%|          | 0/3 [00:00<?, ?it/s]"
      ]
     },
     "metadata": {},
     "output_type": "display_data"
    },
    {
     "data": {
      "application/vnd.jupyter.widget-view+json": {
       "model_id": "966ae703be1541f08b6e96c901790208",
       "version_major": 2,
       "version_minor": 0
      },
      "text/plain": [
       "Beam Search:   0%|          | 0/3 [00:00<?, ?it/s]"
      ]
     },
     "metadata": {},
     "output_type": "display_data"
    },
    {
     "data": {
      "application/vnd.jupyter.widget-view+json": {
       "model_id": "c738ca84b9314097af6f007a664f4b18",
       "version_major": 2,
       "version_minor": 0
      },
      "text/plain": [
       "Beam Search:   0%|          | 0/3 [00:00<?, ?it/s]"
      ]
     },
     "metadata": {},
     "output_type": "display_data"
    },
    {
     "data": {
      "application/vnd.jupyter.widget-view+json": {
       "model_id": "478e80c5a5c6453faa2687e2e399f1b6",
       "version_major": 2,
       "version_minor": 0
      },
      "text/plain": [
       "Beam Search:   0%|          | 0/3 [00:00<?, ?it/s]"
      ]
     },
     "metadata": {},
     "output_type": "display_data"
    },
    {
     "data": {
      "application/vnd.jupyter.widget-view+json": {
       "model_id": "9608fb4601184d22b4c190ed8334d44e",
       "version_major": 2,
       "version_minor": 0
      },
      "text/plain": [
       "Beam Search:   0%|          | 0/3 [00:00<?, ?it/s]"
      ]
     },
     "metadata": {},
     "output_type": "display_data"
    },
    {
     "data": {
      "application/vnd.jupyter.widget-view+json": {
       "model_id": "b244ac0e588c43a18be05176864d41e7",
       "version_major": 2,
       "version_minor": 0
      },
      "text/plain": [
       "Beam Search:   0%|          | 0/3 [00:00<?, ?it/s]"
      ]
     },
     "metadata": {},
     "output_type": "display_data"
    },
    {
     "data": {
      "application/vnd.jupyter.widget-view+json": {
       "model_id": "543f4a324efe41e3a8f704ae9aeeba5a",
       "version_major": 2,
       "version_minor": 0
      },
      "text/plain": [
       "Beam Search:   0%|          | 0/3 [00:00<?, ?it/s]"
      ]
     },
     "metadata": {},
     "output_type": "display_data"
    },
    {
     "data": {
      "application/vnd.jupyter.widget-view+json": {
       "model_id": "25d1b31a29f24835929cd48845d915a7",
       "version_major": 2,
       "version_minor": 0
      },
      "text/plain": [
       "Beam Search:   0%|          | 0/3 [00:00<?, ?it/s]"
      ]
     },
     "metadata": {},
     "output_type": "display_data"
    },
    {
     "data": {
      "application/vnd.jupyter.widget-view+json": {
       "model_id": "0450a48a63244e139fbade87eef4bc7e",
       "version_major": 2,
       "version_minor": 0
      },
      "text/plain": [
       "Beam Search:   0%|          | 0/3 [00:00<?, ?it/s]"
      ]
     },
     "metadata": {},
     "output_type": "display_data"
    },
    {
     "name": "stdout",
     "output_type": "stream",
     "text": [
      "Total reward: 1.0\n"
     ]
    }
   ],
   "source": [
    "total_reward, trajectory, imgs = rollout(\n",
    "    model=model,\n",
    "    env=minari.load_dataset(\"D4RL/pointmaze/medium-v2\", True).recover_environment(\n",
    "        render_mode=\"rgb_array\", continuing_task=False\n",
    "    ),\n",
    "    discretizer=dataset.discretizer,\n",
    "    beam_width=4,\n",
    "    beam_steps=3,\n",
    "    beam_context=7,\n",
    "    sample_expansion=2,\n",
    "    observation_dim=observation_dim,\n",
    "    action_dim=action_dim,\n",
    "    reward_dim=reward_dim,\n",
    "    value_dim=value_dim,\n",
    "    transition_dim=transition_dim,\n",
    "    max_steps=400,\n",
    "    plan_every=1,\n",
    "    obs_top_k=1,\n",
    "    act_top_k=2,\n",
    "    rew_top_k=None,\n",
    "    temperature=1.0,\n",
    "    greedy=False,\n",
    "    device=device,\n",
    "    generate_gif=True,\n",
    ")\n",
    "print(f\"Total reward: {total_reward}\")"
   ]
  },
  {
   "cell_type": "code",
   "execution_count": 68,
   "metadata": {},
   "outputs": [
    {
     "data": {
      "image/gif": "[encoded data removed]",
      "text/plain": [
       "<IPython.core.display.Image object>"
      ]
     },
     "execution_count": 68,
     "metadata": {},
     "output_type": "execute_result"
    }
   ],
   "source": [
    "import imageio\n",
    "from IPython.display import Image\n",
    "\n",
    "# save the images as a gif\n",
    "imageio.mimsave(\"trajectory.gif\", imgs, fps=30)\n",
    "# display the gif and repeat it forever\n",
    "Image(filename=\"trajectory.gif\")"
   ]
  }
 ],
 "metadata": {
  "kernelspec": {
   "display_name": "blog-FROQ9Grm-py3.11",
   "language": "python",
   "name": "python3"
  },
  "language_info": {
   "codemirror_mode": {
    "name": "ipython",
    "version": 3
   },
   "file_extension": ".py",
   "mimetype": "text/x-python",
   "name": "python",
   "nbconvert_exporter": "python",
   "pygments_lexer": "ipython3",
   "version": "3.11.9"
  }
 },
 "nbformat": 4,
 "nbformat_minor": 2
}
